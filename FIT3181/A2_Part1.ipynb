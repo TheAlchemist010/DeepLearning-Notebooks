{
  "nbformat": 4,
  "nbformat_minor": 0,
  "metadata": {
    "colab": {
      "provenance": [],
      "gpuType": "T4",
      "include_colab_link": true
    },
    "kernelspec": {
      "name": "python3",
      "display_name": "Python 3"
    },
    "language_info": {
      "name": "python"
    },
    "widgets": {
      "application/vnd.jupyter.widget-state+json": {
        "91531a45b47748d386224833b5708c69": {
          "model_module": "@jupyter-widgets/controls",
          "model_name": "HBoxModel",
          "model_module_version": "1.5.0",
          "state": {
            "_dom_classes": [],
            "_model_module": "@jupyter-widgets/controls",
            "_model_module_version": "1.5.0",
            "_model_name": "HBoxModel",
            "_view_count": null,
            "_view_module": "@jupyter-widgets/controls",
            "_view_module_version": "1.5.0",
            "_view_name": "HBoxView",
            "box_style": "",
            "children": [
              "IPY_MODEL_90af121925984f439014b257fe68c419",
              "IPY_MODEL_3f9354f87a494f05add79cbcf25c517f",
              "IPY_MODEL_c869c7b3196c467db9b984f3bd040881"
            ],
            "layout": "IPY_MODEL_818c25fdaaf741678adc832208f810df"
          }
        },
        "90af121925984f439014b257fe68c419": {
          "model_module": "@jupyter-widgets/controls",
          "model_name": "HTMLModel",
          "model_module_version": "1.5.0",
          "state": {
            "_dom_classes": [],
            "_model_module": "@jupyter-widgets/controls",
            "_model_module_version": "1.5.0",
            "_model_name": "HTMLModel",
            "_view_count": null,
            "_view_module": "@jupyter-widgets/controls",
            "_view_module_version": "1.5.0",
            "_view_name": "HTMLView",
            "description": "",
            "description_tooltip": null,
            "layout": "IPY_MODEL_1eabf3af25124885ba46901f3fe5b6de",
            "placeholder": "​",
            "style": "IPY_MODEL_9dfeb9c4dc9c4187a6edff3eb9ced169",
            "value": "tokenizer_config.json: 100%"
          }
        },
        "3f9354f87a494f05add79cbcf25c517f": {
          "model_module": "@jupyter-widgets/controls",
          "model_name": "FloatProgressModel",
          "model_module_version": "1.5.0",
          "state": {
            "_dom_classes": [],
            "_model_module": "@jupyter-widgets/controls",
            "_model_module_version": "1.5.0",
            "_model_name": "FloatProgressModel",
            "_view_count": null,
            "_view_module": "@jupyter-widgets/controls",
            "_view_module_version": "1.5.0",
            "_view_name": "ProgressView",
            "bar_style": "success",
            "description": "",
            "description_tooltip": null,
            "layout": "IPY_MODEL_1cea288802384c47b1328f440685bc2d",
            "max": 48,
            "min": 0,
            "orientation": "horizontal",
            "style": "IPY_MODEL_eb9cfabf183c4b0f9ed7f0f2b7147c0e",
            "value": 48
          }
        },
        "c869c7b3196c467db9b984f3bd040881": {
          "model_module": "@jupyter-widgets/controls",
          "model_name": "HTMLModel",
          "model_module_version": "1.5.0",
          "state": {
            "_dom_classes": [],
            "_model_module": "@jupyter-widgets/controls",
            "_model_module_version": "1.5.0",
            "_model_name": "HTMLModel",
            "_view_count": null,
            "_view_module": "@jupyter-widgets/controls",
            "_view_module_version": "1.5.0",
            "_view_name": "HTMLView",
            "description": "",
            "description_tooltip": null,
            "layout": "IPY_MODEL_b22c80b65dc74469b2114696b7e2a602",
            "placeholder": "​",
            "style": "IPY_MODEL_46e8ebcdaee84e5a8df741c982ef46a9",
            "value": " 48.0/48.0 [00:00&lt;00:00, 597B/s]"
          }
        },
        "818c25fdaaf741678adc832208f810df": {
          "model_module": "@jupyter-widgets/base",
          "model_name": "LayoutModel",
          "model_module_version": "1.2.0",
          "state": {
            "_model_module": "@jupyter-widgets/base",
            "_model_module_version": "1.2.0",
            "_model_name": "LayoutModel",
            "_view_count": null,
            "_view_module": "@jupyter-widgets/base",
            "_view_module_version": "1.2.0",
            "_view_name": "LayoutView",
            "align_content": null,
            "align_items": null,
            "align_self": null,
            "border": null,
            "bottom": null,
            "display": null,
            "flex": null,
            "flex_flow": null,
            "grid_area": null,
            "grid_auto_columns": null,
            "grid_auto_flow": null,
            "grid_auto_rows": null,
            "grid_column": null,
            "grid_gap": null,
            "grid_row": null,
            "grid_template_areas": null,
            "grid_template_columns": null,
            "grid_template_rows": null,
            "height": null,
            "justify_content": null,
            "justify_items": null,
            "left": null,
            "margin": null,
            "max_height": null,
            "max_width": null,
            "min_height": null,
            "min_width": null,
            "object_fit": null,
            "object_position": null,
            "order": null,
            "overflow": null,
            "overflow_x": null,
            "overflow_y": null,
            "padding": null,
            "right": null,
            "top": null,
            "visibility": null,
            "width": null
          }
        },
        "1eabf3af25124885ba46901f3fe5b6de": {
          "model_module": "@jupyter-widgets/base",
          "model_name": "LayoutModel",
          "model_module_version": "1.2.0",
          "state": {
            "_model_module": "@jupyter-widgets/base",
            "_model_module_version": "1.2.0",
            "_model_name": "LayoutModel",
            "_view_count": null,
            "_view_module": "@jupyter-widgets/base",
            "_view_module_version": "1.2.0",
            "_view_name": "LayoutView",
            "align_content": null,
            "align_items": null,
            "align_self": null,
            "border": null,
            "bottom": null,
            "display": null,
            "flex": null,
            "flex_flow": null,
            "grid_area": null,
            "grid_auto_columns": null,
            "grid_auto_flow": null,
            "grid_auto_rows": null,
            "grid_column": null,
            "grid_gap": null,
            "grid_row": null,
            "grid_template_areas": null,
            "grid_template_columns": null,
            "grid_template_rows": null,
            "height": null,
            "justify_content": null,
            "justify_items": null,
            "left": null,
            "margin": null,
            "max_height": null,
            "max_width": null,
            "min_height": null,
            "min_width": null,
            "object_fit": null,
            "object_position": null,
            "order": null,
            "overflow": null,
            "overflow_x": null,
            "overflow_y": null,
            "padding": null,
            "right": null,
            "top": null,
            "visibility": null,
            "width": null
          }
        },
        "9dfeb9c4dc9c4187a6edff3eb9ced169": {
          "model_module": "@jupyter-widgets/controls",
          "model_name": "DescriptionStyleModel",
          "model_module_version": "1.5.0",
          "state": {
            "_model_module": "@jupyter-widgets/controls",
            "_model_module_version": "1.5.0",
            "_model_name": "DescriptionStyleModel",
            "_view_count": null,
            "_view_module": "@jupyter-widgets/base",
            "_view_module_version": "1.2.0",
            "_view_name": "StyleView",
            "description_width": ""
          }
        },
        "1cea288802384c47b1328f440685bc2d": {
          "model_module": "@jupyter-widgets/base",
          "model_name": "LayoutModel",
          "model_module_version": "1.2.0",
          "state": {
            "_model_module": "@jupyter-widgets/base",
            "_model_module_version": "1.2.0",
            "_model_name": "LayoutModel",
            "_view_count": null,
            "_view_module": "@jupyter-widgets/base",
            "_view_module_version": "1.2.0",
            "_view_name": "LayoutView",
            "align_content": null,
            "align_items": null,
            "align_self": null,
            "border": null,
            "bottom": null,
            "display": null,
            "flex": null,
            "flex_flow": null,
            "grid_area": null,
            "grid_auto_columns": null,
            "grid_auto_flow": null,
            "grid_auto_rows": null,
            "grid_column": null,
            "grid_gap": null,
            "grid_row": null,
            "grid_template_areas": null,
            "grid_template_columns": null,
            "grid_template_rows": null,
            "height": null,
            "justify_content": null,
            "justify_items": null,
            "left": null,
            "margin": null,
            "max_height": null,
            "max_width": null,
            "min_height": null,
            "min_width": null,
            "object_fit": null,
            "object_position": null,
            "order": null,
            "overflow": null,
            "overflow_x": null,
            "overflow_y": null,
            "padding": null,
            "right": null,
            "top": null,
            "visibility": null,
            "width": null
          }
        },
        "eb9cfabf183c4b0f9ed7f0f2b7147c0e": {
          "model_module": "@jupyter-widgets/controls",
          "model_name": "ProgressStyleModel",
          "model_module_version": "1.5.0",
          "state": {
            "_model_module": "@jupyter-widgets/controls",
            "_model_module_version": "1.5.0",
            "_model_name": "ProgressStyleModel",
            "_view_count": null,
            "_view_module": "@jupyter-widgets/base",
            "_view_module_version": "1.2.0",
            "_view_name": "StyleView",
            "bar_color": null,
            "description_width": ""
          }
        },
        "b22c80b65dc74469b2114696b7e2a602": {
          "model_module": "@jupyter-widgets/base",
          "model_name": "LayoutModel",
          "model_module_version": "1.2.0",
          "state": {
            "_model_module": "@jupyter-widgets/base",
            "_model_module_version": "1.2.0",
            "_model_name": "LayoutModel",
            "_view_count": null,
            "_view_module": "@jupyter-widgets/base",
            "_view_module_version": "1.2.0",
            "_view_name": "LayoutView",
            "align_content": null,
            "align_items": null,
            "align_self": null,
            "border": null,
            "bottom": null,
            "display": null,
            "flex": null,
            "flex_flow": null,
            "grid_area": null,
            "grid_auto_columns": null,
            "grid_auto_flow": null,
            "grid_auto_rows": null,
            "grid_column": null,
            "grid_gap": null,
            "grid_row": null,
            "grid_template_areas": null,
            "grid_template_columns": null,
            "grid_template_rows": null,
            "height": null,
            "justify_content": null,
            "justify_items": null,
            "left": null,
            "margin": null,
            "max_height": null,
            "max_width": null,
            "min_height": null,
            "min_width": null,
            "object_fit": null,
            "object_position": null,
            "order": null,
            "overflow": null,
            "overflow_x": null,
            "overflow_y": null,
            "padding": null,
            "right": null,
            "top": null,
            "visibility": null,
            "width": null
          }
        },
        "46e8ebcdaee84e5a8df741c982ef46a9": {
          "model_module": "@jupyter-widgets/controls",
          "model_name": "DescriptionStyleModel",
          "model_module_version": "1.5.0",
          "state": {
            "_model_module": "@jupyter-widgets/controls",
            "_model_module_version": "1.5.0",
            "_model_name": "DescriptionStyleModel",
            "_view_count": null,
            "_view_module": "@jupyter-widgets/base",
            "_view_module_version": "1.2.0",
            "_view_name": "StyleView",
            "description_width": ""
          }
        },
        "c5021ffe8bff456e8f0f9455ff927f19": {
          "model_module": "@jupyter-widgets/controls",
          "model_name": "HBoxModel",
          "model_module_version": "1.5.0",
          "state": {
            "_dom_classes": [],
            "_model_module": "@jupyter-widgets/controls",
            "_model_module_version": "1.5.0",
            "_model_name": "HBoxModel",
            "_view_count": null,
            "_view_module": "@jupyter-widgets/controls",
            "_view_module_version": "1.5.0",
            "_view_name": "HBoxView",
            "box_style": "",
            "children": [
              "IPY_MODEL_5eeb5aded7cd4752b3db582788f591c9",
              "IPY_MODEL_c4417ad7e56d4cff816705b5d91ec98f",
              "IPY_MODEL_1f14db66b3a7457ba1017ef3a6b5358c"
            ],
            "layout": "IPY_MODEL_69b31e155e5245419e959629b0777aae"
          }
        },
        "5eeb5aded7cd4752b3db582788f591c9": {
          "model_module": "@jupyter-widgets/controls",
          "model_name": "HTMLModel",
          "model_module_version": "1.5.0",
          "state": {
            "_dom_classes": [],
            "_model_module": "@jupyter-widgets/controls",
            "_model_module_version": "1.5.0",
            "_model_name": "HTMLModel",
            "_view_count": null,
            "_view_module": "@jupyter-widgets/controls",
            "_view_module_version": "1.5.0",
            "_view_name": "HTMLView",
            "description": "",
            "description_tooltip": null,
            "layout": "IPY_MODEL_6790a6fe94b14e049fd91c75625a4c3f",
            "placeholder": "​",
            "style": "IPY_MODEL_21631578ab9143d98593dd4146d6b770",
            "value": "vocab.txt: 100%"
          }
        },
        "c4417ad7e56d4cff816705b5d91ec98f": {
          "model_module": "@jupyter-widgets/controls",
          "model_name": "FloatProgressModel",
          "model_module_version": "1.5.0",
          "state": {
            "_dom_classes": [],
            "_model_module": "@jupyter-widgets/controls",
            "_model_module_version": "1.5.0",
            "_model_name": "FloatProgressModel",
            "_view_count": null,
            "_view_module": "@jupyter-widgets/controls",
            "_view_module_version": "1.5.0",
            "_view_name": "ProgressView",
            "bar_style": "success",
            "description": "",
            "description_tooltip": null,
            "layout": "IPY_MODEL_925cdb23f2d54f72826646ee9405f0a6",
            "max": 231508,
            "min": 0,
            "orientation": "horizontal",
            "style": "IPY_MODEL_409ab5af81aa4517863510344bbf7d0b",
            "value": 231508
          }
        },
        "1f14db66b3a7457ba1017ef3a6b5358c": {
          "model_module": "@jupyter-widgets/controls",
          "model_name": "HTMLModel",
          "model_module_version": "1.5.0",
          "state": {
            "_dom_classes": [],
            "_model_module": "@jupyter-widgets/controls",
            "_model_module_version": "1.5.0",
            "_model_name": "HTMLModel",
            "_view_count": null,
            "_view_module": "@jupyter-widgets/controls",
            "_view_module_version": "1.5.0",
            "_view_name": "HTMLView",
            "description": "",
            "description_tooltip": null,
            "layout": "IPY_MODEL_b0e565f9ba7e4286806518c2269f4dd5",
            "placeholder": "​",
            "style": "IPY_MODEL_30d504a31827430e83e731731eb3f6a1",
            "value": " 232k/232k [00:00&lt;00:00, 1.15MB/s]"
          }
        },
        "69b31e155e5245419e959629b0777aae": {
          "model_module": "@jupyter-widgets/base",
          "model_name": "LayoutModel",
          "model_module_version": "1.2.0",
          "state": {
            "_model_module": "@jupyter-widgets/base",
            "_model_module_version": "1.2.0",
            "_model_name": "LayoutModel",
            "_view_count": null,
            "_view_module": "@jupyter-widgets/base",
            "_view_module_version": "1.2.0",
            "_view_name": "LayoutView",
            "align_content": null,
            "align_items": null,
            "align_self": null,
            "border": null,
            "bottom": null,
            "display": null,
            "flex": null,
            "flex_flow": null,
            "grid_area": null,
            "grid_auto_columns": null,
            "grid_auto_flow": null,
            "grid_auto_rows": null,
            "grid_column": null,
            "grid_gap": null,
            "grid_row": null,
            "grid_template_areas": null,
            "grid_template_columns": null,
            "grid_template_rows": null,
            "height": null,
            "justify_content": null,
            "justify_items": null,
            "left": null,
            "margin": null,
            "max_height": null,
            "max_width": null,
            "min_height": null,
            "min_width": null,
            "object_fit": null,
            "object_position": null,
            "order": null,
            "overflow": null,
            "overflow_x": null,
            "overflow_y": null,
            "padding": null,
            "right": null,
            "top": null,
            "visibility": null,
            "width": null
          }
        },
        "6790a6fe94b14e049fd91c75625a4c3f": {
          "model_module": "@jupyter-widgets/base",
          "model_name": "LayoutModel",
          "model_module_version": "1.2.0",
          "state": {
            "_model_module": "@jupyter-widgets/base",
            "_model_module_version": "1.2.0",
            "_model_name": "LayoutModel",
            "_view_count": null,
            "_view_module": "@jupyter-widgets/base",
            "_view_module_version": "1.2.0",
            "_view_name": "LayoutView",
            "align_content": null,
            "align_items": null,
            "align_self": null,
            "border": null,
            "bottom": null,
            "display": null,
            "flex": null,
            "flex_flow": null,
            "grid_area": null,
            "grid_auto_columns": null,
            "grid_auto_flow": null,
            "grid_auto_rows": null,
            "grid_column": null,
            "grid_gap": null,
            "grid_row": null,
            "grid_template_areas": null,
            "grid_template_columns": null,
            "grid_template_rows": null,
            "height": null,
            "justify_content": null,
            "justify_items": null,
            "left": null,
            "margin": null,
            "max_height": null,
            "max_width": null,
            "min_height": null,
            "min_width": null,
            "object_fit": null,
            "object_position": null,
            "order": null,
            "overflow": null,
            "overflow_x": null,
            "overflow_y": null,
            "padding": null,
            "right": null,
            "top": null,
            "visibility": null,
            "width": null
          }
        },
        "21631578ab9143d98593dd4146d6b770": {
          "model_module": "@jupyter-widgets/controls",
          "model_name": "DescriptionStyleModel",
          "model_module_version": "1.5.0",
          "state": {
            "_model_module": "@jupyter-widgets/controls",
            "_model_module_version": "1.5.0",
            "_model_name": "DescriptionStyleModel",
            "_view_count": null,
            "_view_module": "@jupyter-widgets/base",
            "_view_module_version": "1.2.0",
            "_view_name": "StyleView",
            "description_width": ""
          }
        },
        "925cdb23f2d54f72826646ee9405f0a6": {
          "model_module": "@jupyter-widgets/base",
          "model_name": "LayoutModel",
          "model_module_version": "1.2.0",
          "state": {
            "_model_module": "@jupyter-widgets/base",
            "_model_module_version": "1.2.0",
            "_model_name": "LayoutModel",
            "_view_count": null,
            "_view_module": "@jupyter-widgets/base",
            "_view_module_version": "1.2.0",
            "_view_name": "LayoutView",
            "align_content": null,
            "align_items": null,
            "align_self": null,
            "border": null,
            "bottom": null,
            "display": null,
            "flex": null,
            "flex_flow": null,
            "grid_area": null,
            "grid_auto_columns": null,
            "grid_auto_flow": null,
            "grid_auto_rows": null,
            "grid_column": null,
            "grid_gap": null,
            "grid_row": null,
            "grid_template_areas": null,
            "grid_template_columns": null,
            "grid_template_rows": null,
            "height": null,
            "justify_content": null,
            "justify_items": null,
            "left": null,
            "margin": null,
            "max_height": null,
            "max_width": null,
            "min_height": null,
            "min_width": null,
            "object_fit": null,
            "object_position": null,
            "order": null,
            "overflow": null,
            "overflow_x": null,
            "overflow_y": null,
            "padding": null,
            "right": null,
            "top": null,
            "visibility": null,
            "width": null
          }
        },
        "409ab5af81aa4517863510344bbf7d0b": {
          "model_module": "@jupyter-widgets/controls",
          "model_name": "ProgressStyleModel",
          "model_module_version": "1.5.0",
          "state": {
            "_model_module": "@jupyter-widgets/controls",
            "_model_module_version": "1.5.0",
            "_model_name": "ProgressStyleModel",
            "_view_count": null,
            "_view_module": "@jupyter-widgets/base",
            "_view_module_version": "1.2.0",
            "_view_name": "StyleView",
            "bar_color": null,
            "description_width": ""
          }
        },
        "b0e565f9ba7e4286806518c2269f4dd5": {
          "model_module": "@jupyter-widgets/base",
          "model_name": "LayoutModel",
          "model_module_version": "1.2.0",
          "state": {
            "_model_module": "@jupyter-widgets/base",
            "_model_module_version": "1.2.0",
            "_model_name": "LayoutModel",
            "_view_count": null,
            "_view_module": "@jupyter-widgets/base",
            "_view_module_version": "1.2.0",
            "_view_name": "LayoutView",
            "align_content": null,
            "align_items": null,
            "align_self": null,
            "border": null,
            "bottom": null,
            "display": null,
            "flex": null,
            "flex_flow": null,
            "grid_area": null,
            "grid_auto_columns": null,
            "grid_auto_flow": null,
            "grid_auto_rows": null,
            "grid_column": null,
            "grid_gap": null,
            "grid_row": null,
            "grid_template_areas": null,
            "grid_template_columns": null,
            "grid_template_rows": null,
            "height": null,
            "justify_content": null,
            "justify_items": null,
            "left": null,
            "margin": null,
            "max_height": null,
            "max_width": null,
            "min_height": null,
            "min_width": null,
            "object_fit": null,
            "object_position": null,
            "order": null,
            "overflow": null,
            "overflow_x": null,
            "overflow_y": null,
            "padding": null,
            "right": null,
            "top": null,
            "visibility": null,
            "width": null
          }
        },
        "30d504a31827430e83e731731eb3f6a1": {
          "model_module": "@jupyter-widgets/controls",
          "model_name": "DescriptionStyleModel",
          "model_module_version": "1.5.0",
          "state": {
            "_model_module": "@jupyter-widgets/controls",
            "_model_module_version": "1.5.0",
            "_model_name": "DescriptionStyleModel",
            "_view_count": null,
            "_view_module": "@jupyter-widgets/base",
            "_view_module_version": "1.2.0",
            "_view_name": "StyleView",
            "description_width": ""
          }
        },
        "466d0ff128fe4aa79da3c3f8b0facc51": {
          "model_module": "@jupyter-widgets/controls",
          "model_name": "HBoxModel",
          "model_module_version": "1.5.0",
          "state": {
            "_dom_classes": [],
            "_model_module": "@jupyter-widgets/controls",
            "_model_module_version": "1.5.0",
            "_model_name": "HBoxModel",
            "_view_count": null,
            "_view_module": "@jupyter-widgets/controls",
            "_view_module_version": "1.5.0",
            "_view_name": "HBoxView",
            "box_style": "",
            "children": [
              "IPY_MODEL_b340a32b74d34e14bab3e9d696505e0a",
              "IPY_MODEL_da3ea15ec5a44f3faf37481f05a00913",
              "IPY_MODEL_01a6ff430d1745f5bafcc7a40abbcef8"
            ],
            "layout": "IPY_MODEL_6804982f3c7f4b2aa2444d0965f87244"
          }
        },
        "b340a32b74d34e14bab3e9d696505e0a": {
          "model_module": "@jupyter-widgets/controls",
          "model_name": "HTMLModel",
          "model_module_version": "1.5.0",
          "state": {
            "_dom_classes": [],
            "_model_module": "@jupyter-widgets/controls",
            "_model_module_version": "1.5.0",
            "_model_name": "HTMLModel",
            "_view_count": null,
            "_view_module": "@jupyter-widgets/controls",
            "_view_module_version": "1.5.0",
            "_view_name": "HTMLView",
            "description": "",
            "description_tooltip": null,
            "layout": "IPY_MODEL_676e2cb78b4942d986256ca3e5c14f9e",
            "placeholder": "​",
            "style": "IPY_MODEL_0540431b757049af91859afbe59b7b22",
            "value": "tokenizer.json: 100%"
          }
        },
        "da3ea15ec5a44f3faf37481f05a00913": {
          "model_module": "@jupyter-widgets/controls",
          "model_name": "FloatProgressModel",
          "model_module_version": "1.5.0",
          "state": {
            "_dom_classes": [],
            "_model_module": "@jupyter-widgets/controls",
            "_model_module_version": "1.5.0",
            "_model_name": "FloatProgressModel",
            "_view_count": null,
            "_view_module": "@jupyter-widgets/controls",
            "_view_module_version": "1.5.0",
            "_view_name": "ProgressView",
            "bar_style": "success",
            "description": "",
            "description_tooltip": null,
            "layout": "IPY_MODEL_1a2a525327d84fb68243c4630e35d5d0",
            "max": 466062,
            "min": 0,
            "orientation": "horizontal",
            "style": "IPY_MODEL_0344d110dbd44589ba7b776932b1f218",
            "value": 466062
          }
        },
        "01a6ff430d1745f5bafcc7a40abbcef8": {
          "model_module": "@jupyter-widgets/controls",
          "model_name": "HTMLModel",
          "model_module_version": "1.5.0",
          "state": {
            "_dom_classes": [],
            "_model_module": "@jupyter-widgets/controls",
            "_model_module_version": "1.5.0",
            "_model_name": "HTMLModel",
            "_view_count": null,
            "_view_module": "@jupyter-widgets/controls",
            "_view_module_version": "1.5.0",
            "_view_name": "HTMLView",
            "description": "",
            "description_tooltip": null,
            "layout": "IPY_MODEL_8afaddf507e543fbb35d0e1b6ebc8089",
            "placeholder": "​",
            "style": "IPY_MODEL_74321071f2174629a8f5116fee2c7ff8",
            "value": " 466k/466k [00:00&lt;00:00, 3.74MB/s]"
          }
        },
        "6804982f3c7f4b2aa2444d0965f87244": {
          "model_module": "@jupyter-widgets/base",
          "model_name": "LayoutModel",
          "model_module_version": "1.2.0",
          "state": {
            "_model_module": "@jupyter-widgets/base",
            "_model_module_version": "1.2.0",
            "_model_name": "LayoutModel",
            "_view_count": null,
            "_view_module": "@jupyter-widgets/base",
            "_view_module_version": "1.2.0",
            "_view_name": "LayoutView",
            "align_content": null,
            "align_items": null,
            "align_self": null,
            "border": null,
            "bottom": null,
            "display": null,
            "flex": null,
            "flex_flow": null,
            "grid_area": null,
            "grid_auto_columns": null,
            "grid_auto_flow": null,
            "grid_auto_rows": null,
            "grid_column": null,
            "grid_gap": null,
            "grid_row": null,
            "grid_template_areas": null,
            "grid_template_columns": null,
            "grid_template_rows": null,
            "height": null,
            "justify_content": null,
            "justify_items": null,
            "left": null,
            "margin": null,
            "max_height": null,
            "max_width": null,
            "min_height": null,
            "min_width": null,
            "object_fit": null,
            "object_position": null,
            "order": null,
            "overflow": null,
            "overflow_x": null,
            "overflow_y": null,
            "padding": null,
            "right": null,
            "top": null,
            "visibility": null,
            "width": null
          }
        },
        "676e2cb78b4942d986256ca3e5c14f9e": {
          "model_module": "@jupyter-widgets/base",
          "model_name": "LayoutModel",
          "model_module_version": "1.2.0",
          "state": {
            "_model_module": "@jupyter-widgets/base",
            "_model_module_version": "1.2.0",
            "_model_name": "LayoutModel",
            "_view_count": null,
            "_view_module": "@jupyter-widgets/base",
            "_view_module_version": "1.2.0",
            "_view_name": "LayoutView",
            "align_content": null,
            "align_items": null,
            "align_self": null,
            "border": null,
            "bottom": null,
            "display": null,
            "flex": null,
            "flex_flow": null,
            "grid_area": null,
            "grid_auto_columns": null,
            "grid_auto_flow": null,
            "grid_auto_rows": null,
            "grid_column": null,
            "grid_gap": null,
            "grid_row": null,
            "grid_template_areas": null,
            "grid_template_columns": null,
            "grid_template_rows": null,
            "height": null,
            "justify_content": null,
            "justify_items": null,
            "left": null,
            "margin": null,
            "max_height": null,
            "max_width": null,
            "min_height": null,
            "min_width": null,
            "object_fit": null,
            "object_position": null,
            "order": null,
            "overflow": null,
            "overflow_x": null,
            "overflow_y": null,
            "padding": null,
            "right": null,
            "top": null,
            "visibility": null,
            "width": null
          }
        },
        "0540431b757049af91859afbe59b7b22": {
          "model_module": "@jupyter-widgets/controls",
          "model_name": "DescriptionStyleModel",
          "model_module_version": "1.5.0",
          "state": {
            "_model_module": "@jupyter-widgets/controls",
            "_model_module_version": "1.5.0",
            "_model_name": "DescriptionStyleModel",
            "_view_count": null,
            "_view_module": "@jupyter-widgets/base",
            "_view_module_version": "1.2.0",
            "_view_name": "StyleView",
            "description_width": ""
          }
        },
        "1a2a525327d84fb68243c4630e35d5d0": {
          "model_module": "@jupyter-widgets/base",
          "model_name": "LayoutModel",
          "model_module_version": "1.2.0",
          "state": {
            "_model_module": "@jupyter-widgets/base",
            "_model_module_version": "1.2.0",
            "_model_name": "LayoutModel",
            "_view_count": null,
            "_view_module": "@jupyter-widgets/base",
            "_view_module_version": "1.2.0",
            "_view_name": "LayoutView",
            "align_content": null,
            "align_items": null,
            "align_self": null,
            "border": null,
            "bottom": null,
            "display": null,
            "flex": null,
            "flex_flow": null,
            "grid_area": null,
            "grid_auto_columns": null,
            "grid_auto_flow": null,
            "grid_auto_rows": null,
            "grid_column": null,
            "grid_gap": null,
            "grid_row": null,
            "grid_template_areas": null,
            "grid_template_columns": null,
            "grid_template_rows": null,
            "height": null,
            "justify_content": null,
            "justify_items": null,
            "left": null,
            "margin": null,
            "max_height": null,
            "max_width": null,
            "min_height": null,
            "min_width": null,
            "object_fit": null,
            "object_position": null,
            "order": null,
            "overflow": null,
            "overflow_x": null,
            "overflow_y": null,
            "padding": null,
            "right": null,
            "top": null,
            "visibility": null,
            "width": null
          }
        },
        "0344d110dbd44589ba7b776932b1f218": {
          "model_module": "@jupyter-widgets/controls",
          "model_name": "ProgressStyleModel",
          "model_module_version": "1.5.0",
          "state": {
            "_model_module": "@jupyter-widgets/controls",
            "_model_module_version": "1.5.0",
            "_model_name": "ProgressStyleModel",
            "_view_count": null,
            "_view_module": "@jupyter-widgets/base",
            "_view_module_version": "1.2.0",
            "_view_name": "StyleView",
            "bar_color": null,
            "description_width": ""
          }
        },
        "8afaddf507e543fbb35d0e1b6ebc8089": {
          "model_module": "@jupyter-widgets/base",
          "model_name": "LayoutModel",
          "model_module_version": "1.2.0",
          "state": {
            "_model_module": "@jupyter-widgets/base",
            "_model_module_version": "1.2.0",
            "_model_name": "LayoutModel",
            "_view_count": null,
            "_view_module": "@jupyter-widgets/base",
            "_view_module_version": "1.2.0",
            "_view_name": "LayoutView",
            "align_content": null,
            "align_items": null,
            "align_self": null,
            "border": null,
            "bottom": null,
            "display": null,
            "flex": null,
            "flex_flow": null,
            "grid_area": null,
            "grid_auto_columns": null,
            "grid_auto_flow": null,
            "grid_auto_rows": null,
            "grid_column": null,
            "grid_gap": null,
            "grid_row": null,
            "grid_template_areas": null,
            "grid_template_columns": null,
            "grid_template_rows": null,
            "height": null,
            "justify_content": null,
            "justify_items": null,
            "left": null,
            "margin": null,
            "max_height": null,
            "max_width": null,
            "min_height": null,
            "min_width": null,
            "object_fit": null,
            "object_position": null,
            "order": null,
            "overflow": null,
            "overflow_x": null,
            "overflow_y": null,
            "padding": null,
            "right": null,
            "top": null,
            "visibility": null,
            "width": null
          }
        },
        "74321071f2174629a8f5116fee2c7ff8": {
          "model_module": "@jupyter-widgets/controls",
          "model_name": "DescriptionStyleModel",
          "model_module_version": "1.5.0",
          "state": {
            "_model_module": "@jupyter-widgets/controls",
            "_model_module_version": "1.5.0",
            "_model_name": "DescriptionStyleModel",
            "_view_count": null,
            "_view_module": "@jupyter-widgets/base",
            "_view_module_version": "1.2.0",
            "_view_name": "StyleView",
            "description_width": ""
          }
        },
        "416de91cefb84f3b9aa1202e0bbff6fc": {
          "model_module": "@jupyter-widgets/controls",
          "model_name": "HBoxModel",
          "model_module_version": "1.5.0",
          "state": {
            "_dom_classes": [],
            "_model_module": "@jupyter-widgets/controls",
            "_model_module_version": "1.5.0",
            "_model_name": "HBoxModel",
            "_view_count": null,
            "_view_module": "@jupyter-widgets/controls",
            "_view_module_version": "1.5.0",
            "_view_name": "HBoxView",
            "box_style": "",
            "children": [
              "IPY_MODEL_ba847694dd5d4541a2c776bbbe53b577",
              "IPY_MODEL_091f0a4892674e7ea9c8aa1d97eb4cfd",
              "IPY_MODEL_82b762ac665341848ce21baec7a5683b"
            ],
            "layout": "IPY_MODEL_61fcfa0930a241aa8f407b4ee5032547"
          }
        },
        "ba847694dd5d4541a2c776bbbe53b577": {
          "model_module": "@jupyter-widgets/controls",
          "model_name": "HTMLModel",
          "model_module_version": "1.5.0",
          "state": {
            "_dom_classes": [],
            "_model_module": "@jupyter-widgets/controls",
            "_model_module_version": "1.5.0",
            "_model_name": "HTMLModel",
            "_view_count": null,
            "_view_module": "@jupyter-widgets/controls",
            "_view_module_version": "1.5.0",
            "_view_name": "HTMLView",
            "description": "",
            "description_tooltip": null,
            "layout": "IPY_MODEL_7219e088c2df42b082b1f7b1d1accc0c",
            "placeholder": "​",
            "style": "IPY_MODEL_a97d3313b7774eaeb2f6f60431bebc87",
            "value": "config.json: 100%"
          }
        },
        "091f0a4892674e7ea9c8aa1d97eb4cfd": {
          "model_module": "@jupyter-widgets/controls",
          "model_name": "FloatProgressModel",
          "model_module_version": "1.5.0",
          "state": {
            "_dom_classes": [],
            "_model_module": "@jupyter-widgets/controls",
            "_model_module_version": "1.5.0",
            "_model_name": "FloatProgressModel",
            "_view_count": null,
            "_view_module": "@jupyter-widgets/controls",
            "_view_module_version": "1.5.0",
            "_view_name": "ProgressView",
            "bar_style": "success",
            "description": "",
            "description_tooltip": null,
            "layout": "IPY_MODEL_8cd6eb42e8794def88920804d95fdf7e",
            "max": 570,
            "min": 0,
            "orientation": "horizontal",
            "style": "IPY_MODEL_256fbbe3a17241d3b8e5f771c11429cd",
            "value": 570
          }
        },
        "82b762ac665341848ce21baec7a5683b": {
          "model_module": "@jupyter-widgets/controls",
          "model_name": "HTMLModel",
          "model_module_version": "1.5.0",
          "state": {
            "_dom_classes": [],
            "_model_module": "@jupyter-widgets/controls",
            "_model_module_version": "1.5.0",
            "_model_name": "HTMLModel",
            "_view_count": null,
            "_view_module": "@jupyter-widgets/controls",
            "_view_module_version": "1.5.0",
            "_view_name": "HTMLView",
            "description": "",
            "description_tooltip": null,
            "layout": "IPY_MODEL_7e25f7e0a4684818a6814113e5084610",
            "placeholder": "​",
            "style": "IPY_MODEL_9f18ea22689b4b30ba26a17181993a0c",
            "value": " 570/570 [00:00&lt;00:00, 5.90kB/s]"
          }
        },
        "61fcfa0930a241aa8f407b4ee5032547": {
          "model_module": "@jupyter-widgets/base",
          "model_name": "LayoutModel",
          "model_module_version": "1.2.0",
          "state": {
            "_model_module": "@jupyter-widgets/base",
            "_model_module_version": "1.2.0",
            "_model_name": "LayoutModel",
            "_view_count": null,
            "_view_module": "@jupyter-widgets/base",
            "_view_module_version": "1.2.0",
            "_view_name": "LayoutView",
            "align_content": null,
            "align_items": null,
            "align_self": null,
            "border": null,
            "bottom": null,
            "display": null,
            "flex": null,
            "flex_flow": null,
            "grid_area": null,
            "grid_auto_columns": null,
            "grid_auto_flow": null,
            "grid_auto_rows": null,
            "grid_column": null,
            "grid_gap": null,
            "grid_row": null,
            "grid_template_areas": null,
            "grid_template_columns": null,
            "grid_template_rows": null,
            "height": null,
            "justify_content": null,
            "justify_items": null,
            "left": null,
            "margin": null,
            "max_height": null,
            "max_width": null,
            "min_height": null,
            "min_width": null,
            "object_fit": null,
            "object_position": null,
            "order": null,
            "overflow": null,
            "overflow_x": null,
            "overflow_y": null,
            "padding": null,
            "right": null,
            "top": null,
            "visibility": null,
            "width": null
          }
        },
        "7219e088c2df42b082b1f7b1d1accc0c": {
          "model_module": "@jupyter-widgets/base",
          "model_name": "LayoutModel",
          "model_module_version": "1.2.0",
          "state": {
            "_model_module": "@jupyter-widgets/base",
            "_model_module_version": "1.2.0",
            "_model_name": "LayoutModel",
            "_view_count": null,
            "_view_module": "@jupyter-widgets/base",
            "_view_module_version": "1.2.0",
            "_view_name": "LayoutView",
            "align_content": null,
            "align_items": null,
            "align_self": null,
            "border": null,
            "bottom": null,
            "display": null,
            "flex": null,
            "flex_flow": null,
            "grid_area": null,
            "grid_auto_columns": null,
            "grid_auto_flow": null,
            "grid_auto_rows": null,
            "grid_column": null,
            "grid_gap": null,
            "grid_row": null,
            "grid_template_areas": null,
            "grid_template_columns": null,
            "grid_template_rows": null,
            "height": null,
            "justify_content": null,
            "justify_items": null,
            "left": null,
            "margin": null,
            "max_height": null,
            "max_width": null,
            "min_height": null,
            "min_width": null,
            "object_fit": null,
            "object_position": null,
            "order": null,
            "overflow": null,
            "overflow_x": null,
            "overflow_y": null,
            "padding": null,
            "right": null,
            "top": null,
            "visibility": null,
            "width": null
          }
        },
        "a97d3313b7774eaeb2f6f60431bebc87": {
          "model_module": "@jupyter-widgets/controls",
          "model_name": "DescriptionStyleModel",
          "model_module_version": "1.5.0",
          "state": {
            "_model_module": "@jupyter-widgets/controls",
            "_model_module_version": "1.5.0",
            "_model_name": "DescriptionStyleModel",
            "_view_count": null,
            "_view_module": "@jupyter-widgets/base",
            "_view_module_version": "1.2.0",
            "_view_name": "StyleView",
            "description_width": ""
          }
        },
        "8cd6eb42e8794def88920804d95fdf7e": {
          "model_module": "@jupyter-widgets/base",
          "model_name": "LayoutModel",
          "model_module_version": "1.2.0",
          "state": {
            "_model_module": "@jupyter-widgets/base",
            "_model_module_version": "1.2.0",
            "_model_name": "LayoutModel",
            "_view_count": null,
            "_view_module": "@jupyter-widgets/base",
            "_view_module_version": "1.2.0",
            "_view_name": "LayoutView",
            "align_content": null,
            "align_items": null,
            "align_self": null,
            "border": null,
            "bottom": null,
            "display": null,
            "flex": null,
            "flex_flow": null,
            "grid_area": null,
            "grid_auto_columns": null,
            "grid_auto_flow": null,
            "grid_auto_rows": null,
            "grid_column": null,
            "grid_gap": null,
            "grid_row": null,
            "grid_template_areas": null,
            "grid_template_columns": null,
            "grid_template_rows": null,
            "height": null,
            "justify_content": null,
            "justify_items": null,
            "left": null,
            "margin": null,
            "max_height": null,
            "max_width": null,
            "min_height": null,
            "min_width": null,
            "object_fit": null,
            "object_position": null,
            "order": null,
            "overflow": null,
            "overflow_x": null,
            "overflow_y": null,
            "padding": null,
            "right": null,
            "top": null,
            "visibility": null,
            "width": null
          }
        },
        "256fbbe3a17241d3b8e5f771c11429cd": {
          "model_module": "@jupyter-widgets/controls",
          "model_name": "ProgressStyleModel",
          "model_module_version": "1.5.0",
          "state": {
            "_model_module": "@jupyter-widgets/controls",
            "_model_module_version": "1.5.0",
            "_model_name": "ProgressStyleModel",
            "_view_count": null,
            "_view_module": "@jupyter-widgets/base",
            "_view_module_version": "1.2.0",
            "_view_name": "StyleView",
            "bar_color": null,
            "description_width": ""
          }
        },
        "7e25f7e0a4684818a6814113e5084610": {
          "model_module": "@jupyter-widgets/base",
          "model_name": "LayoutModel",
          "model_module_version": "1.2.0",
          "state": {
            "_model_module": "@jupyter-widgets/base",
            "_model_module_version": "1.2.0",
            "_model_name": "LayoutModel",
            "_view_count": null,
            "_view_module": "@jupyter-widgets/base",
            "_view_module_version": "1.2.0",
            "_view_name": "LayoutView",
            "align_content": null,
            "align_items": null,
            "align_self": null,
            "border": null,
            "bottom": null,
            "display": null,
            "flex": null,
            "flex_flow": null,
            "grid_area": null,
            "grid_auto_columns": null,
            "grid_auto_flow": null,
            "grid_auto_rows": null,
            "grid_column": null,
            "grid_gap": null,
            "grid_row": null,
            "grid_template_areas": null,
            "grid_template_columns": null,
            "grid_template_rows": null,
            "height": null,
            "justify_content": null,
            "justify_items": null,
            "left": null,
            "margin": null,
            "max_height": null,
            "max_width": null,
            "min_height": null,
            "min_width": null,
            "object_fit": null,
            "object_position": null,
            "order": null,
            "overflow": null,
            "overflow_x": null,
            "overflow_y": null,
            "padding": null,
            "right": null,
            "top": null,
            "visibility": null,
            "width": null
          }
        },
        "9f18ea22689b4b30ba26a17181993a0c": {
          "model_module": "@jupyter-widgets/controls",
          "model_name": "DescriptionStyleModel",
          "model_module_version": "1.5.0",
          "state": {
            "_model_module": "@jupyter-widgets/controls",
            "_model_module_version": "1.5.0",
            "_model_name": "DescriptionStyleModel",
            "_view_count": null,
            "_view_module": "@jupyter-widgets/base",
            "_view_module_version": "1.2.0",
            "_view_name": "StyleView",
            "description_width": ""
          }
        }
      }
    }
  },
  "cells": [
    {
      "cell_type": "markdown",
      "metadata": {
        "id": "view-in-github",
        "colab_type": "text"
      },
      "source": [
        "<a href=\"https://colab.research.google.com/github/TheAlchemist010/DeepLearning-Notebooks/blob/main/FIT3181/A2_Part1.ipynb\" target=\"_parent\"><img src=\"https://colab.research.google.com/assets/colab-badge.svg\" alt=\"Open In Colab\"/></a>"
      ]
    },
    {
      "cell_type": "markdown",
      "source": [
        "# <font color=\"#0b486b\">  FIT3181: Deep Learning (2024) - Assignment 2 (Main Part)</font>\n",
        "***\n",
        "*CE/Lecturer (Clayton):*  **Dr Trung Le** | trunglm@monash.edu <br/>\n",
        "*Lecturer (Clayton):* **Prof Dinh Phung** | dinh.phung@monash.edu <br/>\n",
        "*Lecturer (Malaysia):*  **Dr Arghya Pal** | arghya.pal@monash.edu <br/>\n",
        "*Lecturer (Malaysia):*  **Dr Lim Chern Hong** | lim.chernhong@monash.edu <br/>  <br/>\n",
        "*Head Tutor 3181:*  **Miss Vy Vo** |  \\[v.vo@monash.edu \\] <br/>\n",
        "*Head Tutor 5215:*  **Dr Van Nguyen** |  \\[van.nguyen1@monash.edu \\]\n",
        "\n",
        "<br/> <br/>\n",
        "Faculty of Information Technology, Monash University, Australia\n",
        "***"
      ],
      "metadata": {
        "id": "qEHyseHxA8q4"
      }
    },
    {
      "cell_type": "markdown",
      "source": [
        "# <font color=\"#0b486b\">  Student Information</font>\n",
        "***\n",
        "Surname: **Gallagher**  <br/>\n",
        "Firstname: **Daniel**    <br/>\n",
        "Student ID: **33094969**    <br/>\n",
        "Email: **dgal0013@student.monash.edu**    <br/>\n",
        "Your tutorial time: **Monday 4pm**    <br/>\n",
        "***"
      ],
      "metadata": {
        "id": "QqMi8gdDBD1L"
      }
    },
    {
      "cell_type": "markdown",
      "source": [
        "# <font color=\"0b486b\">Assignment 2 – Deep Learning for Sequential Data</font>\n",
        "### Due: <font color=\"red\">11:55pm Sunday, 27 October 2024</font> (FIT3181)\n",
        "\n",
        "#### <font color=\"red\">Important note:</font> This is an **individual** assignment. It contributes **15%** to your final mark. Read the assignment instructions carefully."
      ],
      "metadata": {
        "id": "7e8EwkVtGva7"
      }
    },
    {
      "cell_type": "markdown",
      "source": [
        "## <font color=\"#0b486b\">Assignment 2's Organization</font>\n",
        "This assignment 2 has two (2) sections:\n",
        "- Section 1: Fundamentals of RNNs (10 marks).\n",
        "- Section 2: Deep Learning for Sequential Data (90 marks). This section is further divided into 4 parts.\n",
        "\n",
        "The assignment 2 is organized in three (3) notebooks.\n",
        "- Notebook 1 (this notebook) [Total: 30 marks] includes Section 1 as well as Part 1 and Part 2 of Section 2.\n",
        "- Notebook 2 ([link](https://colab.research.google.com/drive/19-WnvLH24yUZ_eih3_8P_Fjn8cM8X2Gz?usp=sharing)) [Total: 40 marks] includes Part 3 of Section 2.\n",
        "- Notebook 3 ([link](https://colab.research.google.com/drive/1kZnS4MhgMkovuS2rij76tYrcBqr9xmE0?usp=sharing)) [Total: 30 marks] includes Part 4 of Section 2.\n"
      ],
      "metadata": {
        "id": "PF8vqRzTCEsm"
      }
    },
    {
      "cell_type": "markdown",
      "source": [
        "## <font color=\"#0b486b\">What to submit</font>\n",
        "\n",
        "This assignment is to be completed individually and submitted to Moodle unit site. **By the due date, you are required to submit one  <font color=\"red; font-weight:bold\">single zip file, named xxx_assignment02_solution.zip</font> where `xxx` is your student ID, to the corresponding Assignment (Dropbox) in Moodle**. You can use Google Colab to do Assignment 2 but you need to save it to an `*.ipynb` file to submit to the unit Moodle.\n",
        "\n",
        "**More importantly, if you use Google Colab to do this assignment, you need to first make a copy of this notebook on your Google drive**."
      ],
      "metadata": {
        "id": "WnlGo-hGBvlO"
      }
    },
    {
      "cell_type": "markdown",
      "source": [
        "***For example, if your student ID is <font color=\"red; font-weight:bold\">12356</font>, then gather all of your assignment solutions to a folder, create a zip file named <font color=\"red; font-weight:bold\">123456_assignment02_solution.zip</font> and submit this file.***"
      ],
      "metadata": {
        "id": "ZVGeGjkzn4RG"
      }
    },
    {
      "cell_type": "markdown",
      "source": [
        "Within this zip folder, you **must** submit the following files <u>for each part</u>:\n",
        "1.\t**`FIT3181_DeepLearning_Assignment2_Official[Main].ipynb`**:  this is your Python notebook solution source file.\n",
        "1.\t**`FIT3181_DeepLearning_Assignment2_Official[Main].html`**: this is the output of your Python notebook solution *exported* in HTML format.\n",
        "1. **`FIT3181_DeepLearning_Assignment2_Official[RNNs].ipynb`**\n",
        "1. **`FIT3181_DeepLearning_Assignment2_Official[RNNs].html`**\n",
        "1. **`FIT3181_DeepLearning_Assignment2_Official[Transformers].ipynb`**\n",
        "1. **`FIT3181_DeepLearning_Assignment2_Official[Transformers].html`**\n",
        "1.\tAny **extra files or folder** needed to complete your assignment (e.g., images used in your answers).\n",
        "\n"
      ],
      "metadata": {
        "id": "u3J6gGAMn44Z"
      }
    },
    {
      "cell_type": "markdown",
      "source": [
        "## Section 1: Fundamentals in RNNs"
      ],
      "metadata": {
        "id": "LsB3OmMxB4Dh"
      }
    },
    {
      "cell_type": "markdown",
      "source": [
        "You need to **manually** implement a multi-timestep Recurrent Neural Network that can take an input as a 3D tensor `[batch_size, seq_len, input_size]` for a classification task.\n",
        "\n",
        "<div style=\"text-align: right\"><font color=\"red\">[Total: 10 marks]</font></div>"
      ],
      "metadata": {
        "id": "c83ea5R9nh_y"
      }
    },
    {
      "cell_type": "code",
      "source": [
        "import torch"
      ],
      "metadata": {
        "id": "OzH6RTIjExy2"
      },
      "execution_count": 2,
      "outputs": []
    },
    {
      "cell_type": "markdown",
      "source": [
        "We declare the relevant variables."
      ],
      "metadata": {
        "id": "yKlCx1D3rczS"
      }
    },
    {
      "cell_type": "code",
      "source": [
        "input_size = 5\n",
        "seq_len = 4\n",
        "batch_size = 8\n",
        "hidden_size = 3\n",
        "num_classes = 3"
      ],
      "metadata": {
        "id": "C77pPiGBA9IJ"
      },
      "execution_count": 3,
      "outputs": []
    },
    {
      "cell_type": "markdown",
      "source": [
        "We create random inputs (i.e., `inputs`) and random labels (i.e., `random_labels`)."
      ],
      "metadata": {
        "id": "A10tCeyKrkUt"
      }
    },
    {
      "cell_type": "code",
      "source": [
        "inputs = torch.randn(batch_size, seq_len, input_size)\n",
        "random_labels = torch.randint(0, num_classes, (batch_size,))\n",
        "print(inputs.shape)\n",
        "print(random_labels)"
      ],
      "metadata": {
        "colab": {
          "base_uri": "https://localhost:8080/"
        },
        "id": "ybfqj-wBEu0H",
        "outputId": "403790b1-161c-496d-e695-b05280eef0a1"
      },
      "execution_count": 4,
      "outputs": [
        {
          "output_type": "stream",
          "name": "stdout",
          "text": [
            "torch.Size([8, 4, 5])\n",
            "tensor([1, 2, 1, 2, 2, 2, 0, 2])\n"
          ]
        }
      ]
    },
    {
      "cell_type": "markdown",
      "source": [
        "(1) In what follows, we need to declare the model parameters, which include the matrices $U$ (``[input_size, hidden_size]``), W (``[hidden_size, hidden_size]``), $V$ (``[hidden_size, num_classes]``) and the biases $b$ and $c$ for the hidden states and logits respectively.\n",
        "\n",
        "<div style=\"text-align: right\"><font color=\"red\">[2 marks]</font></div>"
      ],
      "metadata": {
        "id": "I7ABTPhyr6wa"
      }
    },
    {
      "cell_type": "code",
      "source": [
        "#Insert your code here\n",
        "import torch.nn as nn\n",
        "\n",
        "U = torch.empty(input_size, hidden_size)\n",
        "W = torch.empty(hidden_size, hidden_size)\n",
        "b = torch.rand(hidden_size)\n",
        "V = torch.empty(hidden_size, num_classes)\n",
        "c = torch.rand(hidden_size)\n",
        "\n",
        "nn.init.xavier_uniform_(U, gain=nn.init.calculate_gain('relu'))\n",
        "nn.init.xavier_uniform_(W, gain=nn.init.calculate_gain('relu'))\n",
        "nn.init.xavier_uniform_(V, gain=nn.init.calculate_gain('relu'))\n",
        "\n",
        "U.requires_grad_()\n",
        "W.requires_grad_()\n",
        "V.requires_grad_()\n",
        "b.requires_grad_()\n",
        "c.requires_grad_()\n"
      ],
      "metadata": {
        "id": "qzlZtACzsbSR",
        "outputId": "15ef561b-3f09-4598-eb03-d19b423792f3",
        "colab": {
          "base_uri": "https://localhost:8080/"
        }
      },
      "execution_count": 5,
      "outputs": [
        {
          "output_type": "execute_result",
          "data": {
            "text/plain": [
              "tensor([0.6984, 0.5721, 0.0899], requires_grad=True)"
            ]
          },
          "metadata": {},
          "execution_count": 5
        }
      ]
    },
    {
      "cell_type": "markdown",
      "source": [
        "(2) Next you need to write the code to compute `hiddens` which is a 3D tensor of the shape ``[batch_size, seq_len, hidden_size]`` using the formula of the simple/standard RNN cells. You can freely modify the code below.\n",
        "\n",
        "<div style=\"text-align: right\"><font color=\"red\">[2 marks]</font></div>"
      ],
      "metadata": {
        "id": "MW_gal7Us9fK"
      }
    },
    {
      "cell_type": "code",
      "source": [
        "#Initialize hiddens for update.\n",
        "hiddens = torch.zeros(batch_size, seq_len, hidden_size)\n",
        "\n",
        "\n",
        "for t in range(seq_len):\n",
        "    x_t = inputs[:, t, :]\n",
        "\n",
        "    if t == 0:\n",
        "        h_t = torch.tanh(torch.matmul(x_t, U) + b)\n",
        "    else:\n",
        "        h_t = torch.tanh(torch.matmul(x_t, U) + torch.matmul(hiddens[:, t-1, :], W) + b)\n",
        "\n",
        "    hiddens = hiddens.clone()\n",
        "    hiddens[:, t, :] = h_t\n",
        "\n",
        "\n",
        "print(hiddens)"
      ],
      "metadata": {
        "id": "KwxqdXkTtaea",
        "outputId": "7423aeae-02be-497c-b2e6-b5ccd1412a50",
        "colab": {
          "base_uri": "https://localhost:8080/"
        }
      },
      "execution_count": 6,
      "outputs": [
        {
          "output_type": "stream",
          "name": "stdout",
          "text": [
            "tensor([[[-0.9864,  0.9884, -0.9934],\n",
            "         [-0.5937,  0.9720,  0.5537],\n",
            "         [ 0.9967,  0.9916, -0.0268],\n",
            "         [ 0.7547,  0.9933, -0.7609]],\n",
            "\n",
            "        [[ 0.7004,  0.1342, -0.3018],\n",
            "         [ 0.9255,  0.9284, -0.6409],\n",
            "         [ 0.7059,  0.5887,  0.1832],\n",
            "         [ 0.3598,  0.9459,  0.5200]],\n",
            "\n",
            "        [[-0.8841,  0.6788,  0.5224],\n",
            "         [-0.4491,  0.9997, -0.9854],\n",
            "         [ 0.4349, -0.2356,  0.8817],\n",
            "         [ 0.9865, -0.8166,  0.9763]],\n",
            "\n",
            "        [[ 1.0000,  0.6388,  0.8189],\n",
            "         [-0.6036,  0.4269,  0.5069],\n",
            "         [-0.8601,  0.9997, -0.9859],\n",
            "         [ 0.9988,  0.9536,  0.8209]],\n",
            "\n",
            "        [[ 0.4870,  0.1408,  0.1734],\n",
            "         [ 1.0000,  0.8074,  0.9354],\n",
            "         [-0.3557,  0.9909, -0.9217],\n",
            "         [ 0.9189,  0.4074,  0.9476]],\n",
            "\n",
            "        [[ 0.9873,  0.9997, -0.7413],\n",
            "         [ 0.4969,  0.8564,  0.7157],\n",
            "         [ 0.9994,  0.7622,  0.9616],\n",
            "         [ 0.9960,  0.9958, -0.7974]],\n",
            "\n",
            "        [[-0.9965,  0.2927, -0.5005],\n",
            "         [ 0.9997, -0.5986,  0.9972],\n",
            "         [ 0.5063,  0.8950, -0.7313],\n",
            "         [-0.9046,  0.9452, -0.7979]],\n",
            "\n",
            "        [[ 0.9731, -0.2530,  0.8792],\n",
            "         [ 0.5889, -0.9879,  0.9624],\n",
            "         [-0.2489, -0.9267,  0.7829],\n",
            "         [ 0.9999, -0.6399,  0.9966]]], grad_fn=<CopySlices>)\n"
          ]
        }
      ]
    },
    {
      "cell_type": "markdown",
      "source": [
        "(3) In what follows, you need to write the code to compute the logits based on the last hidden state (``[batch_size, hidden_size]``) of hiddens.\n",
        "\n",
        "<div style=\"text-align: right\"><font color=\"red\">[1 mark]</font></div>"
      ],
      "metadata": {
        "id": "sC3gaFvLtyUW"
      }
    },
    {
      "cell_type": "code",
      "source": [
        "logits = torch.matmul(hiddens[:, -1, :], V) + c\n",
        "print(logits)"
      ],
      "metadata": {
        "id": "Psr-vrw8uCMN",
        "outputId": "9466b7e8-331e-4458-8d41-4a59a17a5ab1",
        "colab": {
          "base_uri": "https://localhost:8080/"
        }
      },
      "execution_count": 7,
      "outputs": [
        {
          "output_type": "stream",
          "name": "stdout",
          "text": [
            "tensor([[ 0.5396,  1.5382, -2.1987],\n",
            "        [-0.6763,  0.1808, -0.6699],\n",
            "        [ 0.5563, -1.0177,  0.0588],\n",
            "        [-0.9486, -0.3149, -1.3148],\n",
            "        [-0.5639, -0.6015, -0.7289],\n",
            "        [ 0.5829,  1.5200, -2.5546],\n",
            "        [ 0.5504,  1.9794,  0.0539],\n",
            "        [ 0.3718, -0.9910, -0.0679]], grad_fn=<AddBackward0>)\n"
          ]
        }
      ]
    },
    {
      "cell_type": "markdown",
      "source": [
        "(4) Write the code to compute the cross-entropy loss by comparing the logits to the labels. You can use PyTorch's built-in loss function.\n",
        "\n",
        "<div style=\"text-align: right\"><font color=\"red\">[1 mark]</font></div>"
      ],
      "metadata": {
        "id": "3DEJQQz9uKFb"
      }
    },
    {
      "cell_type": "code",
      "source": [
        "criterion = nn.CrossEntropyLoss()\n",
        "loss = criterion(logits, random_labels)\n",
        "\n",
        "print(loss)"
      ],
      "metadata": {
        "id": "Gyy7lbacuWPR",
        "outputId": "3c4d39b7-bb16-4f93-be48-917604a0c60c",
        "colab": {
          "base_uri": "https://localhost:8080/"
        }
      },
      "execution_count": 8,
      "outputs": [
        {
          "output_type": "stream",
          "name": "stdout",
          "text": [
            "tensor(1.7577, grad_fn=<NllLossBackward0>)\n"
          ]
        }
      ]
    },
    {
      "cell_type": "markdown",
      "source": [
        "(5) Next, you need to do back-propagation to compute the gradients of the loss w.r.t. the model parameters. You can use PyTorch's built-in method to compute the gradients.\n",
        "\n",
        "<div style=\"text-align: right\"><font color=\"red\">[2 marks]</font></div>"
      ],
      "metadata": {
        "id": "RVt-977bumET"
      }
    },
    {
      "cell_type": "code",
      "source": [
        "loss.backward()"
      ],
      "metadata": {
        "id": "HSpeFroAu6oO"
      },
      "execution_count": 9,
      "outputs": []
    },
    {
      "cell_type": "markdown",
      "source": [
        "(6) Finally, let assume that the learning rate $\\eta = 0.1$, you need to write the code to **manually** update the new model parameters using the SGD manner.\n",
        "\n",
        "<div style=\"text-align: right\"><font color=\"red\">[2 marks]</font></div>"
      ],
      "metadata": {
        "id": "bEkHFzOovBx1"
      }
    },
    {
      "cell_type": "code",
      "source": [
        "learning_rate = 0.1\n",
        "\n",
        "with torch.no_grad():\n",
        "    U -= learning_rate * U.grad\n",
        "    W -= learning_rate * W.grad\n",
        "    V -= learning_rate * V.grad\n",
        "    b -= learning_rate * b.grad\n",
        "    c -= learning_rate * c.grad\n",
        "\n",
        "U.grad.zero_()\n",
        "W.grad.zero_()\n",
        "V.grad.zero_()\n",
        "b.grad.zero_()\n",
        "c.grad.zero_()"
      ],
      "metadata": {
        "id": "2zFSfys8wMqs",
        "outputId": "8284270b-d8e6-4b68-fa8c-5a9198b8c864",
        "colab": {
          "base_uri": "https://localhost:8080/"
        }
      },
      "execution_count": 10,
      "outputs": [
        {
          "output_type": "execute_result",
          "data": {
            "text/plain": [
              "tensor([0., 0., 0.])"
            ]
          },
          "metadata": {},
          "execution_count": 10
        }
      ]
    },
    {
      "cell_type": "markdown",
      "source": [
        "## Section 2: Deep Learning for Sequential Data"
      ],
      "metadata": {
        "id": "rAVPM0BnTdd4"
      }
    },
    {
      "cell_type": "markdown",
      "source": [
        "### <font color=\"#0b486b\">Set random seeds</font>"
      ],
      "metadata": {
        "id": "FAgUSME4TsCP"
      }
    },
    {
      "cell_type": "markdown",
      "source": [
        "We start with importing PyTorch and NumPy and setting random seeds for PyTorch and NumPy. You can use any seeds you prefer."
      ],
      "metadata": {
        "id": "00nhh4IRUcGX"
      }
    },
    {
      "cell_type": "code",
      "source": [
        "import os\n",
        "import torch\n",
        "import random\n",
        "import requests\n",
        "import pandas as pd\n",
        "import numpy as np\n",
        "import torch.nn as nn\n",
        "from torch.utils.data import DataLoader\n",
        "from torch.nn.utils.rnn import pad_sequence\n",
        "from transformers import BertTokenizer\n",
        "import os\n",
        "from six.moves.urllib.request import urlretrieve\n",
        "from sklearn import preprocessing\n",
        "import matplotlib.pyplot as plt\n",
        "plt.style.use('ggplot')"
      ],
      "metadata": {
        "id": "O7XWUry0JXCc"
      },
      "execution_count": 11,
      "outputs": []
    },
    {
      "cell_type": "code",
      "source": [
        "def seed_all(seed=1029):\n",
        "    random.seed(seed)\n",
        "    os.environ['PYTHONHASHSEED'] = str(seed)\n",
        "    np.random.seed(seed)\n",
        "    torch.manual_seed(seed)\n",
        "    torch.cuda.manual_seed(seed)\n",
        "    torch.cuda.manual_seed_all(seed)  # if you are using multi-GPU.\n",
        "    torch.backends.cudnn.benchmark = False\n",
        "    torch.backends.cudnn.deterministic = True\n",
        "seed_all(seed=1234)\n",
        "\n",
        "device = torch.device(\"cuda\" if torch.cuda.is_available() else \"cpu\")"
      ],
      "metadata": {
        "id": "6ZoWqunmUY7L"
      },
      "execution_count": 12,
      "outputs": []
    },
    {
      "cell_type": "markdown",
      "source": [
        "## <font color=\"#0b486b\">Download and preprocess the data</font>\n",
        "\n",
        "<div style=\"text-align: right\"><font color=\"red; font-weight:bold\"><span></div>"
      ],
      "metadata": {
        "id": "6VU1jS6SUl8q"
      }
    },
    {
      "cell_type": "markdown",
      "source": [
        "The dataset we use for this assignment is a question classification dataset for which the training set consists of $5,500$ questions belonging to 6 coarse question categories including:\n",
        "- abbreviation (ABBR),\n",
        "- entity (ENTY),\n",
        "- description (DESC),\n",
        "- human (HUM),\n",
        "- location (LOC) and\n",
        "- numeric (NUM).\n",
        "\n",
        "In this assignment, we will utilize a subset of this dataset, containing $2,000$ questions for training and validation. We will use 80% of those 2000 questions for trainning and the rest for validation.\n"
      ],
      "metadata": {
        "id": "wQEzWmZjUulL"
      }
    },
    {
      "cell_type": "markdown",
      "source": [
        "Preprocessing data is a crucial initial step in any machine learning or deep learning project. The *TextDataManager* class simplifies the process by providing functionalities to download and preprocess data specifically designed for the subsequent questions in this assignment. It is highly recommended to gain a comprehensive understanding of the class's functionality by **carefully reading** the content provided in the *TextDataManager* class before proceeding to answer the questions."
      ],
      "metadata": {
        "id": "zOd49RTpUxxj"
      }
    },
    {
      "cell_type": "code",
      "source": [
        "class DataManager:\n",
        "    \"\"\"\n",
        "    This class manages and preprocesses a simple text dataset for a sentence classification task.\n",
        "\n",
        "    Attributes:\n",
        "        verbose (bool): Controls verbosity for printing information during data processing.\n",
        "        max_sentence_len (int): The maximum length of a sentence in the dataset.\n",
        "        str_questions (list): A list to store the string representations of the questions in the dataset.\n",
        "        str_labels (list): A list to store the string representations of the labels in the dataset.\n",
        "        numeral_labels (list): A list to store the numerical representations of the labels in the dataset.\n",
        "        numeral_data (list): A list to store the numerical representations of the questions in the dataset.\n",
        "        random_state (int): Seed value for random number generation to ensure reproducibility.\n",
        "            Set this value to a specific integer to reproduce the same random sequence every time. Defaults to 6789.\n",
        "        random (np.random.RandomState): Random number generator object initialized with the given random_state.\n",
        "            It is used for various random operations in the class.\n",
        "\n",
        "    Methods:\n",
        "        maybe_download(dir_name, file_name, url, verbose=True):\n",
        "            Downloads a file from a given URL if it does not exist in the specified directory.\n",
        "            The directory and file are created if they do not exist.\n",
        "\n",
        "        read_data(dir_name, file_names):\n",
        "            Reads data from files in a directory, preprocesses it, and computes the maximum sentence length.\n",
        "            Each file is expected to contain rows in the format \"<label>:<question>\".\n",
        "            The labels and questions are stored as string representations.\n",
        "\n",
        "        manipulate_data():\n",
        "            Performs data manipulation by tokenizing, numericalizing, and padding the text data.\n",
        "            The questions are tokenized and converted into numerical sequences using a tokenizer.\n",
        "            The sequences are padded or truncated to the maximum sequence length.\n",
        "\n",
        "        train_valid_test_split(train_ratio=0.9):\n",
        "            Splits the data into training, validation, and test sets based on a given ratio.\n",
        "            The data is randomly shuffled, and the specified ratio is used to determine the size of the training set.\n",
        "            The string questions, numerical data, and numerical labels are split accordingly.\n",
        "            TensorFlow `Dataset` objects are created for the training and validation sets.\n",
        "\n",
        "\n",
        "    \"\"\"\n",
        "\n",
        "    def __init__(self, verbose=True, random_state=6789):\n",
        "        self.verbose = verbose\n",
        "        self.max_sentence_len = 0\n",
        "        self.str_questions = list()\n",
        "        self.str_labels = list()\n",
        "        self.numeral_labels = list()\n",
        "        self.maxlen = None\n",
        "        self.numeral_data = list()\n",
        "        self.random_state = random_state\n",
        "        self.random = np.random.RandomState(random_state)\n",
        "\n",
        "    @staticmethod\n",
        "    def maybe_download(dir_name, file_name, url, verbose=True):\n",
        "        if not os.path.exists(dir_name):\n",
        "            os.mkdir(dir_name)\n",
        "        if not os.path.exists(os.path.join(dir_name, file_name)):\n",
        "            urlretrieve(url + file_name, os.path.join(dir_name, file_name))\n",
        "        if verbose:\n",
        "            print(\"Downloaded successfully {}\".format(file_name))\n",
        "\n",
        "    def read_data(self, dir_name, file_names):\n",
        "        self.str_questions = list()\n",
        "        self.str_labels = list()\n",
        "        for file_name in file_names:\n",
        "            file_path= os.path.join(dir_name, file_name)\n",
        "            with open(file_path, \"r\", encoding=\"latin-1\") as f:\n",
        "                for row in f:\n",
        "                    row_str = row.split(\":\")\n",
        "                    label, question = row_str[0], row_str[1]\n",
        "                    question = question.lower()\n",
        "                    self.str_labels.append(label)\n",
        "                    self.str_questions.append(question[0:-1])\n",
        "                    if self.max_sentence_len < len(self.str_questions[-1]):\n",
        "                        self.max_sentence_len = len(self.str_questions[-1])\n",
        "\n",
        "        # turns labels into numbers\n",
        "        le = preprocessing.LabelEncoder()\n",
        "        le.fit(self.str_labels)\n",
        "        self.numeral_labels = np.array(le.transform(self.str_labels))\n",
        "        self.str_classes = le.classes_\n",
        "        self.num_classes = len(self.str_classes)\n",
        "        if self.verbose:\n",
        "            print(\"\\nSample questions and corresponding labels... \\n\")\n",
        "            print(self.str_questions[0:5])\n",
        "            print(self.str_labels[0:5])\n",
        "\n",
        "    def manipulate_data(self):\n",
        "        self.tokenizer = BertTokenizer.from_pretrained('bert-base-uncased')\n",
        "        vocab = self.tokenizer.get_vocab()\n",
        "        self.word2idx = {w: i for i, w in enumerate(vocab)}\n",
        "        self.idx2word = {i:w for w,i in self.word2idx.items()}\n",
        "        self.vocab_size = len(self.word2idx)\n",
        "\n",
        "        token_ids = []\n",
        "        num_seqs = []\n",
        "        for text in self.str_questions:  # iterate over the list of text\n",
        "          text_seqs = self.tokenizer.tokenize(str(text))  # tokenize each text individually\n",
        "          # Convert tokens to IDs\n",
        "          token_ids = self.tokenizer.convert_tokens_to_ids(text_seqs)\n",
        "          # Convert token IDs to a tensor of indices using your word2idx mapping\n",
        "          seq_tensor = torch.LongTensor(token_ids)\n",
        "          num_seqs.append(seq_tensor)  # append the tensor for each sequence\n",
        "\n",
        "        # Pad the sequences and create a tensor\n",
        "        if num_seqs:\n",
        "          self.numeral_data = pad_sequence(num_seqs, batch_first=True)  # Pads to max length of the sequences\n",
        "          self.num_sentences, self.maxlen = self.numeral_data.shape\n",
        "\n",
        "    def train_valid_test_split(self, train_ratio=0.8, test_ratio = 0.1):\n",
        "        train_size = int(self.num_sentences*train_ratio) +1\n",
        "        test_size = int(self.num_sentences*test_ratio) +1\n",
        "        valid_size = self.num_sentences - (train_size + test_size)\n",
        "        data_indices = list(range(self.num_sentences))\n",
        "        random.shuffle(data_indices)\n",
        "        self.train_str_questions = [self.str_questions[i] for i in data_indices[:train_size]]\n",
        "        self.train_numeral_labels = self.numeral_labels[data_indices[:train_size]]\n",
        "        train_set_data = self.numeral_data[data_indices[:train_size]]\n",
        "        train_set_labels = self.numeral_labels[data_indices[:train_size]]\n",
        "        train_set_labels = torch.from_numpy(train_set_labels)\n",
        "        train_set = torch.utils.data.TensorDataset(train_set_data, train_set_labels)\n",
        "        self.test_str_questions = [self.str_questions[i] for i in data_indices[-test_size:]]\n",
        "        self.test_numeral_labels = self.numeral_labels[data_indices[-test_size:]]\n",
        "        test_set_data = self.numeral_data[data_indices[-test_size:]]\n",
        "        test_set_labels = self.numeral_labels[data_indices[-test_size:]]\n",
        "        test_set_labels = torch.from_numpy(test_set_labels)\n",
        "        test_set = torch.utils.data.TensorDataset(test_set_data, test_set_labels)\n",
        "        self.valid_str_questions = [self.str_questions[i] for i in data_indices[train_size:-test_size]]\n",
        "        self.valid_numeral_labels = self.numeral_labels[data_indices[train_size:-test_size]]\n",
        "        valid_set_data = self.numeral_data[data_indices[train_size:-test_size]]\n",
        "        valid_set_labels = self.numeral_labels[data_indices[train_size:-test_size]]\n",
        "        valid_set_labels = torch.from_numpy(valid_set_labels)\n",
        "        valid_set = torch.utils.data.TensorDataset(valid_set_data, valid_set_labels)\n",
        "        self.train_loader = DataLoader(train_set, batch_size=64, shuffle=True)\n",
        "        self.test_loader = DataLoader(test_set, batch_size=64, shuffle=False)\n",
        "        self.valid_loader = DataLoader(valid_set, batch_size=64, shuffle=False)"
      ],
      "metadata": {
        "id": "_C2fuJNzUhha"
      },
      "execution_count": 13,
      "outputs": []
    },
    {
      "cell_type": "code",
      "source": [
        "print('Loading data...')\n",
        "DataManager.maybe_download(\"data\", \"train_2000.label\", \"http://cogcomp.org/Data/QA/QC/\")\n",
        "\n",
        "dm = DataManager()\n",
        "dm.read_data(\"data/\", [\"train_2000.label\"])"
      ],
      "metadata": {
        "colab": {
          "base_uri": "https://localhost:8080/"
        },
        "id": "3npdESj6Vb_t",
        "outputId": "d56b4ae5-4573-428d-8953-7e2e67cf88df"
      },
      "execution_count": 14,
      "outputs": [
        {
          "output_type": "stream",
          "name": "stdout",
          "text": [
            "Loading data...\n",
            "Downloaded successfully train_2000.label\n",
            "\n",
            "Sample questions and corresponding labels... \n",
            "\n",
            "['manner how did serfdom develop in and then leave russia ?', 'cremat what films featured the character popeye doyle ?', \"manner how can i find a list of celebrities ' real names ?\", 'animal what fowl grabs the spotlight after the chinese year of the monkey ?', 'exp what is the full form of .com ?']\n",
            "['DESC', 'ENTY', 'DESC', 'ENTY', 'ABBR']\n"
          ]
        }
      ]
    },
    {
      "cell_type": "code",
      "source": [
        "dm.manipulate_data()\n",
        "dm.train_valid_test_split(train_ratio=0.8, test_ratio = 0.1)"
      ],
      "metadata": {
        "colab": {
          "base_uri": "https://localhost:8080/",
          "height": 304,
          "referenced_widgets": [
            "91531a45b47748d386224833b5708c69",
            "90af121925984f439014b257fe68c419",
            "3f9354f87a494f05add79cbcf25c517f",
            "c869c7b3196c467db9b984f3bd040881",
            "818c25fdaaf741678adc832208f810df",
            "1eabf3af25124885ba46901f3fe5b6de",
            "9dfeb9c4dc9c4187a6edff3eb9ced169",
            "1cea288802384c47b1328f440685bc2d",
            "eb9cfabf183c4b0f9ed7f0f2b7147c0e",
            "b22c80b65dc74469b2114696b7e2a602",
            "46e8ebcdaee84e5a8df741c982ef46a9",
            "c5021ffe8bff456e8f0f9455ff927f19",
            "5eeb5aded7cd4752b3db582788f591c9",
            "c4417ad7e56d4cff816705b5d91ec98f",
            "1f14db66b3a7457ba1017ef3a6b5358c",
            "69b31e155e5245419e959629b0777aae",
            "6790a6fe94b14e049fd91c75625a4c3f",
            "21631578ab9143d98593dd4146d6b770",
            "925cdb23f2d54f72826646ee9405f0a6",
            "409ab5af81aa4517863510344bbf7d0b",
            "b0e565f9ba7e4286806518c2269f4dd5",
            "30d504a31827430e83e731731eb3f6a1",
            "466d0ff128fe4aa79da3c3f8b0facc51",
            "b340a32b74d34e14bab3e9d696505e0a",
            "da3ea15ec5a44f3faf37481f05a00913",
            "01a6ff430d1745f5bafcc7a40abbcef8",
            "6804982f3c7f4b2aa2444d0965f87244",
            "676e2cb78b4942d986256ca3e5c14f9e",
            "0540431b757049af91859afbe59b7b22",
            "1a2a525327d84fb68243c4630e35d5d0",
            "0344d110dbd44589ba7b776932b1f218",
            "8afaddf507e543fbb35d0e1b6ebc8089",
            "74321071f2174629a8f5116fee2c7ff8",
            "416de91cefb84f3b9aa1202e0bbff6fc",
            "ba847694dd5d4541a2c776bbbe53b577",
            "091f0a4892674e7ea9c8aa1d97eb4cfd",
            "82b762ac665341848ce21baec7a5683b",
            "61fcfa0930a241aa8f407b4ee5032547",
            "7219e088c2df42b082b1f7b1d1accc0c",
            "a97d3313b7774eaeb2f6f60431bebc87",
            "8cd6eb42e8794def88920804d95fdf7e",
            "256fbbe3a17241d3b8e5f771c11429cd",
            "7e25f7e0a4684818a6814113e5084610",
            "9f18ea22689b4b30ba26a17181993a0c"
          ]
        },
        "id": "EgrYZPmyVj60",
        "outputId": "6d045466-b4e7-4a53-bbf9-d2657ff8863a"
      },
      "execution_count": 15,
      "outputs": [
        {
          "output_type": "stream",
          "name": "stderr",
          "text": [
            "/usr/local/lib/python3.10/dist-packages/huggingface_hub/utils/_token.py:89: UserWarning: \n",
            "The secret `HF_TOKEN` does not exist in your Colab secrets.\n",
            "To authenticate with the Hugging Face Hub, create a token in your settings tab (https://huggingface.co/settings/tokens), set it as secret in your Google Colab and restart your session.\n",
            "You will be able to reuse this secret in all of your notebooks.\n",
            "Please note that authentication is recommended but still optional to access public models or datasets.\n",
            "  warnings.warn(\n"
          ]
        },
        {
          "output_type": "display_data",
          "data": {
            "text/plain": [
              "tokenizer_config.json:   0%|          | 0.00/48.0 [00:00<?, ?B/s]"
            ],
            "application/vnd.jupyter.widget-view+json": {
              "version_major": 2,
              "version_minor": 0,
              "model_id": "91531a45b47748d386224833b5708c69"
            }
          },
          "metadata": {}
        },
        {
          "output_type": "display_data",
          "data": {
            "text/plain": [
              "vocab.txt:   0%|          | 0.00/232k [00:00<?, ?B/s]"
            ],
            "application/vnd.jupyter.widget-view+json": {
              "version_major": 2,
              "version_minor": 0,
              "model_id": "c5021ffe8bff456e8f0f9455ff927f19"
            }
          },
          "metadata": {}
        },
        {
          "output_type": "display_data",
          "data": {
            "text/plain": [
              "tokenizer.json:   0%|          | 0.00/466k [00:00<?, ?B/s]"
            ],
            "application/vnd.jupyter.widget-view+json": {
              "version_major": 2,
              "version_minor": 0,
              "model_id": "466d0ff128fe4aa79da3c3f8b0facc51"
            }
          },
          "metadata": {}
        },
        {
          "output_type": "display_data",
          "data": {
            "text/plain": [
              "config.json:   0%|          | 0.00/570 [00:00<?, ?B/s]"
            ],
            "application/vnd.jupyter.widget-view+json": {
              "version_major": 2,
              "version_minor": 0,
              "model_id": "416de91cefb84f3b9aa1202e0bbff6fc"
            }
          },
          "metadata": {}
        },
        {
          "output_type": "stream",
          "name": "stderr",
          "text": [
            "/usr/local/lib/python3.10/dist-packages/transformers/tokenization_utils_base.py:1601: FutureWarning: `clean_up_tokenization_spaces` was not set. It will be set to `True` by default. This behavior will be depracted in transformers v4.45, and will be then set to `False` by default. For more details check this issue: https://github.com/huggingface/transformers/issues/31884\n",
            "  warnings.warn(\n"
          ]
        }
      ]
    },
    {
      "cell_type": "code",
      "source": [
        "for x, y in dm.train_loader:\n",
        "    print(x.shape, y.shape)\n",
        "    break"
      ],
      "metadata": {
        "colab": {
          "base_uri": "https://localhost:8080/"
        },
        "id": "bH-U0sUMVnW-",
        "outputId": "323671a2-b6b5-4625-9a88-ffff1ea1187b"
      },
      "execution_count": 16,
      "outputs": [
        {
          "output_type": "stream",
          "name": "stdout",
          "text": [
            "torch.Size([64, 36]) torch.Size([64])\n"
          ]
        }
      ]
    },
    {
      "cell_type": "markdown",
      "source": [
        "## <font color=\"#0b486b\">Part 1: Using Word2Vect to transform texts to vectors </font>\n",
        "\n",
        "<div style=\"text-align: right\"><font color=\"red; font-weight:bold\">[Total marks for this part: 10 marks]<span></div>"
      ],
      "metadata": {
        "id": "frFf7-ehVvNM"
      }
    },
    {
      "cell_type": "code",
      "source": [
        "import gensim.downloader as api\n",
        "from gensim.models import Word2Vec\n",
        "from sklearn.preprocessing import MinMaxScaler\n",
        "from sklearn.metrics import accuracy_score\n",
        "import numpy as np"
      ],
      "metadata": {
        "id": "KZFrETlMVq7P"
      },
      "execution_count": 17,
      "outputs": []
    },
    {
      "cell_type": "markdown",
      "source": [
        "#### <font color=\"red\">**Question 1.1**</font>\n",
        "**Write code to download the pretrained model *glove-wiki-gigaword-100*. Note that this model transforms a word in its dictionary to a $100$ dimensional vector.**\n",
        "\n",
        "**Write code for the function *get_word_vector(word, model)* used to transform a word to a vector using the pretrained Word2Vect model *model*. Note that for a word not in the vocabulary of our *word2vect*, you need to return a vector $0$ with 100 dimensions.**\n",
        "\n",
        "<div style=\"text-align: right\"><font color=\"red\">[2 marks]</font></div>"
      ],
      "metadata": {
        "id": "4JH-f1BJY9bw"
      }
    },
    {
      "cell_type": "code",
      "source": [
        "word2vect = api.load(\"glove-wiki-gigaword-100\")"
      ],
      "metadata": {
        "colab": {
          "base_uri": "https://localhost:8080/"
        },
        "id": "b76lh_hZVyac",
        "outputId": "753493a8-d20c-46b8-8efd-6894e92d3419"
      },
      "execution_count": 18,
      "outputs": [
        {
          "output_type": "stream",
          "name": "stdout",
          "text": [
            "[==================================================] 100.0% 128.1/128.1MB downloaded\n"
          ]
        }
      ]
    },
    {
      "cell_type": "code",
      "source": [
        "def get_word_vector(word, model):\n",
        "    try:\n",
        "        vector = model[word]\n",
        "    except:\n",
        "        vector = np.zeros(100)\n",
        "    return vector"
      ],
      "metadata": {
        "id": "GpbibKfdZB-S"
      },
      "execution_count": 19,
      "outputs": []
    },
    {
      "cell_type": "markdown",
      "source": [
        "#### <font color=\"red\">**Question 1.2**</font>\n",
        "\n",
        "**Write the code for the function `get_sentence_vector(sentence, important_score=None, model= None)`. Note that this function will transform a sentence to a 100-dimensional vector using the pretrained model *model*. In addition, the list *important_score* which has the same length as the *sentence* specifies the important scores of the words in the sentence. In your code, you first need to apply *softmax* function over *important_score* to obtain the important weight *important_weight* which forms a probability over the words of the sentence. Furthermore, the final vector of the sentence will be weighted sum of the individual vectors for words and the weights in *important_weight*.**\n",
        "- $important\\_weight = softmax(important\\_score)$.\n",
        "- $final\\_vector= important\\_weight[1]\\times v[1] + important\\_weight[2]\\times v[2] + ...+ important\\_weight[T]\\times v[T]$ where $T$ is the length of the sentence and $v[i]$ is the vector representation of the $i-th$  word in this sentence.\n",
        "\n",
        "**Note that if `important_score=None` is set by default, your function should return the average of all representation vectors corresponding to set `important_score=[1,1,...,1]`.**\n",
        "\n",
        "<div style=\"text-align: right\"><font color=\"red\">[2 marks]</font></div>"
      ],
      "metadata": {
        "id": "8TjRdyTg2_dN"
      }
    },
    {
      "cell_type": "code",
      "source": [
        "def get_sentence_vector(sentence, important_score=None, model= None):\n",
        "    words = sentence.split()\n",
        "\n",
        "    if important_score is None:\n",
        "      important_score = [1.] * len(words)\n",
        "\n",
        "    important_score = torch.softmax(torch.tensor(important_score), dim=0)\n",
        "\n",
        "    vector = np.zeros(100)\n",
        "    for i, word in enumerate(words):\n",
        "        vector += get_word_vector(word, model) * important_score[i].item()\n",
        "\n",
        "    return vector\n"
      ],
      "metadata": {
        "id": "MaPs4Hqa2_30"
      },
      "execution_count": 20,
      "outputs": []
    },
    {
      "cell_type": "markdown",
      "source": [
        "#### <font color=\"red\">**Question 1.3**</font>\n",
        "\n",
        "**Write code to transform questions in *dm.train_str_questions* and *dm.valid_str_questions* to feature vectors. Note that after running the following cells, you must have $X\\_train$ and $X\\_valid$ which are two NumPy arrays of the feature vectors and $y\\_train$ and $y\\_valid$ which are two arrays of numeric labels (Hint: *dm.train_numeral_labels* and *dm.valid_numeral_labels*). You can add more lines to the following cells if necessary. In addition, you should decide the *important_score* by yourself. For example, the 1st score is 1, the 2nd score is decayed by 0.9, the 3rd is decayed by 0.9, and so on.**\n",
        "\n",
        "<div style=\"text-align: right\"><font color=\"red\">[2 marks]</font></div>"
      ],
      "metadata": {
        "id": "Tu63GJ2c3IgZ"
      }
    },
    {
      "cell_type": "code",
      "source": [
        "longest_sentence_len = max(len(sentence.split()) for sentence in dm.train_str_questions)\n",
        "important_score = [pow(0.9, i) for i in range(longest_sentence_len)]"
      ],
      "metadata": {
        "id": "rQJKCaInWGNT"
      },
      "execution_count": 21,
      "outputs": []
    },
    {
      "cell_type": "code",
      "source": [
        "print(\"Transform training set to feature vectors...\")\n",
        "X_train = [get_sentence_vector(sentence, model=word2vect, important_score=important_score) for sentence in dm.train_str_questions]\n",
        "y_train = dm.train_numeral_labels"
      ],
      "metadata": {
        "colab": {
          "base_uri": "https://localhost:8080/"
        },
        "id": "5SCsWIdZ3I4S",
        "outputId": "bb9f0765-03e8-49f4-c623-dc08f80f84e9"
      },
      "execution_count": 22,
      "outputs": [
        {
          "output_type": "stream",
          "name": "stdout",
          "text": [
            "Transform training set to feature vectors...\n"
          ]
        }
      ]
    },
    {
      "cell_type": "code",
      "source": [
        "print(\"Transform validation set to feature vectors...\")\n",
        "X_valid = [get_sentence_vector(sentence, model=word2vect, important_score=important_score) for sentence in dm.valid_str_questions]\n",
        "y_valid = dm.valid_numeral_labels"
      ],
      "metadata": {
        "colab": {
          "base_uri": "https://localhost:8080/"
        },
        "id": "2odznptZ3Nf_",
        "outputId": "397474cb-630b-4fdd-c800-9c35939e5ade"
      },
      "execution_count": 23,
      "outputs": [
        {
          "output_type": "stream",
          "name": "stdout",
          "text": [
            "Transform validation set to feature vectors...\n"
          ]
        }
      ]
    },
    {
      "cell_type": "markdown",
      "source": [
        "#### <font color=\"red\">**Question 1.4**</font>\n",
        "\n",
        "**It is now to use *MinMaxScaler(feature_range=(-1,1))* in scikit-learn to scale both training and validation sets to the range $(-1,1)$.**\n",
        "\n",
        "<div style=\"text-align: right\"><font color=\"red\">[2 marks]</font></div>"
      ],
      "metadata": {
        "id": "gOp_gy3d3Reh"
      }
    },
    {
      "cell_type": "code",
      "source": [
        "scaler = MinMaxScaler(feature_range=(-1,1))\n",
        "X_train = scaler.fit_transform(X_train)\n",
        "X_valid = scaler.transform(X_valid)"
      ],
      "metadata": {
        "id": "eT47Q13c3VJV"
      },
      "execution_count": 24,
      "outputs": []
    },
    {
      "cell_type": "markdown",
      "source": [
        "#### <font color=\"red\">**Question 1.5**</font>\n",
        "**Train a Logistic Regression model on the training set and then evaluate on the validation set.** You can use any classification metrics in `sklearn` for evaluation.\n",
        "<div style=\"text-align: right\"><font color=\"red\">[2 marks]</font></div>"
      ],
      "metadata": {
        "id": "NcvKQyHO3ZJx"
      }
    },
    {
      "cell_type": "code",
      "source": [
        "from sklearn.linear_model import LogisticRegression\n",
        "\n",
        "model = LogisticRegression(max_iter=1000)\n",
        "model.fit(X_train, y_train)"
      ],
      "metadata": {
        "id": "IQYE_rz-3b25",
        "outputId": "61e4c311-6a5d-4003-8e4b-f0d501222d0e",
        "colab": {
          "base_uri": "https://localhost:8080/",
          "height": 80
        }
      },
      "execution_count": 25,
      "outputs": [
        {
          "output_type": "execute_result",
          "data": {
            "text/plain": [
              "LogisticRegression(max_iter=1000)"
            ],
            "text/html": [
              "<style>#sk-container-id-1 {\n",
              "  /* Definition of color scheme common for light and dark mode */\n",
              "  --sklearn-color-text: black;\n",
              "  --sklearn-color-line: gray;\n",
              "  /* Definition of color scheme for unfitted estimators */\n",
              "  --sklearn-color-unfitted-level-0: #fff5e6;\n",
              "  --sklearn-color-unfitted-level-1: #f6e4d2;\n",
              "  --sklearn-color-unfitted-level-2: #ffe0b3;\n",
              "  --sklearn-color-unfitted-level-3: chocolate;\n",
              "  /* Definition of color scheme for fitted estimators */\n",
              "  --sklearn-color-fitted-level-0: #f0f8ff;\n",
              "  --sklearn-color-fitted-level-1: #d4ebff;\n",
              "  --sklearn-color-fitted-level-2: #b3dbfd;\n",
              "  --sklearn-color-fitted-level-3: cornflowerblue;\n",
              "\n",
              "  /* Specific color for light theme */\n",
              "  --sklearn-color-text-on-default-background: var(--sg-text-color, var(--theme-code-foreground, var(--jp-content-font-color1, black)));\n",
              "  --sklearn-color-background: var(--sg-background-color, var(--theme-background, var(--jp-layout-color0, white)));\n",
              "  --sklearn-color-border-box: var(--sg-text-color, var(--theme-code-foreground, var(--jp-content-font-color1, black)));\n",
              "  --sklearn-color-icon: #696969;\n",
              "\n",
              "  @media (prefers-color-scheme: dark) {\n",
              "    /* Redefinition of color scheme for dark theme */\n",
              "    --sklearn-color-text-on-default-background: var(--sg-text-color, var(--theme-code-foreground, var(--jp-content-font-color1, white)));\n",
              "    --sklearn-color-background: var(--sg-background-color, var(--theme-background, var(--jp-layout-color0, #111)));\n",
              "    --sklearn-color-border-box: var(--sg-text-color, var(--theme-code-foreground, var(--jp-content-font-color1, white)));\n",
              "    --sklearn-color-icon: #878787;\n",
              "  }\n",
              "}\n",
              "\n",
              "#sk-container-id-1 {\n",
              "  color: var(--sklearn-color-text);\n",
              "}\n",
              "\n",
              "#sk-container-id-1 pre {\n",
              "  padding: 0;\n",
              "}\n",
              "\n",
              "#sk-container-id-1 input.sk-hidden--visually {\n",
              "  border: 0;\n",
              "  clip: rect(1px 1px 1px 1px);\n",
              "  clip: rect(1px, 1px, 1px, 1px);\n",
              "  height: 1px;\n",
              "  margin: -1px;\n",
              "  overflow: hidden;\n",
              "  padding: 0;\n",
              "  position: absolute;\n",
              "  width: 1px;\n",
              "}\n",
              "\n",
              "#sk-container-id-1 div.sk-dashed-wrapped {\n",
              "  border: 1px dashed var(--sklearn-color-line);\n",
              "  margin: 0 0.4em 0.5em 0.4em;\n",
              "  box-sizing: border-box;\n",
              "  padding-bottom: 0.4em;\n",
              "  background-color: var(--sklearn-color-background);\n",
              "}\n",
              "\n",
              "#sk-container-id-1 div.sk-container {\n",
              "  /* jupyter's `normalize.less` sets `[hidden] { display: none; }`\n",
              "     but bootstrap.min.css set `[hidden] { display: none !important; }`\n",
              "     so we also need the `!important` here to be able to override the\n",
              "     default hidden behavior on the sphinx rendered scikit-learn.org.\n",
              "     See: https://github.com/scikit-learn/scikit-learn/issues/21755 */\n",
              "  display: inline-block !important;\n",
              "  position: relative;\n",
              "}\n",
              "\n",
              "#sk-container-id-1 div.sk-text-repr-fallback {\n",
              "  display: none;\n",
              "}\n",
              "\n",
              "div.sk-parallel-item,\n",
              "div.sk-serial,\n",
              "div.sk-item {\n",
              "  /* draw centered vertical line to link estimators */\n",
              "  background-image: linear-gradient(var(--sklearn-color-text-on-default-background), var(--sklearn-color-text-on-default-background));\n",
              "  background-size: 2px 100%;\n",
              "  background-repeat: no-repeat;\n",
              "  background-position: center center;\n",
              "}\n",
              "\n",
              "/* Parallel-specific style estimator block */\n",
              "\n",
              "#sk-container-id-1 div.sk-parallel-item::after {\n",
              "  content: \"\";\n",
              "  width: 100%;\n",
              "  border-bottom: 2px solid var(--sklearn-color-text-on-default-background);\n",
              "  flex-grow: 1;\n",
              "}\n",
              "\n",
              "#sk-container-id-1 div.sk-parallel {\n",
              "  display: flex;\n",
              "  align-items: stretch;\n",
              "  justify-content: center;\n",
              "  background-color: var(--sklearn-color-background);\n",
              "  position: relative;\n",
              "}\n",
              "\n",
              "#sk-container-id-1 div.sk-parallel-item {\n",
              "  display: flex;\n",
              "  flex-direction: column;\n",
              "}\n",
              "\n",
              "#sk-container-id-1 div.sk-parallel-item:first-child::after {\n",
              "  align-self: flex-end;\n",
              "  width: 50%;\n",
              "}\n",
              "\n",
              "#sk-container-id-1 div.sk-parallel-item:last-child::after {\n",
              "  align-self: flex-start;\n",
              "  width: 50%;\n",
              "}\n",
              "\n",
              "#sk-container-id-1 div.sk-parallel-item:only-child::after {\n",
              "  width: 0;\n",
              "}\n",
              "\n",
              "/* Serial-specific style estimator block */\n",
              "\n",
              "#sk-container-id-1 div.sk-serial {\n",
              "  display: flex;\n",
              "  flex-direction: column;\n",
              "  align-items: center;\n",
              "  background-color: var(--sklearn-color-background);\n",
              "  padding-right: 1em;\n",
              "  padding-left: 1em;\n",
              "}\n",
              "\n",
              "\n",
              "/* Toggleable style: style used for estimator/Pipeline/ColumnTransformer box that is\n",
              "clickable and can be expanded/collapsed.\n",
              "- Pipeline and ColumnTransformer use this feature and define the default style\n",
              "- Estimators will overwrite some part of the style using the `sk-estimator` class\n",
              "*/\n",
              "\n",
              "/* Pipeline and ColumnTransformer style (default) */\n",
              "\n",
              "#sk-container-id-1 div.sk-toggleable {\n",
              "  /* Default theme specific background. It is overwritten whether we have a\n",
              "  specific estimator or a Pipeline/ColumnTransformer */\n",
              "  background-color: var(--sklearn-color-background);\n",
              "}\n",
              "\n",
              "/* Toggleable label */\n",
              "#sk-container-id-1 label.sk-toggleable__label {\n",
              "  cursor: pointer;\n",
              "  display: block;\n",
              "  width: 100%;\n",
              "  margin-bottom: 0;\n",
              "  padding: 0.5em;\n",
              "  box-sizing: border-box;\n",
              "  text-align: center;\n",
              "}\n",
              "\n",
              "#sk-container-id-1 label.sk-toggleable__label-arrow:before {\n",
              "  /* Arrow on the left of the label */\n",
              "  content: \"▸\";\n",
              "  float: left;\n",
              "  margin-right: 0.25em;\n",
              "  color: var(--sklearn-color-icon);\n",
              "}\n",
              "\n",
              "#sk-container-id-1 label.sk-toggleable__label-arrow:hover:before {\n",
              "  color: var(--sklearn-color-text);\n",
              "}\n",
              "\n",
              "/* Toggleable content - dropdown */\n",
              "\n",
              "#sk-container-id-1 div.sk-toggleable__content {\n",
              "  max-height: 0;\n",
              "  max-width: 0;\n",
              "  overflow: hidden;\n",
              "  text-align: left;\n",
              "  /* unfitted */\n",
              "  background-color: var(--sklearn-color-unfitted-level-0);\n",
              "}\n",
              "\n",
              "#sk-container-id-1 div.sk-toggleable__content.fitted {\n",
              "  /* fitted */\n",
              "  background-color: var(--sklearn-color-fitted-level-0);\n",
              "}\n",
              "\n",
              "#sk-container-id-1 div.sk-toggleable__content pre {\n",
              "  margin: 0.2em;\n",
              "  border-radius: 0.25em;\n",
              "  color: var(--sklearn-color-text);\n",
              "  /* unfitted */\n",
              "  background-color: var(--sklearn-color-unfitted-level-0);\n",
              "}\n",
              "\n",
              "#sk-container-id-1 div.sk-toggleable__content.fitted pre {\n",
              "  /* unfitted */\n",
              "  background-color: var(--sklearn-color-fitted-level-0);\n",
              "}\n",
              "\n",
              "#sk-container-id-1 input.sk-toggleable__control:checked~div.sk-toggleable__content {\n",
              "  /* Expand drop-down */\n",
              "  max-height: 200px;\n",
              "  max-width: 100%;\n",
              "  overflow: auto;\n",
              "}\n",
              "\n",
              "#sk-container-id-1 input.sk-toggleable__control:checked~label.sk-toggleable__label-arrow:before {\n",
              "  content: \"▾\";\n",
              "}\n",
              "\n",
              "/* Pipeline/ColumnTransformer-specific style */\n",
              "\n",
              "#sk-container-id-1 div.sk-label input.sk-toggleable__control:checked~label.sk-toggleable__label {\n",
              "  color: var(--sklearn-color-text);\n",
              "  background-color: var(--sklearn-color-unfitted-level-2);\n",
              "}\n",
              "\n",
              "#sk-container-id-1 div.sk-label.fitted input.sk-toggleable__control:checked~label.sk-toggleable__label {\n",
              "  background-color: var(--sklearn-color-fitted-level-2);\n",
              "}\n",
              "\n",
              "/* Estimator-specific style */\n",
              "\n",
              "/* Colorize estimator box */\n",
              "#sk-container-id-1 div.sk-estimator input.sk-toggleable__control:checked~label.sk-toggleable__label {\n",
              "  /* unfitted */\n",
              "  background-color: var(--sklearn-color-unfitted-level-2);\n",
              "}\n",
              "\n",
              "#sk-container-id-1 div.sk-estimator.fitted input.sk-toggleable__control:checked~label.sk-toggleable__label {\n",
              "  /* fitted */\n",
              "  background-color: var(--sklearn-color-fitted-level-2);\n",
              "}\n",
              "\n",
              "#sk-container-id-1 div.sk-label label.sk-toggleable__label,\n",
              "#sk-container-id-1 div.sk-label label {\n",
              "  /* The background is the default theme color */\n",
              "  color: var(--sklearn-color-text-on-default-background);\n",
              "}\n",
              "\n",
              "/* On hover, darken the color of the background */\n",
              "#sk-container-id-1 div.sk-label:hover label.sk-toggleable__label {\n",
              "  color: var(--sklearn-color-text);\n",
              "  background-color: var(--sklearn-color-unfitted-level-2);\n",
              "}\n",
              "\n",
              "/* Label box, darken color on hover, fitted */\n",
              "#sk-container-id-1 div.sk-label.fitted:hover label.sk-toggleable__label.fitted {\n",
              "  color: var(--sklearn-color-text);\n",
              "  background-color: var(--sklearn-color-fitted-level-2);\n",
              "}\n",
              "\n",
              "/* Estimator label */\n",
              "\n",
              "#sk-container-id-1 div.sk-label label {\n",
              "  font-family: monospace;\n",
              "  font-weight: bold;\n",
              "  display: inline-block;\n",
              "  line-height: 1.2em;\n",
              "}\n",
              "\n",
              "#sk-container-id-1 div.sk-label-container {\n",
              "  text-align: center;\n",
              "}\n",
              "\n",
              "/* Estimator-specific */\n",
              "#sk-container-id-1 div.sk-estimator {\n",
              "  font-family: monospace;\n",
              "  border: 1px dotted var(--sklearn-color-border-box);\n",
              "  border-radius: 0.25em;\n",
              "  box-sizing: border-box;\n",
              "  margin-bottom: 0.5em;\n",
              "  /* unfitted */\n",
              "  background-color: var(--sklearn-color-unfitted-level-0);\n",
              "}\n",
              "\n",
              "#sk-container-id-1 div.sk-estimator.fitted {\n",
              "  /* fitted */\n",
              "  background-color: var(--sklearn-color-fitted-level-0);\n",
              "}\n",
              "\n",
              "/* on hover */\n",
              "#sk-container-id-1 div.sk-estimator:hover {\n",
              "  /* unfitted */\n",
              "  background-color: var(--sklearn-color-unfitted-level-2);\n",
              "}\n",
              "\n",
              "#sk-container-id-1 div.sk-estimator.fitted:hover {\n",
              "  /* fitted */\n",
              "  background-color: var(--sklearn-color-fitted-level-2);\n",
              "}\n",
              "\n",
              "/* Specification for estimator info (e.g. \"i\" and \"?\") */\n",
              "\n",
              "/* Common style for \"i\" and \"?\" */\n",
              "\n",
              ".sk-estimator-doc-link,\n",
              "a:link.sk-estimator-doc-link,\n",
              "a:visited.sk-estimator-doc-link {\n",
              "  float: right;\n",
              "  font-size: smaller;\n",
              "  line-height: 1em;\n",
              "  font-family: monospace;\n",
              "  background-color: var(--sklearn-color-background);\n",
              "  border-radius: 1em;\n",
              "  height: 1em;\n",
              "  width: 1em;\n",
              "  text-decoration: none !important;\n",
              "  margin-left: 1ex;\n",
              "  /* unfitted */\n",
              "  border: var(--sklearn-color-unfitted-level-1) 1pt solid;\n",
              "  color: var(--sklearn-color-unfitted-level-1);\n",
              "}\n",
              "\n",
              ".sk-estimator-doc-link.fitted,\n",
              "a:link.sk-estimator-doc-link.fitted,\n",
              "a:visited.sk-estimator-doc-link.fitted {\n",
              "  /* fitted */\n",
              "  border: var(--sklearn-color-fitted-level-1) 1pt solid;\n",
              "  color: var(--sklearn-color-fitted-level-1);\n",
              "}\n",
              "\n",
              "/* On hover */\n",
              "div.sk-estimator:hover .sk-estimator-doc-link:hover,\n",
              ".sk-estimator-doc-link:hover,\n",
              "div.sk-label-container:hover .sk-estimator-doc-link:hover,\n",
              ".sk-estimator-doc-link:hover {\n",
              "  /* unfitted */\n",
              "  background-color: var(--sklearn-color-unfitted-level-3);\n",
              "  color: var(--sklearn-color-background);\n",
              "  text-decoration: none;\n",
              "}\n",
              "\n",
              "div.sk-estimator.fitted:hover .sk-estimator-doc-link.fitted:hover,\n",
              ".sk-estimator-doc-link.fitted:hover,\n",
              "div.sk-label-container:hover .sk-estimator-doc-link.fitted:hover,\n",
              ".sk-estimator-doc-link.fitted:hover {\n",
              "  /* fitted */\n",
              "  background-color: var(--sklearn-color-fitted-level-3);\n",
              "  color: var(--sklearn-color-background);\n",
              "  text-decoration: none;\n",
              "}\n",
              "\n",
              "/* Span, style for the box shown on hovering the info icon */\n",
              ".sk-estimator-doc-link span {\n",
              "  display: none;\n",
              "  z-index: 9999;\n",
              "  position: relative;\n",
              "  font-weight: normal;\n",
              "  right: .2ex;\n",
              "  padding: .5ex;\n",
              "  margin: .5ex;\n",
              "  width: min-content;\n",
              "  min-width: 20ex;\n",
              "  max-width: 50ex;\n",
              "  color: var(--sklearn-color-text);\n",
              "  box-shadow: 2pt 2pt 4pt #999;\n",
              "  /* unfitted */\n",
              "  background: var(--sklearn-color-unfitted-level-0);\n",
              "  border: .5pt solid var(--sklearn-color-unfitted-level-3);\n",
              "}\n",
              "\n",
              ".sk-estimator-doc-link.fitted span {\n",
              "  /* fitted */\n",
              "  background: var(--sklearn-color-fitted-level-0);\n",
              "  border: var(--sklearn-color-fitted-level-3);\n",
              "}\n",
              "\n",
              ".sk-estimator-doc-link:hover span {\n",
              "  display: block;\n",
              "}\n",
              "\n",
              "/* \"?\"-specific style due to the `<a>` HTML tag */\n",
              "\n",
              "#sk-container-id-1 a.estimator_doc_link {\n",
              "  float: right;\n",
              "  font-size: 1rem;\n",
              "  line-height: 1em;\n",
              "  font-family: monospace;\n",
              "  background-color: var(--sklearn-color-background);\n",
              "  border-radius: 1rem;\n",
              "  height: 1rem;\n",
              "  width: 1rem;\n",
              "  text-decoration: none;\n",
              "  /* unfitted */\n",
              "  color: var(--sklearn-color-unfitted-level-1);\n",
              "  border: var(--sklearn-color-unfitted-level-1) 1pt solid;\n",
              "}\n",
              "\n",
              "#sk-container-id-1 a.estimator_doc_link.fitted {\n",
              "  /* fitted */\n",
              "  border: var(--sklearn-color-fitted-level-1) 1pt solid;\n",
              "  color: var(--sklearn-color-fitted-level-1);\n",
              "}\n",
              "\n",
              "/* On hover */\n",
              "#sk-container-id-1 a.estimator_doc_link:hover {\n",
              "  /* unfitted */\n",
              "  background-color: var(--sklearn-color-unfitted-level-3);\n",
              "  color: var(--sklearn-color-background);\n",
              "  text-decoration: none;\n",
              "}\n",
              "\n",
              "#sk-container-id-1 a.estimator_doc_link.fitted:hover {\n",
              "  /* fitted */\n",
              "  background-color: var(--sklearn-color-fitted-level-3);\n",
              "}\n",
              "</style><div id=\"sk-container-id-1\" class=\"sk-top-container\"><div class=\"sk-text-repr-fallback\"><pre>LogisticRegression(max_iter=1000)</pre><b>In a Jupyter environment, please rerun this cell to show the HTML representation or trust the notebook. <br />On GitHub, the HTML representation is unable to render, please try loading this page with nbviewer.org.</b></div><div class=\"sk-container\" hidden><div class=\"sk-item\"><div class=\"sk-estimator fitted sk-toggleable\"><input class=\"sk-toggleable__control sk-hidden--visually\" id=\"sk-estimator-id-1\" type=\"checkbox\" checked><label for=\"sk-estimator-id-1\" class=\"sk-toggleable__label fitted sk-toggleable__label-arrow fitted\">&nbsp;&nbsp;LogisticRegression<a class=\"sk-estimator-doc-link fitted\" rel=\"noreferrer\" target=\"_blank\" href=\"https://scikit-learn.org/1.5/modules/generated/sklearn.linear_model.LogisticRegression.html\">?<span>Documentation for LogisticRegression</span></a><span class=\"sk-estimator-doc-link fitted\">i<span>Fitted</span></span></label><div class=\"sk-toggleable__content fitted\"><pre>LogisticRegression(max_iter=1000)</pre></div> </div></div></div></div>"
            ]
          },
          "metadata": {},
          "execution_count": 25
        }
      ]
    },
    {
      "cell_type": "code",
      "source": [
        "from sklearn import metrics\n",
        "\n",
        "y_pred = model.predict(X_valid)\n",
        "accuracy = metrics.accuracy_score(y_valid, y_pred)\n",
        "print(\"Accuracy:\", accuracy)\n"
      ],
      "metadata": {
        "id": "ucJWNHMO3gXF",
        "outputId": "2301f88d-c43c-429b-b601-4995b14ec76e",
        "colab": {
          "base_uri": "https://localhost:8080/"
        }
      },
      "execution_count": 26,
      "outputs": [
        {
          "output_type": "stream",
          "name": "stdout",
          "text": [
            "Accuracy: 0.9090909090909091\n"
          ]
        }
      ]
    },
    {
      "cell_type": "markdown",
      "source": [
        "We now declare the `BaseTrainer` class, which will be used later to train the subsequent deep learning models for text data."
      ],
      "metadata": {
        "id": "NZs9Y0rl7gBH"
      }
    },
    {
      "cell_type": "code",
      "source": [
        "device = torch.device(\"cuda\" if torch.cuda.is_available() else \"cpu\")\n",
        "\n",
        "class BaseTrainer:\n",
        "    def __init__(self, model, criterion, optimizer, train_loader, val_loader):\n",
        "        self.model = model\n",
        "        self.criterion = criterion  #the loss function\n",
        "        self.optimizer = optimizer  #the optimizer\n",
        "        self.train_loader = train_loader  #the train loader\n",
        "        self.val_loader = val_loader  #the valid loader\n",
        "\n",
        "    #the function to train the model in many epochs\n",
        "    def fit(self, num_epochs):\n",
        "        self.num_batches = len(self.train_loader)\n",
        "\n",
        "        for epoch in range(num_epochs):\n",
        "            print(f'Epoch {epoch + 1}/{num_epochs}')\n",
        "            train_loss, train_accuracy = self.train_one_epoch()\n",
        "            val_loss, val_accuracy = self.validate_one_epoch()\n",
        "            print(\n",
        "                f'{self.num_batches}/{self.num_batches} - train_loss: {train_loss:.4f} - train_accuracy: {train_accuracy*100:.4f}% \\\n",
        "                - val_loss: {val_loss:.4f} - val_accuracy: {val_accuracy*100:.4f}%')\n",
        "\n",
        "    #train in one epoch, return the train_acc, train_loss\n",
        "    def train_one_epoch(self):\n",
        "        self.model.train()\n",
        "        running_loss, correct, total = 0.0, 0, 0\n",
        "        for i, data in enumerate(self.train_loader):\n",
        "            inputs, labels = data\n",
        "            inputs, labels = inputs.to(device), labels.to(device)\n",
        "            self.optimizer.zero_grad()\n",
        "            outputs = self.model(inputs)\n",
        "            loss = self.criterion(outputs, labels)\n",
        "            loss.backward()\n",
        "            self.optimizer.step()\n",
        "\n",
        "            running_loss += loss.item()\n",
        "            _, predicted = torch.max(outputs.data, 1)\n",
        "            total += labels.size(0)\n",
        "            correct += (predicted == labels).sum().item()\n",
        "        train_accuracy = correct / total\n",
        "        train_loss = running_loss / self.num_batches\n",
        "        return train_loss, train_accuracy\n",
        "\n",
        "    #evaluate on a loader and return the loss and accuracy\n",
        "    def evaluate(self, loader):\n",
        "        self.model.eval()\n",
        "        loss, correct, total = 0.0, 0, 0\n",
        "        with torch.no_grad():\n",
        "            for data in loader:\n",
        "                inputs, labels = data\n",
        "                inputs, labels = inputs.to(device), labels.to(device)\n",
        "                outputs = self.model(inputs)\n",
        "                loss = self.criterion(outputs, labels)\n",
        "                loss += loss.item()\n",
        "                _, predicted = torch.max(outputs.data, 1)\n",
        "                total += labels.size(0)\n",
        "                correct += (predicted == labels).sum().item()\n",
        "\n",
        "        accuracy = correct / total\n",
        "        loss = loss / len(self.val_loader)\n",
        "        return loss, accuracy\n",
        "\n",
        "    #return the val_acc, val_loss, be called at the end of each epoch\n",
        "    def validate_one_epoch(self):\n",
        "      val_loss, val_accuracy = self.evaluate(self.val_loader)\n",
        "      return val_loss, val_accuracy"
      ],
      "metadata": {
        "id": "yXlNQvGn7OEb"
      },
      "execution_count": 27,
      "outputs": []
    },
    {
      "cell_type": "markdown",
      "source": [
        "## <font color=\"#0b486b\">Part 2: Text CNN for sequence modeling and neural embedding </font>\n",
        "\n",
        "<div style=\"text-align: right\"><font color=\"red; font-weight:bold\">[Total marks for this part: 10 marks]<span></div>"
      ],
      "metadata": {
        "id": "3GWOQN_S7p4V"
      }
    },
    {
      "cell_type": "markdown",
      "source": [
        "**In what follows, you are required to complete the code for Text CNN for sentence classification. The paper of Text CNN can be found at this [link](https://www.aclweb.org/anthology/D14-1181.pdf). Here is the description of the Text CNN that you need to construct.**\n",
        "- There are three attributes (properties or instance variables): *embed_size, state_size, data_manager*.\n",
        "  - `embed_size`: the dimension of the vector space for which the words are embedded to using the embedding matrix.\n",
        "  - `state_size`: the number of filters used in *Conv1D* (reference [here](https://pytorch.org/docs/stable/generated/torch.nn.Conv1d.html)).\n",
        "  - `data_manager`: the data manager to store information of the dataset.\n",
        "- The detail of the computational process is as follows:\n",
        "  - Given input $x$, we embed $x$ using the embedding matrix to obtain an $3D$ tensor $[batch\\_size, seq\\_len, embed\\_size]$ as $e$.\n",
        "  - We feed $e$ to three *Conv1D* layers, each of which has $state\\_size$ filters, activation= $relu$, and $kernel\\_size= 3, 5, 7$ respectively to obtain $h1, h2, h3$. Note that each $h1, h2, h3$ is a 3D tensor with the shape $[batch\\_size, state\\_size, output\\_size]$. Moreover, you need to apply *Conv1D* to the $seq\\_len$ dimension.\n",
        "  - We then apply *GlobalMaxPool1D()* (reference [here](https://pytorch.org/docs/stable/generated/torch.nn.functional.max_pool1d.html#torch.nn.functional.max_pool1d)) over $h1, h2, h3$ to obtain 2D tensors stored in $h1, h2, h3$ again.\n",
        "  - We then concatenate three 2D tensors $h1, h2, h3$ to obtain $h$ with the shape $\\left[batch\\_size, 3\\times state\\_size\\right]$. Note that you need to specify the axis to concatenate.\n",
        "  - We finally build up one dense layer $\\left[3\\times state\\_size, num\\_classes\\right]$  on the top of $h$ for classification.\n",
        "  "
      ],
      "metadata": {
        "id": "QJub3Fwm7vC7"
      }
    },
    {
      "cell_type": "code",
      "source": [
        "import torch.nn as nn\n",
        "import torch.nn.functional as F\n",
        "\n",
        "class TextCNN(torch.nn.Module):\n",
        "    def __init__(self, embed_size= 128, state_size=16, data_manager=None):\n",
        "        super().__init__()\n",
        "        self.data_manager = data_manager\n",
        "        self.embed_size = embed_size\n",
        "        self.state_size = state_size\n",
        "        self.embed = nn.Embedding(self.data_manager.vocab_size, self.embed_size)\n",
        "        self.conv1d_1 = nn.Conv1d(in_channels=self.embed_size, out_channels=self.state_size, kernel_size=3)\n",
        "        self.conv1d_2 = nn.Conv1d(in_channels=self.embed_size, out_channels=self.state_size, kernel_size=5)\n",
        "        self.conv1d_3 = nn.Conv1d(in_channels=self.embed_size, out_channels=self.state_size, kernel_size=7)\n",
        "        self.fc = nn.Linear(state_size*3, self.data_manager.num_classes)\n",
        "\n",
        "    def forward(self, x):\n",
        "        e = self.embed(x)\n",
        "        #permute x before applying Conv1D\n",
        "        e= e.permute(0,2,1)\n",
        "\n",
        "        #applying Conv1D\n",
        "        h1 = self.conv1d_1(e)\n",
        "        h2 = self.conv1d_2(e)\n",
        "        h3 = self.conv1d_3(e)\n",
        "\n",
        "        #apply relu\n",
        "        h1 = F.relu(h1)\n",
        "        h2 = F.relu(h2)\n",
        "        h3 = F.relu(h3)\n",
        "\n",
        "        #apply GlobalMaxPool\n",
        "        h1 = F.max_pool1d(h1, h1.size(2)).squeeze(2)\n",
        "        h2 = F.max_pool1d(h2, h2.size(2)).squeeze(2)\n",
        "        h3 = F.max_pool1d(h3, h3.size(2)).squeeze(2)\n",
        "\n",
        "\n",
        "\n",
        "        h = torch.cat((h1, h2, h3), dim=1)\n",
        "        h = self.fc(h)\n",
        "        return h"
      ],
      "metadata": {
        "id": "lEnG-BGJ239k"
      },
      "execution_count": 42,
      "outputs": []
    },
    {
      "cell_type": "markdown",
      "source": [
        "We declare `text_cnn` and train on several epochs (e.g., `50 epochs`).\n"
      ],
      "metadata": {
        "id": "n-PN6KmIFw6K"
      }
    },
    {
      "cell_type": "code",
      "source": [
        "text_cnn = TextCNN(data_manager=dm).to(device)\n",
        "criterion = nn.CrossEntropyLoss()\n",
        "optimizer = torch.optim.Adam(text_cnn.parameters(), lr=0.001)\n",
        "trainer = BaseTrainer(model=text_cnn, criterion=criterion, optimizer=optimizer, train_loader=dm.train_loader, val_loader=dm.valid_loader)\n",
        "trainer.fit(num_epochs=50)"
      ],
      "metadata": {
        "colab": {
          "base_uri": "https://localhost:8080/"
        },
        "id": "IrL5oM82BR3_",
        "outputId": "763413e7-8866-4164-c794-23551399f4fb"
      },
      "execution_count": 43,
      "outputs": [
        {
          "output_type": "stream",
          "name": "stdout",
          "text": [
            "Epoch 1/50\n",
            "26/26 - train_loss: 1.4556 - train_accuracy: 45.4716%                 - val_loss: 0.5070 - val_accuracy: 74.7475%\n",
            "Epoch 2/50\n",
            "26/26 - train_loss: 0.8497 - train_accuracy: 78.2636%                 - val_loss: 0.2092 - val_accuracy: 84.3434%\n",
            "Epoch 3/50\n",
            "26/26 - train_loss: 0.4888 - train_accuracy: 87.2580%                 - val_loss: 0.1547 - val_accuracy: 90.4040%\n",
            "Epoch 4/50\n",
            "26/26 - train_loss: 0.2969 - train_accuracy: 94.1911%                 - val_loss: 0.0696 - val_accuracy: 93.4343%\n",
            "Epoch 5/50\n",
            "26/26 - train_loss: 0.1901 - train_accuracy: 96.6271%                 - val_loss: 0.0554 - val_accuracy: 94.9495%\n",
            "Epoch 6/50\n",
            "26/26 - train_loss: 0.1339 - train_accuracy: 97.9388%                 - val_loss: 0.0329 - val_accuracy: 94.9495%\n",
            "Epoch 7/50\n",
            "26/26 - train_loss: 0.0918 - train_accuracy: 99.2505%                 - val_loss: 0.0215 - val_accuracy: 94.9495%\n",
            "Epoch 8/50\n",
            "26/26 - train_loss: 0.0693 - train_accuracy: 99.4379%                 - val_loss: 0.0173 - val_accuracy: 94.9495%\n",
            "Epoch 9/50\n",
            "26/26 - train_loss: 0.0510 - train_accuracy: 99.9375%                 - val_loss: 0.0108 - val_accuracy: 95.4545%\n",
            "Epoch 10/50\n",
            "26/26 - train_loss: 0.0393 - train_accuracy: 100.0000%                 - val_loss: 0.0094 - val_accuracy: 95.4545%\n",
            "Epoch 11/50\n",
            "26/26 - train_loss: 0.0318 - train_accuracy: 100.0000%                 - val_loss: 0.0078 - val_accuracy: 95.4545%\n",
            "Epoch 12/50\n",
            "26/26 - train_loss: 0.0281 - train_accuracy: 100.0000%                 - val_loss: 0.0060 - val_accuracy: 95.4545%\n",
            "Epoch 13/50\n",
            "26/26 - train_loss: 0.0214 - train_accuracy: 100.0000%                 - val_loss: 0.0052 - val_accuracy: 95.9596%\n",
            "Epoch 14/50\n",
            "26/26 - train_loss: 0.0171 - train_accuracy: 100.0000%                 - val_loss: 0.0038 - val_accuracy: 95.9596%\n",
            "Epoch 15/50\n",
            "26/26 - train_loss: 0.0142 - train_accuracy: 100.0000%                 - val_loss: 0.0032 - val_accuracy: 95.9596%\n",
            "Epoch 16/50\n",
            "26/26 - train_loss: 0.0121 - train_accuracy: 100.0000%                 - val_loss: 0.0030 - val_accuracy: 95.9596%\n",
            "Epoch 17/50\n",
            "26/26 - train_loss: 0.0117 - train_accuracy: 100.0000%                 - val_loss: 0.0026 - val_accuracy: 95.9596%\n",
            "Epoch 18/50\n",
            "26/26 - train_loss: 0.0103 - train_accuracy: 100.0000%                 - val_loss: 0.0021 - val_accuracy: 96.4646%\n",
            "Epoch 19/50\n",
            "26/26 - train_loss: 0.0083 - train_accuracy: 100.0000%                 - val_loss: 0.0019 - val_accuracy: 96.4646%\n",
            "Epoch 20/50\n",
            "26/26 - train_loss: 0.0071 - train_accuracy: 100.0000%                 - val_loss: 0.0017 - val_accuracy: 95.9596%\n",
            "Epoch 21/50\n",
            "26/26 - train_loss: 0.0063 - train_accuracy: 100.0000%                 - val_loss: 0.0015 - val_accuracy: 96.4646%\n",
            "Epoch 22/50\n",
            "26/26 - train_loss: 0.0056 - train_accuracy: 100.0000%                 - val_loss: 0.0014 - val_accuracy: 95.9596%\n",
            "Epoch 23/50\n",
            "26/26 - train_loss: 0.0051 - train_accuracy: 100.0000%                 - val_loss: 0.0012 - val_accuracy: 95.9596%\n",
            "Epoch 24/50\n",
            "26/26 - train_loss: 0.0046 - train_accuracy: 100.0000%                 - val_loss: 0.0011 - val_accuracy: 95.9596%\n",
            "Epoch 25/50\n",
            "26/26 - train_loss: 0.0042 - train_accuracy: 100.0000%                 - val_loss: 0.0010 - val_accuracy: 96.4646%\n",
            "Epoch 26/50\n",
            "26/26 - train_loss: 0.0038 - train_accuracy: 100.0000%                 - val_loss: 0.0010 - val_accuracy: 96.4646%\n",
            "Epoch 27/50\n",
            "26/26 - train_loss: 0.0036 - train_accuracy: 100.0000%                 - val_loss: 0.0009 - val_accuracy: 96.4646%\n",
            "Epoch 28/50\n",
            "26/26 - train_loss: 0.0032 - train_accuracy: 100.0000%                 - val_loss: 0.0008 - val_accuracy: 96.4646%\n",
            "Epoch 29/50\n",
            "26/26 - train_loss: 0.0030 - train_accuracy: 100.0000%                 - val_loss: 0.0008 - val_accuracy: 96.4646%\n",
            "Epoch 30/50\n",
            "26/26 - train_loss: 0.0028 - train_accuracy: 100.0000%                 - val_loss: 0.0007 - val_accuracy: 96.4646%\n",
            "Epoch 31/50\n",
            "26/26 - train_loss: 0.0030 - train_accuracy: 100.0000%                 - val_loss: 0.0007 - val_accuracy: 96.4646%\n",
            "Epoch 32/50\n",
            "26/26 - train_loss: 0.0025 - train_accuracy: 100.0000%                 - val_loss: 0.0007 - val_accuracy: 96.4646%\n",
            "Epoch 33/50\n",
            "26/26 - train_loss: 0.0024 - train_accuracy: 100.0000%                 - val_loss: 0.0006 - val_accuracy: 96.4646%\n",
            "Epoch 34/50\n",
            "26/26 - train_loss: 0.0021 - train_accuracy: 100.0000%                 - val_loss: 0.0005 - val_accuracy: 96.4646%\n",
            "Epoch 35/50\n",
            "26/26 - train_loss: 0.0020 - train_accuracy: 100.0000%                 - val_loss: 0.0005 - val_accuracy: 96.4646%\n",
            "Epoch 36/50\n",
            "26/26 - train_loss: 0.0018 - train_accuracy: 100.0000%                 - val_loss: 0.0005 - val_accuracy: 96.4646%\n",
            "Epoch 37/50\n",
            "26/26 - train_loss: 0.0018 - train_accuracy: 100.0000%                 - val_loss: 0.0005 - val_accuracy: 96.4646%\n",
            "Epoch 38/50\n",
            "26/26 - train_loss: 0.0017 - train_accuracy: 100.0000%                 - val_loss: 0.0004 - val_accuracy: 96.4646%\n",
            "Epoch 39/50\n",
            "26/26 - train_loss: 0.0016 - train_accuracy: 100.0000%                 - val_loss: 0.0004 - val_accuracy: 96.4646%\n",
            "Epoch 40/50\n",
            "26/26 - train_loss: 0.0015 - train_accuracy: 100.0000%                 - val_loss: 0.0004 - val_accuracy: 96.4646%\n",
            "Epoch 41/50\n",
            "26/26 - train_loss: 0.0020 - train_accuracy: 100.0000%                 - val_loss: 0.0004 - val_accuracy: 96.4646%\n",
            "Epoch 42/50\n",
            "26/26 - train_loss: 0.0016 - train_accuracy: 100.0000%                 - val_loss: 0.0003 - val_accuracy: 96.4646%\n",
            "Epoch 43/50\n",
            "26/26 - train_loss: 0.0013 - train_accuracy: 100.0000%                 - val_loss: 0.0003 - val_accuracy: 96.4646%\n",
            "Epoch 44/50\n",
            "26/26 - train_loss: 0.0012 - train_accuracy: 100.0000%                 - val_loss: 0.0003 - val_accuracy: 96.4646%\n",
            "Epoch 45/50\n",
            "26/26 - train_loss: 0.0012 - train_accuracy: 100.0000%                 - val_loss: 0.0003 - val_accuracy: 96.4646%\n",
            "Epoch 46/50\n",
            "26/26 - train_loss: 0.0011 - train_accuracy: 100.0000%                 - val_loss: 0.0003 - val_accuracy: 96.4646%\n",
            "Epoch 47/50\n",
            "26/26 - train_loss: 0.0010 - train_accuracy: 100.0000%                 - val_loss: 0.0003 - val_accuracy: 96.4646%\n",
            "Epoch 48/50\n",
            "26/26 - train_loss: 0.0010 - train_accuracy: 100.0000%                 - val_loss: 0.0002 - val_accuracy: 96.4646%\n",
            "Epoch 49/50\n",
            "26/26 - train_loss: 0.0013 - train_accuracy: 100.0000%                 - val_loss: 0.0002 - val_accuracy: 96.4646%\n",
            "Epoch 50/50\n",
            "26/26 - train_loss: 0.0011 - train_accuracy: 100.0000%                 - val_loss: 0.0002 - val_accuracy: 96.4646%\n"
          ]
        }
      ]
    },
    {
      "cell_type": "markdown",
      "source": [
        "We evaluate the trained model on the testing set."
      ],
      "metadata": {
        "id": "yrjO5iT6F_Li"
      }
    },
    {
      "cell_type": "code",
      "source": [
        "test_loss, test_acc = trainer.evaluate(dm.test_loader)\n",
        "print(f'test_loss: {test_loss:.4f} - test_accuracy: {test_acc*100:.4f}%')"
      ],
      "metadata": {
        "colab": {
          "base_uri": "https://localhost:8080/"
        },
        "id": "CnHiWCl7BtJC",
        "outputId": "b97191f1-2834-4bd5-ba3b-10d982f55e5e"
      },
      "execution_count": 44,
      "outputs": [
        {
          "output_type": "stream",
          "name": "stdout",
          "text": [
            "test_loss: 0.2111 - test_accuracy: 95.5224%\n"
          ]
        }
      ]
    }
  ]
}