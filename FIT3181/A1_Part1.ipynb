{
  "cells": [
    {
      "cell_type": "markdown",
      "metadata": {
        "id": "view-in-github",
        "colab_type": "text"
      },
      "source": [
        "<a href=\"https://colab.research.google.com/github/TheAlchemist010/DeepLearning-Notebooks/blob/main/FIT3181/A1_Part1.ipynb\" target=\"_parent\"><img src=\"https://colab.research.google.com/assets/colab-badge.svg\" alt=\"Open In Colab\"/></a>"
      ]
    },
    {
      "cell_type": "markdown",
      "metadata": {
        "id": "yBGe4m13MKhM"
      },
      "source": [
        "# <span style=\"color:#0b486b\">  FIT3181: Deep Learning (2024)</span>\n",
        "***\n",
        "*CE/Lecturer (Clayton):*  **Dr Trung Le** | trunglm@monash.edu <br/>\n",
        "*Lecturer (Clayton):* **Prof Dinh Phung** | dinh.phung@monash.edu <br/>\n",
        "*Lecturer (Malaysia):*  **Dr Arghya Pal** | arghya.pal@monash.edu <br/>\n",
        "*Lecturer (Malaysia):*  **Dr Lim Chern Hong** | lim.chernhong@monash.edu <br/>  <br/>\n",
        "*Head Tutor 3181:*  **Miss Vy Vo** |  \\[v.vo@monash.edu \\] <br/>\n",
        "*Head Tutor 5215:*  **Dr Van Nguyen** |  \\[van.nguyen1@monash.edu \\]\n",
        "\n",
        "<br/> <br/>\n",
        "Faculty of Information Technology, Monash University, Australia\n",
        "***"
      ]
    },
    {
      "cell_type": "markdown",
      "metadata": {
        "id": "-OL1yqeGMc1f"
      },
      "source": [
        "# <span style=\"color:#0b486b\">  Student Information</span>\n",
        "***\n",
        "Surname: **Gallagher**  <br/>\n",
        "Firstname: **Daniel**    <br/>\n",
        "Student ID: **33094969**    <br/>\n",
        "Email: **dgal0013@student.monash.edu**    <br/>\n",
        "Your tutorial time: **Monday 4-6PM**    <br/>\n",
        "***"
      ]
    },
    {
      "cell_type": "markdown",
      "metadata": {
        "id": "qcV5D0O8Miro"
      },
      "source": [
        "# <span style=\"color:#0b486b\">Deep Neural Networks</span>\n",
        "### Due: <span style=\"color:red\">11:55pm Sunday, 8 September 2024</span>  (Sunday)\n",
        "\n",
        "#### <span style=\"color:red\">Important note:</span> This is an **individual** assignment. It contributes **25%** to your final mark. Read the assignment instructions carefully."
      ]
    },
    {
      "cell_type": "markdown",
      "metadata": {
        "id": "psTfJNhSMy5Q"
      },
      "source": [
        "## <span style=\"color:#0b486b\">What to submit</span>\n",
        "\n",
        "This assignment is to be completed individually and submitted to Moodle unit site. **By the due date, you are required to submit one  <span style=\"color:red; font-weight:bold\">single zip file, named xxx_assignment01_solution.zip</span> where `xxx` is your student ID, to the corresponding Assignment (Dropbox) in Moodle**. You can use Google Colab to do Assigmnent 1 but you need to save it to an `*.ipynb` file to submit to the unit Moodle.\n",
        "\n",
        "**More importantly, if you use Google Colab to do this assignment, you need to first make a copy of this notebook on your Google drive**."
      ]
    },
    {
      "cell_type": "markdown",
      "metadata": {
        "id": "4qDsCuB0M4-y"
      },
      "source": [
        "***For example, if your student ID is <span style=\"color:red; font-weight:bold\">12356</span>, then gather all of your assignment solution to folder, create a zip file named <span style=\"color:red; font-weight:bold\">123456_assignment01_solution.zip</span> and submit this file.***"
      ]
    },
    {
      "cell_type": "markdown",
      "metadata": {
        "id": "5f1tbgtRM9XO"
      },
      "source": [
        "Within this zip folder, you **must** submit the following files:\n",
        "1.\t**Assignment01_solution.ipynb**:  this is your Python notebook solution source file.\n",
        "1.\t**Assignment01_output.html**: this is the output of your Python notebook solution *exported* in html format.\n",
        "1.\tAny **extra files or folder** needed to complete your assignment (e.g., images used in your answers)."
      ]
    },
    {
      "cell_type": "markdown",
      "metadata": {
        "id": "b3T3dilWNG29"
      },
      "source": [
        "Since the notebook is quite big to load and work together, one recommended option is to split solution into three parts and work on them seperately. In that case, replace **Assignment01_solution.ipynb** by three notebooks: **Assignment01_Part1_solution.ipynb**, **Assignment01_Part2_solution.ipynb** and **Assignment01_Part3_solution.ipynb**"
      ]
    },
    {
      "cell_type": "markdown",
      "metadata": {
        "id": "t9Krbduz1r69"
      },
      "source": [
        "**You can run your codes on Google Colab. In this case, you have to make a copy of your Google colab notebook including the traces and progresses of model training before submitting.**\n",
        "\n"
      ]
    },
    {
      "cell_type": "markdown",
      "metadata": {
        "id": "VwocRJxX2OF6"
      },
      "source": [
        "## <span style=\"color:#0b486b\">Part 1: Theory and Knowledge Questions</span>\n",
        "<div style=\"text-align: right\"><span style=\"color:red; font-weight:bold\">[Total marks for this part: 30 points]<span></div>"
      ]
    },
    {
      "cell_type": "markdown",
      "metadata": {
        "id": "N6leQY732VBH"
      },
      "source": [
        "The first part of this assignment is to demonstrate your knowledge in deep learning that you have acquired from the lectures and tutorials materials. Most of the contents in this assignment are drawn from **the lectures and tutorials from weeks 1 to 4**. Going through these materials before attempting this part is highly recommended."
      ]
    },
    {
      "cell_type": "markdown",
      "metadata": {
        "id": "2yaMzVZO2tr1"
      },
      "source": [
        "####  <span style=\"color:red\">**Question 1.1**</span> **Activation function plays an important role in modern Deep NNs. For each of the activation functions below, state its output range, find its derivative (show your steps), and plot the activation fuction and its derivative**\n",
        "\n",
        "<span style=\"color:red\">**(a)**</span> Exponential linear unit (ELU): $\\text{ELU}(x)=\\begin{cases}\n",
        "0.1\\left(\\exp(x)-1\\right) & \\text{if}\\,x\\leq0\\\\\n",
        "x & \\text{if}\\,x>0\n",
        "\\end{cases}$\n",
        "<div style=\"text-align: right\"><span style=\"color:red\">[1.5 points]</span></div>\n",
        "\n",
        "<span style=\"color:red\">**(b)**</span> Gaussian Error Linear Unit (GELU): $\\text{GELU}(x)=x\\Phi(x)$ where $\\Phi(x)$ is the `probability cummulative function` of the standard Gaussian distribution or $\\Phi(x) = \\mathbb{P}\\left(X\\leq x\\right)$ where $X \\sim N\\left(0,1\\right)$. In addition, the GELU activation fuction (the link for the [main paper](https://arxiv.org/pdf/1606.08415v5.pdf)) has been widely used in the state-of-the-art Vision for Transformers (e.g., here is the link for [the main ViT paper](https://arxiv.org/pdf/2010.11929v2.pdf)).\n",
        "<div style=\"text-align: right\"><span style=\"color:red\">[1.5 points]</span></div>"
      ]
    },
    {
      "cell_type": "markdown",
      "metadata": {
        "id": "WNNTutRH29Bw"
      },
      "source": [
        "Range(ELU)=$[0.1,∞]$\n",
        "\n",
        "$$ELU'(X)=\\begin{cases} 0.1\\frac{d}{dx}(\\exp(x)-1)&\\text{if } x\\leq0\\\\1 &\\text{if } x>0 \\end{cases}$$\n",
        "$$ELU'(X)=\\cases{0.1\\exp(x)&if x< 0\\\\1 &if x>0}$$\n",
        "\n",
        "Graph of ELU(X):\n",
        "\n",
        "![image.png](data:image/png;base64,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)\n",
        "\n",
        "\n",
        "\n",
        "Graph of ELU`(x):\n",
        "\n",
        "![image.png](data:image/png;base64,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)\n",
        "\n",
        "\n",
        "\n",
        "Range(GELU)=$[-0.75179,∞]$\n",
        "\n",
        "\n",
        "$$ \\begin{align*}\n",
        "GELU'(x)&=\\Phi(x)+x\\Phi'(x)\\text{ (by the product rule)}\\\\\n",
        "&=\\Phi(x)+x\\mathcal N(0,1)\n",
        "\\end{align*}  $$\n",
        "Where $\\mathcal N$ is the normal distribution.\n",
        "\n",
        "Graph of GELU:\n",
        "\n",
        "![image.png](data:image/png;base64,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)\n",
        "\n",
        "\n",
        "Graph of GELU':\n",
        "\n",
        "![image.png](data:image/png;base64,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)\n"
      ]
    },
    {
      "cell_type": "markdown",
      "metadata": {
        "id": "FdZLZAfnH8bf"
      },
      "source": [
        "####  <span style=\"color:red\">**Question 1.2:**</span> **Assume that we feed a data point $x$ with a ground-truth label $y=2$ to the feed-forward neural network with the `ReLU activation` function as shown in the following figure**\n"
      ]
    },
    {
      "cell_type": "markdown",
      "metadata": {
        "id": "s7Ppx5N6xC9f"
      },
      "source": [
        "![image.png](data:image/png;base64,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)"
      ]
    },
    {
      "cell_type": "markdown",
      "metadata": {
        "id": "C98SALK3of5D"
      },
      "source": [
        "<span style=\"color:red\">**(a)**</span>  What is the numerical value of the latent presentation $h^1(x)$?\n",
        "<div style=\"text-align: right\"><span style=\"color:red\">[1 point]</span></div>\n",
        "$\\bar {h^1}(x)=xW^1+b^1=[6.2,1.8,-1.8,-6.2]+b^1=[6.2,2.8,-1.8,5.2]$\n",
        "\n",
        "$h^1(x)=ReLu(\\bar {h^1}(x))=[6.2,2.8,0,5.2]$\n",
        "\n",
        "<span style=\"color:red\">**(b)**</span>  What is the numerical value of the latent presentation $h^2(x)$?\n",
        "<div style=\"text-align: right\"><span style=\"color:red\">[1 point]</span></div>\n",
        "$\\bar{h^2}(x)=h^1(x)W^2+b^2=[-8.6,3.8,1.4]+b^2=[-7.6,3.8,2.4]$\n",
        "\n",
        "$h^2(x)=ReLu(\\bar{h^2}(x))=[0,3.8,2.4]$\n",
        "\n",
        "<span style=\"color:red\">**(c)**</span>  What is the numerical value of the logit $h^3(x)$?\n",
        "<div style=\"text-align: right\"><span style=\"color:red\">[1 point]</span></div>\n",
        "$h^3(x)=h^2(x)W^3(x)+b^3=[12.4,-2.8]+b^2=[13.4,-1.3]$\n",
        "\n",
        "<span style=\"color:red\">**(d)**</span>  What is the corresonding prediction probabilities $p(x)$?\n",
        "<div style=\"text-align: right\"><span style=\"color:red\">[1 point]</span></div>\n",
        "\n",
        "$p(x)=\\text{Softmax}(h^3(x))=[1,0]$\n",
        "\n",
        "<span style=\"color:red\">**(e)**</span>  What is the predicted label $\\widehat{y}$? Is it a correct and an incorect prediction? Remind that $y=2$.\n",
        "<div style=\"text-align: right\"><span style=\"color:red\">[1 point]</span></div>\n",
        "\n",
        "$\\hat y=1$\n",
        "\n",
        "This is incorrect\n",
        "\n",
        "\n",
        "<span style=\"color:red\">**(f)**</span>  What is the cross-entropy loss caused by the feed-forward neural network at $(x,y)$? Remind that $y=2$.\n",
        "<div style=\"text-align: right\"><span style=\"color:red\">[1 point]</span></div>\n",
        "\n",
        "$CE(q=[0,1],p=[1,0])=-\\sum\\limits_{i=1}^{d}q_{i}\\ln(p_{i})=∞$\n",
        "\n",
        "<span style=\"color:red\">**(g)**</span>  Why is the cross-entropy loss caused by the feed-forward neural network at $(x,y)$ (i.e., $\\text{CE}(1_y, p(x))$) always non-negative? When does this $\\text{CE}(1_y, p(x))$ loss get the value $0$? Note that you need to answer this question for a general pair $(x,y)$ and a general feed-forward neural network with, for example $M=4$ classes?   \n",
        "<div style=\"text-align: right\"><span style=\"color:red\">[1 point]</span></div>\n",
        "\n",
        "$CE(p,q)=-\\sum\\limits_{i=1}^{d}p_{i}\\ln(q_{i})$\n",
        "\n",
        "$CE(1_y,p(x))=-\\ln(p_y)>0$ Since $0>p_y>1\\implies \\ln(p_y)<0$\n",
        "\n",
        "\n",
        "*You must show both formulas and numerical results for earning full mark. Although it is optional, it is great if you show your PyTorch code for your computation.*"
      ]
    },
    {
      "cell_type": "markdown",
      "metadata": {
        "id": "2fFwOYCAotOt"
      },
      "source": [
        "####  <span style=\"color:red\">**Question 1.3:**</span>\n",
        "For **Question 1.3**, you have two options:\n",
        "* **(1)** *perform the forward, backward propagation, and SGD update for `one mini-batch`* (**10 points**), or\n",
        "* **(2)** *manually implement a feed-forward neural network* that can work on real tabular datasets (**20 points**).\n",
        "\n",
        "You can choose either **(1)** or **(2)** to proceed.   "
      ]
    },
    {
      "cell_type": "markdown",
      "metadata": {
        "id": "0xzHT1andNhZ"
      },
      "source": [
        "### <span style=\"color:red\">**Option 2**</span>\n",
        "<div style=\"text-align: right\"><span style=\"color:red; font-weight:bold\">[Total marks for this option: 20 points]<span></div>"
      ]
    },
    {
      "cell_type": "code",
      "execution_count": 1,
      "metadata": {
        "id": "84IO-qKf195A"
      },
      "outputs": [],
      "source": [
        "import torch\n",
        "from torch.utils.data import DataLoader\n",
        "from torchvision import datasets, transforms"
      ]
    },
    {
      "cell_type": "markdown",
      "metadata": {
        "id": "crQKhy56BEv1"
      },
      "source": [
        "**In Option 2, you need to implement a feed-forward NN manually using PyTorch and auto-differentiation of PyTorch. We then manually train the model on the MNIST dataset**."
      ]
    },
    {
      "cell_type": "markdown",
      "metadata": {
        "id": "7jQL_a-qBzuy"
      },
      "source": [
        "We first download the `MNIST` dataset and preprocess it."
      ]
    },
    {
      "cell_type": "code",
      "execution_count": 2,
      "metadata": {
        "id": "koAVzeDhBFgI",
        "colab": {
          "base_uri": "https://localhost:8080/"
        },
        "outputId": "b75c85db-9bf0-4b97-a7f9-fcb1a627cdd5"
      },
      "outputs": [
        {
          "output_type": "stream",
          "name": "stdout",
          "text": [
            "Downloading http://yann.lecun.com/exdb/mnist/train-images-idx3-ubyte.gz\n",
            "Failed to download (trying next):\n",
            "HTTP Error 403: Forbidden\n",
            "\n",
            "Downloading https://ossci-datasets.s3.amazonaws.com/mnist/train-images-idx3-ubyte.gz\n",
            "Downloading https://ossci-datasets.s3.amazonaws.com/mnist/train-images-idx3-ubyte.gz to ./data/MNIST/raw/train-images-idx3-ubyte.gz\n"
          ]
        },
        {
          "output_type": "stream",
          "name": "stderr",
          "text": [
            "100%|██████████| 9912422/9912422 [00:01<00:00, 5410336.06it/s]\n"
          ]
        },
        {
          "output_type": "stream",
          "name": "stdout",
          "text": [
            "Extracting ./data/MNIST/raw/train-images-idx3-ubyte.gz to ./data/MNIST/raw\n",
            "\n",
            "Downloading http://yann.lecun.com/exdb/mnist/train-labels-idx1-ubyte.gz\n",
            "Failed to download (trying next):\n",
            "HTTP Error 403: Forbidden\n",
            "\n",
            "Downloading https://ossci-datasets.s3.amazonaws.com/mnist/train-labels-idx1-ubyte.gz\n",
            "Downloading https://ossci-datasets.s3.amazonaws.com/mnist/train-labels-idx1-ubyte.gz to ./data/MNIST/raw/train-labels-idx1-ubyte.gz\n"
          ]
        },
        {
          "output_type": "stream",
          "name": "stderr",
          "text": [
            "100%|██████████| 28881/28881 [00:00<00:00, 158060.94it/s]\n"
          ]
        },
        {
          "output_type": "stream",
          "name": "stdout",
          "text": [
            "Extracting ./data/MNIST/raw/train-labels-idx1-ubyte.gz to ./data/MNIST/raw\n",
            "\n",
            "Downloading http://yann.lecun.com/exdb/mnist/t10k-images-idx3-ubyte.gz\n",
            "Failed to download (trying next):\n",
            "HTTP Error 403: Forbidden\n",
            "\n",
            "Downloading https://ossci-datasets.s3.amazonaws.com/mnist/t10k-images-idx3-ubyte.gz\n",
            "Downloading https://ossci-datasets.s3.amazonaws.com/mnist/t10k-images-idx3-ubyte.gz to ./data/MNIST/raw/t10k-images-idx3-ubyte.gz\n"
          ]
        },
        {
          "output_type": "stream",
          "name": "stderr",
          "text": [
            "100%|██████████| 1648877/1648877 [00:01<00:00, 1284854.29it/s]\n"
          ]
        },
        {
          "output_type": "stream",
          "name": "stdout",
          "text": [
            "Extracting ./data/MNIST/raw/t10k-images-idx3-ubyte.gz to ./data/MNIST/raw\n",
            "\n",
            "Downloading http://yann.lecun.com/exdb/mnist/t10k-labels-idx1-ubyte.gz\n",
            "Failed to download (trying next):\n",
            "HTTP Error 403: Forbidden\n",
            "\n",
            "Downloading https://ossci-datasets.s3.amazonaws.com/mnist/t10k-labels-idx1-ubyte.gz\n",
            "Downloading https://ossci-datasets.s3.amazonaws.com/mnist/t10k-labels-idx1-ubyte.gz to ./data/MNIST/raw/t10k-labels-idx1-ubyte.gz\n"
          ]
        },
        {
          "output_type": "stream",
          "name": "stderr",
          "text": [
            "100%|██████████| 4542/4542 [00:00<00:00, 2501054.06it/s]"
          ]
        },
        {
          "output_type": "stream",
          "name": "stdout",
          "text": [
            "Extracting ./data/MNIST/raw/t10k-labels-idx1-ubyte.gz to ./data/MNIST/raw\n",
            "\n",
            "torch.Size([60000, 28, 28]) torch.Size([60000])\n",
            "torch.Size([10000, 28, 28]) torch.Size([10000])\n"
          ]
        },
        {
          "output_type": "stream",
          "name": "stderr",
          "text": [
            "\n"
          ]
        }
      ],
      "source": [
        "transform = transforms.Compose([\n",
        "    transforms.ToTensor(),  # Convert the image to a tensor with shape [C, H, W]\n",
        "    transforms.Normalize((0.5,), (0.5,)),  # Normalize to [-1, 1]\n",
        "    transforms.Lambda(lambda x: x.view(28*28)) # Flatten the tensor to shape [-1,HW]\n",
        "])\n",
        "\n",
        "# Load the MNIST dataset\n",
        "train_dataset = datasets.MNIST(root='./data', train=True, download=True, transform=transform)\n",
        "test_dataset = datasets.MNIST(root='./data', train=False, download=True, transform=transform)\n",
        "\n",
        "train_data, train_labels = train_dataset.data, train_dataset.targets\n",
        "test_data, test_labels = test_dataset.data, test_dataset.targets\n",
        "print(train_data.shape, train_labels.shape)\n",
        "print(test_data.shape, test_labels.shape)"
      ]
    },
    {
      "cell_type": "markdown",
      "metadata": {
        "id": "1cqSZ-AbFRU_"
      },
      "source": [
        "Each data point has dimension `[28,28]`. We need to flatten it to a vector to input to our FFN."
      ]
    },
    {
      "cell_type": "code",
      "execution_count": 3,
      "metadata": {
        "id": "zFnh1HWOEo2I",
        "colab": {
          "base_uri": "https://localhost:8080/"
        },
        "outputId": "10aab3af-bb2b-4e51-fc6a-9d4b2b908ec4"
      },
      "outputs": [
        {
          "output_type": "stream",
          "name": "stdout",
          "text": [
            "torch.Size([60000, 784]) torch.Size([60000])\n",
            "torch.Size([10000, 784]) torch.Size([10000])\n"
          ]
        }
      ],
      "source": [
        "train_dataset.data = train_data.data.view(-1, 28*28)\n",
        "test_dataset.data = test_data.data.view(-1, 28*28)\n",
        "\n",
        "train_data, train_labels = train_dataset.data, train_dataset.targets\n",
        "test_data, test_labels = test_dataset.data, test_dataset.targets\n",
        "print(train_data.shape, train_labels.shape)\n",
        "print(test_data.shape, test_labels.shape)"
      ]
    },
    {
      "cell_type": "code",
      "execution_count": 4,
      "metadata": {
        "id": "u7ovCTokFOFz"
      },
      "outputs": [],
      "source": [
        "train_loader = DataLoader(dataset=train_dataset, batch_size=64, shuffle=True)\n",
        "test_loader = DataLoader(dataset=test_dataset, batch_size=64, shuffle=False)"
      ]
    },
    {
      "cell_type": "markdown",
      "metadata": {
        "id": "0yfw4I5mdrWu"
      },
      "source": [
        "**Develop the feed-forward neural networks**\n",
        "\n",
        "**(a)** You need to develop the class `MyLinear` with the following skeleton. You need to declare the weight matrix and bias of this linear layer.\n",
        "\n",
        "<div style=\"text-align: right\"><span style=\"color:red\">[3 points]</span></div>"
      ]
    },
    {
      "cell_type": "code",
      "execution_count": 19,
      "metadata": {
        "id": "lmDZATc8387F"
      },
      "outputs": [],
      "source": [
        "device = torch.device(\"cuda:0\" if torch.cuda.is_available() else \"cpu\")\n",
        "\n",
        "class MyLinear(torch.nn.Module):\n",
        "  def __init__(self, input_size, output_size):\n",
        "    \"\"\"\n",
        "    input_size: the size of the input\n",
        "    output_size: the size of the output\n",
        "    \"\"\"\n",
        "    super().__init__()\n",
        "\n",
        "    self.W = torch.nn.Parameter(torch.nn.init.kaiming_normal_(torch.empty(input_size, output_size))).to(device)\n",
        "    self.b = torch.nn.Parameter(torch.zeros(output_size)).to(device)\n",
        "\n",
        "  #forward propagation\n",
        "  def forward(self, x): #x is a mini-batch\n",
        "    return torch.matmul(x, self.W) + self.b\n"
      ]
    },
    {
      "cell_type": "markdown",
      "metadata": {
        "id": "Db-lSIoEndgV"
      },
      "source": [
        "**(b)** You need to develop the class `MyFFN` with the following skeleton\n",
        "\n",
        "<div style=\"text-align: right\"><span style=\"color:red\">[7 points]</span></div>"
      ]
    },
    {
      "cell_type": "code",
      "execution_count": 21,
      "metadata": {
        "id": "oiSu7f2E6Zqt"
      },
      "outputs": [],
      "source": [
        "class MyFFN(torch.nn.Module):\n",
        "  def __init__(self, input_size, num_classes, hidden_sizes, act = torch.nn.ReLU()):\n",
        "    \"\"\"\n",
        "    input_size: the size of the input\n",
        "    num_classes: the number of classes\n",
        "    act is the activation function\n",
        "    hidden_sizes is the list of hidden sizes\n",
        "    for example input_size = 3, hidden_sizes = [5, 7], num_classes = 4, and act = torch.nn.ReLU()\n",
        "    means that we are building up a FFN with the confirguration\n",
        "    (3 (Input) -> 5 (ReLU) -> 7 (ReLU) -> 4 (Output))\n",
        "    \"\"\"\n",
        "    super(MyFFN, self).__init__()\n",
        "    self.input_size = input_size\n",
        "    self.num_classes = num_classes\n",
        "    self.act = act\n",
        "    self.hidden_sizes = hidden_sizes\n",
        "    self.num_layers = len(hidden_sizes) + 1\n",
        "\n",
        "\n",
        "  def create_FFN(self):\n",
        "    \"\"\"\n",
        "    This function creates the feed-forward neural network\n",
        "    We stack many MyLinear layers\n",
        "    \"\"\"\n",
        "    hidden_sizes = [self.input_size] + self.hidden_sizes + [self.num_classes]\n",
        "    self.layers = []\n",
        "\n",
        "    #First layer\n",
        "    self.layers.append(MyLinear(self.input_size, self.hidden_sizes[0]))\n",
        "\n",
        "    #Hidden layers\n",
        "    for i in range(0,self.num_layers-2):\n",
        "      self.layers.append(MyLinear(self.hidden_sizes[i], self.hidden_sizes[i+1]))\n",
        "\n",
        "    #Final Layer\n",
        "    self.layers.append(MyLinear(self.hidden_sizes[-1], self.num_classes))\n",
        "\n",
        "    #Setup for SGD with momentum and AdaGrad\n",
        "    self.SGD_W_velocity = [torch.zeros_like(l.W) for l in self.layers]\n",
        "    self.SGD_b_velocity = [torch.zeros_like(l.b) for l in self.layers]\n",
        "    self.AdaGrad_W_squared = [torch.zeros_like(layer.W) for layer in self.layers]\n",
        "    self.AdaGrad_b_squared = [torch.zeros_like(layer.b) for layer in self.layers]\n",
        "\n",
        "\n",
        "  def forward(self,x):\n",
        "    \"\"\"\n",
        "    This implements the forward propagation of the batch x\n",
        "    This needs to return the prediction probabilities of x\n",
        "    \"\"\"\n",
        "    for i in range(self.num_layers-1):\n",
        "      x = self.act(self.layers[i](x))\n",
        "\n",
        "    return self.layers[-1](x)\n",
        "\n",
        "  def compute_loss(self, x, y):\n",
        "    \"\"\"\n",
        "    This function computes the cross-entropy loss\n",
        "    You can use the built-in CE loss of PyTorch\n",
        "    \"\"\"\n",
        "    outputs = self.forward(x)\n",
        "    loss_fn = torch.nn.CrossEntropyLoss()\n",
        "    return loss_fn(outputs, y)\n",
        "\n",
        "  def update_SGD(self, x, y, learning_rate = 0.01):\n",
        "    \"\"\"\n",
        "    This function updates the model parameters using SGD using the batch (x,y)\n",
        "    You need to implement the update rule manually and cannot rely on the built-in optimizer\n",
        "    \"\"\"\n",
        "    #Reset Gradients\n",
        "    for l in self.layers:\n",
        "      l.W.grad = torch.zeros_like(l.W)\n",
        "      l.b.grad = torch.zeros_like(l.b)\n",
        "\n",
        "    loss = self.compute_loss(x, y)\n",
        "    loss.backward()\n",
        "\n",
        "    # Update values\n",
        "    with torch.no_grad():\n",
        "      for l in self.layers:\n",
        "        l.W -= learning_rate * l.W.grad\n",
        "        l.b -= learning_rate * l.b.grad\n",
        "\n",
        "  def update_SGDwithMomentum(self, x, y, learning_rate = 0.01, momentum = 0.9):\n",
        "    \"\"\"\n",
        "    This function updates the model parameters using SGD with momentum using the batch (x,y)\n",
        "    You need to implement the update rule manually and cannot rely on the built-in optimizer\n",
        "    \"\"\"\n",
        "    #Reset Gradients\n",
        "    for l in self.layers:\n",
        "      l.W.grad = torch.zeros_like(l.W)\n",
        "      l.b.grad = torch.zeros_like(l.b)\n",
        "\n",
        "    loss = self.compute_loss(x, y)\n",
        "    loss.backward()\n",
        "\n",
        "    # Update values\n",
        "    with torch.no_grad():\n",
        "      for i, l in enumerate(self.layers):\n",
        "        self.SGD_W_velocity[i] = momentum * self.SGD_W_velocity[i] - (learning_rate * l.W.grad)\n",
        "        self.SGD_b_velocity[i] = momentum * self.SGD_b_velocity[i] - (learning_rate * l.b.grad)\n",
        "\n",
        "        l.W += self.SGD_W_velocity[i]\n",
        "        l.b += self.SGD_b_velocity[i]\n",
        "\n",
        "  def update_AdaGrad(self, x, y, learning_rate = 0.01):\n",
        "    \"\"\"\n",
        "    This function updates the model parameters using AdaGrad using the batch (x,y)\n",
        "    You need to implement the update rule manually and cannot rely on the built-in optimizer\n",
        "    \"\"\"\n",
        "    #Reset Gradients\n",
        "    for l in self.layers:\n",
        "      l.W.grad = torch.zeros_like(l.W)\n",
        "      l.b.grad = torch.zeros_like(l.b)\n",
        "\n",
        "    loss = self.compute_loss(x, y)\n",
        "    loss.backward()\n",
        "\n",
        "    # Update values\n",
        "    with torch.no_grad():\n",
        "      for i, l in enumerate(self.layers):\n",
        "        self.AdaGrad_W_squared[i] += l.W.grad ** 2\n",
        "        self.AdaGrad_b_squared[i] += l.b.grad ** 2\n",
        "\n",
        "        l.W -= learning_rate * l.W.grad / (torch.sqrt(self.AdaGrad_W_squared[i]) + 0.0000001)\n",
        "        l.b -= learning_rate * l.b.grad / (torch.sqrt(self.AdaGrad_b_squared[i]) + 0.0000001)\n"
      ]
    },
    {
      "cell_type": "code",
      "execution_count": 7,
      "metadata": {
        "id": "Gj66U7OXGlKT",
        "colab": {
          "base_uri": "https://localhost:8080/"
        },
        "outputId": "834ab244-2cad-4678-d120-a8b9f1b852ed"
      },
      "outputs": [
        {
          "output_type": "stream",
          "name": "stdout",
          "text": [
            "0\n",
            "[MyLinear(), MyLinear(), MyLinear()]\n",
            "torch.Size([784, 100])\n",
            "torch.Size([100, 100])\n",
            "torch.Size([100, 26])\n"
          ]
        }
      ],
      "source": [
        "myFFN = MyFFN(input_size = 28*28, num_classes = 26, hidden_sizes = [100, 100], act = torch.nn.ReLU())\n",
        "myFFN.create_FFN()\n",
        "print(myFFN.layers)\n",
        "print(myFFN.layers[0].W.shape)\n",
        "print(myFFN.layers[1].W.shape)\n",
        "print(myFFN.layers[2].W.shape)"
      ]
    },
    {
      "cell_type": "markdown",
      "metadata": {
        "id": "A2cacc5pNTmG"
      },
      "source": [
        "**(c)** Write the code to evaluate the accuracy of the current `myFFN` model on a data loader (e.g., train_loader or test_loader).\n",
        "\n",
        "<div style=\"text-align: right\"><span style=\"color:red\">[2.5 points]</span></div>"
      ]
    },
    {
      "cell_type": "code",
      "execution_count": 8,
      "metadata": {
        "id": "LpAD3mVROrys"
      },
      "outputs": [],
      "source": [
        "def compute_acc(model, data_loader):\n",
        "  \"\"\"\n",
        "  This function computes the accuracy of the model on a data loader\n",
        "  \"\"\"\n",
        "  model.eval()\n",
        "  correct = 0\n",
        "  count = 0\n",
        "\n",
        "  with torch.no_grad():\n",
        "      for inputs, labels in data_loader:\n",
        "          inputs, labels = inputs.to(device), labels.to(device)\n",
        "          outputs = model(inputs)\n",
        "          _, predicted = torch.max(outputs, 1)\n",
        "          count += labels.size(0)\n",
        "          correct += (predicted == labels).sum().item()\n",
        "\n",
        "  return correct / count\n",
        "\n"
      ]
    },
    {
      "cell_type": "markdown",
      "metadata": {
        "id": "-mt2ZxC25aCY"
      },
      "source": [
        "**(c)** Write the code to evaluate the loss of the current `myFFN` model on a data loader (e.g., train_loader or test_loader).\n",
        "\n",
        "<div style=\"text-align: right\"><span style=\"color:red\">[2.5 points]</span></div>"
      ]
    },
    {
      "cell_type": "code",
      "execution_count": 9,
      "metadata": {
        "id": "1jxyDKAS1UiB"
      },
      "outputs": [],
      "source": [
        "def compute_loss(model, data_loader):\n",
        "  \"\"\"\n",
        "  This function computes the loss of the model on a data loader\n",
        "  \"\"\"\n",
        "  #Your code here\n",
        "  model.eval()\n",
        "  loss = 0\n",
        "  count = 0\n",
        "\n",
        "  with torch.no_grad():\n",
        "      for inputs, labels in data_loader:\n",
        "          inputs, labels = inputs.to(device), labels.to(device)\n",
        "          count += labels.size(0)\n",
        "          loss += model.compute_loss(inputs, labels)\n",
        "  return float(loss)/count\n"
      ]
    },
    {
      "cell_type": "markdown",
      "metadata": {
        "id": "MbLYNjco42rS"
      },
      "source": [
        "Train on the `MNIST` data with 50 epochs using `updateSGD`."
      ]
    },
    {
      "cell_type": "code",
      "execution_count": null,
      "metadata": {
        "id": "VRaGwlHpFafy",
        "colab": {
          "base_uri": "https://localhost:8080/"
        },
        "outputId": "deae011e-b39f-43a6-ee81-a14d8895f631"
      },
      "outputs": [
        {
          "output_type": "stream",
          "name": "stdout",
          "text": [
            "Epoch 1/50, Train Loss: 0.0309, Train Acc: 38.30%, Test Loss: 0.0304, Test Acc: 38.70%\n",
            "Epoch 2/50, Train Loss: 0.0242, Train Acc: 44.05%, Test Loss: 0.0243, Test Acc: 42.69%\n",
            "Epoch 3/50, Train Loss: 0.0240, Train Acc: 43.30%, Test Loss: 0.0240, Test Acc: 42.89%\n",
            "Epoch 4/50, Train Loss: 0.0222, Train Acc: 45.78%, Test Loss: 0.0222, Test Acc: 45.76%\n",
            "Epoch 5/50, Train Loss: 0.0202, Train Acc: 52.39%, Test Loss: 0.0202, Test Acc: 51.81%\n",
            "Epoch 6/50, Train Loss: 0.0195, Train Acc: 52.57%, Test Loss: 0.0194, Test Acc: 51.98%\n",
            "Epoch 7/50, Train Loss: 0.0191, Train Acc: 53.29%, Test Loss: 0.0191, Test Acc: 52.62%\n",
            "Epoch 8/50, Train Loss: 0.0182, Train Acc: 58.50%, Test Loss: 0.0179, Test Acc: 58.64%\n",
            "Epoch 9/50, Train Loss: 0.0176, Train Acc: 56.70%, Test Loss: 0.0174, Test Acc: 56.46%\n",
            "Epoch 10/50, Train Loss: 0.0181, Train Acc: 59.28%, Test Loss: 0.0180, Test Acc: 59.18%\n",
            "Epoch 11/50, Train Loss: 0.0170, Train Acc: 63.85%, Test Loss: 0.0167, Test Acc: 63.93%\n",
            "Epoch 12/50, Train Loss: 0.0168, Train Acc: 63.24%, Test Loss: 0.0166, Test Acc: 63.39%\n",
            "Epoch 13/50, Train Loss: 0.0157, Train Acc: 65.64%, Test Loss: 0.0154, Test Acc: 65.01%\n",
            "Epoch 14/50, Train Loss: 0.0147, Train Acc: 69.04%, Test Loss: 0.0145, Test Acc: 69.52%\n",
            "Epoch 15/50, Train Loss: 0.0144, Train Acc: 68.79%, Test Loss: 0.0143, Test Acc: 69.13%\n",
            "Epoch 16/50, Train Loss: 0.0154, Train Acc: 66.48%, Test Loss: 0.0153, Test Acc: 66.72%\n",
            "Epoch 17/50, Train Loss: 0.0134, Train Acc: 71.38%, Test Loss: 0.0132, Test Acc: 71.84%\n"
          ]
        }
      ],
      "source": [
        "num_epochs = 50\n",
        "myFFN = myFFN.to(device)\n",
        "\n",
        "for epoch in range(num_epochs):\n",
        "    for i, (x, y) in enumerate(train_loader):\n",
        "      x, y = x.to(device), y.to(device)\n",
        "      myFFN.update_SGD(x, y, learning_rate = 0.01)\n",
        "    train_acc = compute_acc(myFFN, train_loader)\n",
        "    train_loss = compute_loss(myFFN, train_loader)\n",
        "    test_acc = compute_acc(myFFN, test_loader)\n",
        "    test_loss = compute_loss(myFFN, test_loader)\n",
        "    print(f\"Epoch {epoch+1}/{num_epochs}, Train Loss: {train_loss:.4f}, Train Acc: {train_acc*100:.2f}%, Test Loss: {test_loss:.4f}, Test Acc: {test_acc*100:.2f}%\")"
      ]
    },
    {
      "cell_type": "markdown",
      "metadata": {
        "id": "nVWADJjNdYkV"
      },
      "source": [
        "**(d)** Implement the function `updateSGDMomentum` in the class and train the model with this optimizer in `50` epochs. You can update the corresponding function in the `MyFNN` class.\n",
        "\n",
        "<div style=\"text-align: right\"><span style=\"color:red\">[2.5 points]</span></div>"
      ]
    },
    {
      "cell_type": "code",
      "execution_count": 22,
      "metadata": {
        "id": "pk0vpIZXGJNJ",
        "colab": {
          "base_uri": "https://localhost:8080/"
        },
        "outputId": "cd57d9ae-2bf5-4af5-f79b-c95a26c9e15a"
      },
      "outputs": [
        {
          "output_type": "stream",
          "name": "stdout",
          "text": [
            "Epoch 1/10, Train Loss: 0.0032, Train Acc: 93.78%, Test Loss: 0.0035, Test Acc: 93.29%\n",
            "Epoch 2/10, Train Loss: 0.0022, Train Acc: 95.79%, Test Loss: 0.0024, Test Acc: 95.28%\n",
            "Epoch 3/10, Train Loss: 0.0020, Train Acc: 96.01%, Test Loss: 0.0023, Test Acc: 95.39%\n",
            "Epoch 4/10, Train Loss: 0.0015, Train Acc: 97.01%, Test Loss: 0.0019, Test Acc: 96.15%\n",
            "Epoch 5/10, Train Loss: 0.0014, Train Acc: 97.28%, Test Loss: 0.0018, Test Acc: 96.37%\n",
            "Epoch 6/10, Train Loss: 0.0013, Train Acc: 97.41%, Test Loss: 0.0019, Test Acc: 96.32%\n",
            "Epoch 7/10, Train Loss: 0.0009, Train Acc: 98.12%, Test Loss: 0.0015, Test Acc: 96.91%\n",
            "Epoch 8/10, Train Loss: 0.0009, Train Acc: 98.08%, Test Loss: 0.0015, Test Acc: 97.05%\n",
            "Epoch 9/10, Train Loss: 0.0008, Train Acc: 98.29%, Test Loss: 0.0016, Test Acc: 97.03%\n",
            "Epoch 10/10, Train Loss: 0.0009, Train Acc: 98.20%, Test Loss: 0.0017, Test Acc: 96.85%\n"
          ]
        }
      ],
      "source": [
        "myFFN = MyFFN(input_size = 28*28, num_classes = 26, hidden_sizes = [100, 100], act = torch.nn.ReLU())\n",
        "myFFN.create_FFN()\n",
        "myFFN = myFFN.to(device)\n",
        "\n",
        "num_epochs = 10\n",
        "for epoch in range(num_epochs):\n",
        "    for i, (x, y) in enumerate(train_loader):\n",
        "      x, y = x.to(device), y.to(device)\n",
        "      myFFN.update_SGDwithMomentum(x, y, learning_rate = 0.01)\n",
        "    train_acc = compute_acc(myFFN, train_loader)\n",
        "    train_loss = compute_loss(myFFN, train_loader)\n",
        "    test_acc = compute_acc(myFFN, test_loader)\n",
        "    test_loss = compute_loss(myFFN, test_loader)\n",
        "    print(f\"Epoch {epoch+1}/{num_epochs}, Train Loss: {train_loss:.4f}, Train Acc: {train_acc*100:.2f}%, Test Loss: {test_loss:.4f}, Test Acc: {test_acc*100:.2f}%\")\n"
      ]
    },
    {
      "cell_type": "markdown",
      "metadata": {
        "id": "I5XS8u6kdzOX"
      },
      "source": [
        "**(e)** Implement the function `updateAdagrad` in the class and train the model with this optimizer in `50` epochs. You can update the corresponding function in the `MyFNN` class.\n",
        "\n",
        "<div style=\"text-align: right\"><span style=\"color:red\">[2.5 points]</span></div>"
      ]
    },
    {
      "cell_type": "code",
      "execution_count": 23,
      "metadata": {
        "id": "-hqq9QLfd4HF",
        "colab": {
          "base_uri": "https://localhost:8080/"
        },
        "outputId": "6dcfb7dd-c2dc-4ed0-d38a-2088ff0637ff"
      },
      "outputs": [
        {
          "output_type": "stream",
          "name": "stdout",
          "text": [
            "Epoch 1/10, Train Loss: 0.0041, Train Acc: 92.15%, Test Loss: 0.0040, Test Acc: 92.21%\n",
            "Epoch 2/10, Train Loss: 0.0030, Train Acc: 94.26%, Test Loss: 0.0031, Test Acc: 94.04%\n",
            "Epoch 3/10, Train Loss: 0.0025, Train Acc: 95.26%, Test Loss: 0.0027, Test Acc: 94.76%\n",
            "Epoch 4/10, Train Loss: 0.0022, Train Acc: 95.79%, Test Loss: 0.0025, Test Acc: 95.14%\n",
            "Epoch 5/10, Train Loss: 0.0020, Train Acc: 96.24%, Test Loss: 0.0023, Test Acc: 95.58%\n",
            "Epoch 6/10, Train Loss: 0.0018, Train Acc: 96.45%, Test Loss: 0.0022, Test Acc: 95.78%\n",
            "Epoch 7/10, Train Loss: 0.0017, Train Acc: 96.75%, Test Loss: 0.0021, Test Acc: 95.82%\n",
            "Epoch 8/10, Train Loss: 0.0016, Train Acc: 97.00%, Test Loss: 0.0020, Test Acc: 96.04%\n",
            "Epoch 9/10, Train Loss: 0.0016, Train Acc: 97.00%, Test Loss: 0.0021, Test Acc: 95.87%\n",
            "Epoch 10/10, Train Loss: 0.0014, Train Acc: 97.32%, Test Loss: 0.0019, Test Acc: 96.19%\n"
          ]
        }
      ],
      "source": [
        "myFFN = MyFFN(input_size = 28*28, num_classes = 26, hidden_sizes = [100, 100], act = torch.nn.ReLU())\n",
        "myFFN.create_FFN()\n",
        "myFFN = myFFN.to(device)\n",
        "\n",
        "num_epochs = 10\n",
        "for epoch in range(num_epochs):\n",
        "    for i, (x, y) in enumerate(train_loader):\n",
        "      x, y = x.to(device), y.to(device)\n",
        "      myFFN.update_AdaGrad(x, y, learning_rate = 0.01)\n",
        "    train_acc = compute_acc(myFFN, train_loader)\n",
        "    train_loss = compute_loss(myFFN, train_loader)\n",
        "    test_acc = compute_acc(myFFN, test_loader)\n",
        "    test_loss = compute_loss(myFFN, test_loader)\n",
        "    print(f\"Epoch {epoch+1}/{num_epochs}, Train Loss: {train_loss:.4f}, Train Acc: {train_acc*100:.2f}%, Test Loss: {test_loss:.4f}, Test Acc: {test_acc*100:.2f}%\")\n"
      ]
    },
    {
      "cell_type": "code",
      "source": [
        "!jupyter nbconvert --to html ./A1_Part1.ipynb"
      ],
      "metadata": {
        "colab": {
          "base_uri": "https://localhost:8080/"
        },
        "id": "U7ImO7cpJnxM",
        "outputId": "7e6b068f-a9ab-46b1-db02-560e5faf923e"
      },
      "execution_count": 25,
      "outputs": [
        {
          "output_type": "stream",
          "name": "stdout",
          "text": [
            "[NbConvertApp] Converting notebook ./A1_Part1.ipynb to html\n",
            "[NbConvertApp] Writing 758675 bytes to A1_Part1.html\n"
          ]
        }
      ]
    }
  ],
  "metadata": {
    "colab": {
      "provenance": [],
      "gpuType": "T4",
      "include_colab_link": true
    },
    "kernelspec": {
      "display_name": "Python 3",
      "name": "python3"
    },
    "language_info": {
      "name": "python",
      "version": "3.12.3"
    },
    "accelerator": "GPU"
  },
  "nbformat": 4,
  "nbformat_minor": 0
}