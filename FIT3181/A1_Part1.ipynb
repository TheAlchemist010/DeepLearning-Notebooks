{
  "cells": [
    {
      "cell_type": "markdown",
      "metadata": {
        "id": "view-in-github",
        "colab_type": "text"
      },
      "source": [
        "<a href=\"https://colab.research.google.com/github/TheAlchemist010/DeepLearning-Notebooks/blob/main/FIT3181/A1_Part1.ipynb\" target=\"_parent\"><img src=\"https://colab.research.google.com/assets/colab-badge.svg\" alt=\"Open In Colab\"/></a>"
      ]
    },
    {
      "cell_type": "markdown",
      "metadata": {
        "id": "yBGe4m13MKhM"
      },
      "source": [
        "# <span style=\"color:#0b486b\">  FIT3181: Deep Learning (2024)</span>\n",
        "***\n",
        "*CE/Lecturer (Clayton):*  **Dr Trung Le** | trunglm@monash.edu <br/>\n",
        "*Lecturer (Clayton):* **Prof Dinh Phung** | dinh.phung@monash.edu <br/>\n",
        "*Lecturer (Malaysia):*  **Dr Arghya Pal** | arghya.pal@monash.edu <br/>\n",
        "*Lecturer (Malaysia):*  **Dr Lim Chern Hong** | lim.chernhong@monash.edu <br/>  <br/>\n",
        "*Head Tutor 3181:*  **Miss Vy Vo** |  \\[v.vo@monash.edu \\] <br/>\n",
        "*Head Tutor 5215:*  **Dr Van Nguyen** |  \\[van.nguyen1@monash.edu \\]\n",
        "\n",
        "<br/> <br/>\n",
        "Faculty of Information Technology, Monash University, Australia\n",
        "***"
      ]
    },
    {
      "cell_type": "markdown",
      "metadata": {
        "id": "-OL1yqeGMc1f"
      },
      "source": [
        "# <span style=\"color:#0b486b\">  Student Information</span>\n",
        "***\n",
        "Surname: **Gallagher**  <br/>\n",
        "Firstname: **Daniel**    <br/>\n",
        "Student ID: **33094969**    <br/>\n",
        "Email: **dgal0013@student.monash.edu**    <br/>\n",
        "Your tutorial time: **Monday 4-6PM**    <br/>\n",
        "***"
      ]
    },
    {
      "cell_type": "markdown",
      "metadata": {
        "id": "qcV5D0O8Miro"
      },
      "source": [
        "# <span style=\"color:#0b486b\">Deep Neural Networks</span>\n",
        "### Due: <span style=\"color:red\">11:55pm Sunday, 8 September 2024</span>  (Sunday)\n",
        "\n",
        "#### <span style=\"color:red\">Important note:</span> This is an **individual** assignment. It contributes **25%** to your final mark. Read the assignment instructions carefully."
      ]
    },
    {
      "cell_type": "markdown",
      "metadata": {
        "id": "psTfJNhSMy5Q"
      },
      "source": [
        "## <span style=\"color:#0b486b\">What to submit</span>\n",
        "\n",
        "This assignment is to be completed individually and submitted to Moodle unit site. **By the due date, you are required to submit one  <span style=\"color:red; font-weight:bold\">single zip file, named xxx_assignment01_solution.zip</span> where `xxx` is your student ID, to the corresponding Assignment (Dropbox) in Moodle**. You can use Google Colab to do Assigmnent 1 but you need to save it to an `*.ipynb` file to submit to the unit Moodle.\n",
        "\n",
        "**More importantly, if you use Google Colab to do this assignment, you need to first make a copy of this notebook on your Google drive**."
      ]
    },
    {
      "cell_type": "markdown",
      "metadata": {
        "id": "4qDsCuB0M4-y"
      },
      "source": [
        "***For example, if your student ID is <span style=\"color:red; font-weight:bold\">12356</span>, then gather all of your assignment solution to folder, create a zip file named <span style=\"color:red; font-weight:bold\">123456_assignment01_solution.zip</span> and submit this file.***"
      ]
    },
    {
      "cell_type": "markdown",
      "metadata": {
        "id": "5f1tbgtRM9XO"
      },
      "source": [
        "Within this zip folder, you **must** submit the following files:\n",
        "1.\t**Assignment01_solution.ipynb**:  this is your Python notebook solution source file.\n",
        "1.\t**Assignment01_output.html**: this is the output of your Python notebook solution *exported* in html format.\n",
        "1.\tAny **extra files or folder** needed to complete your assignment (e.g., images used in your answers)."
      ]
    },
    {
      "cell_type": "markdown",
      "metadata": {
        "id": "b3T3dilWNG29"
      },
      "source": [
        "Since the notebook is quite big to load and work together, one recommended option is to split solution into three parts and work on them seperately. In that case, replace **Assignment01_solution.ipynb** by three notebooks: **Assignment01_Part1_solution.ipynb**, **Assignment01_Part2_solution.ipynb** and **Assignment01_Part3_solution.ipynb**"
      ]
    },
    {
      "cell_type": "markdown",
      "metadata": {
        "id": "t9Krbduz1r69"
      },
      "source": [
        "**You can run your codes on Google Colab. In this case, you have to make a copy of your Google colab notebook including the traces and progresses of model training before submitting.**\n",
        "\n"
      ]
    },
    {
      "cell_type": "markdown",
      "metadata": {
        "id": "VwocRJxX2OF6"
      },
      "source": [
        "## <span style=\"color:#0b486b\">Part 1: Theory and Knowledge Questions</span>\n",
        "<div style=\"text-align: right\"><span style=\"color:red; font-weight:bold\">[Total marks for this part: 30 points]<span></div>"
      ]
    },
    {
      "cell_type": "markdown",
      "metadata": {
        "id": "N6leQY732VBH"
      },
      "source": [
        "The first part of this assignment is to demonstrate your knowledge in deep learning that you have acquired from the lectures and tutorials materials. Most of the contents in this assignment are drawn from **the lectures and tutorials from weeks 1 to 4**. Going through these materials before attempting this part is highly recommended."
      ]
    },
    {
      "cell_type": "markdown",
      "metadata": {
        "id": "2yaMzVZO2tr1"
      },
      "source": [
        "####  <span style=\"color:red\">**Question 1.1**</span> **Activation function plays an important role in modern Deep NNs. For each of the activation functions below, state its output range, find its derivative (show your steps), and plot the activation fuction and its derivative**\n",
        "\n",
        "<span style=\"color:red\">**(a)**</span> Exponential linear unit (ELU): $\\text{ELU}(x)=\\begin{cases}\n",
        "0.1\\left(\\exp(x)-1\\right) & \\text{if}\\,x\\leq0\\\\\n",
        "x & \\text{if}\\,x>0\n",
        "\\end{cases}$\n",
        "<div style=\"text-align: right\"><span style=\"color:red\">[1.5 points]</span></div>\n",
        "\n",
        "<span style=\"color:red\">**(b)**</span> Gaussian Error Linear Unit (GELU): $\\text{GELU}(x)=x\\Phi(x)$ where $\\Phi(x)$ is the `probability cummulative function` of the standard Gaussian distribution or $\\Phi(x) = \\mathbb{P}\\left(X\\leq x\\right)$ where $X \\sim N\\left(0,1\\right)$. In addition, the GELU activation fuction (the link for the [main paper](https://arxiv.org/pdf/1606.08415v5.pdf)) has been widely used in the state-of-the-art Vision for Transformers (e.g., here is the link for [the main ViT paper](https://arxiv.org/pdf/2010.11929v2.pdf)).\n",
        "<div style=\"text-align: right\"><span style=\"color:red\">[1.5 points]</span></div>"
      ]
    },
    {
      "cell_type": "markdown",
      "metadata": {
        "id": "WNNTutRH29Bw"
      },
      "source": [
        "*Write your answer here. You can add more cells if needed.*\n",
        "\n",
        "\n",
        "\n",
        "\n",
        "\n",
        "\n",
        "\n"
      ]
    },
    {
      "cell_type": "markdown",
      "metadata": {
        "id": "FdZLZAfnH8bf"
      },
      "source": [
        "####  <span style=\"color:red\">**Question 1.2:**</span> **Assume that we feed a data point $x$ with a ground-truth label $y=2$ to the feed-forward neural network with the `ReLU activation` function as shown in the following figure**\n"
      ]
    },
    {
      "cell_type": "markdown",
      "metadata": {
        "id": "s7Ppx5N6xC9f"
      },
      "source": [
        "![image.png](data:image/png;base64,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)"
      ]
    },
    {
      "cell_type": "markdown",
      "metadata": {
        "id": "C98SALK3of5D"
      },
      "source": [
        "<span style=\"color:red\">**(a)**</span>  What is the numerical value of the latent presentation $h^1(x)$?\n",
        "<div style=\"text-align: right\"><span style=\"color:red\">[1 point]</span></div>\n",
        "\n",
        "<span style=\"color:red\">**(b)**</span>  What is the numerical value of the latent presentation $h^2(x)$?\n",
        "<div style=\"text-align: right\"><span style=\"color:red\">[1 point]</span></div>\n",
        "\n",
        "<span style=\"color:red\">**(c)**</span>  What is the numerical value of the logit $h^3(x)$?\n",
        "<div style=\"text-align: right\"><span style=\"color:red\">[1 point]</span></div>\n",
        "\n",
        "\n",
        "<span style=\"color:red\">**(d)**</span>  What is the corresonding prediction probabilities $p(x)$?\n",
        "<div style=\"text-align: right\"><span style=\"color:red\">[1 point]</span></div>\n",
        "\n",
        "<span style=\"color:red\">**(e)**</span>  What is the predicted label $\\widehat{y}$? Is it a correct and an incorect prediction? Remind that $y=2$.\n",
        "<div style=\"text-align: right\"><span style=\"color:red\">[1 point]</span></div>\n",
        "\n",
        "\n",
        "<span style=\"color:red\">**(f)**</span>  What is the cross-entropy loss caused by the feed-forward neural network at $(x,y)$? Remind that $y=2$.\n",
        "<div style=\"text-align: right\"><span style=\"color:red\">[1 point]</span></div>\n",
        "\n",
        "<span style=\"color:red\">**(g)**</span>  Why is the cross-entropy loss caused by the feed-forward neural network at $(x,y)$ (i.e., $\\text{CE}(1_y, p(x))$) always non-negative? When does this $\\text{CE}(1_y, p(x))$ loss get the value $0$? Note that you need to answer this question for a general pair $(x,y)$ and a general feed-forward neural network with, for example $M=4$ classes?   \n",
        "<div style=\"text-align: right\"><span style=\"color:red\">[1 point]</span></div>\n",
        "\n",
        "\n",
        "*You must show both formulas and numerical results for earning full mark. Although it is optional, it is great if you show your PyTorch code for your computation.*"
      ]
    },
    {
      "cell_type": "markdown",
      "metadata": {
        "id": "2fFwOYCAotOt"
      },
      "source": [
        "####  <span style=\"color:red\">**Question 1.3:**</span>\n",
        "For **Question 1.3**, you have two options:\n",
        "* **(1)** *perform the forward, backward propagation, and SGD update for `one mini-batch`* (**10 points**), or\n",
        "* **(2)** *manually implement a feed-forward neural network* that can work on real tabular datasets (**20 points**).\n",
        "\n",
        "You can choose either **(1)** or **(2)** to proceed.   "
      ]
    },
    {
      "cell_type": "markdown",
      "metadata": {
        "id": "_QTwUZrbW9xa"
      },
      "source": [
        "### <span style=\"color:red\">**Option 1**</span>\n",
        "<div style=\"text-align: right\"><span style=\"color:red; font-weight:bold\">[Total marks for this option: 10 points]<span></div>"
      ]
    },
    {
      "cell_type": "markdown",
      "metadata": {
        "id": "ptEOrYUlXA9S"
      },
      "source": [
        "**Assume that we are constructing a multilayered feed-forward neural network for a classification problem with three classes where the model parameters will be generated randomly using your student ID. The architecture of this network is $3 (Input)\\rightarrow 5(ELU) \\rightarrow 3(Output)$ as shown in the following figure. Note that the ELU has the same formula as the one in Q1.1.**\n"
      ]
    },
    {
      "cell_type": "markdown",
      "metadata": {
        "id": "0RFVuuZCXNoX"
      },
      "source": [
        "We feed a batch $X$ with the labels $Y$ as shown in the figure. Answer the following questions."
      ]
    },
    {
      "cell_type": "markdown",
      "metadata": {
        "id": "EqiROIklpO6o"
      },
      "source": [
        "![image.png](data:image/png;base64,iVBORw0KGgoAAAANSUhEUgAAAo0AAAD2CAYAAACz171mAAAAAXNSR0IArs4c6QAAAARnQU1BAACxjwv8YQUAAAAJcEhZcwAADsMAAA7DAcdvqGQAAGTUSURBVHhe7Z0JvBXFmbfLXUdEQEYBNSqgxgEDKioquBCVRHFJXEDNOC6MimY07gswDHHFNc7nPm7JRMAtrhgRxw00iIqoOG6gRhHUoILLuETlu0/dfq9F0+d0n/Wec+7/+f369t5dXdX31L/f962q5ZY04YQQQgghhMjD8tFcCCGEEEKInEg0CiGEEEKIVCQahRBCCCFEKhKNQgghhBAiFYlGIYQQQgiRikSjEEIIIYRIRaJRCCGEEEKkItEohBBCCCFSkWgUQgghhBCpSDQKIYQQQohUJBqFEEIIIUQqEo1CCCGEECIViUYhhBBCCJGKRKMQQgghhEhFolEIUVFeeOEFt9xyy7mf/exn0ZZkOnXq5I8TQghRm0g0CiGWYtq0aV68IeJCTPyFwm7YsGF+/YEHHoi2LMtnn30WLeXnk08+iZZEFq699lq39dZbt5RJz5493bHHHus++uij6AghhCgvEo2i5sAiRSVIpShaj7iIyyr+ROVBHB5zzDHu2WefjbY4N3fuXHf11Ve7jTfe2L355pvR1mzYh0KaNbgULrzwQn8P5kKI+kSiUdQsixcvjpaqjwlXKlORm4kTJ7olS5a4PfbYI9oiKg15jjiEa665xuc/04QJE1zHjh292L/44ov9fiGEKCcSjUKIojH3dGgVxo1tblNcpk899VS05wdwodq5uMFzWZUR7aELlnNC9yvnIvBxj3MvjuF40tCoXHLJJX4+YsQId/TRR/tlIG/OOOMMv4ywhCQLYnwblr+BAwf65cmTJ7fkM1gZkZ/2IUWe2/UhyYIY38a5p59+ul9mzj55EoSoPyQaRc1jsXRUQEzWYCKLgGAeCoh4ZQbxbSxTeQKVKeuNLELywbPbZMIiZNGiRX5uVmHKY5dddmlxm+IyNbEQcsghh7hbb73VL2MZw9UahzznnqELlnNCAcS5M2bMcHvuuae/F3D8fvvt55cbEcuPIUOG+HnI9ttv7+flig+18qVM7X+Cax900EGywgvRBpFoFDWPxdJdcMEFXoBYhYiAGD16tF+GJAHBnApPjQOqwx133OHLoUePHj7vFy5c6C1iIYhBEyBTp071rlXcrHHMEjVu3Dh/DNcaPHiwF02hiOd+3IP9XA+s/BuZ9u3bR0vJZH3nTzvttJZ8I3/J69CSCNtss01Lefbr189vGz9+vJ9n4cEHH/TlCFaeoZVUCFEfSDSKugFxYDFcVgHFA/455qyzzvKV26xZs1pivKZMmRIdkQ7Xp/IEEzV9+vTx620Nnt0mExb5MIvjUUcd5bp37+7WWmstd/DBB/tthn0EkMcDBgzwy0kCwsrW3JmdO3duEZvvvfeenxvcg3vZ9aCtWocN8qNcDBo0qKU8DzjgAL+t0MY2Qoj6R6JR1BUmLswNh2Uxzs9//nNfuSH0sJDAO++84+ei7dCorb2x4sKf//xnPw+xbXaMEEKUE4lGUddgRRS1x3XXXefdo0y53JhYDc0amNQookOHDn5u7sxwasuttYcOHern55133lJuZPKQbYClN8TyOl95gLm0467tRx55xFsW2U7ZwlZbbeXnhpU5x91+++3R1mUJ41+FEPWFRKNoOLC2UCGFsXO9e/f2cyNrBffpp5+qciuA/fff38+Jf8OdzGTdwxi4kM0S1rdvX+96TmoIc+ihh/q5uafDqS1z0kkntcQV0iDF8sTykH3EKQJ5TYgGkNdJ5QFrrLGGnxMvyrVoqBTC/xFlxvkWL3rkkUf6uYVyWJlzXNh4yVhzzTX9HGHLPW644Qa/LoSoHyQaRcNBpUTlRSUJVGJmmcpawZmVi0Y1HNcWW4qa2DBMWIRYPpkgIO5t0qRJLaIQAUMsZPxad955Z0tZcCyxqmZBMygzrmUCKQm7bpi2pG2NBKEXNCyh8Y/lM5BPWGWfeeaZaEszf/zjH1PLg1AOYoGNX/ziF9FSM5RNWF6UC2UNnMt97Zocy/44fFDYNTjWQkyEEHXEEiFqjKaKZQmvZpOQ8OuzZs3y600VjV+HpG2sMzVVfkuaKja/zLU4NqSpgvPnsb+pglvSVMH5ZbYbnGPXYL5w4cJojxBtB/tfDP83hBBtl+X40/SjIETdY25LLClhK1ohRHHQJyauaSyJ5vIWQrRd5J4WQgiRSDz8QAjRtpGlUTQMjAhDa2r6Z2yr/SoKIYQQlUKiUQghhBBCpCL3tBBCCCGESEWiUQghhBBCpCLRKIQQQgghUpFoFEIIIYQQqUg0CiGEEEKIVCQahRB5mThxou84nXG66wXS27Nnz2itsTn22GPr5lkpl3Cqp3dKCCHRKGqceqoQRetjAlfUHowuM2HCBIau9RPjUNuY2EKI+kCiUQjREGC1Ouigg7wwGTFiRLRV1AoPPvigGzZsWLTm3KhRo/x82rRpfi6EqH0kGoUQJWHWPZsuvPDCaE+zdYkpBJHAcaFYCM+PW5a5PtvC+yTRvXt3b8EKhYlottaH+RvP97C8gPUwj628bOJ6IazbxP54eeeiW7du0ZIQol6QaBR1TakVItap8Px4hVdshdhWQMjdfPPNLS7HqVOnutNPP72lHA477DA3efLkpWLXnnrqKe+WHDBggF8nX8eNG9dyjd13330Z4Th37lxvmbJjRDZ4bzfccMOWfCOfBw4cGO113iJ73XXXRWvNPPLIIy2WWsqR4ylXu8ZDDz3krxty9dVX+zn7sShm4Y477vBzew+EELWPRKOoW0qtEBEyiJcwzgriwrCYCrGtgFUvzBMTAPPmzfNzs/rNmDHDz4EyOeqoo/wyopMyOO200/w6nHLKKV4khh8AgFgRhXHVVVctlbfbb7+9n5uIP/jgg31e2zpzRD7bYfz48f7/JRR255xzTsv/hEEZcq9C4OPC/heFEPWBRKOoW0qtELF0EIwfj7OKW8aKqRDbEma9tSkOwgBrJCAEKZP999/frz/xxBN+PTyf/E4C97MoHD6CLG/DjypADJLfZvVjzrqJRIQ6AjEsH+JG4xTaWI006f9KiPpDolHUNaVUiFgdEYhhhRi/Bqj1dm4QjFiMEH6htTYEkW5CHNc0Qj0UgKzbueEUWrdEcfD/MWfOnJY8xc0cB6uvWeT5nzArsBGGDoRTseAh4H2Q5ViI+kOiUdQt5agQsYKFFaFNsmplw9z9+fLLxB+inbIYNGiQXwfCCxAQojKQt7iT84GFHtFPqADHm8Ue+GCijMsFHxlYLrmf/seEqD8kGkXdUmqFSKUla0dpxPMQIZ8EwtIskuaaBgsvCBtWYJGUdbc8YFknBMBIsqSbRR63c2iJBwvX4P/HYDneECYLnMc7wMedBKMQ9YlEo6hbSq0QrcFF2MKamLtcwqetst566/k5+Re68skri0mzbYgBjotjcaRx1zRg2Q3j5jgfC3KhIDbtGmbNsvUwRrXRwFobPqtNEI9JxNWchFng45Z4/l8Qefz/2DWITy0mFtH6ZeT/1K7FpA8EIeqIph9sIWqWpkqO4KllJmiqKJfaZseyPcS2M48Tv0aTYIn2NDNixIglTUInWhPFYvk8YcKEaIuoJSgXyif+vyOEECHL8afpx0KIhgW3GJaSpgpRbrFWwhrM6OemNjHrurqUEkLkQ6JRNDyqEFsfXJB02q0uVmoPXPeEBNBfadj9lBBCxJFoFA2NKkQhhBCiPEg0CiGEEEKIVNR6WgghhBBCpCLRKIQQQgghUpFoFEIIIYRoRYi/J+6+U6dOvv9SGnB+9NFH0d7aQaJRCFF2+LGjmx01PqpNKB9GdbEKauTIkdEe0dosWrQoWsrG22+/HS2Jemb+/Pm+W7g33njDzxnggKFXaw2JRiFEWXnhhRfc6NGjfWVWaAUoqsMNN9zg5x9//LGbNGmSO++88/wIP7mgHB977LHMAoXjGTlGZIc8O/HEE93hhx+e+f+G48aOHVvQObVM/GOmmOEqawEbWeyBBx6ItjR3/cYz5fqQZvSlZ555xq211lq+P+GOHTu6NddcM9q7LEn3yAd5y/HhkKAh5DUf+qnWTVpPC9HazJo1y4/GwivJKCwLFy6M9oh6ZerUqZlG03n00UeX7Lzzzks++eSTaEt+nn/++SX77ruvn4tk+D9iuuaaa6It+eFY/geTIJ8pn8suuyxzGQHHd+jQwZevyA/52rdv3yU33XRTtKUw7rrrriUbbrhhQeVTi/B7wcTvPyN4JY3iVeswulK/fv2WGV2JZ8ryP2nPTj2Yi1z3SINrc91c1yZtXDdf/SvRKGqCpq+qJZMmTfIvK+Ix7R/rrbfeKkg0qOIqH/yo8+M3dOjQaEsyaaKRCu6www7zU6GVHeVPJTtmzJhoiwjhfymfEAzh2FyVCP9jiBFESTFwPumQwM8P/wO/+c1vorXi4BqI+3qF34u0d5Z6guNqFdJGGnOJrrTnszzgGrmMJ2n3yAK/3WeddVa0tjQmHHMh0SgqTprIsH8Cg6+sXGIDccGPa6GWJr7gqfyK/ZIXP8CPFeWZJuwp13yiEcFHORZrHeG8UgRNIxP/n8oFFVi+MkKElCrM+Z/D4iiSMWHNh1Ap8P9Qjuu0FtQP+d5Z6gWerxSxVGkweOSyjpogzAIWRIRb0rXy3SMrXJ+05LJUcg+smUkoplFUnFtuucXPd9llFz+P8/LLL7ttttkmWnOud+/e0dKyELsDTRWR69u3r1/OQtNXuGv6cXaXX365Yq1KhJgb6N+/v58XA7FxlEWTIHFNgiLaWhicx/n2TogfeOqpp5b6n0qC2FPGA7f/zzh33323axKV/n+nFJo+DPy83v7v/rb4S/e/734crRUG8WYMnUlsHjFixJ2xTkxbPKaMfOa3rOkDKNryA5QR12CidS1wPuvx6/D/0CTyfYxjtSB9W2+9tX8uJp4xni7W7dmT0k3+sO/WW291TcK35TohbONdhc6dO/t1rkOeWKwgeU56bN3iIYnTszxkf5xrr722JX2cy/FhwzDSZ89o8YNch3PCmEu2NYkwt//++0dblob/yaYPtKXSyL0M0k+8I/cjltF+Z0Py3YN99pxp7woxk02itCW2OU6TgHeXXHJJtBYjEo9CVBRetVxm+bhlMZeFihipUuN2+AonLfX6NV4LZP1iplz5Yk2yDGC9wr1cDrBiyYK8NPz/kP+4nikDLDgsG5RJGLuEVYFyDcnn7uR/mWsymbWCa7CeZKHAosxUT7z7t8+WXHbv80v++PirS15+56Noazrkh7kW+T/BDWhW+SRrGvlCXidh1+EcrkEZ5QolALww/Ebmw/5/s0xpkC5zc5JOni98z9jHMfZu8QxcN6kuSLOg8U7Hn5372bvMPu7HOnPuY/8DVhbx6+dKX/wZOJ/72/1YZh5iv3e5sPPjaTTYxjOwjcnKPiTfPez4rO8K98/lhub5SUP8/iDRKCqO/Ujlgv286Ab/GPyDxeHHsFRXGfADnetHWqRj5WOuTco2/mNsP3w2xfdTlrliuBAdnBP+oNkPbJI7BWFTb4Kk0pBXVBgmVsjL8H8qrJxssorTyFdGhVZQ/N/Wm4vaRKNNxYhH8jV891lmW0i+fDYQG5Rf0u9iSLXzmfLPVe78PvCs8Y8Ittl7afAusT0Ua3GSrmWQjvAjyPI5vE983convKbVVUm/M5yLYKMMkvZbGeWC64a/aaQxn8hMIu0ekPVdSXoXDcuH+G8CyD0tKk6aWX6zzTbzc0zomOZvv/32ZVxi1t1HfDtkdR8YO+20k3cJVQuei7SRRgP3B9vMjVBPPPLII94Vdtttt3nXZpOga3EdGU2/LUtNp512WrSnGcqyT58+0doPkB/vvPOOa/qxcs8++6wvR96VzTff3F8Ht0ocXHtNFVS0JnBzQVNF6o4++mi/bN14GFddddUyZUSXH1nhfK65++67u7vuusudc845flsueF/qvUsY3NUPzXrH3fLEa5nc1q+++qovgyOPPDLakgz5kq9rFSC0Z/LkyXnzGKqdz3/84x/97xu/tfbeGfw+8PxhFzP8P8P666/v58bTTz/t5z/+8Y/9PI5d2+qKEH4zcGvjljeX7uLFi12TIGt5/+13NgypwTXLMWH6CJViW9LvDOc2iUVfByXtz5fv9tyXXXaZn8PMmTP9/08hZCnbrO9KsUg0ioqTJjL4R+cFR+ARr8I/UrwvK0RB0xd5YtzPpZde6h588EEvTP/whz94Ecn1+SFK+sdBZPDPlyY0EHVZpviPZUgxIqjW4QeJH89zzz3Xlx0VHj+0Wcn3w0d+IDARMFQ4559/vq8AcvVtJpaFio+8O+mkk6Itzs2YMcPtuOOO0Vo2KKdyiZk0/vLaAve7+2bV1HTHX+ZEqVsaE4+Pv/ye+/rv30Vbl+XJJ5/0v2UmZACh0K9fv2gtO/wPlAt+r5J+x5KmNPbYYw/fGTXPNHDgwBZxBM8999wycbWvvPKKn8fFIXmVS6yBvdNJH5q820BajIceesjH5RkcEz+f9MXLgg+gXELus88+i5YKZ/r06f7+4YcZaSz0fzIL5XxXEmmquISoKLxmpZrlcSenxcCluQ8Ma2VY7Va3TT8aLTEt9Yq5nEK3Bc+UzzUZx/I/LQ6R62Z5T7LEcbUlyDcmw8os3/9EErg508JBzMWVdm3ikTmunoi7p226/ck3lsyc++GSr775NjoyGX6HyB+DPCIP4i5Wftfyhcvwv2bhGbncswb/C+WKFU6D5wvhfzV8XvbHf+uoB+LnAdvCdzYO+5LOA357wvolydUd/58Arheml7zNlcdck+OZcv3W5UtjfF+x/5P57gGFvCv2v5sE12Ff+DtvyNIoKkq5zPJZSHMfxMli6i8nPDPWRix09Uo5vpixOkNa/mctH46za4rm8thyyy2jteYyy2fFyQUW+dByFAeLlVk1zNqTC67D9eqZ9dZq53bqta7ba+uN3Bbd/9GtstIK0Z5ksMDyWwd4HJoqfG/ZilvNafGc610n33D985vRJBZ8WA3bcg37SNhHkjem3JAGns+8LMz57f3Rj37k14H3jRbRPDveHzxJHNMkVqIjfoBrhe9sHPKHawCtnZkM3vewPkmyZnI+/wPxvCMUCsJ3uX379v76FurEfQ855BBvTR80aJC/H88UL0fSn+v/gN99zjX4nwQs+aTHni2NfPco9F3heeOWVuPTTz/186RwAFkaRUXB+oeFLYT1tK+gOFmsSfZ1lHZta0GdZmnkmCxT0tdYEnwhZrGc1TLl+mJOs67wFWxfzGnXztf6tK1BXsXfSSsz9hVi5eZ/DmtjEpS7vQfMuQfbcl2fxkppjT1qDbM0ZrUshthvkb3D/OaxbA01Qhh4gGPiPTrwW4EFzc6xFq3kd9J1sOBTXtXwoPAuUeY8F2mKWxmBNHIM+5nsHYljeZXvd5Rnt3th6bPnZ8620KpIOuJ1jpVDeC5p4TgmSzv5zbo1mOF41i3dPDfrPG/8WVjnHvHfK/ufDNOY7zr5yHWPQt8V4Phc/69sZ38SEo2ioliFZeR66dNIaxXIPwb3YcrlPjBy/UhXkkJEUC0Trxz4ceWZyP9clWIS+QQJot9+zLg292Bb0sdANSvKeoA8svIwslQgSVgYQalixj7S6m1UpsVffF2wWDR4Z8PfvTT4iCq1ZwjOz9VFUi3D70n8na1X4r+PlaAc9zAhm6su4h65jC8SjaKilEtk5BN6XIMfaP4BuBf3ZBnBmoSNiVstChFBtYz90JTji9kESTiqj10/FP0mtC3/4hAXiQWa64nygwW31O6M+EBoa10i8duT9vEaUqqw5v+I/4N6E+ZAXuWyatUbWEv5PaykAC7HPagvc/2mUofmKw+JRlExyikygB9FBF9IIe4Do1ruzGJEUFsiS8hBPmRlrDzkMVaw+P9dVjiP89uaqI9/LGfBhF8hbnzyleOxMNajYDTPU1hH1DsYAxBd/P5XimLvgdCkPsr1QYNBI/QiJCHRKOoGxEGpFkJ+WLlGaOESrYdVeIWGClCOpYgZURiUE/ldSDnZx1lbE4z2sUjlW+iHMfA7lzXPOI7/hXrMY0Q1H/iFiut6AGsg1rxKiuFC72EeuVweLoQkZZFmwVyOP00vuBB1AeMM00Kw6Ycy2pIdzqNfuTFjxpQ8nq4oH00Vqx+HukkAZmoFbcefcMIJdd8it94opKW6WrUL0XhINIq643e/+537/e9/70UG3VVkwc5BMO67777RViGEEEJkRaJR1C2F9Elm/aDJ8iGEEEIUh0SjEEIIIYRIRSPCCCGEEEKIVCQahRBCCCFEKhKNQgghhBAiFYlGIYQQQgiRikSjEEIIIYRIRaJRCCGEEEKkItEohBBCCCFSkWgUQgghhBCpSDQKIYQQQohUJBqFEEIIIUQqEo1CCCGEECIVjT0thKg5Fi9e7O6//3731ltvuXfeecdvW3/99V337t3dkCFD3Jprrum3CSGEqB4SjUKImuKhhx5yt956q+vdu7dba621/AQfffSR+9vf/ub+93//1x144IFu8ODBfrsQQojqINEohKgZpkyZ4kXj1ltv7dZee+1o69J8+OGHbsaMGV407rbbbtFWIYQQlUYxjUKImgBX9E033eT69++fUzAC+7bbbjt/LOcIIYSoDhKNQoia4LHHHnMbbbRRizs6HxzDsZwjhBCiOkg0CiGqyv/93//5uMQ4r7/+utt8882jtXQ4Nuk6QgghKoNiGoUQVee1115zd999t3vhhRfcuuuu67e99957bvjw4W755bN9y3777bfuxhtvdB06dPDu6q222sptuOGG7h/+4R+iI4QQQpQTiUYhRNV58MEH3cMPP+wWLFjg7Cdo9dVXdz//+c9dp06d/Hoa77//vps+fbpbuHChX+/SpYubP3+++8d//Ef3T//0T+5HP/qRn2+wwQZ+vxBCiNKQaBRCVAVcyUzPPfec+/77790qq6zi3n77bW8xXGmlldwOO+zg+2TcddddozPyQ0vrHj16uGHDhrnRo0e7b775xrVr1863vCbmkWtxv7/+9a+uX79+LSKSSQghROFINAohKkYoFIllpGX0l19+6WbNmuVWXHFF9/nnn3vBOHDgQLftttu6kSNHuv322y+1MQx9Nt55553u3HPP9Q1i4NJLL/Uubq6Li/tnP/uZ22mnnfy+Z5991gvUV1991afHLJCbbbaZX5ZLWwgh0pFoFEKUFSx7zzzzTItQRBBi/fviiy/cf//3f7uVV17Zfffdd96NjFB85ZVX3NChQ71wy9pP49NPP+1FYbyfxjvuuMNNnTrV9+E4efJkf4+jjz7az0MQkXQUzr0RkYB4lDVSCCFyI9EohCiZUCgixhB0CD+seYgyYhjZvs022/hucthP/CKiku1h3KGNCNOrVy/XuXPnpUaEIX5x9uzZfkQYrpEEghCr46hRo3y6uDci8Je//OUy4tGwkWbiLm2OVwMbIYRoRqJRCFEUcaGIK3jHHXf0QguBhSDEhYyIQ+ARc/jII4+4f/7nf/aCLB+MPX3ffff5zrvfffddv42xp3FF77XXXqljT5O2s88+27u6Ead//vOfvZWTZbZlEYBxlzbPFVoj1cBGCNHWkGgUQmQmTShCKBZxTe+8885+HQF20kkn5bT2lRvSgXBE4CFUAeGIgEQ82ras8Ow8gxrYCCHaKhKNQoi8IA4ff/zxvELRQExde+21fl8o1LDKZbXwlRtc1aSbFtbcn+U//elPXvySRmssUwxxa6RZINXARgjRiNSdaHxs4Wy36O9fRGvN7Ny5t+uw0urRmqglZi1+y739fx9Ga82ovGqfQoQiIJgQh/S1SOwggskEpMUvtiakjfQcc8wxLW5lLIXEOyL6SGMp4tFARJJfamAjhGhE6k40Hv78/3M3v/OI27frti3C44TuQ1zfNZu73SiWuV+870546XrXddVO7r/6HhttrQ7c+4I3/uQF8ZwvFvhte66zlbt88+Gux+pd/Hqt8K+zrnKvfz7fPT7gnGhLfiirxz962S8jIJlu2uLf3GE/GuS3idohLhRpyIKYyiUUIR63iPDiWFzACLIs8YvVgjRec8013kUeijfEI9ZI0l0u8WiQj4hHNbARQjQCdSsan9/50pKFojHm1Qnu0rn3us+//coN32C3qovGrR472b3+xXz3u95HuiM32NWn57ev3eaF4/39R0VHtS43/PVhL2wRtVuu2d09t/Ml0Z7s/MerE93Y126VaKwhEH0IxSeeeMIvI6bShCLkEotsx6pX7fjFrCDawgYyIeQDbmvSnNRNT7mIu7S5T2iNVAMbIUSt0uZF44mzb/RiEaG43D2/aDXRuGWHHkvdd+OHj3XtV1ytKHFWbhCMdy2Y7i2fBz5zkd8m0Vi/xIUiIgXhl9XqhehBGMbFFYIMSx7Cp7XiF7OA9Q/LIulMagxjVlL25+ump1wgHEmTGtgIIWodWRoDWks0JoGQhFoQjSGlpEuisfUoVSgCgsbiFhFboUWMfbUSv5iVc85pDrGgP8ckwm56ksRlJYlbIxGO5DcNbJhXWsgKIUQSEo0BtSIan/joZbfTtFHu4l6HuZN77hNtrQ0kGuuHJKFIYxYESCFWQCxfWN5obZzk1q3F+MWsWAOZfK50xDD52Bri0UBEYo1s7QY29J95//33+/4zsYwC/Wd2797dDRkyJLX/TCFEfSPRGFArohHX9KbtutVMPGOIRGNtgzhE3CHiShGKwPlJcYsG+xFdiJlKxgBWGkQvzxlvIBPCM5arm55yQHoQj9VsYGMj9fTu3duP0hOO1GPpYaQehnAUQjQmDSUaEX1ZuL7vcb7BSZxaEI1Dpje7zGpRMIJEY+0RF4oIBxvvuRjhYNdDJCE6EUlxQVgv8YtZ4XnOPPNM/6z53OtmdS1nNz3lopINbLKOCT5jxgwvGuNjggshGgNZGgNaWzTWumAEicbaAGGHMMBCVg6haHDNXHGLBsfUW/xiFkwIY6nbf//9o63JWB6Q14jmWnTLk0aeifG6zb2d1sCGd8lc8Qau6JEjR/rnNOtiLrA68k6ee+65fshHIURjIdEY0JqikVbc97//rHtj16uiLc0CrRhxVkkkGlsPE4pYuhAA5RKKgLigsue6+Sxo9Ry/mAXymJbVkKuBTAgCK59Ftpaw9ydXAxssiFgLEYlfffWVfx646aab3Jw5czJbD7FK9uzZ0x1++OHRFiFEoyDRGEEH2z0fHuGGrTvATejXLIyqxZ8WTHf/MvNyN2vny1o686YxzJ7Tz3Gf7TnBr9cKxFtCKG6zItFYOFbR05gFYVdOoQhcP1/cosFxjRC/mJUsDWRCqt1NT7lIamCzxhpruA8++MB169bNXXzxxd5t36dPH9elS7aBBt5//333wgsvuPPPPz/aIoRoFNq8aESwnfva7b5zbfprhJ6rd3X9OvSomnjEejdz8ZvR2tIs2eeuaKl1IY0Lvv7ELfjqE7/eddWOrusqHQuyOEo0ZiNJKOIyzSXoioF7YCXLInTMbctxjRC/mBVrIMOY1VnjATkHwdmaLa2zQPl/8cUXfo5otGViWd988033zTffREc2M3z4cLf88stHa/n59ttv3Y033ujGjx8fbRFCNAqyNIqqIdGYGyps3IaIuEoJRQNBmha3aHBsa8UvPvzww96NSn689957bt111/Vp/fGPf+x23XXZhmyVgOenP0esq1kbvVCW5G81u+nhnoAAZLJl4hmBPEQYgu0H3jP7WGjXrp2bN2+efw8RfkanTp3coEGD/DwLsjQK0bhINIqqIdG4NCYUp06d6sVJJYUicA+Lh8zSeOOOO+7waUP0VDN+EUvXH/7wB/f3v//d9wFI44uOHTu6Tz75xDe0oJuZlVde2R166KG+f8BKg+AizpGwgLQGMiGcR34X200P70coAG0ZIWj7EIK2HUwAhmKwc+fOfpl3ig8FWw7h3Xjsscfcyy+/7L7++mv35ZdfOqqG9u3bu2222caXSVahTkxjjx493BFHHBFtEUI0ChKNompINFZfKAL3zBK3aHB8a8Uvzp07140ZM8Ztv/32ia17DfLuqaeecmPHjvUCpdKQJ4U0kAkx8YjwQnhuvvnmLYKP68ZFIMtmFUTkUVaUgS0jAsNtVj6Fvj/c54EHHnDPPfecvw7pwrL77rvvus8++8yttNJKXihuu+22aj0thPBINIqq0VZFI5VztYUimCjgvlgKs8QjInBaM37xjDPO8CJw4403jrbk5o033vAi84ILLoi2VB7ENGVIAxmEFiD2zNrHPO4SNhH43XffebfvCius4Lu9wd1O/sZFIMs2Lzf2LloYBOXMhwTbaAVOvtMoZvfdd/d5i4WUdGXtp/Hpp5/211M/jUI0JhKNomq0JdGYSygi3swyVEm4Z9a4RYNzqhW/SP7gtg1dtvfee6978cUX3YABA6It6UybNs395Cc/cXvvvXe0pTRIVygAbRkhyDL758+f74fTW2WVVXzjEMrTypQ5IhDIcxOWbDcR2Brd9JB27sv7yP3sowX4SGA/I73QObe9L4jKMCzBRoTp1auXf8ZwRBjyZ/bs2X5EGN4fIURjItEoqkZriMZqNqYwoYi7jwqaodyqKRQB4YcgASrvrLGI1Y5fxFWOC/S//uu/vEAlrfQHiBApxN2MNQwLF93CJEGZmLUPYWTL+VzCVlbMbTkeF/jxxx+7iy66yFsci80va52NeOP5y/2O8Ey8j3w8sGxdNdkHhIlX7k1r6UceecQ/j+3nnLi1E7F83333+b4ccWMDcae4ovfaay+NPS1EgyPRKKpGNUVjtRpTWMUcCkUEaVg5VwPSUUjcosF5WJqYFxu/yLlg4gsQYxBuM7ct6wh4xB7C0X6CVlxxRXfAAQf4fgKzwvkTJkzwz4rb1K7FPUwEmquXZ7PlcriE+RAppoFMnHJ308OHQ/zDJXwfKBsTktyP4+neKWuflEKItotEo6ga1RKNlW5MQWVbC0IRSEuxYhHhfMUVV/jRQLC6IsAgl9CLC0ETZSzHRZeJj3CbuW05fsGCBT52btGiRV7o4eZdddVV3dChQ30DjKyQZqxlfBDQ1QsfB3wUMCIJ1i86pK6kpZdnOfvss/1zFtpAJoTrIOR4n4oRj5xv449TTrwLSe9jaF3kXWGdc0i7BKMQIg2JRlE1qiUaK9GYgkq5tYUiaQATbVhTiTHDJUgL19VWW83vo7sU4JhcQu/777/3XavQN5/1v5dP6LEe7gdbt2NzwX3N+kUeAmKObTQOYT9i8fXXX/fWwkLyk7LDVXzqqad6yx8CiHsQ59ihQ4elRjrhAyLfuMulQCwo96Uj8LT8yIc9Q9Zueixf+WigPBCDPFs8DVyXjwvymuuSx1g4ZWEUQhSCRGMCN/z1YTf9k9dbZQzqLNR6+v511lWuf8dN3JEbLB0zWA3RWM7GFFSwJhStUi5UKHINCEVb0jaEXr79IbjV2Y51Dtc6AsGEHsLRRB3rodCz4yZOnOg7X0Y8VCp+ETFjgoa0Wt5hCaRBBaKVfETUfv755170UXakC3dvVpLKDoGEyx3MokYaEGJYV0kXx/Ds5RSRxIUi+AoZQSYXoQC2ZzB4Fj5cEHwsk1/szyX8EIdcy67DeyDBKIQohoYUjYwjfcJL17uuq3ZKFVYInOv/OiVa+4HhG+xWEVHG/Sa+N9UPWchwheN6Hep+2bV/tHdZaj19uYZAvL7vca0iGi+88MKSG1PMnDnTzZo1y8+xVlnjGQQXlTQkCT0Td+GyEYo25uG2UOhRgcf32z6uSeWPYKA7HBMAWSFdpcYv5oJrmkhEnHFthNiOO+7olxE/uEV5BraRdpYRR6FlDCsxQniTTTbx6/nAMknZjRs3LtqyNAh9XL7cP+l52U+6aChF2kkH5Yy7PkxTIXAdRpAppYFMCNfDiklayDfCBewDBtHPPFc6k6yLgLilnEq1igoh2h4NJxrHvDrBXTr3Xi96sggrE2XVGOPZBNnvtzzB9Wm/oTvi+SuaBNdcN6n/KLfjWr2io5am1tOHaIQsY1BXQzSOGDHC7bHHHkU1plhuueX8OnP60sN1y4gYoXizStaEXrjdxF18uVSo9IuJWwxBQNBoAyFTjv4XSROCy4Qi64gSGl3gujeBwn6ELvdPSjvnheuViEc1SxvXyzfGNtcknXGXNiKS58mXnhDLa5631K6LyB/62uRD4dNPP/Vu/eOOO85bSHPBORarGM9zRDTPJsEohCiGhhKNJ86+0YtFhOJy9/yi5kTjGpMOckPW6ecm9GsWWk989LLbadqovOms9fTVomhEGBTamOK2227zQpGuR7BUUvEiHhEKlYqDS4M0YLXDQpfLWpYFs7iRLwiIYiE9CA6zJoZxnXGLlx1XjNC1lu+UBXkfb/lOVy+Ub6Et38NWyqQpLS9xnfMcxbi0ySsayHAPrI6FwLkIchPb3If0IlzTnoHj2Q/x96VccZdCiLZLw8Y01ppoJA5x+Kwrl3Hbdpt8hOu6SsecoqvW01dropG+80ppTEGF+z//8z/eUogoohUujTXiLkwaiNhyJeBepIV0hK7FQkB8mIUSAZFP5CRh4sUEICKKa2BNRCgmCQ9EC7FypVhFjUr1sRkKL/K2EHiuQlzaWBzJtyxCjeOwEMY74E46L/4MYVnH8519HMv1EbDFlocQQkg0RqIM9yuWtXYrruqGrTsw9bxCwQr6u7n3LSPK0kRXraeP/Qu+/sStvsKqbs4XC1zXVTu6k3vs407uuU90xA9UqyFMqY0pEANU9rS+ZvQPKnBrbEClTOWLCxMxw3I5G1RwTSp/5lT+xbo3EQoWv1iIUOB4hIuJRJ49lzUxhGOxjJVDLFYDE1I8K6Kr2HwO3wfeGyCv7H1AUOZrIEM6EKGkhWXeM87P8pEQPgNhFOutt94y1kU7hjRKMAohSmWF/2giWq4L7nl/hpu1+C13zIaDXZcmgZILxMmWHXq4vbtsHW1J5o3P57uF33zqG3wgZv7WtHzVW3927331ceq5hXDn/L/4BiN7d9mmKV0/uNSue/shPz+66XmSqPX0PbtorlujScjestWJ7vjuQ9wLTWVzZVP61l+t81LXgccWznaPNwnffbtum1fwl8Kmm27qrTC0zsWtmQaNKejf79e//nW0pbkxCpasJ5980q/vvPPO7u677/YWNCpz9m233XZeaBAfiKuU/gaxECHUOA6XJhU1nYuHlXguqNxp1Yxg5NpHHnlk0QIUwUljDEQv18knFLgv3Q4hPBAX3B+3fP/+/b3796c//alPBw2Cklz+lm4mhLelu5DwgNaA9CH2mRDIPDv5hHW5ELp16+bzmTLjo4M53+H0Q8l7eOONN3prMe8Ny8w5B4GJkOR94Vgr8z59+vi8zgLv1pw5c7zLHsv3vHnz/LXtGSQYhRDlps1bGpPY+OHmc97Y9So/LwdmMSzUkpdELaePlus9Hx7hhq07oCU20qiGpRHK2ZjC3IBYcKj8EYSIsnzxgVTSXDseC4d4jLsxqdgtbpHt+RpqZAHLF+nNlz7SQ7oKtSaGkG5zh2Ido/FRPYsS8oR8o0W3WUrLBXmENZH85j4IVn52eSd23313n/eFQvmRXt5Jsy5ybcqEMt1ll138WNAW3iDBKIQoBxKNCSCUsLqVM44wX8zgxqt3c48POCfakk6tp4+833LN7ssIzWqJRihnYwoqY2t5TAXMOlYirHNZ4+JMOBALxxwY3vCDDz7wnXMfc8wxmVySuTARh5ggPaFYZh/3DIUiApGYuVDAZiEuFhFXpYjcWsNEN3lSapkYlu9cm47UsWzTCpoW/uxD2FEOoUs7F2H+5wpfwEJ+/fXXu1VWWcX95je/KUqUCiFEEm1eNHIcgijsUgZLXvsVVyvI+pdGkgXOtv2mx17ust5H+G1xajl9CM3Rr4538wffGG354ZykvK+maDTK2ZjCWp+amIiLRyrxLAKK88aPH+/FA65NXNuIBxMMiIew25o0EBLx+EXuEYrE0JqY9bohoVhBPGd91noFCzNlS5kUY/0lv3gvsEyzHBfYYQMZrJuUVVorbfbFrYtx7F1gH3GOjzzyiC9vPiQaubyEENWhIUVjkgAy4u5WRBmdWD+43b+7Hqt3aWkQcnGvwxIbc5TCkOnn+Jg++kGkw2xbn7XzZf7eUOvpC8W4WSf3XGcrd3//UT7f6VSdc5L6dmwN0VhuEAKIRyphs/JQUdOXHi7mfOIxFF7mAg2tfGxHSBTSyIbjECDEwm2xxRbeJYm4AI63fhOLdU+GaW6L4iNspZxFKJtQJ7841vIrKf+5Lsch9ONCnu1mmeaa66yzju+nEfF54IEHJl4vFIxhX5yFPoMQQuSioUTjnxZMd+e+drt7/Yv5vr9GQHD169CjRTzGRRki7P73n/Utf4HjaWRTbkEGJqomffCcX8eFO3LTA5YacaXW0xeKRo4f9cotXiQu+OoTvx+heEKPIYmjyDSCaATEHEINi0+8gQEVNCILwUYFzdxEJQ1lWEdIZBFxnIdgCMUDFT7XQEjSgIKYTDoaZ0hB9pViTQwJ08y1ECGlXrOeCYUX5RdieYVY5J3I11VOHMQhQo/3iHKNQ5lzXxp28QHx2muvLfMeMGfdBGM8fUa+ZxBCiCw0rHta1B6NIhoN60oFdzUVeggVNPsQDoytjKWIiroU4YU4mTx5sh/iEAsjrWf596XFOOJh88039wIii1jJRSgWTYC0ZbEYQt4gurA2Dx061IcWUMaUBfnOR0IxecX5dASOMEfQAfcyC29SoyY+XBCPuLSxLhOjyzu2ww47+LQwJRE+A9fdf//9oz3Z4QMGtzsNzrgvsbk0JGOYQ8VPCtHYFCQasSz97C+/9VYvc49i3fv1i9d5qxQuykoj0Vi/NJpoBHMPIxpD6w0VOu5qGrog7miEYy7pQuA6TFixqPBpSMEINquuuqo766yzvEAMXZnMAdGQz60dh2sjJBBBEou5Qazdc889bsaMGe7rr7/2Vt0jjjiiJKEO5D/CkbLCUkkIBMuUQ75r23mM1c1HQ2iV5p2kLJM6Hue9paxpuc89sr6XdK00ZcoU/25xXd5HOsYnpAIBS5zwQQcdFB0thGg0ChKNBz17iTtns0Pcgc9c5NqtuJq7cYtf++Xbtj61JeYtF7g1sxBvvRtHorF+aUTRCFTcuAYRFAxjiPhCyJlINGGXpbsermUikQqdSh8RgTj58ssv3dVXX+3FQL7xo0MrFPcLBUTozgS7H9YnicVkyCPEGHnEMnmJVQ2wBpLfxXwQxOHaI0eO9CLs3/7t3/x98sF96Y+TOMcki2H4MUEZU76Uvb0DlDPvB88VdjVEOp5++mnXu3fvlvcEbr/9di8Y99lnH++Gj8M1ENQIR+IuhRCNR1HuaeLsbn1vmh9e7rLNj1imwUMlkWisXxpVNAIV7SWXXOItLnRyffzxxyeKOrPwICxxRSL+qNhNKHIdKnNrwGICztzd+QRnPhAQiAwbuYT74NYuV5c/jYiVCWVFWeSKVSRvEV5sLzYfuZdZF1deeWXf6Xy+a/EeYeFG6JlLOw3O4V3jY8LeB4QpIpJx1x977LGWZ+CD5cUXX3S//e1v/bkIT4bo5P1LEowGwhEhfdppp8lVLUQDUpRoxCW934xx7t83PdCN/XF1XRESjfVLo4pGq/CxyjCCCkMZIjLoFiUJBBsVNN0B0e0OLr5tttnGCxKuEYoSjqUS5h7lEnZc6/e//71fRjgyVCLbkixRbQ3ym7wILYhZGxaZsOdYLLahlS4XVr4IU8rXrItci+1JDWRMMBb7AWHYs4bWSLqk4rkZkpB4Re59+umnu+uuu853WUWn4Wk8+uijfmSaXO+/EKJ+KUo0WlcrhYhGuadFo4lGKlksTFheqMDDyp3tCAH64UM8hNZEKmWOxXK10UYb+eMQCViMECkmNqjUcXszj7fSLoZ86QX2I0gWLlzYsmyWKI4tpeueWsfKBgsc+U858MzFPC9lST7HyzMO98wXu0j+xxvIsI13guuWIhhzwfMzdjvv5Lfffuu30fk9cbm8r2uvvbbflo8PP/zQX+fCCy+MtgghGoWCRSONYYhjhK6rdqxK45cQicb6pTVEYzk79zbMOkTFaJV3vMLnmFtvvdV3rszIHAgu6w4HEZEkRkxsINQGDRrkbrrpprIM0ReKRdKbFisXwjPG4+LIPxOSceFZbiZNmuTHxsbqRRdDXbt29VYwGn7sueee0VHFQRkhjnJ1wF0qoXhEFBr2/pCfCMJ85cEHBlZFi2st1cLIvYHr2hyXMtuZE0+JW5qRk6xqoDsnuvwZPny4X04Dsck423RgL4RoLAoSjSYYiWP873cfd5M+eNZN7HeyG/3KhIKGmSsFicb6pZqi0YYRxEJClyDxYQSJ6yJ2LMswgoZV9klikX1J1kQaE/zlL39xX331lbcWZhEkCIPnn3/ed6Gy1157FS0QQrGI6Mga+5YPnovrkn/MzRrJc9GaFkFZDtFF6+TbbrvND7WH0KfsiL1cvHixL8N58+b5VuTDhg3zYqoQrIwoR9JqruRShHkueC8oA8SpWXexLpJn+RozhXCN8847zwtnWmrb84bCL5xjKeYcWw9FoWFlxJz3g3TQ3yfDbpKvlCvvM+y8886+e53+/fv7ckhDlkYhGpfMojE+WsgTTct7Nm1bY8XV3BU/OSqxM+dKINFYv1RLNFLBjRkzxm2//fZ5LWGIBzrHHjt2rO9nLh9UglT+VLI2hBsVqwkQKmi25bImmtWJc3OJQCp2s0AR30alTbc9XKcQdyTncx4igVa+obitBOQNz2+NbIB8z2KN5Pj4fgQjlipEChbaXJA/06dP90KKmNB8kLfFdsBdDuiUm/GgsZbutttu7l/+5V9ahFwo8ELhB6xj/UOk01iFjyAs18stt5x/xyA+79y5s38uWzdRaPM43J+8pG9OygNxTrXARMwropqYRmJfEZBpENOIRZh3WAjRWBQV09iaFCsax7w6wY+sMnPxm349abSTWsZGa+m6aqfU8bQrTbFjX1dLNJ5xxhleBNL5chq4PhGZF1xwQbRlaahEzVpHtya46dhmQhHhkdQPXhKITKyIWJlCdyVQceeKX0SU0cCC++VzTZIuxCLH5XKbVwOegbQgRMytjQUSARhvZGPPbdY+hMmoUaO8ex43dBpYHAkBoOsZGl+ExMUQ9yVf7N7lgHuElrxwbsIPqzdlj2Ub9y6WvO+++86vI9AooyThB1io6eZmyJAh/mOEj5z77rsv5wgyWYnnDfc1Ic37wzPwjtt7qtbTQghoE6LxX2dd5a7/6xT3mx57uct6H+Fbf//LzMu9lXT+4Bujo2oXBO+lc+/1QyPaEH6theUlorsWRSMtl4nJGjBgQLQlnWnTpvlucvbee+9oS7PAQ6hxLQQoFSkVLZWrWROLFR+4J6mwrTW0icm0+EUqdyp5XJ1hnBzbSStzXJ6tJRbzYdZIc2uzzFjZdJCNkCSuECGEW/6ll17y4i4rPDsdWx9yyCF+nWuTR1mtiqHQAxNNtp3+MVm27XaMEbfk2bx9+/b+uRctWuRF8JZbbtmyn+fE/c56rlbx5BPvCuUcxj2yHZHM9kJCDniGJKFo4QUhiFPCAsJ8YNtbb72V2k8jltQDDjgg2iqEaCTajGicuWjuUiKHjsonvjfNLdnnrmhLbUKfmIhFhGI47nNrgNg+/eU/eCsj1KJoJI6K+MU0d3MIlkbiHLGOYB265ZZbvFgkxovKkbhEKtdyth5G1FhsG6IxLgzyYYKWa5CmTz/91DcKqUWxmA8shEwIGSy4QNltt912y1gN84F1kha/DO1H2WGdo1U6saqUIZQS52fLtt2OgVz5bYIvzeJLGWIdRjTyDth1bXuu94J3AAst72W+oQBNKCKg7X3JJRTjIHgJOSC0AhCouMhpXGYWYxsRhuflgwDBqBFhhGhc2ox7Oo5ZzGpdNIa0tmjELT2u16Hu3Ndu9+u1KBoZkQVrHQ0osoK7kAq6Xbt2vqEFQmHbbbf1MZFUjnFCoRFCBZ2L+DlY2Kh8sarhisRCSKyake8eVNK4PKmkGU4QwWuNUJLECZayXORKc6HPmOt4yHcOMXpMIYg/3LZZofHGzTff7OP8yA/K3srNhFGhcX7FwrMSzhBakrMQtrSmsQku6bQPCe6FhRpw6RtsjwvFYqzjJnwpJ/Lp/PPP93mFq5p+RnkHCQ+goRkinXhHuaSFaGzarGjsNvkIt9NavdyEfidHW2qf1hSNiOzPv/3S59dWjzXnWa2KRuKuVlpppWhLOojGCRMmRGvN5BMSZm2Kk/Uc4tmwjjG3UVmYqHg7dOjgj0m6BxY0OxYhQMzfiiuu6PchErAKYaHD1R6mJVd6IVeaC33GrPdAwCJ6iSXFkkVLW7poIS8QH0CjFiyOWTFLIy5R8sHiKBFcZhErJf4vK2YdLCWeFBFIvuywww7uuOOOi7bmB7E5e/Zs7zbGal6KUATyDks24pNnQXyadVII0bZpk6IR1/Szi+a6B7f799Qxs2uJ1hKNuKV//eJ1buqA83x+1bJoJFifDogLqSipaOnOBKH58ssvt7jcEBpcJ2tDlyzkcltaXCMVMxamECrvtH4hDSxWVPhY1KzfwdbErF48N2KOZdJGfnbp0sW71ufMmePLDAsjogsBxHNmheclhOBXv/pVtKUZ8qsaIpJntEZMlF2hIs2wsjv22GO9JQ/xF8auxrG8RdRhtUZ4EzvJqETFpCHXe0a6ComdFEI0Lm1ONNKoZPy8qVUXjDaKThZyucxbQzTSanvgtLPc2T8+uGWkHhONt219qjvi+Ssy99FZrYYwWJ0QTFkJG8JQcWK5ocKm4QKVL92lIDpM7JjwKLRiNlGQy+1o4oO4OxqFYL2zSrzQTr7tXhxvAqAamJAhvxAzrJNv5FU8LpR9xBoi1E2UlLP1dJwkEUnaSFexIrIc1kWw8uLZSRNY7CrjQPPOcH3LX/KW5+FYsyjiRiYfeHcKsQpyTZ6De3Fe2H8k+6DY5xJCNBZtSjS2lmAsF60hGmmI87u590Vry1JIK+pqiEagyx0aQTBqSBqvv/66tzSOGzcu2tIMlSX9+iEIEDSIAsQcFbn1R8gxWaxXHGf9L1KhmyjIBS1QGU2GGMvdd9/di4W0c3KBsEAMICgqIR55Np7LhAzroZBhOZ/g4Pj4/kr005hEKSKS94AyJf2lWBcBwWitx5PKmXtNnDjRz82Nn8v1zDHWEj9fAxmD5+YjiQ+UUp9DCNH4tBnRaN3sTOo/yu24Vi+/jTi9/h03yTvWdS3R2g1hjFp2TwMisJyde1OpWyMFhJdV7AgGrEDx0VFCEckxufpfjMMxZllE8CJoevbs6TsELxXSl9RdT6HwjFyLZyZ9CGmek2fOIhKzQr6acMbimGtEGFzaxQjGJOIikucyC2n4HpXLugj5BCNpYEKMA2mh4RRd+eQbfpD3KKmBTAjlyLtG+eW7lhBChLQJ0ZjkYrUhEY/d6Od1IRpJb8+HR7hh6w5o9cY7td65N9gwgrSsRdDEhxG0GMZChhHMJR5D4sIDQUFlzzkIjySBQSWPVRNRx7EIOru2ucpHjx5dFisQYgHLo4nHXM8BpItn4RyEC8scy2RxnuVIUz7oyJpGM4wbbmNP038gHbczxGIliZcl7wkWWzrlJu6w1Ge/4447fL6GgjEuFBGscYuiidb4uxKHd4dr8e7Yexd+mJRD9Aoh2hZtQjRa9zpJXN/3uJoWjVhI6eLm9S/m+/4aoefqXV2/Dj1aRTwynOSkD5ortD3X2crd3z/ZkpFENUWjQQMBKn2ED8IDwUFli3tv112LK/cs4pFjEGf0OUgLZxMeHBta5mjwgFhkey73IOdhOeJeWVyOWcDChPAIxSMuSkQS9yO9HIOgsPTiKi5VKNUrlCdhA7RwpxU7ca4mmhHQhVrqTDAi6CzP8wnFJEgTAhDhl+s95D68h6eccopvdc8y5UgPA7nEphBC5KLNNYQRrUdriMZKkiQezZKDCMjlcsRyhlDEcsawcnS7Yy7QXELBXI5YunLFvhUK1yQ9CGs6M6efSMQho6uQlrDRSlvF3LjklY05bmCtQ1gj9sjHUESynCvveGdmzpzp3erkO9cmBjGLUEwifA+Twg5sP7GQ5bCQCiHaLhKNomo0mmg0rFJmNIz333/fiy86do6LBsQBlj2sPYgPKniOQXDki4sMsXshYApt1GIiMWzIQzqsUcWsWbN8S2RExY477tim49zCsuKDIIsbN01Eso/4Vj4WiEskj4sVinFIL++FWY55t8yaTFoQqDQwytpARgghkpBoFFWjUUUjUDFfeeWVPmYy7rY2sYbFKq2Vqh0bxtLFRSTCMlefjiEcx/mFNlpBmCKW2GeCqS1BviHuKKu4dbEQyHvGmEaskfc2Yg2xmLSKTxOhxUDa77//fvf000/7kY323XffFsHLu3X22Wf758FaLYQQhSLRKKpGI1saEVkIOIRcaHnE9UxjjlK6NIk3yDALFmKQzrFxOSIEOAbRgKWLZbYx4fouJh6R+yJ0oS2IR0QVz2uNRBD/xUAZ0PqbckAsbr/99v5jgtFvWKZ1P/egbHhfKtF5PEMpcn0s3/Gy44ODdIUNZIQQIgsSjaJqNJpoNJcgAi0eZ0jlbZbHPn36+L4Ew/2lgOCgUQ99FCJQgJbgdE+D+Nhll13KGo/IsxCDiRBCgDSie7NU62JcKCLScD9zPVrx20dDWCbkK+dZuADHUH4WLlBI+XE+72L844TtiEiuFYpHayBTrlb5Qoi2gUSjqBqNJBoRBlTSEMYvhpU3LVQRAWZ5pMIuttVq6LZGmLDOdRAYxFByDzp+ZhxnxneOu7TLAQIHoRG2uC6XEG4tSrEu8g6QF3GhSJ7wPnBtE6JxwZgE5ZskIilHrp10fjz9uY4jnfFuerhHMSPICCHaLhKNomo0img0YYhAMJFh26joqbyTKuFCxCPiASFiAoJlrIdmhTJhEmLWo8MPP9yLx6yNawqFtMS766lH8RiWWVbrYlwoUhb2/GF5mGBkezgsXyFY2dk7ANzPYlJ5n9LEYhzO4R3hHeAdJJ3EOZLGYt3xQoi2g0SjqBqNIBqt0sVagxALhQexg1kq73jFzbkIEK5V6kgriIykRjKIC64bNq7hmqXG0xUihGuFQq2LHI9QZOSWfELRKIdgTIJ7k2Ya1tBtE2yxxRa+/JgKcTNbufHsTJdccom/RvjOCCFEHIlGUXZyDc9Yz6IRIUAla/GLVOBY2+g3EYtjVksPcC2ug3B84YUX3Pfff++6dOnifvKTn3iRWEyjlRATLaQxV5+OcRHJMYiGYuLpwIQw6SY/kiyttUAo8vNZF0OhyDLPhVBMixW1vOe65RZgpJ085h6khTSxjTIknhLMEplVRBLvaBZj3hemLA1kGM6RVtpvvfWW/9AB+oFk1JwhQ4b4IR+FEI2HRGMEw/Sd8NL1ruuqnVp1bGcE1+ufz3ePDzgn2lJduP/E96b60WcYeWZcr0PdL7v2j/YuC+NQz1z8ZrT2A0kj7bSGaCzHiDBUpFSuCAH6u3v00Uf99bK6BankEWhU8GE8IunAOonVyPpHtHizcmDWJK6ZZk0jbXFXKMLDLJFZBAiYeCRPLH9qAfLcrItYRJPSxTHFCEWDcyohGMO053vneE/jIjJLGXIeH0Ccw7GIQD42OJ59EL6TDz30kB8XvHfv3n54TiZgeE5Lw4EHHugGDx7stwshGgeJxibGvDrBXTr3Xi+Uhm+wW6uIxhv++rC74I0/uTlfLHBbrtm94HGdy4EJxt9veYLr035Dd8TzVzQJwrluUv9Rbse1ekVHLQ2iEbKkt5qi0cae/vvf/+4tIPGxp6kYGUM4bexpKkAEY9++ff25rONyzCcWqeQ5DqEYb7RC5Z1LhITWunKJR4QgQoZ7YlnLilX+xcZFInAQrKWIx0mTJnlBzTjhNu70euut5zbZZBO35557RkelQ/rNuogYCvOesokLRSylPF+u8k2Cc4kN5LxyCUZLG+8EeV+oq5vzEYKUIdcB0pdLRFLG3IsPB7oHGjVqlH9veH/IN5gyZYoXjVg01157bb8tDufiQkc00u2UEKJxaPOi8cTZN3qxiFBc7p5ftIpoRDDetWC6u3zz4e7AZy7y21pDNK4x6SA3ZJ1+LWNaP/HRy26naaPy5kktikb6wRszZozvEy+fuEFMPPXUU27s2LGuR48e0dYfQMThgmO8YYRLLisPlS0iC4GIUGSZ+xYaj2hUQjwimhAOxXaxggAxIRzGRaaJSI6jux7m5F/c4knexdOD4Ljtttt8X4NYhhH7uDtxiSLc582b5z777DM3bNgwn7+5IM1moSMfzWVuYoo8Zpn8JW08QyHlZFDetEIu52gr5JcJXdJeTJnFCUUk17cPgbiIZB/dRS1atMj3M8pxw4cP9yEUI0eO9OLVrIu54MOMvD/33HP9/48QojGQpTGgtURjSCEirJwgXIfPunIZt3K3yUe4rqt0zJmeWhSNZ5xxhheBG2+8cbQlN1iyEJkXXHBBtKW5cr366qv9vhVXXNFbtUwsss+scLlcuYWKxFyUWzySVhrJIJDKIW7icZEmPCwfwjwwKxbCFeHI85iIwZplggXBeOONN7r+/fv77bngvvRTSf+XhAzEIT1YiEkH97JtCBkTijbecyllVW7BSD6RRq6LODOhWwnyiUiE3uTJk315AN068Yxz5szJbD3EKtmzZ0/fml8I0RhINAa0ZdGIxfV3c+9bRjSmpYf9C77+xK2+wqretd511Y7u5B77uJN77hMd8QPVEI333nuve/HFF92AAQOiLelMmzbNN0LZe++9/fjL119/ve/rkPUddtjBu9uoVBFHiBUEB2KkHI1WslBO8YhQQDjSgCdXI5liQUQidhDTLIf5ZIIyFI+0/EWk3H333e7yyy938+fP9y7RQYMGeTd0GlgciQVFtHXr1s1v4/nMukhcHWKH+5GucglFg2chL3PFSBZCmO5cFu1KE4rIJ5980o82xNCHVkUwBCLDH2JxzAKj0dDQ6/zzz4+2CCHqHYnGgLYsGolnvP6vUwoWjZy34KuPvWsdaEw06YPnWq0hzIUXXuhdZ0nu5lxgaUQYUklTaWMdwS1HhUdFithA8NhwfNWuzI1yikeuhfuTOMdSBU8uEGrkJyIEMQKhiGR4RfKY0WywCmPdeumll7xoygr5sfnmm7tDDjnEC3vi79ZZZx0fr4qoLLdQNBCM3MsEXjHwbjExPjVxgghlroc4C0HgA8catg3C7WD7+PAJseNynRtup0U/LmauEVYRxADH05cL+grFajx+/PhoixCi3mko0Yjoy0KSoAGJxsJFYxxaofd8eIQbtu6AlthIoxqiccSIEW6PPfbw8XBZsfgrY/nll3crrLCCn1gOIcYsC1kESrHX+uCDD7zIRRghkDp06OC3F3o9LEkzZ87018AlGbLaaqtFS+lkuS/3/Oabb7w1kUYtCLqPP/54KUsWYn+77bZrsRpmgeshuoh7xHVKOAENNHgeRD7iB3IJK8glnELRFR6DGOZDg3SG+ZTlmuF2rKA01AJiNkk7xMvb8jfcHuZ5/HhLU7xc7Lhc59p2nnv27Nn+3aCcEH+8YxxLnHCnTp38cWnI0ihE4yFLY4BiGpNjGjdevVtBXQCRj0ktwKslGnEXYr3KCo0qaHhBrN3nn3/uBQFCEvcp1h9c1Fa5hgIgH3GRkkSp16JSZ0JwkFZaF2chfj0aA9HABMFmgiBr2iBu0Uoifs+vvvrKT4gThj9EnCPwjjzySC/Ws0J5YcnifMQSUyiK0gQShNtDEZh0zMKFC32sHnnVq1evTNcMtwN5i4XUXNFp3SFVA8oHSy2NuZhjoeUZELWI+1NOOcVbhumVIGtXVeQTFn/iToUQjYFEY0BbFo1JFkLb9psee7nLei/7w4/QHP3qeDd/8I3Rlh/OScrHaojGiy66yFuaCokzRCRSMZ566qnRluZKlLg7i8+zmDysVyzXEua2pqJHhBTTeIJnpeEIbu9qiBjcuxMnTvT5TjzpL37xC9/Sdsstt0xtmRuCpRFr1rhx46ItlcNiGMmjYvKYd6q14xZD7B237oZ4f3i/eTaWLb3W1Q8deav1tBBtmxX+o4louS645/0Zbtbit9wxGw52XVbtGG0tHcTOf745yW3Srpvbv9v20dbqc/Gce9zX33/rju+evR+6ctBp5Xbu2UVz3JS/veB+vMZ6brOm6dCZv/ONXG5sEnnsB4T1e1997PbusrV7fvGbbvy8J/x5B6+3o89DYho5h07BN/iHpftxe2zhbPf4Ry+7fbtuW3bBb1BZvf766wWJRiwrWI2IYzQszg6LEpVk586dvdWFhhfEsiEg6CwcqGBbE9KJ0OP7j06XsRZRyRfi5iVWk/4JEXK0SkY4FGKtLRTcnVgYDz74YC9UuBduaxoiEVOaFRpsENOI8KwkvCNXXHFF0YKR8xG2vEM0QOrTp09F8zcXvLd0eE88K6KO8ADKnVjFn/70p/5dMssoXe6QThO2hAC0b9/eC03KL25BNQid4B064IADfNkKIRqHurU0YqnqsFLzj9YJ3Ye4DWMCJSt/WjDdnfva7e71L+b7/hqBkVD6deixTExeJcHCiNha8NUnfp1WyPm6uqkEJvpoyAK4mEduesBSI8KE1liOH/XKLV4IWrrpBPyEHkNazrl7wdN+PyD2EY6VtDQCXe7QYTedQKeBwMTSWKilCmsRLakRaFTECAnraqYQwVoJqNQZ4YPKvpiGGnfccYe3XB5zzDFFCaRiKUfr6UqA4DMrbKH5wbnl7m+xELAW8p6SDt5V4jF5HxCK5oIuFBsRhg8tPqbM6sgHG+57Qg5ouc67J4RoLOpONCI63v6/D6O1ZrBcmYAUtUVSee3cuXfRIj8LiMBydO6dFSpm66oEwQZUzIjIaoquOKWIR3PFkn7ETrUoVz+N5aJYwWiu3dZwRZtQRCTyDpjbmRbk5RKtdLROjCMuazq+B0ZewhW91157aexpIRqUuhONQmTBhhGkxS5dvGANCYcRpKLDPZg2jGAxIDQQXdaooLXjIYsVj4gPXPFYp8rdp2M+EOBYstq1a+ctjrlGhBk6dGhFBaPlWyGCsbXEIvc1ayJzyophK8spFIUQQqJRNDTEb9Ept8UgMiwdlSgVatZWoKViruz48HvVrtBJB67SQsWj9emIeKpmS18sWYzKQ7nZ2NOUH3F3WLMqiTUuoh/LrEKfsq2mKxqhiLCNN2SpplVTCNG2kGgUosog3mwIQqx4iEezClWjsi9GPCK6sToiTLA6NjImGHnOLMKPvMG6SFlWeug/7oUl1uITEbTEJzKXUBRCVBqJRiFaEbMWtUbXPsWIR44nvQiqSqevNUAwYrnL4o6vhiuae4QNWVhHlJbSkEUIIYqloUQjDS52eXK0786FhjH7dNnGN5IRlYdW0nSHtOjvX/hW0o/ucHZFG7s0KoiDMB7SXNkItEqJtELFI+mikQzH7r///tHW+scsjLTgzicYEW5Y+4h3pExwRZdTvJlQ5B1AoJvbWfGJQojWpuFE40ZTjvaChRa6ovogGLd47KSKdL7eFkHQmYBATCIirVV2miWsUAoRjwgbhCOjm1SzkUylyGphRDCTR+WOWyQ/uTZpoJxJgxqyCCFqDYlGUVYkGiuHWbhoUMMcEHbl7tqnEPGI2OJYGoykWShrlSyCsRJxi1yLvFZDFiFEvdDmROO/zrrKvf75/ILGUi6EJz562V34xl1u5uI3fYfX7VZc1Q1bd2BFhya0Trm7rtqpYvdhyMA/vPtY03PN9Z2g0/n4v26wmxv744OiI5qRaKwecVc2rtJyxkNmFY+koTX6dCwHdGRO/o0ePTpRqCHmyhm3SF6pIYsQol5pM6IR0XPBG39yc75Y4Ec6qdRIK4yYwogyN2xxnB8dZcj0c/wIK/++6YHLCKxyMObVCe7Sufd6IVepcbPJu+GzrnR7rrOVu7//KC9Sj3j+Ci+Q79zm9KVGjJFobD0QNpXo2odrEeuHyMknHukEm/szkkw9uFQRxDxbkmA0qy7PTSfjv/zlL4tywXMdNWQRQjQKy0fzkkG8rDHpID8hKgxEFBP7WwtEz10LprsHt/t3LxgrzRkb/9ILRrh88+F+Pj8aZq+cnDj7Rn/dz/asfN5iMUUwQo/Vu7hD19/ZL3/yzed+LlofxAgNU2jIMX78eC9MvvzyS28FHD58uBd1NKxAuBQCVjBct1gRET5nnnmmv04cXNSISvbj8q1lyItcgpHtZ599tps6daoXwDxXIYKR/OUaiNLjjz/eN5gBrnX55Ze3xEJKMAoh6o2yWBptDOIRG/3M7TRtlPtNj73cZb2P8PsumXOPO+Xlm7072IRUHFzG1/91SrSWmzQLYRb3NGM8QzXHdA7Ha64U1bhHCGU28b2pblKTkAzLVZbG2gQhU66ufRBE+SyPbEeo0lgEsVlL4oh8QMyRxnja2Be6ogvpyNyEohqyCCEambK7pzd++Fi3abtuLVYpLIzPLZrbsl5JalE0mvs4Lq7KTbVE458WTHd//mCmm9lUpiM3PWAp1zRINNYHCJwwHtJc2QjIrCKS87DG4X5NEo/ECyIusbBx/dYml2CMi8WscYtch3PChiwDBw6sWiftQghRbcouGonhowGIiTLWf9EkLI7coPJDttWaaCTmb8+m5z+px94ViWcMqYZoJO9o4AMI4BN6DJFobBAsHhIRiZhE5GXt2ofjEYdJ4pF9tdBIxgQjXQQhYk3UIXxxVfOMWdzQHM8UNmThmYl7lFAUQjQ6ZReNxNn9bu59bsk+d7W06k2zMjaie5pn/9lffusOXm9gxQUjVNM9jbXx9Jf/4BsVxcMOJBrrHwRWMV37mHhEVNFwxMQj12MIQrPwpQmzcmP3t74VEXekERGZ1t8i54YNWQChqIYsQoi2SNlFo7W0nbPr1S1xjpV0y4bUimistmCEasc0YkUlfjV+T4nGxgPBFLqyEU354iFziUfr0xGRVki8YCmYYETg0b8ipLmiTSjiekc0Y0VUfKIQQlRANAIChsYwdANTLREDtSIaEVPdVu3oJvRrvhdw30res5KikQ+B0a+Od/MH3xhtaRbGPR8eIdHYBjFXdlrXPknikW0m4rA6Ggi1JKvd4sWL3f333+/eeust98477/ht66+/vuvevbsbMmSIW3PNNf22JELBiEhFtOYSixxLOtWQRQghclMR0dht8hFu9RVWdW/selW0pTpkEY001IFKpQ33/BMLX15KINKCfPy8JyomGk3ADVt3wFJCtVyY9dgEooUdPP7Ry2o9LbwQs1bZxAwitExwIcySxCMWR1pzIxyxViLacF+HAu2hhx5yt956q+vdu7dba621/AQfffSRP5brHXjggW7w4MF+e0goGLGIJrmi1ZBFCCEKoyKiEWE2rtehyzSSqDT5RCOWvgVff+Ib6QAjmnRdpWNZhRxiqu9jJ3oLa5xKdChObOG5r93uXv9ifss96Vi8X4ceZRWPPBcdoz+2cLaPYwQ1hBFJIL5yde2DaEM84vJFvCHSaCTDPoQa4s2sj1OmTPGike1rr7223xbnww8/dDNmzPCicbfddou2/iAYV1llFff11197cWhD/yE0mawhC9dHKKohixBCpFN20UgXM59++2VLP43VJIulUVQWiUYRgkDD0mjxkAi3Dh06eMH2xhtvuKFDh3qROW/ePC/aTj/9dPf999+7kSNHeqFn1sVcYHUkRvHcc891G220kReMY8eOdSussIK3eg4aNMi7zufOndvSkMVEKqJVQlEIIbJTFtGIS7b9iqv55Wr1yZjEor9/4UUjgrHDSqu7ndbq5Q770aBor6gkWCF//+6jvgxYRrhLNIo4WB/Drn06derkPvvsM/fdd995sUi8Iq7tOXPmLGU9zAdWyZ49e7q99trLC0aE4yabbOLatWvnnn/+eTVkEUKIMlEW0UhfjMS3DVt3YFUbvggh6hfE3e233+4tkO+++67fttxyy7nOnTu77bbbznXp0sVvS+P9999306ZN841mll9+eS8Wu3bt2tK6W0JRCCHKQ0ViGoUQIgu33HKLe/rpp72AXHnllb27eP78+X6sbARgFhYtWuRuu+02LzZxaWNRlNtZCCHKj0SjEKJVQCgSd0gDmVDknXnmmV744brOApZG3NDjxo2LtgghhKgE2T7lhRCizCAUkxqjbLzxxm7mzJnRWjovvfSS23TTTaM1IYQQlUKiUQhRU+yyyy7uzTff9C2j0+AYOv7mnHrghRdecMOGDfOxm1hSJ06cGO0RQojaR6JRCFFT0HXO4Ycf7qZPn+77YswF+5566il/LOfUA3QptO+++zqigkaMGOEOOqg6w4ymceGFF3ohaxPrWXjggQd8KIGJYNaFEI2LRKMQVQKrEl3DiHTobodp8uTJ3lXNEILEPzKxzDY6Crfj6gXSjKURGNqwY8eOfrkWYKxtxCzTaaed5rfRKv3YY5fuEYN1LMEwe/Zs32jJRPB//ud/+u1CiMZEolGICoMLlYoWsUMn07UEAgYLEZYixmTOCseGlinERbnZfffd/YgxjAhDn4733HOPn1hm22WXXVZQmmsNxsK+6qrqDrVaKAMGDPBzE47Md9xxRz/2NyAujz76aC8iebfVGEmIBqfpC1EIUSVq7V+uR48eSxYuXOgn0jZ16lS/vanyXzJhwgS/DOwfOnRotLZkyeDBg6OltgN5Qx4xjRgxItq6ZEmTWFoq74C8smPJyzjk7VlnnRWtVQa7fzhR3qSN9FOmBmns2LFjyzGzZs2K9jTD8WwP3wmDczmPdyJ+nhCisZClUYg2DCOvMFQfo6rgXjTL0pFHHukuueQS71LHUnrIIYf4rnDaMuQN41wzFGJoIbz44oujpR+48sor/Zw8NVevQZ4yzjZDH2aFGENCG0LrbpqFt0nA+fQ2/c77dea4j7fccktvLaRMDcqbYR05hqEdzz///GjPD+QKreD5OI8hG4nZFEI0LhKNQqRAxWyVdBjfhUsuXnFby1imrI0Jykm8QYNNpAtXblJDBfbzXAy3ZyAkib9DOHIebsc+ffpEe5sJ3dpZWjo3CuF42LSGtvi+kFdeecX16NHDnX322dGWZnhX7r777hbRGb5PuWAcbkbOYYxtxFk4mchPIl5esMcee7gLLrjAvw9hmSEgGf87CXNJ8z4gdsMW3+E7teaaa/q5EKKBafrhEUKkgOutX79+0VozuOz4FwrdkubmZV8ShfzL4eoL3Zw2pbmGOYc04TZkMtcyblSeIUyvwT7cj/Fn4V5Mcbcjx4Mdc8011/j1Rsfyw2CZPKNcwrwjnydNmhSt/QB5HC/PfJjrO+laWbC0hvexZd4JA1e5pYdzrHxxR8dd0rzbtp902TPxzHJPC9HYyNIoREZKsTCBWSQ5Nw2uTd+DTE3CjFq+ZcLikw/cjyGkm224oMeOHeu7qQHSY1bCuJXIXNJYGBnqD7djmG4aqbQl66LRoUOHaOmH8oxb+6699lr/DmDVi0M4QFiWTPlgSEVIulYxYCXE/UzZhe8JrnJLD++XNXTBIskUgpXU9pMue6Znnnkm0bophGgcJBqFKAJE1KhRo6K1HzjxxBN93FgoMAFxNnDgQL/ct29fv54P4uQQHrRMjV+rWBYvXuzat2/fIhA322wzX/kzZjOjsCAmTADRatlc0twf4RjGudFVDOcxcQ3S2RYIhdY555yzTGthxNhFF13kzjvvvGhLeQhDDcIpDI1Ig+Nvvvlm/yHCeN/xWEshhEhDolGIDJRqYcJ6Y5Ycs+bkA0vjAQccEK2VBkKGmLjBgwd7K+P+++/vtyMGsRqRno8//niphhksh1Yjjg1j2bAq2bPUercxlYB3ALEct6wdd9xx7tRTT22xxJULy+v4lC+mMQ4NY7baait3zDHHuF/96leZLN5CCBEi0ShEBlrDwoQ1M25ZYkqzUoZwDayIuJMZYYVWsuWyXLZlDjvsMHfKKadEa80gyOfOnVtWq2u3bt38vBwjrZjAPeuss9w222zjO+UWQohCkGgUogCqaWFCmCZZl9KslCFcg25fEDNYmEaPHh3tEcXCKDWI8HhZI9Cvv/76aK08cA9E3pgxYwpyRUM85pYPm5NOOsndeuut3jrM8H9ZWm8LIYQh0ShEAVTLwoRYwKVcDrAukj4EJC5mjQ9cOvF3ABB38Y+JckCoAKEKvHtxq3M+IUmoBAKX44CGTViZjzrqKL/v6quv9lNrdA0lhKhPlluC6UIIkRcqVixJWO3CGD6rkIkXK6dgwEpEJ9JnnHFGwS5lrEcHH3ywF7M0fkF0kH6WDzzwQLfffvv5Pv8qIXCEEEI0LhKNQmTARCMWu9AtiWjEwhQ2IikXNFSgxTLuxBAatORyUVs6Q6ZOnepbShPb+Mknn0RbmxtXCCGEEFmRaBRCCCGEEKkoplEIIYQQQqQi0SiEEEIIIVKRaBRCiApCnGnPnj19/KsN2yiEEPWIRKMQQlQIusSh6ySG7aMR1YwZM9wNN9wQ7W1daKFPS3tEbVboron+HRHAnTp1UvdNQrQxJBqFqBDFVMqisWCYP4ZcpMskWt0zEouN/d2a0DL/jjvu8MNHhmAFjVtD6dvThpCcPXu2H0mG9pN0P8U460KItoNEoxAVgEoWi1J8VI5agLThLi0EhC/WJZskhJuxfMHqloa9Czb2d2tCH52nnXbaUsNjAuKWTsRNOPKuPPHEE27YsGF+P+fQiT3PYh3GCyHaDhKNQlQAKln6bhw0aFC0pTYwsUeFH8J2syYBgsGEgkF/j1iYmBAPollE0U8nwwrmg/zE6kzH8JUa+zsu7G2iHBGBWV3JHH/yySe7bbfd1gvGsDN74D6MKLNo0aJoixCirSDRKEQRUAlbhVxPIHKS0syoM5dccokXjggchpw788wzo70iH88995zbZZddorVlsfzEKhcfrzoXuI8pp7gA5L3LBWU7dOhQL+65F9PChQv9PoRfoeNX57JGcx8+HPgginckL4RobCQahSgCRmRhmL98YqFaxIUFExU+ogPrFqIlDaxfPBPCEWGC4IgPM7j33nu3XBtRI5qhcUuvXr2itWUxwUh+4tY1a28uOIb3ignRZ9ZdplwjARlJ7ma2TZkyxY0dO9YPLRkyc+ZMP7xkiLmkudeOO+7o3yEjtFjWQmymEKK6SDQKUSTPPvus69+/f7RWHhAU1j1LOOWzEDHuNUMLIiqAOQ0UEAtU+oiWrCAyktynWCLfeOMNf22sWQxvKJotggzNyDCNSdZnBNjkyZNd3759/T7cumlcfPHF/jhiB8vlykYYtm/fvkXo8T6RHoaoPO+88/wyIFhDlzTPwjtkoQvHH3+8nzj++uuv92JYCNF2kGgUogjM0ha3xsV55JFHvDUnCyNHjvTds9x5550tliWbaIWbi6Q07LHHHu6CCy7wlX7c0mhpD7eHLtRbbrnFux1DayL75s2bF60JY/r06d7iTKMn8g3XMELMRD75Hy/LtHhQhNsBBxwQrZUG5co7xUcFVkZrhMP7FE8X4D6PxzDyDCaEea/mzJnjj6dVeNr7L4RoLCQahSgCxAIVMcLKLIPXXntttPcHSw5WJkQEy/mshQgFLD64EMtVEWMBg9C6hTUMqxd07ty5xVV66aWXtrhQsW4hgEJr4lZbbdViLSOGj7QK5x599FE/xxJLvuUT94WAaCev41O+mMY4XGPjjTf2jXR4Xy2NQghRLMs1fTE2f2IKITJjlhfiznAjIr6opIv9d0JQDhw4sOjzERPEoCEsuAbuxLvvvttdeeWV3gqWZt0SxUFXO3/84x+9BQ6sHAkZKFb8U5Y0MimmzHgPt99++5bYRdzStJTnw4V+FeNWRCGEKARZGoUogoceesgLBgQjUFGXg7hlyaZ8Vso4HH/zzTd7QctIJBKMlcHiGemaxhg/fry3QJdiLcZFjEu5HGBdtP4U+ZDQCC5CiFKQaBSiQEwsnH322dEW5y07HTt2jNaKByth0lSI2xMrF+7kY445xv3qV79aKjZRlA9cvmCxnoQnXH311SU3DjnllFO80MNqmKXle8jbb78dLTVbGRGgxEeyjCudRix6H4QQxSLRKESBWOOHMD7suuuuc2eccUa0VjjdunXz83JYgszKRafTDFvHsG+i/CC+JkyY4Pbbbz9v3b3rrrtKcksbCD0EHg2oiDsNLc75YhoRmYhW3OOEShB3ioUaayPbiUlFjFpMqxBCFIpiGoUoEOIZ6W4H1y+MHj3au6tZL6WhAa2nuc5ll11WkGWRRjT0pWcxjdahM25TrkcXLqB4NiGEEKUgS6MQBcLwaaeeeqpvmYolCEoVjMCwg7gSGfs3tC4x5YtppHU0rbQ5Dugeh7QcddRRfh9WJiZrKS2EEEIUgyyNQgghhBAiFVkahRBCCCFEKhKNQgghhBAiFYlGIYQQQgiRikSjEEIIIYRIRaJRCCGEEEKkItEohBBCCCFSkWgUQgghhBCpSDQKIYQQQohUJBqFEEIIIUQKzv1/PZA1Y82O2GMAAAAASUVORK5CYII=)"
      ]
    },
    {
      "cell_type": "markdown",
      "metadata": {
        "id": "wxdzAmFsYdvz"
      },
      "source": [
        "**You need to show both formulas, numerical results, and your PyTorch code for your computation for earning full marks.**"
      ]
    },
    {
      "cell_type": "code",
      "execution_count": null,
      "metadata": {
        "id": "x6vOx1ywMjbS"
      },
      "outputs": [],
      "source": [
        "import torch\n",
        "student_id = 1234           #insert your student id here for example 1234\n",
        "torch.manual_seed(student_id)"
      ]
    },
    {
      "cell_type": "code",
      "execution_count": null,
      "metadata": {
        "id": "DJGp_k01BrLd"
      },
      "outputs": [],
      "source": [
        "#Code to generate random matrices and biases for W1, b1, W2, b2\n",
        "\n",
        "\n"
      ]
    },
    {
      "cell_type": "markdown",
      "metadata": {
        "id": "wTkZcLIdZnhw"
      },
      "source": [
        "**Forward propagation**\n",
        "\n",
        "<span style=\"color:red\">**(a)**</span>  What is the value of $\\bar{h}^{1}(x)$ (the pre-activation values of $h^1$)?\n",
        "<div style=\"text-align: right\"><span style=\"color:red\">[0.5 point]</span></div>\n"
      ]
    },
    {
      "cell_type": "code",
      "execution_count": null,
      "metadata": {
        "id": "WqZS9W-cY2fm"
      },
      "outputs": [],
      "source": [
        "#Show your code\n",
        "\n",
        "\n"
      ]
    },
    {
      "cell_type": "markdown",
      "metadata": {
        "id": "XzqKGCm8ZuQX"
      },
      "source": [
        "<span style=\"color:red\">**(b)**</span>  What is the value of $h^{1}(x)$?\n",
        "<div style=\"text-align: right\"><span style=\"color:red\">[0.5 point]</span></div>"
      ]
    },
    {
      "cell_type": "code",
      "execution_count": null,
      "metadata": {
        "id": "YXX3JH0TZzLi"
      },
      "outputs": [],
      "source": [
        "#Show your code\n",
        "\n"
      ]
    },
    {
      "cell_type": "markdown",
      "metadata": {
        "id": "NkegKdOyam8I"
      },
      "source": [
        "<span style=\"color:red\">**(c)**</span>  What is the predicted value $\\widehat{y}$?\n",
        "<div style=\"text-align: right\"><span style=\"color:red\">[0.5 point]</span></div>"
      ]
    },
    {
      "cell_type": "code",
      "execution_count": null,
      "metadata": {
        "id": "IMe0AZwBamCU"
      },
      "outputs": [],
      "source": [
        "#Show your code\n",
        "\n"
      ]
    },
    {
      "cell_type": "markdown",
      "metadata": {
        "id": "HYRtCEVBZ3Vo"
      },
      "source": [
        "(d) Suppose that we use the cross-entropy (CE) loss. What is the value of the CE loss $l$ incurred by the mini-batch?\n",
        "\n",
        "[0.5 point]"
      ]
    },
    {
      "cell_type": "code",
      "execution_count": null,
      "metadata": {
        "id": "FuNtYF3LbghK"
      },
      "outputs": [],
      "source": [
        "#Show your code\n",
        "\n"
      ]
    },
    {
      "cell_type": "markdown",
      "metadata": {
        "id": "JO5eW61NcmwU"
      },
      "source": [
        "**Backward propagation**\n",
        "\n",
        "<span style=\"color:red\">**(e)**</span> What are the derivatives $\\frac{\\partial l}{\\partial h^{2}},\\frac{\\partial l}{\\partial W^{2}}$, and $\\frac{\\partial l}{\\partial b^{2}}$?\n",
        "<div style=\"text-align: right\"><span style=\"color:red\">[3 points]</span></div>"
      ]
    },
    {
      "cell_type": "code",
      "execution_count": null,
      "metadata": {
        "id": "eJssdISPcnLG"
      },
      "outputs": [],
      "source": [
        "#Show your code\n",
        "\n"
      ]
    },
    {
      "cell_type": "markdown",
      "metadata": {
        "id": "uNC-1Y3acpoP"
      },
      "source": [
        "<span style=\"color:red\">**(f)**</span> What are the derivatives $\\frac{\\partial l}{\\partial h^{1}}, \\frac{\\partial l}{\\partial \\bar{h}^{1}},\\frac{\\partial l}{\\partial W^{1}}$, and $\\frac{\\partial l}{\\partial b^{1}}$?\n",
        "<div style=\"text-align: right\"><span style=\"color:red\">[3 points]</span></div>"
      ]
    },
    {
      "cell_type": "code",
      "execution_count": null,
      "metadata": {
        "id": "_RT0ZJYkcxGX"
      },
      "outputs": [],
      "source": [
        "#Show your code\n",
        "\n"
      ]
    },
    {
      "cell_type": "markdown",
      "metadata": {
        "id": "P9QBp-Oxc6uo"
      },
      "source": [
        "**SGD update**\n",
        "\n",
        "<span style=\"color:red\">**(g)**</span> Assume that we use SGD with learning rate $\\eta=0.01$ to update the model parameters. What are the values of $W^2, b^2$ and $W^1, b^1$ after updating?\n",
        "<div style=\"text-align: right\"><span style=\"color:red\">[2 points]</span></div>"
      ]
    },
    {
      "cell_type": "code",
      "execution_count": null,
      "metadata": {
        "id": "ChQwqLuqc7Hd"
      },
      "outputs": [],
      "source": [
        "#Show your code\n",
        "\n"
      ]
    },
    {
      "cell_type": "markdown",
      "metadata": {
        "id": "0xzHT1andNhZ"
      },
      "source": [
        "### <span style=\"color:red\">**Option 2**</span>\n",
        "<div style=\"text-align: right\"><span style=\"color:red; font-weight:bold\">[Total marks for this option: 20 points]<span></div>"
      ]
    },
    {
      "cell_type": "code",
      "execution_count": null,
      "metadata": {
        "id": "84IO-qKf195A",
        "outputId": "1f9c7582-b446-4e1d-8ae6-0bd1e041a222"
      },
      "outputs": [
        {
          "ename": "",
          "evalue": "",
          "output_type": "error",
          "traceback": [
            "\u001b[1;31mRunning cells with 'Python 3.12.3' requires the ipykernel package.\n",
            "\u001b[1;31mRun the following command to install 'ipykernel' into the Python environment. \n",
            "\u001b[1;31mCommand: '/bin/python3 -m pip install ipykernel -U --user --force-reinstall'"
          ]
        }
      ],
      "source": [
        "import torch\n",
        "from torch.utils.data import DataLoader\n",
        "from torchvision import datasets, transforms"
      ]
    },
    {
      "cell_type": "markdown",
      "metadata": {
        "id": "crQKhy56BEv1"
      },
      "source": [
        "**In Option 2, you need to implement a feed-forward NN manually using PyTorch and auto-differentiation of PyTorch. We then manually train the model on the MNIST dataset**."
      ]
    },
    {
      "cell_type": "markdown",
      "metadata": {
        "id": "7jQL_a-qBzuy"
      },
      "source": [
        "We first download the `MNIST` dataset and preprocess it."
      ]
    },
    {
      "cell_type": "code",
      "execution_count": null,
      "metadata": {
        "id": "koAVzeDhBFgI"
      },
      "outputs": [],
      "source": [
        "transform = transforms.Compose([\n",
        "    transforms.ToTensor(),  # Convert the image to a tensor with shape [C, H, W]\n",
        "    transforms.Normalize((0.5,), (0.5,)),  # Normalize to [-1, 1]\n",
        "    transforms.Lambda(lambda x: x.view(28*28)) # Flatten the tensor to shape [-1,HW]\n",
        "])\n",
        "\n",
        "# Load the MNIST dataset\n",
        "train_dataset = datasets.MNIST(root='./data', train=True, download=True, transform=transform)\n",
        "test_dataset = datasets.MNIST(root='./data', train=False, download=True, transform=transform)\n",
        "\n",
        "train_data, train_labels = train_dataset.data, train_dataset.targets\n",
        "test_data, test_labels = test_dataset.data, test_dataset.targets\n",
        "print(train_data.shape, train_labels.shape)\n",
        "print(test_data.shape, test_labels.shape)"
      ]
    },
    {
      "cell_type": "markdown",
      "metadata": {
        "id": "1cqSZ-AbFRU_"
      },
      "source": [
        "Each data point has dimension `[28,28]`. We need to flatten it to a vector to input to our FFN."
      ]
    },
    {
      "cell_type": "code",
      "execution_count": null,
      "metadata": {
        "id": "zFnh1HWOEo2I"
      },
      "outputs": [],
      "source": [
        "train_dataset.data = train_data.data.view(-1, 28*28)\n",
        "test_dataset.data = test_data.data.view(-1, 28*28)\n",
        "\n",
        "train_data, train_labels = train_dataset.data, train_dataset.targets\n",
        "test_data, test_labels = test_dataset.data, test_dataset.targets\n",
        "print(train_data.shape, train_labels.shape)\n",
        "print(test_data.shape, test_labels.shape)"
      ]
    },
    {
      "cell_type": "code",
      "execution_count": null,
      "metadata": {
        "id": "u7ovCTokFOFz"
      },
      "outputs": [],
      "source": [
        "train_loader = DataLoader(dataset=train_dataset, batch_size=64, shuffle=True)\n",
        "test_loader = DataLoader(dataset=test_dataset, batch_size=64, shuffle=False)"
      ]
    },
    {
      "cell_type": "markdown",
      "metadata": {
        "id": "0yfw4I5mdrWu"
      },
      "source": [
        "**Develop the feed-forward neural networks**\n",
        "\n",
        "**(a)** You need to develop the class `MyLinear` with the following skeleton. You need to declare the weight matrix and bias of this linear layer.\n",
        "\n",
        "<div style=\"text-align: right\"><span style=\"color:red\">[3 points]</span></div>"
      ]
    },
    {
      "cell_type": "code",
      "execution_count": null,
      "metadata": {
        "id": "lmDZATc8387F"
      },
      "outputs": [],
      "source": [
        "class MyLinear(torch.nn.Module):\n",
        "  def __init__(self, input_size, output_size):\n",
        "    \"\"\"\n",
        "    input_size: the size of the input\n",
        "    output_size: the size of the output\n",
        "    \"\"\"\n",
        "    super().__init__()\n",
        "    #Your code here\n",
        "    self.W =\n",
        "    self.b =\n",
        "\n",
        "  #forward propagation\n",
        "  def forward(self, x): #x is a mini-batch\n",
        "    #Your code here"
      ]
    },
    {
      "cell_type": "markdown",
      "metadata": {
        "id": "Db-lSIoEndgV"
      },
      "source": [
        "**(b)** You need to develop the class `MyFFN` with the following skeleton\n",
        "\n",
        "<div style=\"text-align: right\"><span style=\"color:red\">[7 points]</span></div>"
      ]
    },
    {
      "cell_type": "code",
      "execution_count": null,
      "metadata": {
        "id": "oiSu7f2E6Zqt"
      },
      "outputs": [],
      "source": [
        "class MyFFN(torch.nn.Module):\n",
        "  def __init__(self, input_size, num_classes, hidden_sizes, act = torch.nn.ReLU()):\n",
        "    \"\"\"\n",
        "    input_size: the size of the input\n",
        "    num_classes: the number of classes\n",
        "    act is the activation function\n",
        "    hidden_sizes is the list of hidden sizes\n",
        "    for example input_size = 3, hidden_sizes = [5, 7], num_classes = 4, and act = torch.nn.ReLU()\n",
        "    means that we are building up a FFN with the confirguration\n",
        "    (3 (Input) -> 5 (ReLU) -> 7 (ReLU) -> 4 (Output))\n",
        "    \"\"\"\n",
        "    super(MyFFN, self).__init__()\n",
        "    self.input_size = input_size\n",
        "    self.num_classes = num_classes\n",
        "    self.act = act\n",
        "    self.hidden_sizes = hidden_sizes\n",
        "    self.num_layers = len(hidden_sizes) + 1\n",
        "\n",
        "  def create_FFN(self):\n",
        "    \"\"\"\n",
        "    This function creates the feed-forward neural network\n",
        "    We stack many MyLinear layers\n",
        "    \"\"\"\n",
        "    hidden_sizes = [self.input_size] + self.hidden_sizes + [self.num_classes]\n",
        "    self.layers = []\n",
        "    #Your code here\n",
        "\n",
        "\n",
        "  def forward(self,x):\n",
        "    \"\"\"\n",
        "    This implements the forward propagation of the batch x\n",
        "    This needs to return the prediction probabilities of x\n",
        "    \"\"\"\n",
        "    #Your code here\n",
        "\n",
        "  def compute_loss(self, x, y):\n",
        "    \"\"\"\n",
        "    This function computes the cross-entropy loss\n",
        "    You can use the built-in CE loss of PyTorch\n",
        "    \"\"\"\n",
        "    #Your code here\n",
        "\n",
        "  def update_SGD(self, x, y, learning_rate = 0.01):\n",
        "    \"\"\"\n",
        "    This function updates the model parameters using SGD using the batch (x,y)\n",
        "    You need to implement the update rule manually and cannot rely on the built-in optimizer\n",
        "    \"\"\"\n",
        "    #Your code here\n",
        "\n",
        "  def update_SGDwithMomentum(self, x, y, learning_rate = 0.01, momentum = 0.9):\n",
        "    \"\"\"\n",
        "    This function updates the model parameters using SGD with momentum using the batch (x,y)\n",
        "    You need to implement the update rule manually and cannot rely on the built-in optimizer\n",
        "    \"\"\"\n",
        "    #Your code here\n",
        "\n",
        "  def update_AdaGrad(self, x, y, learning_rate = 0.01):\n",
        "    \"\"\"\n",
        "    This function updates the model parameters using AdaGrad using the batch (x,y)\n",
        "    You need to implement the update rule manually and cannot rely on the built-in optimizer\n",
        "    \"\"\"\n",
        "    #Your code here\n"
      ]
    },
    {
      "cell_type": "code",
      "execution_count": null,
      "metadata": {
        "id": "Gj66U7OXGlKT"
      },
      "outputs": [],
      "source": [
        "myFFN = MyFFN(input_size = 28*28, num_classes = 26, hidden_sizes = [100, 100], act = torch.nn.ReLU)\n",
        "myFFN.create_FFN()\n",
        "print(myFFN)"
      ]
    },
    {
      "cell_type": "markdown",
      "metadata": {
        "id": "A2cacc5pNTmG"
      },
      "source": [
        "**(c)** Write the code to evaluate the accuracy of the current `myFFN` model on a data loader (e.g., train_loader or test_loader).\n",
        "\n",
        "<div style=\"text-align: right\"><span style=\"color:red\">[2.5 points]</span></div>"
      ]
    },
    {
      "cell_type": "code",
      "execution_count": null,
      "metadata": {
        "id": "LpAD3mVROrys"
      },
      "outputs": [],
      "source": [
        "def compute_acc(model, data_loader):\n",
        "  \"\"\"\n",
        "  This function computes the accuracy of the model on a data loader\n",
        "  \"\"\"\n",
        "  #Your code here\n",
        "\n"
      ]
    },
    {
      "cell_type": "markdown",
      "metadata": {
        "id": "-mt2ZxC25aCY"
      },
      "source": [
        "**(c)** Write the code to evaluate the loss of the current `myFFN` model on a data loader (e.g., train_loader or test_loader).\n",
        "\n",
        "<div style=\"text-align: right\"><span style=\"color:red\">[2.5 points]</span></div>"
      ]
    },
    {
      "cell_type": "code",
      "execution_count": null,
      "metadata": {
        "id": "1jxyDKAS1UiB"
      },
      "outputs": [],
      "source": [
        "def compute_loss(model, data_loader):\n",
        "  \"\"\"\n",
        "  This function computes the loss of the model on a data loader\n",
        "  \"\"\"\n",
        "  #Your code here\n"
      ]
    },
    {
      "cell_type": "markdown",
      "metadata": {
        "id": "MbLYNjco42rS"
      },
      "source": [
        "Train on the `MNIST` data with 50 epochs using `updateSGD`."
      ]
    },
    {
      "cell_type": "code",
      "execution_count": null,
      "metadata": {
        "id": "VRaGwlHpFafy"
      },
      "outputs": [],
      "source": [
        "num_epochs = 50\n",
        "for epoch in range(num_epochs):\n",
        "    for i, (x, y) in enumerate(train_loader):\n",
        "      myFFN.update_SGD(x, y, learning_rate = 0.01)\n",
        "    train_acc = compute_acc(myFFN, train_loader)\n",
        "    train_loss = compute_loss(myFFN, train_loader)\n",
        "    test_acc = compute_acc(myFFN, test_loader)\n",
        "    test_loss = compute_loss(myFFN, test_loader)\n",
        "    print(f\"Epoch {epoch+1}/{num_epochs}, Train Loss: {train_loss:.4f}, Train Acc: {train_acc*100:.2f}%, Test Loss: {test_loss:.4f}, Test Acc: {test_acc*100:.2f}%\")"
      ]
    },
    {
      "cell_type": "markdown",
      "metadata": {
        "id": "nVWADJjNdYkV"
      },
      "source": [
        "**(d)** Implement the function `updateSGDMomentum` in the class and train the model with this optimizer in `50` epochs. You can update the corresponding function in the `MyFNN` class.\n",
        "\n",
        "<div style=\"text-align: right\"><span style=\"color:red\">[2.5 points]</span></div>"
      ]
    },
    {
      "cell_type": "code",
      "execution_count": null,
      "metadata": {
        "id": "pk0vpIZXGJNJ"
      },
      "outputs": [],
      "source": [
        "#Your code here\n",
        "\n",
        "\n"
      ]
    },
    {
      "cell_type": "markdown",
      "metadata": {
        "id": "I5XS8u6kdzOX"
      },
      "source": [
        "**(e)** Implement the function `updateAdagrad` in the class and train the model with this optimizer in `50` epochs. You can update the corresponding function in the `MyFNN` class.\n",
        "\n",
        "<div style=\"text-align: right\"><span style=\"color:red\">[2.5 points]</span></div>"
      ]
    },
    {
      "cell_type": "code",
      "execution_count": null,
      "metadata": {
        "id": "-hqq9QLfd4HF"
      },
      "outputs": [],
      "source": [
        "#Your code here\n",
        "\n"
      ]
    }
  ],
  "metadata": {
    "colab": {
      "provenance": [],
      "include_colab_link": true
    },
    "kernelspec": {
      "display_name": "Python 3",
      "name": "python3"
    },
    "language_info": {
      "name": "python",
      "version": "3.12.3"
    }
  },
  "nbformat": 4,
  "nbformat_minor": 0
}