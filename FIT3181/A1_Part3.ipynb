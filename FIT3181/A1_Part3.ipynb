{
  "cells": [
    {
      "cell_type": "markdown",
      "metadata": {
        "id": "view-in-github",
        "colab_type": "text"
      },
      "source": [
        "<a href=\"https://colab.research.google.com/github/TheAlchemist010/DeepLearning-Notebooks/blob/main/FIT3181/A1_Part3.ipynb\" target=\"_parent\"><img src=\"https://colab.research.google.com/assets/colab-badge.svg\" alt=\"Open In Colab\"/></a>"
      ]
    },
    {
      "cell_type": "markdown",
      "metadata": {
        "id": "yBGe4m13MKhM"
      },
      "source": [
        "# <span style=\"color:#0b486b\">  FIT3181: Deep Learning (2024)</span>\n",
        "***\n",
        "*CE/Lecturer (Clayton):*  **Dr Trung Le** | trunglm@monash.edu <br/>\n",
        "*Lecturer (Clayton):* **Prof Dinh Phung** | dinh.phung@monash.edu <br/>\n",
        "*Lecturer (Malaysia):*  **Dr Arghya Pal** | arghya.pal@monash.edu <br/>\n",
        "*Lecturer (Malaysia):*  **Dr Lim Chern Hong** | lim.chernhong@monash.edu <br/>  <br/>\n",
        "*Head Tutor 3181:*  **Miss Vy Vo** |  \\[v.vo@monash.edu \\] <br/>\n",
        "*Head Tutor 5215:*  **Dr Van Nguyen** |  \\[van.nguyen1@monash.edu \\]\n",
        "\n",
        "<br/> <br/>\n",
        "Faculty of Information Technology, Monash University, Australia\n",
        "***"
      ]
    },
    {
      "cell_type": "markdown",
      "metadata": {
        "id": "-OL1yqeGMc1f"
      },
      "source": [
        "# <span style=\"color:#0b486b\">  Student Information</span>\n",
        "***\n",
        "Surname: **Gallagher**  <br/>\n",
        "Firstname: **Daniel**    <br/>\n",
        "Student ID: **33094969**    <br/>\n",
        "Email: **dgal0013@student.monash.edu**    <br/>\n",
        "Your tutorial time: **Monday 4-6PM**    <br/>\n",
        "***"
      ]
    },
    {
      "cell_type": "markdown",
      "metadata": {
        "id": "qcV5D0O8Miro"
      },
      "source": [
        "# <span style=\"color:#0b486b\">Deep Neural Networks</span>\n",
        "### Due: <span style=\"color:red\">11:55pm Sunday, 8 September 2024</span>  (Sunday)\n",
        "\n",
        "#### <span style=\"color:red\">Important note:</span> This is an **individual** assignment. It contributes **25%** to your final mark. Read the assignment instructions carefully."
      ]
    },
    {
      "cell_type": "markdown",
      "metadata": {
        "id": "psTfJNhSMy5Q"
      },
      "source": [
        "## <span style=\"color:#0b486b\">What to submit</span>\n",
        "\n",
        "This assignment is to be completed individually and submitted to Moodle unit site. **By the due date, you are required to submit one  <span style=\"color:red; font-weight:bold\">single zip file, named xxx_assignment01_solution.zip</span> where `xxx` is your student ID, to the corresponding Assignment (Dropbox) in Moodle**. You can use Google Colab to do Assigmnent 1 but you need to save it to an `*.ipynb` file to submit to the unit Moodle.\n",
        "\n",
        "**More importantly, if you use Google Colab to do this assignment, you need to first make a copy of this notebook on your Google drive**."
      ]
    },
    {
      "cell_type": "markdown",
      "metadata": {
        "id": "4qDsCuB0M4-y"
      },
      "source": [
        "***For example, if your student ID is <span style=\"color:red; font-weight:bold\">12356</span>, then gather all of your assignment solution to folder, create a zip file named <span style=\"color:red; font-weight:bold\">123456_assignment01_solution.zip</span> and submit this file.***"
      ]
    },
    {
      "cell_type": "markdown",
      "metadata": {
        "id": "5f1tbgtRM9XO"
      },
      "source": [
        "Within this zip folder, you **must** submit the following files:\n",
        "1.\t**Assignment01_solution.ipynb**:  this is your Python notebook solution source file.\n",
        "1.\t**Assignment01_output.html**: this is the output of your Python notebook solution *exported* in html format.\n",
        "1.\tAny **extra files or folder** needed to complete your assignment (e.g., images used in your answers)."
      ]
    },
    {
      "cell_type": "markdown",
      "metadata": {
        "id": "b3T3dilWNG29"
      },
      "source": [
        "Since the notebook is quite big to load and work together, one recommended option is to split solution into three parts and work on them seperately. In that case, replace **Assignment01_solution.ipynb** by three notebooks: **Assignment01_Part1_solution.ipynb**, **Assignment01_Part2_solution.ipynb** and **Assignment01_Part3_solution.ipynb**"
      ]
    },
    {
      "cell_type": "markdown",
      "metadata": {
        "id": "t9Krbduz1r69"
      },
      "source": [
        "**You can run your codes on Google Colab. In this case, you have to make a copy of your Google colab notebook including the traces and progresses of model training before submitting.**\n",
        "\n"
      ]
    },
    {
      "cell_type": "markdown",
      "metadata": {
        "id": "XeT8tJvCF6MC"
      },
      "source": [
        "## <span style=\"color:#0b486b\">Part 3: Convolutional Neural Networks and Image Classification</span>\n",
        "\n",
        "**<div style=\"text-align: right\"><span style=\"color:red\">[Total marks for this part: 45 points]</span></div>**"
      ]
    },
    {
      "cell_type": "markdown",
      "metadata": {
        "id": "L-gV4GWGGFgd"
      },
      "source": [
        "The third part of this assignment is to demonstrate your basis knowledge in deep learning that you have acquired from the lectures and tutorials materials. Most of the contents in this assignment are drawn from **the tutorials covered from weeks 3 to 6**. Going through these materials before attempting this assignment is highly recommended.\n",
        "\n",
        "**The dataset used for this part is a specific dataset for this unit consisting of approximately $10,000$ images of $20$ classes of Animals, each of which has approximately 500 images. You can download the dataset at [download here](https://drive.google.com/file/d/1aEkxNWaD02Z8ZNvZzeMefUoY97C-3wTG/view?usp=drive_link) if you want to do your assignment on your machine.**\n"
      ]
    },
    {
      "cell_type": "code",
      "execution_count": null,
      "metadata": {
        "id": "LQOmrtvqOC4c"
      },
      "outputs": [],
      "source": [
        "import os\n",
        "import requests\n",
        "import tarfile\n",
        "import time\n",
        "from torchvision import datasets, transforms\n",
        "from torch.utils.data import DataLoader, random_split\n",
        "import torchvision.models as models\n",
        "import torch.nn as nn\n",
        "import torch\n",
        "import PIL.Image\n",
        "import pathlib\n",
        "from torchsummary import summary\n",
        "import matplotlib.pyplot as plt\n",
        "%matplotlib inline\n",
        "import numpy as np\n",
        "\n",
        "# check if CUDA is available\n",
        "train_on_gpu = torch.cuda.is_available()\n",
        "\n",
        "if not train_on_gpu:\n",
        "    print('CUDA is not available.  Training on CPU ...')\n",
        "else:\n",
        "    print('CUDA is available!  Training on GPU ...')\n",
        "\n",
        "device = torch.device(\"cuda\" if torch.cuda.is_available() else \"cpu\")\n",
        "torch.manual_seed(1234)"
      ]
    },
    {
      "cell_type": "markdown",
      "metadata": {
        "id": "Y7jEL1WBIHnA"
      },
      "source": [
        "Download the dataset to the folder of this Google Colab."
      ]
    },
    {
      "cell_type": "code",
      "execution_count": null,
      "metadata": {
        "id": "Stl7B_TXF6pm"
      },
      "outputs": [],
      "source": [
        "!gdown --fuzzy https://drive.google.com/file/d/1aEkxNWaD02Z8ZNvZzeMefUoY97C-3wTG/view?usp=drive_link"
      ]
    },
    {
      "cell_type": "markdown",
      "metadata": {
        "id": "ko5XBDZbNaS1"
      },
      "source": [
        "We unzip the dataset to the folder."
      ]
    },
    {
      "cell_type": "code",
      "execution_count": null,
      "metadata": {
        "id": "1wbwfqoXIYB_"
      },
      "outputs": [],
      "source": [
        "!unzip -q Animals_Dataset.zip"
      ]
    },
    {
      "cell_type": "code",
      "execution_count": null,
      "metadata": {
        "id": "oWO7g-CJKoiZ"
      },
      "outputs": [],
      "source": [
        "data_dir = \"./FIT5215_Dataset\"\n",
        "\n",
        "# We resize the images to [3,64,64]\n",
        "transform = transforms.Compose([transforms.Resize((64,64)),  #resises the image so it can be perfect for our model.\n",
        "                                      transforms.RandomHorizontalFlip(), # FLips the image w.r.t horizontal axis\n",
        "                                      #transforms.RandomRotation(4),     #Rotates the image to a specified angel\n",
        "                                      #transforms.RandomAffine(0, shear=10, scale=(0.8,1.2)), #Performs actions like zooms, change shear angles.\n",
        "                                      transforms.ColorJitter(brightness=0.2, contrast=0.2, saturation=0.2), # Set the color params\n",
        "                                      transforms.ToTensor(), # convert the image to tensor so that it can work with torch\n",
        "                                      transforms.Normalize((0.5, 0.5, 0.5), (0.5, 0.5, 0.5)),  # Normalize the images, each R,G,B value is normalized with mean=0.5 and std=0.5\n",
        "                                      ])\n",
        "\n",
        "\n",
        "# Load the dataset using torchvision.datasets.ImageFolder and apply transformations\n",
        "dataset = datasets.ImageFolder(data_dir, transform=transform)\n",
        "\n",
        "# Split the dataset into training and validation sets\n",
        "train_size = int(0.9 * len(dataset))\n",
        "valid_size = len(dataset) - train_size\n",
        "train_dataset, val_dataset = random_split(dataset, [train_size, valid_size])\n",
        "\n",
        "# Example of DataLoader creation for training and validation\n",
        "train_loader = DataLoader(train_dataset, batch_size=32, shuffle=True)\n",
        "val_loader = DataLoader(val_dataset, batch_size=32, shuffle=False)\n",
        "\n",
        "print(\"Number of instance in train_set: %s\" % len(train_dataset))\n",
        "print(\"Number of instance in val_set: %s\" % len(val_dataset))"
      ]
    },
    {
      "cell_type": "code",
      "execution_count": null,
      "metadata": {
        "id": "0DKq9D2kGQvB"
      },
      "outputs": [],
      "source": [
        "class_names = ['bird', 'bottle', 'bread', 'butterfly', 'cake', 'cat', 'chicken', 'cow', 'dog', 'duck',\n",
        "                  'elephant', 'fish', 'handgun', 'horse', 'lion', 'lipstick', 'seal', 'snake', 'spider', 'vase']"
      ]
    },
    {
      "cell_type": "code",
      "execution_count": null,
      "metadata": {
        "id": "-nENSxyBoNaW"
      },
      "outputs": [],
      "source": [
        "# obtain one batch of training images\n",
        "dataiter = iter(train_loader)\n",
        "images, labels = next(dataiter)\n",
        "images = images.numpy() # convert images to numpy for display"
      ]
    },
    {
      "cell_type": "code",
      "execution_count": null,
      "metadata": {
        "id": "lDStaFLqoS-v"
      },
      "outputs": [],
      "source": [
        "import math\n",
        "\n",
        "def imshow(img):\n",
        "    img = img / 2 + 0.5  # unnormalize\n",
        "    plt.imshow(np.transpose(img, (1, 2, 0)))  # convert from Tensor image\n",
        "\n",
        "def visualize_data(images, categories, images_per_row = 8):\n",
        "    class_names = ['bird', 'bottle', 'bread', 'butterfly', 'cake', 'cat', 'chicken', 'cow', 'dog', 'duck',\n",
        "                  'elephant', 'fish', 'handgun', 'horse', 'lion', 'lipstick', 'seal', 'snake', 'spider', 'vase']\n",
        "    n_images = len(images)\n",
        "    n_rows = math.ceil(float(n_images)/images_per_row)\n",
        "    fig = plt.figure(figsize=(1.5*images_per_row, 1.5*n_rows))\n",
        "    fig.patch.set_facecolor('white')\n",
        "    for i in range(n_images):\n",
        "        plt.subplot(n_rows, images_per_row, i+1)\n",
        "        plt.xticks([])\n",
        "        plt.yticks([])\n",
        "        imshow(images[i])\n",
        "        class_index = categories[i]\n",
        "        plt.xlabel(class_names[class_index])\n",
        "    plt.show()"
      ]
    },
    {
      "cell_type": "code",
      "execution_count": null,
      "metadata": {
        "id": "QSR8ovzSEUVs"
      },
      "outputs": [],
      "source": [
        "visualize_data(images, labels)"
      ]
    },
    {
      "cell_type": "markdown",
      "metadata": {
        "id": "0dk_oxuKG_M6"
      },
      "source": [
        "**For questions 3.1 to 3.7, you'll need to write your own model in a way that makes it easy for you to experiment with different architectures and parameters. The goal is to be able to pass the parameters to initialize a new instance of `YourModel` to build different network architectures with different parameters. Below are descriptions of some parameters for `YourModel`:**"
      ]
    },
    {
      "cell_type": "markdown",
      "metadata": {
        "id": "A6mOc2ocQj61"
      },
      "source": [
        "1. `Block confirguration`: Our network consists of many blocks. Each block has the pattern `[conv, batch norm, activation, conv, batch norm, activation, max pool, dropout]`. All convolutional layers have filter size $(3, 3)$, strides $(1, 1)$ and padding = 1, and all max pool layers have strides $(2, 2)$, kernel size $2$, and padding = 0. The network will consists of a few blocks before applying a linear layer to output the logits for the softmax layer.\n",
        "\n",
        "2. `list_feature_maps`: the number of feature maps in the blocks of the network. For example, if `list_feature_maps = [16, 32, 64]`, our network has three blocks with the input_channels or number of feature maps are `16, 32`, and `64` respectively.\n",
        "3. `drop_rate`: the keep probability for dropout. Setting `drop_rate` to $0.0$ means not using dropout.\n",
        "4. `batch_norm`: the batch normalization function is used or not. Setting `batch_norm` to `false` means not using batch normalization.\n",
        "5. `use_skip`: the skip connection is used in the blocks or not. Setting this to `true` means that we use `1x1` Conv2D with `strides=2` for the skip connection.\n",
        "6. At the end, you need to apply `global average pooling (GAP)` (`AdaptiveAvgPool2d((1, 1))`) to flatten the 3D output tensor before defining the output linear layer for predicting the labels.\n",
        "\n"
      ]
    },
    {
      "cell_type": "markdown",
      "metadata": {
        "id": "hGSKRSjLztq1"
      },
      "source": [
        "Here is the model confirguration of `YourCNN` if the `list_feature_maps = [16, 32, 64]` and `batch_norm = true`."
      ]
    },
    {
      "cell_type": "markdown",
      "metadata": {
        "id": "JLD6ELP1zhnz"
      },
      "source": [
        "![image.png](data:image/png;base64,iVBORw0KGgoAAAANSUhEUgAAAswAAAJ1CAYAAADNFKanAAAAAXNSR0IArs4c6QAAAARnQU1BAACxjwv8YQUAAAAJcEhZcwAADsMAAA7DAcdvqGQAAPtLSURBVHhe7J3Nahy59/fPPPdgyCKBJBS+ABMwhCzakEWTdeP1ZOh4Ebx2Gu8n08naZBE3Ybbj6XXoxUB6EQLmn/EFmCIEEviF8UXk0dFLlaSS6qW7yu62v5+hMu43vR5JR0dH0i8/BQQAAAAAAAAI8v/0/wEAAAAAAAABoDADAAAAAABQAhRmAAAAAAAASoDCDAAAAAAAQAlQmAEAAAAAACgBCjPz+SXd/+2ELvRLAAAAAAAADCUK8wWd/Haf7o/P9GvDGb28f59+m16Oenkx/Y3ui/jU81LErjgb8+vf6OSHfkOn9+Xn/G/7+yrd9vc1P07ot92Uxi93aUO/BQAAAAAAgKFEYd6g3Zdj6r09cpTMi+kRTXpjejXoXr1kpXj7IKHply/0RT59mlkKfK9HNPsYV9x7vZRmUoGOIRTrwxHR61e0e0u/BQAAAAAAgEW5S8atXdrfm9Poz8yuS8cHcxo+t6yxbKHNLMDisS3SBVcH18rLCjFbqm0rsrIQC0S4R297NP50SFv6LRJ/HY7yV/SkT8nBsWVFdknE5+mbEleLz8c0ostR/gEAAAAAwHpS6cO89WtuZTbW5WcP9IesAD8cUXJiLMBTGr4dNHLXmB9s03a6L39/+rpHE63gXnyc0bzXp51Sy+8OPXtdYkW+KxT+zRl98N0wNGf/TKj3ZAeuGAAAAAAAIEr1pr9bu/TqNdHoz5cF63JRgd6iw5Mhzd9/iFt1fcTvT7XVeONRn3rzlL7JV/Xg35RZkbceJ5aF3OaC0nOi5C7UZQAAAAAAEKdaYRZsDPZp+HZCk70pHWbKsWYzWcpC61h4hXL+7ovtglEDdhspsSLTg2c0Pp8F3Da+UTrXfwIAAAAAABChlsJMdIeSnlBukzv6tcV56lh3L76m+q/l2LibEM1LFGELZUX+oF/5bNDOk5SOpn66VJ4AAAAAAAAoo6bCHEa5UIzoOPMhDmwKzFws+Ki3AU3k3zVgy3BvTqNDb9Ng4Zg7gbYiz/RLH7aQJ+9n5KrMG5RsEqVfazuPAAAAAACAG8hSCrN0ofg0pnTXnJIxoPT1ae628eCQpnsTGsjPtil9PqWh/qiaDdp9d0pjGtG2PkHj/v0Z9e1TMjLYiix086iLxRb1N+fkf7z1eEjzklM2AAAAAAAA+OWnQP99A2Gr9zbNnpzSOxwtBwAAAAAAAtxwhVnA50g/nFH/0ztcXgIAAAAAAApAYWb4gpU3CZ2+w/XYAAAAAADABQozAAAAAAAAJSy36Q8AAAAAAIBrDhRmAAAAAAAASoDCDAAAAAAAQAlQmAEAAAAAACjhEhVmPvP4Pr3MbgX0Xxc5G5sLS+7Tb9M2b+RTcZeFeTH9reU4u4HLqH46z+hldgnMb3RS49rxpnC5cfhl9bosMo7QjY8AAAAAAB1waQrz2XibRpvT/BbAGmyNvtCXL19ouqffuETkddoH2+0rfnyEnaNQKuX9/m/2FeBdsUWHojy/fGly42JO14pqLeVflN/2QULT4I2PAAAAAADtczkKs1ByBm+Ha6bkCOVSXvv9stWrsy++ptTr9Sj9qhXDHx9oRj3x3/VgY/BOTnKaTIzqc0Yvdyc0PDkUtQMAAAAAcDlcgsJ8QSdvypQc202gmXJqlv/NU7QG22GLJ2rFNd/z4r+1S/t7EzqKWD2Vy8gCCvWTPiXvP8i0XHxMqf+8TzRP6Zv61HFFKbpOaIu0/nzwVr8t4Xy432/msuGXaZO82WUddveI1Zd5n/MyP9jOv+NZsy+mRzTZa7ZKAQAAAACwLN0rzGxBnQ+pH1FyJrtHlHwyrhcTGtRd8jdL89LFQDwnQxGWraixAjeg9PWp+pyf4E1+9veKSv3W4yHNtXLbHjvU35zRhx8X9CFNaOe2flvAyuPgfEynOs2nr4lGD3PF1bi2mDy16q7ilenp65QGtV1FKtw9fpzQC7u+xGMUX2OV5rz07PpyViREWb2f0/AxbMsAAAAAuFy6V5i/pzTvJXRHv/QZnryj3Vvqb1ZO6e2shlVTWa17r5/lCu6DQ6FwzWn2Ual30hrZG9OrQdll1x8yZfld7Hu3E+pZ1l8b5WPdzD3gWzqX/996nNDsz2NKkx1LiT+j4wOhFD7PFfuNwSsa9yY0Y2usUDqPOnRtOfvHXQlgP+7hnBV7/cbS6HwsxDdK5z1KrMkFAAAAAMBl0LnCzD67tWHlVP9Zh+RuXBmWiulmErAo58wPRkKF61H/Ucm3biWUUEppa0qj5kGfkrcpJRy3jMNwVUrhBaXnbPHPXSbui8nERH+6NLd26Z1cBdBhN93k+EPUgf4TAAAAAOAy6Vxh3ribq4KVVFijfbKNcxKl8BnuJNWqNy//+y4PBaSiJhRabQVvA6XoswtDbl0XudFK+ZzS7/INDVtW9Z+XwPAkd5lQj53GJXlwmIU73RzRdhOl2ZlUAAAAAABcHt27ZJS4NLhoN4sntotCjA3aedKj+cFxruh+PqbRfEj72rVi41Gfem8HlcfCsf+s9J2OKW8lSvzCm/6ibFF/j2jyJk+LcS15xv6+UmnM3Rqkv7Oz6Y/JFe7w5zFUmU5aPhUkRmhCw+/F/cXvUNLzJxMAAAAAAN3TvcJ8a4f6vfhJE7kLwDbNnti+xPmpC/bpCebEB1Z05aY0/Z37uymNP1n+xOwCII+FM+GLJ6IUb41OaUwj2g6c7sB+vfWU+Dq4VvAQ7Bctra86zXITXrZZcYsOLbeG7XRflIGteBY/dzYF6jOglavFnEYP+e88z4Uy5ccvMzEJyT7jx2zSrAjbPyHDzZdC+mvLetDfczaAaoXemkwAAAAAAFwGv/wU6L+7g5WpXaJpww1yV86PE/rtYUr765bua4s60YROujrnGQAAAACgyOUozAJ2XxjQ1DsqbJWBcraSrOvkCwAAAABry6UpzOyOcPLbNqXP10MBZReCF/QqftwcuDK4btjdZH0mXwAAAABYZy5RYQYAAAAAAGD96H7THwAAAAAAAGsMFGYAAAAAAABKgMIMAAAAAABACWujMMtzfJ1zeavhkzmqLi653vBGy1gZlH12nVD5NOd3rxb5WeP2mdVtYs6/vrp6XjU54zK/nMt52kfLS+UNmd2V+SL9cJesRx9fUR98fGlAJtXFWN30CysJl0OT218BuGTWQ2H+/FJddOGfipBdlhHuWLZ+5YtLuupwbGXnEhUy2bnm8S46WJyNt2m0OXVPLHHKUzwdDIzlg4Bbpqs/EC4LX4/OV4VPaajfuW6E5EzJQEf1XCnDW/SML+e5koF5zSepsX5Y0OnEzPR5gf6o2z4eXCq3dmmfL+1aoQkZADZroDALJWp3QsMT79xd7kTl7X6scHyh09dEo4feLJ1v+ztJaHTY8uAoO/ABpa9PZdz8vKLjS+i0xYB7OKO+zvMXeavfAoOFGPgGb4fFge/BYZafL19OaXw+aHEioJThWTKm4qXYAl2mfO61SQPOv14evr3xysoyImd8m2UmZ/I2zhYVnhoyLK/DFwPzi5VcdShDT7C8GzIvh0g/rCcBL6jfyaRPKuKHRH37xlKbrvr4FUC1k3e0e0u/cQOQt+6KNnv9jSVgHVl5hfliekSTPc8SKjj7c0Tzvf2sM9kY7IsOe0Izv6E9eCavWz4ONkBt0Ww4o1VxT50zmjcGh1bH5lpK3SVU/kwo9ralOPtc/c7tLOz3Nmj3ndWBPuBBak7pd/1aYse9TaO5fjtDDHBvQgOfzwYlm/rPFjgbH1EiFP3DR/oNDy7T5FIuiTHlY0+u7DLzVgtkPfF3re9Y9ckDOn/ftpqG6i8Y9tIoZcWEHc9TUSE1FkHncdqBF3Zjq09NObuVUKL/bJ+4DLNlkg6OrfJqg3h9KPlQ7dFcXc9PJg815CwLN1gXdn0H2r1jeW8+QYn1wxfTF/Js/XeDDmpRlMkLPm9dTBBKQy/t4xeEy0uUs13uftt125Bfpg3q46EYT/TbEntscNo0wzLGcdnhe99xfh/5TpSyPoWx4xVPJos6XVOdL/G+6RPz/tALOyjHYox7LkbyN9dvAgSuAXwO8+ry38+/nt77+fv/6ZcZ/vvq9b17934+/fs//V7Of38//Xnvj3/1K5t/f/4ufhP+LIb6TTFNBpWWPB06bVkcOs57v4u/8tcmvH//8NLzv79+Ps2+6+OnJRy3k9bS8Gw47Kc///qfftkWMn4/XB3X37/LOlRPnTTWwS4TVV6ujPhl5pWpTC+nx6TZ/VzKlhWmfP30LxGqfFUedobOf8Oyjsu1TZ2w+Ttuebty6OejBnXl7P9EnWfl1TZleQ+0jSWpro+SOCvkzBCOw68fLx6/zXGZN2pfdcoqnN62KPSLHvXaQgNkGVlx+mUoXv9utYfydl9RH/J1oD6C76uwcjkJx5W9lvmw4qqgqhz//cNOj13nOl1cBjLdKg12ePX7lLJ2C8DVseIW5m+UznuU3NYvAxjLzezJKZ2+7tE8/aY/ydm4mxCdp4EZq17ibPPGuM/HNJoPaT+zPosZ88sx9d7OrJl6j8afjOVtSy43pl9V6tjyZX/34uOM6PWzoJXubDygSW9Mz4zVh+OmMb0qu53we0rzXkJ39Euf3GoiwrYs+J3yIyWRKhql/Ww5fbo3adnP9APxVefsRuPc3vjjA82cMmMf1x5N/nGtH8MTY9l360tirTZsPOpTb54KyRXUDHspHLlaDJYjcizBZzRzXCmU1Wf+/oOqj6AFSzy2xahUzixLEy/zP2/XxaCeDCvrs1OPbbBkfZTKWYyKdq/6kFfWytQzGvfy1Tjfp1w9tsW0uh++auJ9/BKIvvXUtIFbO9TvWat5t3bp0Cpvp91X1Aevpjn1sQC5nGzQzhNr3OM+R9RV/5GO21uFrK5rQYkMb43sfqIoo3lbtsdApqJPcbhDiV3WAKwIq60wS0UqDi9tHiXKj5gVlm/pnHpJYIi+neSd2WVQopBWIjtmM5hd0If3lHd+FqwUSP/Qhv6MF1/LSlR0Y9rnlZ/T5KjGjvy2sDtT0RXzxKHFOpsfjGgiJiqFsmTFbj6ibWsA2T7w10+H1LeWotm3sNaV6bXCXhzpi8sTCx32Qu4e7GdM3lK7bHd5uPIRim0G+41qGXEeq/7K5Yxdi8zvTil5066rSl0ZvpOEJ9iLsnx9LChnFXC/OD/YzuvScxFwfMqzx3L9quiHV4JL6uNz5dBzL/DdKq4K6eI0p9lHnc7PM9GSc7mqqutKGXZce+6LMUi/X0VVn+LQ0WQWgCVZbYU56t+ofRMdP+ILSs+JkruBAabCqtoMnv0KZb3MSuh33By//rMaZTGQ4UsLZZ92PEsEK8vbB2RZqesjLTE1cawmXSLrWXSoDf0qm9B7zSsQgY2hDFuS/EHEUv6WosuwBfkAOKVEKEXNlLQzerlLxc2fEjGB8dNtJmc1LMz15cyzkLVMmQxHJ9hLsFx9dAfLv1OX4jGTpEqrY6d+5i3Rah8fx4wv8vQXstr2p8hm5ktHjU/ZBIlXcKzVozoW5qgMc7uX4ZnPeSVQfVSPkj7FoWQsB+AKWXGXjPjSzNbjIdFbazetdoWwLTQGae3aTAINU29gCG4+iKGWkpy4BRfTl6rTkUtgEzrKBsoLufmpF3GrCCEH+fOUzj7OKPGWq3Nl2bIAGaSVZUYfdOcnO3VfU29giVGbG/tuuo2FoVGZVcFLe3Ma/ZmH2UXcmfXEtjhyfc07OjGhy7ALqIGyPmwh810xNHqVYxAr5xoW5vpydkbHB3MaPvZS0ZKcBeVIEh+UjVLhbt5sSqg+1ES/VZccpqLdc185P3jhLrtbVFqYS/rhehhrrLf03yLRPt5M7pZcKePNjYXxJYtP5O/QsjBX1Idc2chcEcQY1KZ1WruD2JN0e/Wouq5tQjJsuebw6lRdC3NVn+Kw+i5A4IaifZlXFnczhYfZmCGf2CYWtbkgvBlFbVpYaLOIE7e/eUGHax4n/OKGBt4M4W9+kBskCnnywjWPVT6yvPT7HCaH4+Y9vtnC/q18guWi09Bwo1YhbPnY5aA3jZjPWovbz6+Jx467WK7uBp2YbOl82WktfL8kbE+G1FN3s4tXXvzY6agIO1wfdrqL4YdkJo5f7oZiuKVtc1k5C8qRoKxeddktkt/quF15yOIolbNA2PxY4dv55jAL7b4gD3GZDiHDD9VFUM6KdWrSF67rGMW2I59CuaryCYdtyq5ZfivLS29sM5///rdbf+X1Ydcnt0nOZ/i3+WM+L+ZVfj8rk7Cs1Cv3wG+9slbjkn6EPPwlXisZttJlyXJV2oJtjMu+YbsH4DJYeYXZdJr1GnwANL4icjDwBoDa6E6vMGhdBlcZN2jMCssZD/zBwZrRytDCfc61pIV+uPZksCEVfbxU8pqOAes6boTSvVQ7vGwsxRuAFWMNFGbBog1eDnwdddJrjhxEGiojmeXjChTWq4wbLM4qypkMP6gM5RYwDNgBFuqHjZW4o364rI+X6RVxL6L4hhTPNSAk2wtNGK6IRfoLAC6LX/gf7Z2x0kjfXT7EvsGGKfZFnD2+olvOVh72K9yWlw6gfFYPlt24fyBvnmm+4fNqWDU5430LM+qvTfmtFov0w13SWR/PPvRvEjq9klsVl0G1N2fvCm88Xod8sL/5IdGrtStzcFNYG4UZAAAAAACAq2Dlr8YGAAAAAADgKoHCDAAAAAAAQAlQmAEAAAAAAChhbRRm3mzS9BID3hCy3OUDq4a6AOBa5Ik31cQuEyj7DACwgqi+Sd0cJ55CX60vidKPewOi/gxtfsVR9bS+4w/kbG3gDaArWE/roTALBWr7IAle4SsV6Ugj3vp1TOlu+7dLmZvA8idw3XIpHSm+rGiK9NiD0SITjUVxymVRYZfXr6Y0fhnYKW1u7Yrkx4n/kvJ8Gah8tS/Hpu2ox5Vh9zP1XK/JZwQpY03bc0vo9queBeq7on10ibwJz75hzuurz8YDmuxNs9vl3g2u9hyEkHzLZ02UKe4TVuXadbAkS/U53egSV94+bu3S/uaItldsHF8DhVnMCr378BVKUF4QX0Udga/wPUlodNhBJVudv7xueVUqttcjyq5dvUTEYD8gUyanYuhcRNhFnR6OiF6/KlzVKhvwIVF/T7/hoGQhj784YK8nyiIyS8bU6NbrOphJqC3DXmfYe32al6d4cPxgh5iJ4idV1qeviUYP6w+i5e2je76lc+o92YkcB6auIS9cf56xRYcsY5d4nBhfk6/keirHj+GJlnMcaXaNuXw5W1dWoX1sjYQecT5YKUPNyivMF9MjaZnwB2u2aPDZru8GiX4nwoNnUnk7Dha6XqJZUtndeixE6jy1lA2lwIVmZcpaqM7JnOzm3wkuUQZ+r7A/9wfVPvXFzCycXz2wWmE7wsgWLo7LWKr40WXDv/tteqLjFXEaa5gpuweHlpK6QTtPhIrnlIkXt5gEFfh8LK1Ur3zrk0jPCz77VTTWYG3z7zaFstyVklxi+VPlcuFYt90GXlWXcc7GR5QIBerwkX6jgCdnteVY/O7NRCjEz7JJKK/G9OYz+tCyFbsAl+X4RKdblOVnLWt2udjy5+SL8yt+M81lz5S7XeaujNvtQ//+R6j96PcejmhOYvKQfZ7XtwzXLmPbMlQnXyWc/Sni3dvPJoobg30xUE1oFmnHDlXtY2k8GS7ImVKI43wjoU8HceqqEC7HK8rXlgevPON1vSRZ3Vp5t+IulQWJW2ZtWYNNfvmM9vnBdhZ+nhbVJ3B7yPukXIYZt8zczyROf1eSdlMvdWVcW8Xt+PN2y+XlpsV8XyLb15nzWztd/D6/jvXDTp59OasIm7HDjX0njtd+svLS75f0OaY+i781aarQJerWZVOWbh9evvw6kWzQ7nPRC76pJ1+XAp/DvLrUuSaz+spWeftR8PYgfQtVw5uF/NuI+LV9ze5/f/9u3Tyl8uBew1uWL5Wm8LW95iYyc7OVF7a5nYpvv9Lpc/Lu39QlX1u3ZJmbscx3rFu01O1r/LdOg4kncvNX4capUNyBG6mi1xVrQjdBqd/9pW8UU09rN7X5N4l5+VDl4tWB9XmdPFUSuc3MLYuQnMVgGbPDM7ex5eXG+Vo63SG0jHE8Mv2yrOz0qLTk9We3B1/21PtlMu7KYUX7Yapk2pY9+7uV+SpDpSPPs0lnc9lxZaId/v3DLg+7ftTfnE730XnWdVT8vFi+hbKVmPDN9+24BaV1XRcvTEOW9rBclspCQa4icSxBvF8pyo4jEyKdv1u/K5SZLNOYzFr50OXTJE+qXeRpcePmsN14nTzq9pXlI1T3Vp5jslCoN6YibPe1Ll8/jBLidaVxZMdleV2iTv9TRkR2l2ofqkzyz0P5MrSRh/ZYcQszWyZ6lNzWLxdk425SsHYq9BLNIpbJt4NsdjQ4d62iG4NDy6VAWVvn6Tf9uhxpUe8FrKwWw5N3OvxI2Ld2qH9+5FkOxIzOsyqyVXi6N6fZR7tkejT+pN1fOJzenNLv8gMiywI2fF6yNCNmky8O5tZ3VNxFtxobZaVK7sbzHUb9bn6QUl8uIYnnRMxKW/Jdv/g4c11EeMWi51n+9qa5T+YDdhFKKbXinkdcZByrh/W4FuoYZzR7O7T8+tVsPBZXGDPLHxCdsFsGUfo1/3XYgtUCQr6f6RUjRx4FRv7N57KNivq085XL1ZD2vXZy9o8rZ9JS61nOK9vPopTkK7PG+Y9XrsZqNHtySqevW0zbEmyN7Ha7Jd0+lJzo/pNdsHqcZ+PCo8uXXeLka29Zt9Eti1Z/5MRdVdeeVc88Na2hhlxW3LhL+fGBZs5K2RY9E3U5+afFNlSF1Sc5K6CiTg6tNrPxqE+9eSpGWsaMEUWXOIevQpYfjigR9dnYTYtvHdR9lht3DazfhvpZO89ths1yRnt9LWfh1dMqmvXLOcvoEgp/fM8JWc2DKw4lLNQ+Go1ddyixdZArZrUV5h9CaPWfS3E7adZ46mD5MJ8+mdG2vdzgDY7bQnmsC/sC0maiFYJFYQFMgg2lUiHt9WnHaqC775p2imKgEp0picGz2e/iy7Z1cJRxqdS208i4PhzFUS+BlZPHLf2w2J9b/95WhnM/MfepVW6ybdjLeOLx3Fz8DtFdjpvT6KG6slrF6U5Y3LQpX7JWleYyFpZ/lQd7eZInAwHnn8snUx69Jxs0VLqPEqV08sAv/YKTO/rTK8Rb1o1f2X6ZVNW1Uea9p5EP5pD6VlvcGtXcrPg9pfk8b/P8NBkD2sDxF2d3uSzf3lK4dAcwqD64aoyYHPBv3LKpi+PnLttEk8nT1XAnEQry25ke3y/ow/syf/0iZWNAJUvoErINfBoTZeOX7RKh5LnQPsxktxYLto8aY1fOBiWbdRXx7llthflW0o5PHndgvUTMVbpB+RuaGWmuMBohZEtRXWTjbAMxS04OjumDfmlwBU8NOu3BVh21G75Ww3HgmaT+sxHdNyh/8xs/5UqtvSqiJh3yd6LzSsUAbzrM5SzMjJile+myFQK/Q8zrRJU15yvPR9lqjraqXBa+7/vXZtPm3JJpniaDQEeUWpiVDDsrFbptNl9xaRlOtxjM7DLllYhVIV7X7ViYF4Ytlk66xGNNjq6Ks7GY8Av1LUub6JPyll2vD+YyD20Svq7IFepMwVPlV7YCXCQ+BpSznC4hsSbqp69TkYdcaW7Dwrw45WNXzor0g5oVd8loxxwvB9yg1Up3qktaztQysm2ZtSpYDDjsnuCiBsjQEp1cSnrbxs5QXgZMafZevxRxyuUcoURnsfJmuXlxWXsxcmW5ODB4+dWDsMviii8vOYby5VhAjMLSsJNXYb+o3YnI47M8WcjwJoBLWZilu4zoxBeSXSMLeb5CMpyhZbhwyoGxPLZoeVZLqfam1TM65rjLXIAyVL4mu64lpRGyjko222XKvBrMatt7KizMctncbvctyrDBDJDN+xZrIiXqfDUszFV13YaFuYKYLPCSvpDhFxUbrBavD2VYWXSZPx8LL+SpRLkM128/mdW01VWnfKxnY8KqrGQod8KWZChkBKzocxbVJXyU4p+zvIW5glj7aDR2teOW2xYrrjDrBhzaJZktE6plOLM0V+x81BJK/EijBbF8mOXxXFkj0v5qZqnwYUr9wKxwazSloRVGtlzOA6uehZrPFh0gWfmgudUdCgVNzTJ1uPIYq3aWxKTCxX9YeeLH1IeTX1Em+45lQ1FQfDP0xEY8shM14ZgG9+DQyxeJ2auXL9lIxf+buubwciYfTfhQhy0fb0Cx8sz+7KeZLOTpVs+A0gauKpkFWnY27ELBYRgLAFsttKuEFUfdXdBKFvjoMvW77fd9K93+su2M+nxah59u6esnaOjPV0pB/puVWUHG+WnUfpTPdL7Un1tcNgavrKXVI0pOWjzuT8qZFW9IhqNUtA+NVMoFjSaloj7294zsiedNQuPWLMy5nMml5ki6Yyxf14tTLgusrE8pcVy5imPTQvWhceMXT80yk6fhZP3VNqVPXBkOlWm4T+H+x/TpS0xQM9x2t53ut7iSsYyciXzySQ32eMxPbTmrMwbE+pwldQnPlarN8b6K8vbRYOz6PIsbcq6AX3jnn/57RWGBU5uS6g6aDiw0opPPlQGwunDHpjY8NXfpqIYtOq5Cuzys1HLnvgrLrZePqq9Oj/QD7cEWajH5WmizFmgf1McaoPo43uuR11G34xQwhMr+allxCzNjZl8LzGK5Q4rdGgdWEDHzfMmbFOq7QNRCz7TbVpZvMsr6DWV5PeCB575cqYBytgqgPtaHwGZ0PgVFvLcqfrXXFelvL8aXVWofa2BhVixiyWOL4uwxOqS1Y41WBW62hRkAAHQ/WPCvNfDRgCuw8XZReDzadffcsE/z4QO1+h0730GepIVxYTHY2HlI9GrFdIC1UZgBAAAAAAC4CtbAJQMAAAAAAICrAwozAAAAAAAAJUBhBgAAAAAAoAQozAAAAAAAAJSwNgqzPMaq5uHsBj4lY5FblNYG3r0bOkCdd5jyYeANy6sKczNV9JDxG8q1lzMAAADghrMeCrNQDOVtet4RLbYCF1Ic+VajdLf9u9HVGbRW3A1vOoor/+pWIFf5Cr0nuIIzps1Vmu3dwNQG/k1K+XNZSmxXcgYAAACA1WANFGahEO3yXe7elY5CiR7QVN9/HrnXnq/Z5WuNDzu4LpXPWNT3r0/3JjS4pCtZFRd0cjgiev0qfLYl55vTdiPOgORraFU9nPK1ob0xnerXl3b+dpdyBgAAAIArZ+UV5ovpEU2EclpQfh4cWgrhBu08EcrSeVpUWB48k8r0cdDaqK2TS7ou3En8+931TU7G2tmyawR9PhY5GtOrwLWcpW4T7MIh0mJbyO3v8Pv82g6jkZWWw9e/C//WswY7k4zuyozzw/my852njdPkWofN9zOcfEUsyaVyBgAAAIB1ZsUV5gv68H5Ow8fLWEqVMj35p2WlNUOlkTaTzDXCXOmYWb/PB0XldQnO/plQ78lO0BWj0m3i7UDdTMdpOxnS/OBYqIw584NtOkpOs8/rX0kuFM9/+jrPod+yYjqg9LUOmx/rFp+uy4zzZfLNlujJm5rWYOP68snkK6HRw1CZdC1nAAAAALgqVlxh5nvce5Tc1i9jCKXmxYFQrJ+H/Xk37iZh67NZzl/EdUEonsriuE2zJ0IJzMI4o9nboeVvvUG7z4Vi+v5DPQWtkgtKz5e4x55dFkzaHvRpSCmltsV0b0rvjOU69HkUUZZ2OXq/lSsFIu6QVbyyzMwmRv9pYoW28r3xqE+9eSqkq5qLjzPX9YUtyb0JzQKW5LicAQAAAGCdWW2F+YdQuPSfcc7o5UP25z2N+6zeTmorSLXRPsxsrXSUYZnmCQ1sxc67h345eBKh/7wU5pR+139W4GzC9O7Y/8aJtqzwDlVlZnyy/cdW0CtwLPIyPM8nPgKnm63Teb62aRQr/y7kDAAAAABXzmorzLcSSvSfYdQyP/s4Z1bREN9TmvcSuqNftsnGYJ+Gc993dUhTX7mz3A/i3KGCO7TEtrLHvtMVNSz8AvYPHrCVOMvzVJRCTtHP26ekzNqwMC9Bz3Yj0U9wctahnAEAAADg6lhxlwxWDmMWzlxZrrI0XnxNI9ZNDmNZxWuLntk+sbd2qN+b0GChMDco2STHD1a5MvRpJzsNQ30n/dr9wv/ZWJSvE3cFlrIof6v/ZqQbxNtBeBNhVZm1YGEuJ5cxpfirv5mtx+zn/aLWkXFxOQMAAADAOrPiCrPeSBXYoCUVSf4j8yVWT1Eha2PjYDnGyvxCblLboN13atOana7CBjYv3UZp3xq5v5XnT3vWaaXEuZv1FHoCIB5W+owrQaPNc1a6BudjOs3iLg/blMG2/s5RMnYszFLp/cTnFavP5ZOdklGzzDphiw7lBkUVJ28MdDZM8mkscqNfnq7wudvdyxkAAAAAroZffgr03yuKsiTTyYLn6vKRYG8SS/G7DvARbGqzYakrSkPYuipPkmjNcnuDuJZyBgAAAABmxS3MjLEANrtNT3IFt+FdDhu0+3JMVNNVAHTMtZUzAAAAADBroDALHhzS6eu0sV/w2Z8jSk7ehW/DW3dwu9zKcK3lDAAAAADr4JIBAAAAAADA1bEeFmYAAAAAAACuCCjMAAAAAAAAlACFGQAAAAAAgBLWRmHmI8+aXjDCVzUHL8q4xtjXU7d7jrE6h7leefKxdzev7AEAAABwPVkPhfnzS3WBh30+sH9dcnYJRs7Wr3xRxm+tHr0mFffAxRVSUQ2koV3yy0Oyx5tEbI3ULXjO5RuXzNl4m0ab08XOzQYAAAAAWDHWQGEWSuLuhIYnh+Rcp+FdlzzdHNG2b4Hu4Oi1jcErGvcmdGRbb4XyfvS2d2nn8A5PTL6nNIxdN31ViMnN4O3QndwAAAAAAKwxK68wyyuw96qtlXeSnv7L48EzGtOIjoNKpbbYNnL12KDd5+7V1HwO73xv3zqH17MEO5Zn/sy1erN1OnOf4Bvj+Pu2BT2avi3q7xGlX+tPB5SFPE9bUdkuS7uFSZ/z+QWdvAlMbgAAAAAA1pgVV5gv6MP7OQ0fV6lfZd/boJ0nPZr800QproCVcGNlNtblX03c7L87oPT1qbYCn0qFvWD9LmMuvv8wpX3+/acx9d4eRdxKzmgm4u4/qmnXNq4t2ir/Rd6gaCvvrCzbaRdP6KpnVpYf8mUd3uc/PtBsPqQ+XDEAAAAAcI1YcYX5G6XzHiW39UsftsZKS+i2UEnH9CyiqG3cTYjOU8sSatiiQ1YKG7sPmKupj+mlb13+fEwjoTTuD4waqb7bezsT6mhdhAL+SVtpb+1Qvzen9Lv8QDLZNRZgVm5f1bxhTll/e6+f5dbfB4c03ZvT7KMqGWnN743pVZb2AF9zZblg9f+e0ryX0B39EgAAAADgOrDaCvOPlFL9ZxCh8GWW0OcpbQc240luJ9Sbp0L9bpFbu7S/N6FJyF93WaWx16edTAkWCvc7VznNfZhPqf9+u5FLSXI3rgx/S+dEm0nRomwxORATBApbkS++ltYWAAAAAMBastoK862EEv1nJQ/6Qo0TCnbIdaEjy6f0mw6F6yvnHL/+s12UP3XYeh7G9Xe+oPRc/ymI+oFbsLI+FROFQcC3WVryAQAAAACuGSvuknGHEs8dIYZyJ7AtsznS8hm0nC6y6a8Cqbjbp2gEXCGE+mzyxJvwBm/V383RYT/ZKbUKK5Qvt71Z0Xcf2XjUp16NUze2RhG/7C4s+QAAAAAAV8yKK8x6w96bwEkNmf+yerbf9+k0tEFN/LLexsG2YL/oKSUH2zpt6kzid5lfsPhcbrbT6U73G5+ZnPsw+2HnJ1ywEj7XaTAncGwM3tHp65QG+jv3d9PcV5rhY/g+8dnVJnzxBE/JYDcRdaSdcya19Lf2jtwDAAAAAFhzfvkp0H+vKOrkBgptMqsDK9ZvkogyDVqHy3uXaPoFR8sBAAAA4HqwBgqzYFElTB5/NqP+p3c1T5IAbcDnSg9ousDpIwAAAAAAq8d6KMwC9vVl94UmShgrbrPHC1qmwRLwWdTblD5H2QMAAABg/VkbhRkAAAAAAICrYMU3/QEAAAAAAHC1QGEGAAAAAACgBCjMAAAAAAAAlHBDFGY+mu43OsluAeRNafdLLujIzzO+7/yuDVTYZZeD8GbFqstDrp6qMvTgE0uyMo1cYb4kXG7t15dNwzwDAAAA4FpwAxRmVnIGlL5+1eBoOb585At9+TKloX7nMtn6lS8PaV/xUwqlpaxqJdZcbNIpfCkKl+mnMVVfwF2ET0lp9UZGh3qK8NlYXRSDkz8AAACAm8W1V5gvpi9oRGN6ld2GtwawcnmS0OgwdMveolxQet6jXi+lVCviFx9nJN5QL64BWyOe5HR05vbnlzR4O6QpzpYGAAAAbhzXXGE+o+MDovHL2C1/tutFMzcBZa01T8Aa7F3dHbXiGlcF/wrqB8+Emj+i46DVU6d7AYtr/0lCs48c0wV9SPu0/4Ronn5THwrK82WX1zaN5vpthvPr5IG/28RKrqy8WdxN8lbp7uGFbX1H5VflJb9y3K8v8fs3Exqe4PZCAAAA4CZyvRXmzzOa9Pq0E7E4TnaPKPnEVskvNN2b0KCmksbuAYPzMZ1Kt40vdPqaaPTQUtTkzYQpjXXY/LwLWbjlTYQjSk7EdwpXd2/QzpMeTf5poDjW4VGfkvcf6OLHB0qTHbqj32bK82VcW051nk5p3KJx2rg7ZGGfD+q7ilS4e8hVhixsfnLFV1mlVV6GXA/6O059ibKazYfUhysGAAAAcCO51grzxdeUaDOJWJdZQcqX77ceD4nezgLWSR+2Ws9p+DxXcDcGr4TCNaGZtAYra2Svymf6a64sx3xiN+4mROepCNFH+1g3cg/4Rqm0CG9Rf3NGx3+mlDyyS6YiX5+PO3RtOaOZ4+6wQbvPhzRnxV6/szS16jbC95TmvcSZXAAAAADg5nCtFeZvSkOsx+2kwWa0HiW39Z8FlGKa3C1XLCcHIxLqabnVktM0T0WI7bL1OKHJeSIt71IpzyjLV4f8SCmlCQ0ylwnx7E70h8uzMXinVhCC7hbVyIkXAAAAAG4s11phvpM08BloZEWcU/pd/ykx1lvmDtWJlpf/pRLn+y7btG7ZTChhq/eDQ9cFJLNil+Wra4Y0zVwm9FNwU1kc5XrBz5SSg+1GSrM7qQAAAADATeNaK8xxlwYf7UbxZKeGgrZF/T2iyZtc0b2YHtGkN6Zn0lqsfY93qzcRbo1O5ca+7YjvdNylZPFNf3Eq8iWt3TP6oDfxSZ9jX5nOrOHK37m2jfjWDvV79X3IlyM0odmgZFPkPeYv3pGlHwAAAADrwfXe9PegT8N57KQJ3vRnXAC2afbkNN/olZ1wwUrfnEYP+e/8xAe2Vk43haKrl/i3DxKaWtZQdgE4fZ06LgZhi+YG7b6b0vDtQHzHV7Av6MP7OQ0ft3Qug3R7KKc0X7d26ZXcBKg+O0pOaSoU7IwHh5bbwzalz90zrOU5yvzZQ3ZFMd8zeeZyUBv9THnxUygzWU7552bCUB42K+/Wb/hEjM1pYRPm1sjUg/qeE7dW6I8aunIAAAAA4Hrwy0+B/vtawsrU9vs+nba4vH8psNL+Jlm/dF9X5MknRFPrhA0AAAAA3AyuvcKsLIyeBXnVkcfNzaj/qaNLOMBC8JnNA5o2PJ0EAAAAAOvODVCYGfb55TOX10MBZcVs9jh+3By4KtTkK32OugEAAABuEjdEYQYAAAAAAGAxrvemPwAAAAAAAJYECjMAAAAAAAAlQGEGAAAAAACgBCjMAAAAAAAAlACFuRJ18cXLyOUnYfhUjuqb/q41fDRetAy4fPKLYG4s8oKc1ZST7DIYfjq5gVHfVll2NXzXcPlfZfweXOZNrmxfJYy8VPaTnZX5ivUp3P+V5HOd6xqAmwoU5grkFdCb08IxYo5CUVB6tugZ3/TX1WAsFS0T9yUOEq3Eq67NTl+/ChzxV6FESSW87Xz7NwEWw+Vj/rLPV0jB6hK+rfLLly90+rpwj/j1gGVpN6XxS+tiIEe+2q7rajnbGOxTcrDdcHLeEis2eWjGEn3Kkqi+IdAX3dqlfb41NTLZvNK6BgAsBh8rByL83+8/7937/ee/+mWG9/6/f9z7ee/pXz//068N/P7Tv/13l+O/v5+KuJ/+/Ot/+g0R619/FONun39//m7lWaUjUDaG//3182ngc/m7QFmZMv2r9HM73x3h1zm//iPL9c+/noq6zl4viR/XCiLrq638rgyqHqvapmzXXeU9VveRdtM5nJ5Qu2ubDuJZuE9ZCu4P7/38/W+ur1i/pOTs9//TL32uqq4BAAsBC3OUCzp5M6HhiX8Vsnq/9/pZ9v7Wr2PqzWf0wbMy8Pt0cOxZnzXamtVsWe6Mjg/mIk32BSwbtDsqsZLZFg62IonXtnU8j19ZYlyLh/3eFh1a10JvPOpTj1JK7TzbFuiHI5rrt3M4/eRa9SQiHr4GXIS/o99x4TJPaXwZF8/cTkS+LB4cWjf7bdDOE/HpedqJtcrUiy0TZSsZbN3i79rfyeqvtK4VZWEvjbMaUZKnggVOWwSdx7PgOWEvsNLw+ZhGNKZXFTd/3kk6tK77cmZgy+TehI68ulqaWH2Y/mJ3QjQf0Xb2HSMPyjLOcpWvtNhlbtdXuC6c+uZ4HFT42ecRi2ycRfuU5Tgb80VYX+jwkX4jiOibnw9p8iZi3e6qrgEA3aAVZ+ATnf2zZcG2KChLwz22NhQsCSUWBhl+Qwt0pUVSWz2y+NTrLA75e8tq5oVXsKiVWUDkZ1Y5BF97v61hXQpai3RY0lLE6eendYuRosqiGrVmLYJV/jLcUHlZ7/lxy/qy6tP5vKKuq8I2yPdLyiOM30bC1Ambv+O0EV/O/HzVoN7KT4V1cElK8855alW+a9RHNE69qiJkyZRZ2PIeiSMkd74MZ2HVs/w71CirmGy3gi+PBSrKvvW6BgB0BSzMMb6nNO8ldEe/LGIsIwOiky803SNKv/qWgg1KNkPvC27t0rsvX+hdhZWrCRfTI5r0xvQs87feosOTIc3ff8gtHOLzU2MxfdCnoWUllpbytzNtWRLhfZwRWZb0HJH3wxHN9/Yzi+/ZnyPx3ZAPYc7F15RoM/EsQTXguqAJzeiV9Kv98uWUxhT3D2xObiXbZmvVr8UcS36c0Au28D/3rVnLkU5/E/EmNLUs+MzZP+4KB/s9Dv2VDKs+pdV/ntI3+UpQUte1wl6KOc0+Lmk54/J+33cswUomLTl78IzGPSEb2rLu+Jtnj235vKD0nCi5G6nBzBK7La3QeVtqg5pyxtZnux5bYcn62JtmfdXW42HNVRZeGQqt0hnOaPZ2SFNrBYctsll/5a+Wmcdq9wv3KZfGHUp6c0q/65c+ndQ1AKALoDBHkB1xlDmNHm5T+pyVty90+CA+CPOy7jy9xO5wmcHj1g71M+Xjgj68J+o/KoYmN0IKZSJTxmryLS06adRGKH+54qQG1vZcI9jdRNXlly/7lD4M7fYXys5DnhScFjaALseERkIJp72+p1QomZrs2srCQHzbpfdkJ69vOQmLKSc29cJeHFGen9gdaVuHvYi7B0/KZtT3ltpZhuZZuPwIWbTEamtk6tF+bFeeb1QqhuyCY373PKXtVl1V6siZ4FZCie/utBTL18fwsSVVXEbvWpg0/hB5FFI3yOpSPLbLhjYq5PWoH6vfWapPuRRKjCZM63UNAOgKKMwRNu4m+i8fthgIRcVRnHgQ7lFyW7+04A69l8Tt1I2Qfo+5NS2Ip0SWK/4+ykd38o8YTn98IKGu0I5nMWYL3oCtQgsMmAv7hF6qFWaL+oXVArYMCoXSsrK1hyjLL1Mavh0UfIyZ4YmvMLTnx91l2Layc8onxjRU0i6mL2j2JLxiwW3PTTdPWtVn1RZm1X5r4Vnl2yUkZxqpSApFqq26YJasj+5g+XfrMlPGa1iYO/Uzb4WKFY0u6hoA0AlQmGNElTSlVM4PXmSDsHKFKCqXpZ2lHgxCSlIUMejti0F2smsPdhd0MlabStSS/IiOM4VabxJs4EIgwxBK99nHGSXe7zJlOWDFlJb0zPVDWWN924+chCxiFdaW73xzjFrqdayr/J50kVlgE5iNqJejtz3Lsp4ry7Zly2XZuHMLYG5x1JMXp67bosuwi8QnnxE+v6RtzxXDwO4AdtvzqbYwV1j8LMLtuis5s4i5gxkFcskj0oL1Ifu7Nl1yGFXWcgLOcPodC7Jq14OYa1UNC/PCfYrBuOC05t7lEzemSCpd/wAAK4P2ZQYFyjegyI0kVRvQQhvfDPKzhhtcNNlmL/l4G0p0uOZzJ/zCBpPwhhQVvpduL9zs8TbsqPc5TA7bzzu/F98cWQi7kNb8s1C5mTpptlHLDdcvT6eercePY6G4QxuiOHxrQ1UhfqtMSjev1ajreNiR+ohtUvMx+cgeO96qsP36UE9Bjp3PI20shl/uBj9cp/xyupAzm3i9mrJbJL/VcbvyYOJQcUbzWgibHzt8O98iTO5HnHItykNUpoOo8Ivpi8hZoU51+iJ1HaPQduQTKFcun5KwS9swAGClgMJcRmxgrQk6wyJyoGk4ONVG1ldcEemUq4wbNEQpUwu3zS7rumySLZCT2a7az5qyXJ+iFeu6k8FGVEw2KuoaALBaQGGuQA5QC3SmnSqGa82SykoQY8W6CoX1KuMGCyOVlaZ11nVdx6ylAqmki7jRpwRYrE/JrMSdKMtVY0dJXQMAVpJf+B/tnQGCsM+iOhGj/ukI7Pc6o36tEwtuIlw+fPD/JVxEAtqF/VCDl9IoeENe+xsjO4L9V/lyizZOfGgBvuDjBb1an/JbKVasT+F2ckj0KiJbqGsA1g8ozAAAAAAAAJSAUzIAAAAAAAAoAQozAAAAAAAAJUBhBgAAAAAAoAQozJWoiwqCV9hG4Q0oq3KTVltwnpa8rGFF4AtYYhfG8Gac7i4xAAC0D/dNfJmMegpt21xOIh+vDzOXwaDNrzayDtd4TIWcrQ2sA8T0AyjMFZyNt2m0OQ2ekKGu4Q0pkVv0jK+fXfJGriLuwCCfpg1QNtz2O55iWSwy0VgUc/vagmVi4BvmDhKa2jf6mY7OPIU6bSnulUTLW+tyXF5mxeutr8dErZKO2mYd5EQxK+/maTC/v5z27nI21jdx6psA3ZMnhAzvTqxr4K/6FA1P9q2n0a2vV8Zl9uugc3gismj/3lF/5fZF1tP6OBRmY7BPiXPrbg4U5jKEMMmroAtXIitFYpaMqaff8dkYvKPp5ohedNAJ5p3/lIZvByvTefVEYcw+Xn6nfzF9QbMnp06ZNB98zMDqHQXoXc/LdbptKXjtxL2CSIvOjJLXMQlfHDMJLSuzXMb5wfGDnWImirq8p3uTBpN9pUC9oD4N9TuXywWl50JeHkcO8PyRUipS1o8dCWrad/Ta+7bZoN13Wq5PuMTE+KLLHUfMXWMuXc7WF9adVL8vxgbxOhsLLu34zy06/DSmdLc4GYDCHEUMBG8CCpTgbMznfX6hw0f6jQhbv46JDo7DMzBtuVxOudqi/h5R+tUOw7NCZ8qdfl+eoSsGxOw7vvXO+70/cH63LK7+Z0/6YmYWya/AtRy68Ro3CXt2aSYCaonkRKdLCLFU5sTfOm/cwPLBRpXJPP2mXzOuVWfwVr9tcTE9klaqqrO27ySuAlkd93LELX+cJy5Du768Bm7KST/1ZU2EyecTfzmkHf1OEVdOaoct5P7obY/Gv5pWxasxPZq//+DKUhdweYxPtCyIsvusZdmSY9+6kU9GOb8v6UR//tv0LA/HW1XJfu9YztXvz+wViyxeXZbRtqnCtSfGMp06/Kr2UY7q53qvn2X9HPdbvfmMPtSw6vOEkc+ofzdI9Dtt48pZMU/fKI0dCs58T6Nnhtv9UUF+paycOfLgfyfeNpeE42bZsGUly3e5LCgWbJsVqPISk11RoJPdQPiZxdGK3xkjvPbhjx8Ct0zjlmzzvbp5KxtfsvLWL1X55e2af8O/teUlTxfnqbwfXk7OPPmXj93nVGD6Av1kYRvZ2p2IAWtE29l37LR7cWcypt+v0CXq1mVjLqN9iAnO/t6EjvzP+BxmEKDOtaWVt4WVXI0qf9v0dir/dih+7cb/7x92mgO3SZXmS30/nCb1WX5VuBu2uQacb89S77l5928+VLds5emQt2Jx+PpmLPv76rucTxWmfL8kH/4NW6HXbh5L6smh+nt+XEvhXc3ulqEuC6v+3biLsrEIfr0pVNx5GQbkLAbnyQ7P3GDnyUKtsJqi4+KwZVnJOK1y8spbvTZlqOWfy9cLx5SDW/7hMsrDD5RZVKaLcifrRcfVtH24WPmXmHQ2rYNAflog2p/p/lPJjv2o76syCXweaJt2HWYYuTTfD8pG/jrcTirwwzSYuM1nMq+mjsplwXy+UNusRTH+jKxO3DZjvvvf379bcuanU+cjVB6MVVal34ug2nten059cdhO3XG68zah4svT6vxW5yPPczFfhkXkzOlTdPnWr0s3H0EKec9ZSpco+6w2Edk1ZWbC76p9BMoGFuYYbJnoJXRHv1yMDUo2fQuwRi/RLLIMl8/uB5S+fuUsV2+NbIt4yAIdR1pZe2N6FU1Tj8afTPjhsDce9Sl941sOzuj4YE7D5/mSysbgFY17E5rZs04R96lesuJwevOUMlvt3n6WTzucAmL2ObAtmGIWehR0q7FhK1WPktv6pU82S9+mEY3pWcwK7ce9JGf/uCsc7Fs19Cx/w5PcXWHr8ZDoPLXKfh51kbGtHvlT03Lx4wPNRDnkcqKsxJN/7Fl8BZmFg2gql95SSq24gxasNhAyZurPtqpKy4RnaaUHhzTds8vQqlsrHMUZzRw526Dd50PPcl7dfhampH34lh7zuBYfY/0bEJ2wW0aLaVuCaH+WuUp5y7b6dtVsWddze2i0JG71R/SAXU5yGS1tm7bly34cK1cVlqzc2qF+b07pd/lBOW20zSXJ+yRXxjcGh9ZYtUE7T3rWapweIwIrujapkGXlPlT+vSBl40sVe9NsrA79Ns+zn68aROWM+xQRtnE3knLQtF3Gx4AqltElFN74nhGymosnsOIQ5xLax+2kUM9QmCNcfE31X8vBS/htLtEz+eBwSv33225HnCl36gm5H8T4xmubm0lcGa0DL2VshpZzSxRSTe/JTh63HBAbdoo8UEk/5IY+r9LPsQShOKnyFs/zlLZDy6+Lxh1F+WbaiiMrMxP9aZSsgSs/LDoQ8iF/66Z5a2RkyH5qpp0nk84y3n0xiLkL375C7ii9/NuHKe3LOEUdy/JPKNFxu2mbyg0YrSrNJSR3F5R+mQd7eVI8Qh5Wgdwn0H1y96M5jR6q6//V+0r2Fi6LNlmiP+uOiraZKfPe00hZ79NO1haV33OVu5ikRtvsFtdfnNtyZhTyJhJOumT7qRojJjTi3+z1m40LmqXHl0vnDrEHYKbMsbI371H/Ud12WT4GVLJM2+PyFZPVrI04yrBIV6h9NPFRvoz2cUuMSdnkRQGFOcLG3XZ88lgJ7SXL2anjKCtWZlXMlLZcCNlSVBffP3dRth4nNPrzg35l8GeAFb6HTeG8PxwRvT6t13BsZMOoiWdpkiwTdwXu5jd+KpRae1XEGrhP+dQWq8NcysLMsFXESZd4LIXAV8izQZNn7bZ1gCldzVGWjcvCtaAoxag+liXTPJe2USVOuYVZDco9R3YrVlwuiyX7s66Jtk1PMcyeRhbmJahom1fDGb3UfaRJ06m9obhWH8zt6xptrK5ErVCTyK+UH1l+7opyJSVjQClttD3L0CQ3y2dKcxsW5iWo2z48Qw4DhTlGwBzfnBJLje5Ul2v4ehnZnjnbs3TpIqD/NsiOKbxUIpeaRONc2jn/wTMan89opl8apWdiuWoY94+oe0MTLIW14OLi5ZeVh+JMmZWGeks6Kt3W7LYsboOZqTcaMNXS3iSwUzeM6IREB+fKQo4/AVzKwsyTBjFLX+gEGL18Njo0shCSYQspw0WrilH4W9tIost7bm9a/XxMo/mQ9mP1aiPzNaHBMkpRSdtkMmVelEkTq2G5hdnk+0U2WSrIOLOQDBuMu0eDCVlGRX92JVS0zTYszBVEZaFW21ymPpQSt6iLRzYWin7zhSPDPEbY/UKM3GraXtsXZGM9l02NlbzLQJSRdCe0ZCg6xtQgaASUek5sg+/iuoSPa4xrwcJcwXLtQxMw5EBhjqEHwMIuSUFmsRGK0lwuZ0Y6H7mEUnKk0YLkS4HqeK6sEYmOep87HZke8bxJaFyYFQphtZdK7HRzRy+PUzGfiWehWR8PKKIPsuSUFTQ5y9ThSj+0lhrI2Z9cDyK+bOmJH5MvN7/b6b5r2ZDoAbDgey0wioJ+tt/36dRKd3ncGmmVFjj+xdWwoqOsAnn8fn3k9cj+7JbS7qX7/m7qWnVLMQOqXq4yS1hZ3NzhKVcJO456Axgvn53SmIwsbMtj+fKBwLM+SB/noiIv/bUFzXzqyimUd6My0/k619Yg/TSbEMfapgj7pbW0Ktr1tCDDi6PyTVm/4ct4KZmcKSXDpN2VBdW+hCDV8zM01OrPFiWXM1YETPutW1912mY3VMlCnba5YH1otkbKymvCrldm2lfUyPbDlPqeDPtjRDHdGh6nTDtpw2ov9yoYdyp2TVJ+8e2whJxJ+ffcvOr+lqkzBog4XlltP3PbqNX24rqEv6rV5nhfThvtQ8H7FHxDzi+880//DXxY4OSAvZivE1vBjpISyyNYIbhjUxue2narUAqoPnu4NSuTCpP9TttP7xqgLftJJ/UFWkf2pTxg11zFAN2C+lh9ZB/Hez0s/UO+N6M+6q1bQmUvgIW5DDPzXGAWK5f+z8tOnACrhZkt13WBqIeaabetLN9ktPUbyvKaoC1sUM5WBNTH2sAuAfpPw8XHmXjP9asFbSPaiBxfioZSWJgrWcSSx52SmAWu/C5c4MMKLrttrL5ye8MtzAAAIOCV3LhvO/sAr+84XMybzo9eYfMVagNv4sXK9mKwDvCCXgXLDwozAAAAAAAAJcAlAwAAAAAAgBKgMAMAAAAAAFACFGYAAAAAAABKgMJcidqVX++MWQNv+mv3tIVVQ57+EDg9RJ0K0bS8qrFvpmt2tu115vrLGQAAALAKQGGu4GysjgRzTyLQR1tpBa6oOPIh7SkNWj/I3os3GHcZZcq/Om7I/Sz0nuAz356T0PQST5IwN9Ot0tW4pnyc+tBP2xOGMF3JGQAAAABsoDCXIRTDAV9N6SmGF9MX8nYydaVj+G57vgmKby1a6PrgCvL73a/iXn2hJO7yHfPho3o435y2m3HUGd8apOpC3h5o3VF/WfnvUs4AAAAAoIDCHOWCTt6EFUNWUvIz+vgOfKJ5qm6it9n6la9oPA4vmfM5iveXdS+4Q84V7RLX6tm2Mn0xPaLJnm9xZ+x4vauhBeyqwWmxXStyKyxbvvk3dhjNXA2MK0gsfnmzVfa5Xy5dlVlu0c/zbaWN0+RYhzkdbtrdfIXLpFTOAAAAALA0UJhj/PhAs/mQ+stYCm/tUL83oVlXy/MyjUTJXaO8s4I2oPR1bv3mO9Pbcw+4oA/v5zR8HLItG2tr/B5+vkefrwo3FtnJG1tZ5Hvrjyj5pCy0jW5YFJOPY3ql88xhE40OrbCza2DV5/zkE56uy4zkXfsm31O+n//Pmvkyri86zacx94uu5QwAAAC44UBhjsHXUvYSuqNfRpFuGz0a/xp0UKBkkyj9GrBY3tqld47iVh9WwKTFUd4pby3/swJN9nXc7OMqFNN/2rI9fqN03qPktn7ZlL1plt+NR33qzVMRYs7wJL+qdeuxULvP06JyGEKU5aFVjm7YaqWg9/pV+BrYijJzLbz500ihtvLdJF9n/7grHBuDfRrOZ/TBt56XyRkAAAAAlgYKc4SLr6n+qwR2q5D+vPE7+e8kvaC7xjIoH+ZTGvfmNPtoKUms5M9HtG0pdtsHscszF+BHSjVKpT08hTqOcn3IFFrnylBW8m0rvEdFmRmfbP9p4qPsWOQfHNKXd7tCxa3igtJza3IknwFN9Kc+XcgZAAAAABRQmCNs3E30XxH0Xe70+rRUefomtLVeUmmnXoAN2n0+pLnvu2ptPMueWqdZhPyhGcuifCuhilJplzoWfoE8yYSsfH8ai1QbYvmyKCmzVizMS5Bv8DRPeHLWnZwBAAAAAApzjNtJwWUgw1KWy10qlJUwaN1sY9Pfg2c07k3oyITxoE/D+aInJqhlfdt9Q27w6/VpJ1PQWPmcU/pdv+yMM3kSR+/JTg1LrGYz0d+9oJND28K8QTtPejTZjWwirCizNizMpdiuI7/ZFuSKdDuUyBkAAAAAlgYKcwy9kSpTRi3O/lQKGW9iy62OgZMZ2tg4WIqxMr/QcfPGO7Vprcwa6i7z559vjU5pfD7I3pcbzhz3Aa3EOZv1NNkpFKz08QY+/jtQJiXk6VKb8PLJSH6KxeBtXu5mssGnRPTemnRvU/rEtjArpVdumNNh2L+tW2ad8OBQbW6UcYp0P3c3TIbS7Z6qoelczgAAAICbzS8/Bfpv4CNPVyCafgmfOVwFHyXGpyMssrFvdWHldUB00uZZw2xdZYXx8s4vvk5cTzkDAAAAVgdYmMswFsBGt+kp2Pd1cG6fvnBd2KLDk2FNVwHQNddXzgAAAIDVAQpzBcZNodkS/RkdF9wZrhFiIiFdBRaYSIA2ueZyBgAAAKwIcMkAAAAAAACgBFiYAQAAAAAAKAEKMwAAAAAAACVAYQYAAAAAAKAEKMwAAAAAAACUAIW5Ej4juOlFFnxW8Q0/dk3eZBgrAy6fZpeaXEvkZS+rKSfOleCdnIaiL6MJXcRyWXD5X2X8HlzmS938eYUYeansJzsr8xXrU7j/K8nnOtc1ADcVKMwVnI23abQ5dS/UyG61iykUW/SMj13rajB24r/EQaKVeNUV0OnrV7SbXbnN5WzCVU9h4O0sz2pCVBa2k7YVUrC6xFwJfvravjPxGsEKzW5K45fWkXz6uvpu6rpazjYG+/LGyUu5ZdKnM0X2Mgj3KYpuJ2aqbwj0R7d2aX9zRNuRyeaV1jUAYDH4WDkQ4f9+/3nv3u8//9Uvw/z386+n934+/fs//Trn3z/C7y/Df38/FWl6+vOv/+k3OP4//hL/ds2/P3+3ykKlo6Rs/vfXz6eBz+XvnlakV/7WzmPDuJfBr3N+/UcWs6zr/PWS1JKvq0WWdVv5XRnibdaG229neY/VfaTddA6np6pdtkEH8UT7FF3Gf9XpcxrDfdK9n7//7fdVNkrOfv8//dLnquoaALAQsDBHuaCTNxManlRdi71Byab+02Pr1zHRwXF4yV1bs5oty/FFFXORpneWJWWDdkclVjLbwsFWJPHaXm7P41eWGNfiYb+3RYfWFeEbj/rUo5RS27JiW4Efjmiu387h9JNr1QtxK6FE/6moEXdb3E5E2BYPDunLKIuZdp6IT8/TTqxVpl5smbDrynffYOsWf9f+TlZ/pXWtKAt7aZwVgZI8FSxw2iLoPJ4Fzwl7gdWGz8c0ourbEe8kHVrXfTkzsGVyb0JHXl0tTaw+TH+xOyGaj2g7+46RB2UZZ7nKV1rsMrfrK1wXTn1zPA6e5T1ikY0T61NEut4kdCr6jR39TpucjY8o+fSFDh/pN4KIvvn5kCZvItbtruoaANANWnEGPrVn/2xpWMDCIMNvaIGutEhqq0cWn3qdxSF/b1nNvPAKFrWyMpCfWfkOvvZ+W9e6VPU9P64WqbKo1rKQ18Uq/6DV3KsfP25ZX1Z9Op/L38bruipsg3y/pDzClLWJnDph83ecNuLXvZ+vGtRb+amwDi5Jad45T23JmKRGfUTj1KsqVj8StrxH4gjJnS/DWVj1LP8ONcoqJtutUNkXVZR963UNAOgKWJhjfE9p3kvojn7pk1tNBjTZ2w/4zjHK+px+DVgQbu3Suy9f6F2FlasJF9MjmvTG9Czzt96iw5Mhzd9/yC0c4vNTYzF90KehZalli3jv7UxblkR4H2dEr59llt2cCzo5HNHcyvfZnyPx3ZAPYc7F15RoM4lYly1L0+6Ehs9jVuhi3MuTW8m22Vr1azHHkh8n9IIt/NG0LUYqZGmbr7i2rOjM2T/uCgf7PQ7nM/pgW/Gs+pSW93lK3+QrQUld1wp7KeY0+7ik5YzL+33fsQQrmbTk7MEzGvcmNNOWdd8XXj225fOC0nOi5G6kBjNL7La0QudtqQ1qyhlbn+16bIUl62NvmvVVW4+HNVdZRFstXaU7o9nbIU2tFRy2yGb9lb9aZh7LCl3ep6wCdyjpzSn9rl/6dFLXAIAugMIcQXbEJZhNUXJjVHIU3VTCy7rz9BK7w2UGj1s71M+Ujwv68J6o/6gYmtwIKZSJTBmrybe06KSRIwbLd6o8v3w5peSNu4xvWDTuctjlw8S9T+nDwKZDVnYe8qTg1N0AujQTGgklnPb6nlKhFLvJrq0siMmZ/tTQe7KT17echMWUE5t6YS+OKM9P7I60rcNexN2DJ0Yz6ntL7SxD8yxcfoQ8WGK1NTL1aD+2C9M3KhVDdsExv3ue0narrip15EwgXZLadDlavj6Gjy2p4jJ618Kk8YfIo5C6QVaX4rFdNrRRIa9H/Vhtv7xPWQVKjCZM63UNAOgKKMwRNu66XrRlFCx7Ftyh95KYnboh0u8xt6YF8Sw/VYq/i/LRnfwjhtMfH0ioK7TjWXHZgjdgq9ACA2Z9n1CVDn+isUzc9dmi/p4/wLFlkFcScitbe4j8fJnS8O0gOEEYnvgKg638LUeXYdvKzimfGNNQSbuYvqDZk/CKRU9MWtx0f8kmMdUWZrb46T+r8Kzy7RKSM41UJIUi1VZdMEvWR3ew/Lt1mSnjNSzMnfqZt0LFikYXdQ0A6AQozDEaLJWxO8K8YCFkSjpLPRiElKQoYtDbF4PsZNce7C7oZKys20pxH9FxplDrTYINXAhkGELpPvs4o8T7XaawBqyY0pKeuX4oa6xv+5GTkFpLuTrdllWrLG6FcelYYBOYjaiXo7c9y7KeK8u2Zctl2bhzC2BucdSTF6eu26LLsIs0mXxKPr+kbc8Vw8DuAPODF9FyrrYwV1j8LJSLkz9p7ErOLGLuYEaBXPKItGB9yP6uTZccRpW1nIAznH7HgqxWtAaxjX41LMz1+5QIxgWn8WbDuvCKRo+S2/qlT4XrHwBghdC+zKBAfAOK3ETCG6rME9u8E9r4ZpCfNdzgosk2e8nH21CiwzWfO+EXNpiEN6So8L10e+Fmj7dhR73PYXLYft75vdBGKvu36nG+Uxm3wtRLs41aKk15uG55FOpaP34cC8Ud2hDF4Vv5KsTvbZiKyk+Nuo6HXawP+cTk3MfkI3vseKvC9utDPQU5dj6PtLEYfrkb/HAjm7G6kDObeL2aslskv9Vxu/Jg4lBxRvNaCJsfO3w73yJMbstOuRbloVmfqMIvpi8iZ4U61emL1HWMQtuRT6BcuXxKwi5twwCAlQIKcxmxgbUm6AyLyIGm4eBUG1lfcUWkU64ybtAQpUwt3Da7rGs5OYz3OXIy21X7WVOW61O0Yl13MtiIislGRV0DAFYLKMwVyAFqgc60U8VwrVlSWQlirFhXobBeZdxgYaSy0rTOuq7rmLVUIJV0ETf6lACL9SmZlbgTZblq7CipawDASvIL/6O9M0AQ9lncpvR5vrGoGvZ7nVG/1okFNxEuHz74v8VNZuByYD/U4KU0Ct6Q1/7GyI5g/1W+3KLTTaT14aMqX9Cr9Sm/lWLF+hRuJ4dEryKyhboGYP2AwgwAAAAAAEAJOCUDAAAAAACAEqAwAwAAAAAAUAIUZgAAAAAAAEqAwlyJuqggeIVtFN6Asio3abUF52nJyxpWBL4EJXZhDG/G6e4SAwBA+3DfxJfJqKfQts3lJPLx+jBzGQza/Goj63CNx1TI2drAOkBMP4DCXMHZeJtGm9PICRmxW7+26BlfP7vkjVxF3IFBPk0boGy47Xc86kpiuxwWmWgsiqmHBcvEwDfMHSQ0tW/0Mx2deQp12lLcK4mWt9bluLzMitdbX4+JWiUdtc06yIliVt7N02B+fznt3eVsrG/i1DcBuidPCBnenVjXwF/1KRqe7FtPo1tfr4zL7NdB5/BEZNH+vaP+yu2LrKf1cSjMxmCfEufW3RwozGUIYZLXMUeuRL6YvhDK9JCG+rXNxuAdTTdH9KKDTjDv/Kc0fDtYmc6r1yOafbz8Tp/rYfbk1CmT5oOPGVi9owC963m5TrctBa+duFcQadGZUfJaVGrLmEloWZnlMs4Pjh/sFDNR1OU93Zs0mOwrBeoF9YP9YPdcUHou5MW6Rt/hR0qpSFk/diSoad/Ra+/bZoN232m5PuES4+v+1WscMXeNuXQ5W19Yd1L9vhgbxOtsLLi04z+36PDTmNLd4mQACnMUMRC8CShQBjG7enFANP61r98osvXrmOjgODwD05bL5ZSrLervEaVf7TA8K3Sm3On35Rm6YkDMvuNb77zf+wPnd8vi6n/2pC9mZpH8ClzLoRuvcZOwZ5dmIqCWSE50uoQQS2VO/K3zxg0sH2xUmczTb/o141p1Bm/12xYX0yNppao6a/tO4iqQ1XEvR9zyx3niMrTry2vgppz0U1/WRJh8PvGXQ9rR7xRx5aR22ELuj972RLsxrYpXY3o0f//BlaUu4PIYn2hZEGX3WcuyJce+dSOfjHJ+X9KJ/vy36Vkejreqkv3esZyr35/pdi8/z+LVZRltmypce2Is06nDr2of5ah+rvf6WdbPcb/Vm8/oQw2rPk8Y+Yz6d4NEv9M2rpwV8/SN0tih4Mz3NHpmuN0fFeRXysqZIw/+d+Jtc0k4bpYNW1ayfJfLgmLBtlmBKi8x2RUFOtkNhC/Ty+Vgxe+MEV778McPgVumcUu2+V7dvJWNL1l565eq/PJ2zb/h39rykqeL81TeDy8nZ578y8fucyowfYF+srCNbO1OxIA1ou3sO3bavbgzGdPvV+gSdeuyMZfRPsQEZ39vQkf+Z3wOMwhQem2pfbMU39gUu/mr5GpUGX7T26n826GKcf/7h53mwG1SpflS3w+nSX2WXxXuhm2uAefbs9R7bt79mw/VLVt5OuStWBy+vhnL/r76LudThSnfL8mHf8NW6LWbx5J6cqj+nh/XUnhXs7tlqMvCqn837qJsLIJfbwoVd16GATmLwXmywzM32HmyUCuspui4OGxZVjJOq5y88lavTRlq+efy9cIx5eCWf7iM8vADZRaV6aLcyXrRcTVtHy5W/iUmnU3rIJCfFoj2Z7r/VLJjP+r7qkwCnwfapl2HGUYuzfeDspG/DreTCvwwDSZu85nMq6mjclkwny/UNmtRjD8jqxO3zZjv/vf375ac+enU+QiVB2OVVen3Iqj2ntenU18ctlN3nO68Taj48rQ6v9X5yPNczJdhETlz+hRdvvXr0s1HkELec5bSJco+q01Edk2ZmfC7ah+BsoGFOQZbJnoJ3dEvHT4f04jG9KpyCW2Dkk3fAqzRSzSLLMPls/sBpa9fOcvVWyPbIh6yQMeRVtZeWb56NP5kwg+HvfGoT+kb33JwRscHcxo+z5dUNgavaNyb0MyedYq4T/WSFYfTm6eU2Wr39rN82uEUELPPgW3BFLPQoxK3GgVbqXqU3NYvfbJZ+ras92cxK7Qf95Kc/eOucLBv1dCz/A1PcneFrcdDovPUKvt51EXGtnrkT03LxY8PNHPkX1mJJ//Ys/gKMgsH0VQuvaWUWnEHLVhtIGTM1J9tVZWWCc/SSg8Oabpnl6FVt1Y4ijOaOXK2QbvPh57lvLr9LExJ+/AtPeZxLT7G+jcgOmG3jBbTtgTR/ixzlfKWbfXtqtmyruf20GhJ3OqP6AG7nOQyWto2bcuX/ThWriosWbm1Q/3enNLv8oNy2mibS5L3Sa6MbwwOrbFqg3ae9KzVOD1GxFZ0NamQZeU+VP69IGXjSxV702ysDv02z7OfrxpE5Yz7FBG2cTeSctC0XcbHgCqW0SUU3vieEbKaiyew4hDnEtrH7aRQz1CYI1x8TfVfPqKyd1Mav6znT8NL+G0u0TP54HBK/ffbbkecKXfqCbkfxPjGa5ubSa18ReGljM3Qcm6JQqrpPdnJ45YDYsNOkQcq6Yfc0OdV+jmWIBQnVd7ieZ7Sdmj5ddG4oyjfTFtxZGVmoj+NkjVw5YdFB0I+5G/dNG+NjAzZT82082TSWca7LwYxd+HbV8gdpZd/+zClfRmnqGNZ/gklOm43bVO5AaNVpbmE5O6C0i/zYC9PikfIwyqQ+wS6T+5+NKfRQ3X9v3pfyd7CZdEmS/Rn3VHRNjNl3nsaKet92snaovJ7rnIXk9Rom93i+otzW86MQt5EwkmXbD9VY8SERvybvX6zcUGz9Phy6dwh9gDMlDlW9uY96j+q2y7Lx4BKlml7XL5ispq1EUcZFukKtY8mPsqX0T5uiTEpm7wooDBH2Lgb8cn7PBPNlgcYU+DcUerXAQsCK6G9JGinbgFlxcqsipnSlgshW4rq4vvnLsrW44RGf37Qrwz+DLDC97ApnPeHI6LXp/Uajo1sGDXxLE2SZeKuwN38xk+FUmuvilgD9ymf2mJ1mEtZmBm2ijjpEo+lEPgKeTZo8qzdtg4wZas54lts2bgsXAuKUozqY1kyzXNpG1XilFuY1aDcc2S3YsXlsliyP+uaaNv0FMPsaWRhXoKKtnk1nNFL3UeaNJ3aG4pr9cHcvq7RxupK1Ao1ifxK+ZHl564oV1IyBpTSRtuzDE1ys3ymNLdhYV6Cuu3DM+QwUJhjBMzxEtvaKB9eEmQFIFToJZYa3aku1/D1MrI9c7Zn6dJFQP9tkB1TeKlELjWJxrm0c/6DZzQ+n9FMvzRKz8Ry1TDuH1H3hiZYCmvBxcXLLysPxZkyKw31lnRUuq3ZbVncBjNTbzRgqqW9SWCnbhhe+fBlIcefAC5lYeZJg5ilL3QCjF4+Gx0aWQjJsIWU4aJVxSj8rW0k0eU9tzetsuvVfEj7sXq1kfma0GAZpaikbTKZMi/KpInVsNzCbPL9IpssFWScWUiGDcbdo8GELKOiP7sSKtpmGxbmCqKyUKttLlMfSolb1MUjGwtFv/nCkWEeI+x+IUZuNW2v7QuysZ7LpsZK3mUgyki6E1oyFB1jahA0Ako9J7bBd3Fdwsc1xrVgYa5gufahCRhyoDDH0ANgYZdkE+QSSsmRRguSLwWq47myRiQ66n3udIz1+01C48KsUAirvVRid5rc0cvjVMxn4llo1scDiuiDLDllBU3OMnW40g+tpQZy9ifv1hXxZUtP/Jh8ufndTvddy4ZED4AF32uBURT0s/2+T6dWusvj1kirtMDxL66GFR1lFcjj9+sjr0f2Z7eUdi/d99mNyLbqlmIGVL1cZZawsri5w1OuEnYc9QYwXj47pTEZWdiWx/LlA4FnfZA+zkVFXvprC5r51JVTKO9GZabzda6tQfppNiGOtU0R9ktraVW062lBhhdH5ZuyfsOX8VIyOVNKhkm7KwuqfQlBqudnaKjVny1KLmesCJj2W7e+6rTNbqiShTptc8H60GyNlJXXhF2vzLSvqJHthyn1PRn2x4hiujU8Tpl20obVXu5VMO5U7Jqk/OLbYQk5k/LvuXnV/S1TZwwQcbyy2n7mtlGr7cV1CX9Vq83xvpw22oeC9yn4hpxfeOef/hv4sMDJAXsxXye2gh0lJZZHsEJwx6Y2PLXtVqEUUH32cGtWJhUm+522n941QFv2k07qC7SO7Et5wK65igG6BfWx+sg+jvd6WPqHfG9GfdRbt4TKXgALcxlm5rnALFYu/Z/XOUkDrAZmtlzXBaIeaqbdtrJ8k9HWbyjLa4K2sEE5WxFQH2sDuwToPw0XH2fiPdevFrSNaCNyfCkaSmFhrmQRSx53SmIWuPK7cIEPK7jstrH6yu0NtzADAICAV3Ljvu3sA7y+43Axbzo/eoXNV6gNvIkXK9uLwTrAC3oVLD8ozAAAAAAAAJQAlwwAAAAAAABKgMIMAAAAAABACVCYAQAAAAAAKAEKMwAAAAAAACVAYa5EHWNV71IGA5+S0e7xZKuGPC4tcNyeOkataXlVY1/l3OwyiOvM9ZczAAAAYBWAwlzB2Vidoesc3cVHumjlLXsc5ZFvNUpp0PrNT/oM2mi8VZQp/+p8Tvez0HuCz3zdZELTSzx6zVzl3Pg++05R5ePUh37anjCE6UrOAAAAAGADhbkMoRgO+C73kGLYG9OpfQ+69x2+OpWv+ax1Z3lDhicmXnVF6eVaXIWSuDsRaQifbcn55rTdjLOB+ZpNVRfyum1LJi4r/13KGQAAAAAUUJijXNDJm7hiWIetX/lO8+Pwkrm2Ui+n7N6hxL2OX+BaPdtWpi+mRzTZ8yzuEjve/E55A7tqcFps14rcCsuWb/6NHUYzVwPjChKLX14Fm33ul0tXZZZb9PN8W2njNDnWYU6Hm3Y3X+EyKZUzAAAAACwNFOYYPz7QbD6k/jKWwls71O9NaNbV8rxMI1Fy19xIwwragNLXp5kFOjnYbtE94II+vJ/T8HFoCmGsrVMa6nd85iItR4lKG1tkJ29sZXFOo4dHlHxSFtpGV5KLyccxvdJ55rCJRodW2KyYyqtg1ef85Lf4dF1mRJPd+1m+p3sin3/WzJdxfdFpPo25X3QtZwAAAMANBwpzDL7HvZfQHf2ywHxE2xWWP6INSjaJ0q8Bi+WtXXrnKG71YQVMxvtwRn2hBGbWXlagaUyvsjDZx1Uopv+0ZXv8Rum8R8lt/bIpe9MsvxuP+tSbpyLEnOHJO9rVd+RvPRZq93laVA5DiLI8tMrRDVutFPRev8rCdqgoM9fCmz+NFGor303ydfaPu8KxMdin4XxGH3zreZmcAQAAAGBpoDBHuPia6r8CaGXXWCul5S+iNN9JejRPbbVweZQP8ymNe3OafbSUJFbyHUX+Pm0fxG6bX4AfKZWUSvt4CnUc5fqQKbTOHfus5NtWeI+KMjM+2f7TxEfZscg/OKQv73aFilvFBaXn1uRIPgOa6E99upAzAAAAACigMEfYuJvov6qRFk39t883oa31kqidegk2aPf5kOa+76q/GZGfWqdZhPyhGcuifCuh+qXSAmUWfgt5kglZ+f40tuojli+LkjJrxcK8BPkGT/PkVnib7uQMAAAAAFCYY9xOCi4DYS7o5HBE871+YHOgshIGrZttbPp78IzGvQkdmTAe9Gk4X/TEBLWsb7tvyA1+vT7tZAoaK59zSr/rl51xJk/i6D3ZqWGJ1Wwm+ru6PuTfzAbtPOnRZDfiNlNRZm1YmEuxXUd+sy3IFel2KJEzAAAAACwNFOYYeiNVpoxauFbHbZo9OQ1bcdvYOFiKsTK/0Ccr8MY7tWmtzBrqLvPnn2+NTml8PsjelxvOHPcBrcQ5m/U02SkUrPTxBj7+O3BaRQl5utQmvNy/Oz/FYvBWbR7kv81kg0+J6L016d6m9IltYVZKr3KbMeHbE5V6ZdYJDw7V5kYZp0j3c3fDZCjd7qkams7lDAAAALjZ/PJToP8GPvJ0BaLpl8WOluOjxPh0hEU29q0urLwOiE7aPGuYrausMF7e+cXXiespZwAAAMDqAAtzGcYC2Og2PQVboQfn9ukL14UtOjwZ1nQVAF1zfeUMAAAAWB2gMFdg3BSaLdGf0XHBneEaISYS0lVggYkEaJNrLmcAAADAigCXDAAAAAAAAEqAhRkAAAAAAIASoDADAAAAAABQAhRmAAAAAAAASoDCXIm6drnppr+Xkauybyz6ohZ1nvCyZVNWJ1z29vnP6rtLXRDTGfn50k3PrK6LOTP8Us6VvibULjM+djJ0Lva1pqI/lO282L756MOuZHwlCMmC6fMKm6O7b/fxuG8yutwLbfYS6qMukfZzFag2q572x08u8/XTkaAwVyCvXd6cBs8HtgXK7Zi26BmfItH2YKo7QVt4VRraETwnP/JpUaBv7dI7viXPubbawnTw+llMwePBnC89eRW8Pnr14EtT+OZA98KS64AjS5etVK6pInulZXZtiSlJV8ny7Z5lZTWNAOs4Sb+u/bA9ETBP/TF9a6RutZ3u6TdapSMdqWOgMJchBt7B2yFNC7f4KSvLgKZSoOTjfYdvaZtuLnpNdYTvKc17Qt1MzYXdZzQ774UV0EXZy/Okbpm7jFmgKM/DGfU/6bKU5zw3n+lfTF/QiHAmsY252vtSL4ThdpO1jVNRIyPaXiNLF8qsfdTg++5yJ7I8cbo/o+R1qz1kfYyRIHQLbNdcSdxqXHxB/RVVPLVifKOO4ezR2Iyr8lnsErYu6ERH6hgozFFE438zoeFJQMA+H0urc1VnxFc208FxWOEMWItrsdmn/vlMhfl5RvR8nxJKKc2US29WaQ26BWt0RRo2Bvui45vQzFgKPCuwv9xnLAvmqW9h2KDdd9Zg+oA73Dml3/VriZ2vbRrN9dsZfCYx0fhlVWdowrEnAm6ZOeUh88zftb5jzYo5z/x92zro5rsk7KVRA5QJO56n4uTDryv5OPXphd1EeXtwaLUNdZ06nadZmS2NVITytGVlauRzd0I0Fwpn9p28XIxlzs5/Xl/lZcY45cbxOKxomXF5ibTYaffl0JUHP+92uQTanl0fD0ei5Vo4fYYtnwyXF8dlh+99x+9zQt8JIsJ8k9CpUBB29DttUyYLdn+wSJuP1Yd5f/BWiLh9nb8la1Vx25+7dV2jPkpggwXf1vpukOh32qasv/PLrOSzJu2yCtm2TnS6RNl91vJqW04rxs3S9uPnuc20C2JyVotYP6wpqw9DqY60ivA5zCDA//76+fTe7z//1S9t/v3j3s+nf//18/d7937e08/v/6c/dPjv519PI5/J8Dmc//QbNfi/33/e++Pfn//9/VSG+e8fnL5/RTqe/vzrf+or6j0Df2bHr9LDYZi/7fg5X+ozg/17Pyz1Ovs9p80uL/k6T1dGSbnmhNOdpzVQrhzf07/EJz72b700S/ywvbh1PeV5cT/nuuD6N7+Xr7N0VISdwe8HyqoCGZdTXyHqhM3fcevElQU/H81wy2RZauQnKgs6X1yfOm/htEXiCMm49duVLTOZbittUqat/InXv1vpLJdh9dptH25YwfYdfF+FlbetcFzZa5mPiroP0K78aSpkwaDGiljMETkrrQ9FebiK0Hf8sOTrLB9V9VEXzleon1sGnbZYf+fVR6zO5fuxMGL1UYZuW5xX1bdwGuxw/LJQr7MyrWg/y/UpFfmpIWdMWNYqwq5ZHyZP7cpKd8DCHEO6PyR0R7/MuaD0nGf3KfXNMkfUhWCDkk2i9GvAwqCXzN41cB+4+JrK/2886lP6z0uaUb9g/d4a2RbxLerv2fGzJXdKw7dHdDI9rnRfOBsPaNIb07MHPFs8yv5WqCuy5+8/iBIRs+A3E+q9fpbHLa8Vn9PsYyDvFdjxStiiX5FWWTabSYl1+QO9vM/+zadumf/4IMrRDpt9q3o0+ced8w5PjAXcL1PB3jQLk+umN09JOs3UDHsp3urVhiXg8iZnJeWMZo4rkpCb56auBUGrn3hC1g/x3RcHcxo+b3MZdDG5yhCydarz5tRXKUrGgytOkhUvMyvPdGuH+j1rBUf0RYdWm3DKpKLtnf05Ilpyz0DetpRlfW5czrj9zHvUf6Tj9laeXEupeRpayRaiShaWpKw+loJX4Vy52hi8onHPWkUUxOujgQy3Dcvh3G5fLmf/uPUhV0fnM/rQuSwIrLHKGQMF5eNmVftpo0+Z0+ih9Zlt+V5azuL9cP36KNGRVhAozBGMchrD6SwfPBOdju9CoLiTWB1OW/CAdz4heswpuEMiihxvmYSX7ly4wSY0Egp/0H3h7SD/7bkYZG1/r1KFlCi5W/ZpPXgZR/qNN/Qz+5YWfDQc5gcjEip9PvgaeGLkLN/fp20xqLgMqZ91eKIERzUnOrXCXhzpA7Y3oYEOe5GlX5YX9p11/HV/pJSK0jLhymfXWnI2/pH+UxjMzujlQx4QTlv0Bxby+4mX8cxydP0lY0PvyU4uWzIvLSg+K11mYfJBylv2LSwLXxG3EkrsQfnzTJRw3hbNpiT3uWQ/6U7osj56lNzWfzaltgy3jxyPgwYsRhmxJrtWmd0fCFlZESrGzSit9CmeD7Mzri4jZ2X9cLP66ERH6ggozBE27sb8sJrNiFiR6yXhZr4IKiy2FNubkrSyzjNO0aCGJ3kDKexwld8hmrLS/DCgbFib/gqbIzyfSn9S4ZaJajRNYGV5+4BEA2+uwHCjK6MnFJDT1xTOM1vfTJ7N09Yg0GXYglxpmFIiOq9mSrNQzlgWgukRkxY/3UYealk22A9SdJKW9b01rIHi8jam1mGFyyyAmeDKk4DIktPYSTaXjjIGZL66sm/L+4arszB3S7f14Rt2vlGFrSGnlgx3Q3w8zrHHPfWsyOSpYtwsZ9k+Jc7SclbRD9etj7Z1pC6BwhzjdhJdnth6PBSduOWorpeLbCukQimNQcurFvaFrIKlWBYEth46FmYxozxk69Uz2pIuE2L2WrNxqeWaER1bG6Ty5T29dBcok/2aA3+uLAcalayLfDlHNnSvk5cdasUmqcwiay9L8TKvyFcnO3W7DLuAt9JQCVsXfFcMjVyyL5GNSstGrvhFJwems1/yWKHgQOrJSzuoiXLmTsPpd6w961Nm8jQZv7/KrGCqj8iaV0Xbk9Yhs0TMeWjTGqrdQewJp211b8XCbFbkGil9FbLQBrH60LjlXhflTjZ5k8tP0WWghFoWzQoWleHSvlSNP5PdVZk455SPmxXtZ+k+pQYVclYXtx9uUh8lOtIqon2ZQYFyB3u1WYKd/I2jf4DgRheN/KzZhoqw873rNK82Hujn6V8//8p+ozdN2I73Og1mU4G7wSCA+b5+/LS4ZeJuCHA/M48pG7URovC5lVb79xwvp9XdKOBvrjD49ajLwUlfMf4snLI6FMh02WVW+H5J2HrDiPuUbKRwMPmwHjsdFWGX1wdTDL8oe2HCYft1Y8KPl22QQr7C5eWmIY8j3IY0lfVh16UIk+va2ciyLmXm/d5r17//7cqwnbZi27PzzGXFZRT+bf6Yz9Vv7TzK73ubnPzfu2USI/zb4sYjXaeF96sok4Vim+cnk4UqOauoD4WXv6zMKuIWOGOEE25VfVQQzJdfXybdfn7q4OfNDaMga1l9RGTB5Kuy3ZfAv9Xx5H0LpzNen26fYKet2H5CaXd/X4aXDp9SOauQo0KZFeOJ14eFTMMisnA1/ML/aN0Z+LD1gZesF/Rx5CXDo8TbZAY6Q1qp3/ddv2uwsnD7KPjJg1IWKjPux/iItXUr51C6l+yTi/BKy3atY0JBO6DdA8O66UhwySijoduCjdy8JjqFspMdQLvIHd+0Xgeh30j0MjgGzQbcwDIL+Xry7vv45q9mcB8tz5WGsnw5oN0Di3XUkWBhrkRZIPhA9vq71tkfcUb9FbpV5+bAZX9EScgXeo2QVpjCCScG3ggC2QI1CVlq1wJt/bUdK3kTLZQtcEmgH+6K9dSRoDADAAAAAABQAlwyAAAAAAAAKAEKMwAAAAAAACVAYQYAAAAAAKAEKMyV8MaT+/TSumu/GnZoX71D1NcG3qS05OUM64Tard9UxqpgGbwvw70Ot5/ldJsvrov2LxMCAACw7kBhrkDebLU5tU7IUAq0GrDtxx68t+gZXxXZttKnj+Wxn7Ua3OsowvLWrJTGL9vcCe/VWcNjAnmndPbbtVHkt+hQ3vw0paF+Z1UwEwT7qS/H3eZrY7Avrxhvd/ICAABg3YHCXIZQ8AZvhzR1zujcoN131jWU/Jzw0J1QYh1jJq9h3uziTGA+ykbH+2lMJAb362MRE4qtvLr7VatHwplJj6ovoWi9HdQvM5YBMr89lec8by9wLncZLCscfv1jC68BfAW0kWPxrM7B9UIhF+0qXcFrdgEAAFwdUJijCOXtzYSGJ9XnBPJh+r3Xzwrf2/qVFdrj8MCr79RfStnlu+SFsj7P4sjdR3KrqLts7Vv3bEuaWY62LaqOpU2nOfu9rTgWrMe8dK7jNr/bnRDNhcKZheEpJZ+PhToaOshcu7jY8de19IrfHL3t0fhXUzts/bfv76/gwaF1qYG6I5/O03q/raTcvaC8Priu+Td2GM2UPFcWivH7KxqurNrxtr3S4YbddEWgTMZVuVWELdrV/t6EjlrNEwAAgHUGCnOMHx9oNh9Sv8rqJxWyIe2HLGS3dqjfm9DMGbBb5nZCPUoptZSdya66bpItd9O9OY3+1EqBUIC2D5LcQi2U7cmuqyjND7az36rPjRImlJiHI0pOjFWwgaWWFXsdnrx4wMTvHVouJx5PdiKuGBMaPExpX/5OWXprWe+/pzTv9WnHWKxlGcxFRlP6pt+6OqrdC+z6OBWK/uSNPVEQdfuQL2lR5dnoVkoht8f0Sv5OhU00OrTCZmWZXWN02PzkVmBWOgeUvtZyItLfphvD2ZgPtDfxKjmrHbbI1wtbxsVjW+7d1QYhR+dhGd56LCaidSdVAAAArj1QmGNIRav6CtazP9mFoGhdVmxQskmUfg0Mu1qJXHop+lZCif4zY2+ahcsDv7KIKou5YwmXV3/PafbRSp/1W3rQF4qcUsYvpkc0Ecrus0z5EMoeW7dbUyouKD0nSu7GyqMnlDejYCtL7zxVKq/jY5w9nsXUWKd3SShTrKC6k4xaSGVsTsPnl3jTmFUfG4/61PMU/eFJfqNhXtc1EPJ3aMmeG7aRlYhrDE8mnZUAZbWf/KOUdd/Cax5H6RVKcOyzrZE9kdqi/l6kDUWJTVLPaOa4WG3Q7vOIDPNEdCUmVQAAAFYBKMwRLr6m+q8SpHW5R/1HcfXpTpIrdp3wQyh++k/D8LGlvrNLgXWVbFwhjTGn9Lv+czPpUFH8Rql9BW4dtHK4NcqtifljXY3NbiCZdVooY7LMXJ/zapSFnV6frravcW0lz3NNEHnLi1/VRVRWeDLpuNbcV1Z7jfHJ9h+n3DwfZuczzxUkfjVtAO2mxKss8ve2646s9wkNrLClm1AIORFdYFIFAADgWgKFOcLG3YLdtgBbl+d7+6Ub1L4JzaOXVNmpF+fi40woOvWVP9dSp6y65fQoua3/9KyXtSYVtblDYm7RDK3Al1qYpcuKbZ0W1Fw9yGGf2gFNbOv7qlIzX9I1gSz3mE9jUUqGGnXhuNboR1tua1mYY/BKgFBih5nrD7ua6M/qwpNE89tNodg7/u7WplnzWBPKjIUmVQAAAK4rUJhjVC3JautyvpksRImbgXYRWGqzlPbHrbMxkZefpRuDvQmRN9nNI/7XgrOxUBK1/69ash/Rcab0nNGx755gL+n/Jn4r/7aQZTqjD0GrXYn7io9xjdCW9FILs/Qjn1v+udrdwPeVNlbNgg9wriznm/98jLU2sHHu0hDpFIpm3Ac8QLZiINJ/aFuYlazk/use7KojZCHmQ17LwlyKNUkT9dLIwuzBKzwZek9BLT/vxpMqAAAA1xkozDH04BreKa8VjArrcu2Ng42wlpT1pqy6iggrMqd8PrTze0/ZtnxLB+djOjXWN17qlsdt6d8KJZI3fWVxS39ok7ZtSp8HNrKJMF7x5rKHJgxXIZMbrWKnisgNbvp3evNhvXzzMYD6ODidttmT09qWYum7zX+U+NwaBdNxX6lD5nrAkwuTv2ZKd+Z6oOsjy1dF2HyCSy/Lk6ivJ7aFOSAr4sknd7xZUW30M5/xU3tjXhlCRvZ5o6qp6zcJjW0Lc0W+fOu23OSaWZC1LJy7dRmatJZvQAUAAHDT+OWnQP8NfHhwlpvE6lhwi7CrAJ9wsPLL+BpWNrbT/RJLatewpTak0LKVl0+DsPySVw0pKzwBuaw0qrJKnzex3IJa8OqP9HlfrN0DAAC4fsDCXIaxmjY8B5Zh5ZMttMUzhUGcDdp9yWdXv7hC14amsDJ//5KVZdAdoj7lCgaUZQAAADlQmCvYGqkl3GbLzezfay8Fg9rIUw4S90zglcacpQxl+TrALjiOqxEAAAAggEsGAAAAAAAAJcDCDAAAAAAAQAlQmAEAAAAAACgBCjMAAAAAAAAlQGEGAAAAAACghGutMPM5yK1cpgAAAAAAAG4s11ph5tvM0t2rvK4YAAAAAACsO9f/WDm+ge1Nkl/xDAAAAAAAQAOuvw/zg2c0phEdwzUDAAAAAAAswA3Y9LdBO096NPmn+fXWAAAAAAAA3IhTMjbuJkTn6ZpctQwAAAAAAFaJG6Ew0+2EevOUvumXAAAAAAAA1OVmKMzfU5r3ErqjXwIAAAAAAFCXG6EwX3xNiTYTnJIBAAAAAAAacwMU5gv68H5Ow8db+jUAAAAAAAD1uf4K8+djGtGYnj3QrwEAAAAAAGjA9VaYf5zQb7spjV/i0hIAAAAAALAY1/qmv7PxfZo9/kKHsC4DAAAAAIAFuf5XYwMAAAAAALAEN+NYOQAAAAAAABYECjMAAAAAAAAlQGEGAAAAAACghBuiMJ/Ry/u/0ckP/bKKzy/p/v2X4lfl8KbC+03CXQM4Ty8/6xc3kgs6+S1WBmWf3SS4Pa1oOfDJOCJt9+VT3YYX4crbPfdPv50IaVwNLqa/0W/TVUlNQ4y8jCskRX6vC3latT6F23ZJPrkcVkj2ALhMboDCzB3SgNLXr2j3ln4LRNn6dUzpblfKgFK0lDJz//IGWUeJWnxwOhtv02hzGjx1pVSJcuJvr2xVnPnj58v5/KYMcrd26d2XL/Tl05h6+q1rBctS7KhMI2dVyt8ilIS9Mdin5GD7apS+FZs8NCXcpyglOmu7rdZnVdhb9Ox1SoNYmYr2tb85ou0uZAyAFefaK8wX0xfy4pJXg/ZPYt4aiYH5y7vrpYizwnGS0Oiw5UFIDrg8cTkVZcbl9oVe0fElWOnEAHE4o/4nFeeXkyFNFpkQiIF58HZI05F/Y6SaBMySiILGA/pDK/4W5UXJn36EguhMdDi9NNWfn4oWgEGuLa6u3bMsj4gCk3+28t4/JOrv6TdapDrsLTqU8teNRb9TzASr0K4vgUifwmPW7InpJ6c0fDtozbhQJ+yNwTuaCqX4RSTOrZHoT84Hq7nCBECHXHOF+YyODyhycYk30y5ZhpIDhvhO1rE4FkP/dxwuKy62NbXpQOJaYl0LStVnIi47fdnnKr9u5xh6T/DgmVSwjkMdog67aQd+9ueI5ntTemdNXDYGh9bAv2i+1O/cztt+b4N231nKzYM+DWlO6Xf9WmLHvU2juX47Q5TTmwkNTw6FauByNj6iRCjDh4/0Gw78u5TGny5BubqVUKL/lDw4tJSADdp5ItT589Qq0xYx9WLXGU8UsjJ1Jyhs+Wb5Me2Kn7z+yupaUxL20jhhe3JupynY7vPfmSckl+azpm3I3FpamPyLdL1I9+nLu11XBtqgbthsedyb0FHTPFXillkmC6YudidEczEZzL6T10u5nKnPzfvBurBl4aHov/TbBjvc5n18vE9hhTXvJ7fkRGWeftOvl6Nu2LzSSAfHkTyJPvX5kCZvvHYJwHWHz2G+tvzf7z/vPf3r53/6pc1/fz/9ee+Pf/UrD/7dvd9/8qfye/rvAv/76+fTwmf//fzr6T3xm6c///qfeuffP8TrWFwF/v35+717P5/+HUy1DDv/TMeVha1+m6dXvf79/+QLlRenPPjzPJ020fKReY6lL4abjiLL5atQvsF6MfhpCcftpLU0PI38jleW+nd/SRni9IsnIo9LUyLrTLHul8EqQy0PxfKyysJqT4ysLy4LXWdu2srruirsDF32pXVWgOMKtweHOmFzupz248uZL4fVcLlVtbtmfU0zKsOukMFFqMxzSZzlcpYTjMOXM7/OPblr3L4ayOfV1GmgH3So2VYAuEZcawvzxdeUaDMJWJc1b2elVoF0+httHyQ0/VK0AlQxPMmtiluPh7WtexfTI5r0Ii4kbGGaD2k/+0zM9F+Oqefko0fjTya9yoKQflUxs6/hcD6jD9my/Ywme/tB6+fG3SScZr2EaVuKl2bJfLE1xP7uxccZ0etnwTo7Gw9k+T4zPoMxq53N95TmvYTu6Je14d/RhGb0Si+Btu0aYVk1dyc0fB65Ap6thAfz+OeL8vWEfns4ouTEvU1Tlb/lNsArFj1RDra1VdTBqbaAbzzqU2+eUm7nitd1rbCXYk6zj3Vaahln9HKX3KX2Hx+EHNhyxr6iPZr8o2TBtVbmT24RvaD0nCi522oNtsvtxKvHdpi//7C4JbNUzuLwiljI9cVw9o9rHXb6Vmclwnrsdl+3T5FuG6I9/GrJUluUhr1ByWbe7orcoaTnr9QBcL251grzt7Swtp4h/bT2JjTQnVlxSW5CI6Fk0F4/qHg1pmZHLdNcpuQvorhlsPKRKwSy038cyV1Hg1+UZfJ1a4f6mdJ0QR/eE/UfFUuQlRLpM/iumeIoJ16L4kx+1FJme64R7G7CirhSxpM3ITkWyptQaun1aetXxE8OeJl6SH0vXJbh+cG2pSwU3Vx6T3byOpCTsHqT0jphL47yxaUs/KbL7AqelJG/1M4KkuM6cF9MxvOEc3+k6tF98jr7RiXd2Wog3YJSSlt0kZH+sjzJ1GXmurhUs6iclaMmL5PdvC7v3xcTcf1p5hftP9YEqlafwoo3T4Qt40tr1Aj7TtIrcQWpUqgBuH5ca4WZG3wZ+aapqdzl7SobQrFqc8NFTYWwKs0FxVtaMevD1m5lsTmjmVAefWUnY1GrahC2RogBRlvTgiyVL+WjK8OXlrw+7XiDACvL2wdkWS7rI63ti3Cpkw5VBu4Ax/6fYiD3fMfbYnjyRU06fR9jQc/a3GmethT2LsO2lZ1TPi2gqdLMVjsKn6QirZ1WmuWjlahqC7NqQyvND6EsC5U5aVW5syaFcmNhc6W5K1j+nbo0G0FrWJgr+xQOo6OJbt2weXLaS2IjwBqseADQMtdaYY66FRSIDUa5xWnxTpqXZyeupaMEuWwolPRgfHLDmr2xRm0c6UXcD4JwGKzEfZ5RWvK7qDuLHgyaTSK0ZdXL18X0pdqw1UK+ZLmJuj77OKPEcz3IleWANUUqtbmbijzmydfUF1V8teW7kC9PFszmo+UUAd7gOrdWDHJlOX4CgHHpWHzjXGYBtJQBOSk7eNHuZjxNl2H7NJ4oSaud54phkO0ufvJAtYV5eYteO3JWQnSSvbycSfyNrYzXfttCWlczVxC1SmOtB6gJeuxUkBoW5tI+xVJooxNd3Q8XNsRWUSdsSZVCzCsePUpu65cA3AS0L/M1JbaxRm8qk5uL9GNvfPA3EsnX+XfkBg/7t/Ix3y+GXbVRp4DcEGKF4WwmUXnKPnM2bBQ3YoQ2tKj0l23YKNnwodPWOE+MKUf9uGEsny+5gaWwkcYL1zxWmdr1yWFyOG7e/Q1bOWFZsNPqxh8sN10uwc+iFOXMTnM4XcU6Nd8L1nUUlaf8NyaPgTaTPflnobrLqVHXJWGH8+3LRIRCuG46ysMO9Cn8FOTY/bxRucv0hfJSDFc+TtyCheSsZtiCsnpdRs7seEPhu/XSRM7csPnJv2/XJ8sBf98t+4I8NNn0V9KncLqdcOXjymKevpqyrakXtqBqUyLLUqP8ArD+XHOFWXdql9qwVUfWbGBYMdAZFokqKy2gJyFXIjMyX4EBE6wgcSWrFl3KWR0FC3LmsmSfIpXfjvrp8snGNRjjAFiAa68wLz3INGbNOxM58GFgCyEHqIBlbXGUrLCV5/LlxVjYUNdrxULts2s5U7IUDhtyVsZCfYpUtMXvOlKWq4xM7feDAKwHv/A/2jvjGsP+nHzBRAe7jQuwv942pc8DG5G0/1hsMxtvZupic1YT2M9x9rjFTVTXipK6BSuO9unWrwqU+nqvGHyhxpuEThue9tIVvEfgBb268r5rPVm1PoXbyYz6sdNEeAw7JHq1IrIHwGVyQxRmAAAAAAAAFuOaX40NAAAAAADAckBhBgAAAAAAoAQozAAAAAAAAJSw2gozbzBoejA7AAAAAAAALbLym/741Aa+anZtdrADAAAAAIBrxRqckoGjvAAAAAAAwNWxHsfKrdi5owAAAAAA4OawHpv+HvRpOJ/Rhx/6NQAAAAAAAJfEmpyScYeS3pzS7/olAAAAAAAAl8SaKMwblGwSpV9xXgYAAAAAALhc1kRhvqD0nCi5Cw9mAAAAAABwuayJwvyN0nmPktv6JQAAAAAAAJfEeijMn2c06fVp55Z+DQAAAAAAwCWBc5gBAAAAAAAoATf9AQAAAAAAUMJqu2T8OKGj8zGdQlkGAAAAAABXxHrc9AcAAAAAAMAVsSanZAAAAAAAAHA1QGEGAAAAAACgBCjMAAAAAAAAlACFGQAAAAAAgBLWRmG+mP5G98dn+lU9+Ei6l5/1ixsC5/n+ffX8Nr3Q77bBGb0UYdYrTz47++aVPQAAAACuJ+uhMH9+SdsHCU0jx8sZJdFX0LZ+HVO6+xud/NBvtIBU3O+/FOqji0zDbydCVewSpbQahVg+3iRia/SFvnz5QtM9/cYVcDbeptHmFBfNAAAAAOBasAYKs1ASdyc0PDmkoLoslOnB+ZCGPf3a5tYuvTtJaHTYniK7MXhF496EjmzrLZ8X/bZH45e7tKHf6pLhiVKKv3yZ0vDtYLUsuVwfb4fRyQ0AAAAAwLqx8grzxfSIJnsxa6VWpp8/o0S/U+DBMxrTiI6DSqW22DZy9dig3edDmh8cZ1bmsz9HNN/bp91b+g3fEuxYnvkz1+rN1unMfUIonPL7Qgn/zfw+mr4t6u8RpV/rTweUhTxPW1HZLku7hUmf8/kFnbwpmdwAAAAAAKwhK64wX9CH93MaPo65YgxKlGnDBu086dHknyZKcQWshBsrs7Eu/2rSyP67A0pfn2or8KlU2LebKOVz8f2HKe3z7z+Nqff2KOJWckYzEXf/UU27tnFtkekSz8mQJo7LCivLdtrF8y5gNWdl+eGIErZ025//+ECz+ZD6cMUAAAAAwDVixRXmb5TOe5Tc1i9tpKJab+l/425CdJ4GLKVbdMhKYWP3gQ3afTkmOjiml751+fMxjYTSuD8waqT6bu/tTKijdREK+Cdtpb21Q/3enNLv8gPJZNdYgFm5fWVZtstQ1t/e62e59ffBIU335jT7qEpGWvN7Y3qVpT3A11xZLkxUvqc07yV0R78EAAAAALgOrLbC/COlVP/pIpS/Q1baai79306oN0+F+t0it3Zpf29Ck5DSvqzS2OvTTqYEC4X7nauc5j7Mp9R/v93IpSS5G1eGv6Vzos2kaFG2mByICQKFrcgXX8O1BQAAAACwzqy2wnwrCfsmy6V/29K6TSPzOuRz25Hl807SCyvHvnLO8es/20X5U4et52Fcf+cLSs/1nwKZnwpYWZ+KicIgUM7Skg8AAAAAcM1YcZeMO5R47ggSPv3C+NhqS+tY6HrS8hrwuZWWz6DldJFNfxU86NOQ7FM0Aq4QQn02eeJNeIO36u/m6LCf7JRahRXKl9verOi7j2w86lOvxqkbW6OIX3YXlnwAAAAAgCtmxRVmvWHvTeSkhlqUbxxsH/aLnlJysJ1bvzen9C7zCxafy812yjq+ne43PjPZsaw7YecnXLASPtdpMCdwbAze0enrlAb6O/d309xXmuGJyCc+u9qEL57gKRnsJqKOtHPOpJb+1t6RewAAAAAAa84vPwX67xVFndxAoU1mdeBj2t4kdBo67QG0D5f3LtH0C46WAwAAAMD1YA0UZsGiSpg8/mxG/U/vap4kAdqAz5Ue0HSB00cAAAAAAFaP9VCYBezry+4LTZQwVtxmjxe0TIMl4LOotyl9jrIHAAAAwPqzNgozAAAAAAAAV8GKb/oDAAAAAADgaoHCDAAAAAAAQAlQmAEAAAAAACjhhijMfDTdb3TyQ7+Um9Lul1zQkZ9nfN/5XRuosMsuB+HNilWXh1w9VWXowSeWZGVqnd3cIlxu7deXTcM8AwAAAOBacAMUZlZyBpS+ftXgaDm+fIRvEJzSUL9zmWz9ypeHtK/4KYXSUla1EmsuNukUczvjpzFVX8BdhE9JafVGRod6ivDZWF0Ug5M/AAAAgJvFtVeYL6YvaERjepXdhrcGsHJ5ktDocJkbDn0uKD3vUa+XUqoV8YuPMxJvqBfXgK0RT3I6OnP780savB3SFGdLAwAAADeOa64wn9HxAdH4ZeyWP9v1opmbgLLWmidgDebLVrLPS6y4xlXBv4L6wTOh5o/oOGj11OlewOLaf5LQ7CPHdEEf0j7tPyGap9/Uh4LyfNnltU2juX6b4fw6eeDvNrGSKytvFneTvFW6e3hhW99R+VV5ya8c9+tL/P7NhIYnuL0QAAAAuIlcb4X584wmvT7tRCyOk90jSj6xVfILTfcmNKippLF7wOB8TKfSbeMLnb4mGj20FDV5M2FKYx02P+9CFm55E+GIkhPxncLV3Ru086RHk38aKI51eNSn5P0HuvjxgdJkh+7ot5nyfBnXllOdp1Mat2icNu4OWdjng/quIhXuHnKVIQubn1zxVVZplZch14P+jlNfoqxm8yH14YoBAAAA3EiutcJ88TUl2kwi1mVWkPLl+63HQ6K3s4B10oet1nMaPs8V3I3BK6FwTWgmrcHKGtmr8pn+mivLMZ/YjbsJ0XkqQvTRPtaN3AO+USotwlvU35zR8Z8pJY/skqnI1+fjDl1bzmjmuDts0O7zIc1ZsdfvLE2tuo3wPaV5L3EmFwAAAAC4OVxrhfmb0hDrcTtpsBmtR8lt/WcBpZgmd8sVy8nBiIR6Wm615DTNUxFiu2w9TmhynkjLu1TKM8ry1SE/UkppQoPMZUI8uxP94fJsDN6pFYSgu0U1cuIFAAAAgBvLtVaY7yQNfAYaWRHnlH7Xf0qM9Za5Q3Wi5eV/qcT5vss2rVs2E0rY6v3g0HUByazYZfnqmiFNM5cJ/RTcVBZHuV7wM6XkYLuR0uxOKgAAAABw07jWCnPcpcFHu1E82amhoG1Rf49o8iZXdC+mRzTpjemZtBZr3+Pd6k2EW6NTubFvO+I7HXcpWXzTX5yKfElr94w+6E180ufYV6Yza7jyd65tI761Q/1efR/y5QhNaDYo2RR5j/mLd2TpBwAAAMB6cL03/T3o03AeO2mCN/0ZF4Btmj05zTd6ZSdcsNI3p9FD/js/8YGtldNNoejqJf7tg4SmljWUXQBOX6eOi0HYorlBu++mNHw7EN/xFewL+vB+TsPHLZ3LIN0eyinN161deiU3AarPjpJTmgoFO+PBoeX2sE3pc/cMa3mOMn/2kF1RzPdMnrkc1EY/U178FMpMllP+uZkwlIfNyrv1Gz4RY3Na2IS5NTL1oL7nxK0V+qOGrhwAAAAAuB788lOg/76WsDK1/b5Ppy0u718KrLS/SdYv3dcVefIJ0dQ6YQMAAAAAN4NrrzArC6NnQV515HFzM+p/6ugSDrAQfGbzgKYNTycBAAAAwLpzAxRmhn1++czl9VBAWTGbPY4fNweuCjX5Sp+jbgAAAICbxA1RmAEAAAAAAFiM673pDwAAAAAAgCWBwgwAAAAAAEAJUJgBAAAAAAAoAQpzJeoc35eRs5zD8CbD6otLrjV80ke0DLh88nOtbyzyvO/VlJPsbGt+OrlQRl++U3bTZddw+V9l/B5c5k2vbV8VjLxU9pOdlfmK9Snc/5Xkc53rGoCbChTmCuSNdpvTwqkIjkJRUHq26BlfXNLVYCwVLRP3JQ4SrcSrbgFMX79yTizhk0HysAMDb9d5lgp+efgmjc0mT+sJX77DV4mfvm5wvfw6wfW9m9L4pXXOuSMD4mm1/foX6BRlbGOwL69tvxL5WrHJQzPCfYqi24mZ6hMC/cWtXdrnS6Aik80rrWsAwGLwKRkgwv/9/vPevd9//qtfZnjv//vHvZ/3nv718z/92sDvP/3bf3c5/vv7qYj76c+//qffELH+9Ucx7vb59+fvVp5VOgJlY/jfXz+fBj6XvwuUlYP8rZ3HhnE3RdanHV8A/s7T33/+/vTez9//T7+3LDH5WiFkWf+xyilcBNFmRD1WtU3ZrrvKe6zuI+2mc6R8X0I/0kE80T5Fl/FfdfqcxnCfJPqCv/2+ykbJWbS/uKq6BgAsBCzMUS7o5M2Ehif+zW7q/d7rZ9n7W7+OqTef0QfPysDv08FxeMldW7OaLcud0fHBXKTJPk96g3ZHJVYy28LBViTx2raO5/ErS4xr8bDf26JD65a7jUd96lFKqZ1n2wosr6n24fSTa9ULcSuhRP+pqBH3wnB9pjQuPaNblMOukIXnz7x0tYupF1smylYy2LrF37W/k9VfaV0rysJeGmdFoCRPBQuctgg6j2fBc8JeYLXh8zGNaEyvKi4yupN0aF2/nQgZDsCWyb0OrmGP1YfpL4R80zy/Ft+/Wp7lKl8Fssvcrq9wXTj1zfE4qPCzzyMW2TixPkWki29KFf3Gjn6nTc7GfK7/Fzp8pN8IIvrm50OavIlYt7uqawBAN2jFGfhEZ/9sWfCtn/d+3mNrQ8GSUGJhkOE3tEBXWiS11SOLT73O4pC/t6xmXngFi1qZBUR+ZpVD8LX327rWparv+XEtg06ntEJx2fDjxZ2XS4XFqClW+Qet5l79+JY0mS6rPp3P5W/zz/ywqsI2yPdtmaiF30bC1Ambv+O0Eb/u/XzVoN7KT8t17VGad85Tmfw3pkZ9RONU5cCyZMosbHmPxBGSO1+Gs7BUXI37xIqyisl2K1T2RRVl33pdAwC6AhbmGN9TmvcSuqNfFjGWkQHRyRea7hGlX31LwQYlm6H3Bbd26d2XL61e130xPaJJb0zPMn/rLTo8GdL8/YfcwiE+PzVXOz/o09Cy1EpL+duZtiyJ8D7OiCxLeo7I++GI5nv7mVX27M+R+G7IhzDn4mtKtJlErMuWpUlac2NW6GLcS8H1TBOa0Svps/vlyymNyfI9/HFCR2+HNO3wOux0+httHyQ0tazozNk/7goH+z0O/ZUMqz6l5X2e0jf5SlBS17XCXoo5zT4uaTkTZf/ifd+xBCuZtOTswTMa90T9acu67wuvHtvyeUHpOVFyN9LuMkvstrRC522pDXJr7DZbRX+1a9uCrc92PbbCkvWxN836qq3HQ6LzNO9Tooi2GlylM5zRzGlbyiKb9Vf+apl5LCt0eZ+yCtyhpDen9Lt+6dNJXQMAugAKcwTZEUeZ0+ihuiKZlazDB/FBmJd15+kldofLDB63dqifKR8X9OE9Uf9RMTS5EVIoE5kyVpNvadFJI0cMlu9UebLSmrwpuhAwi8ZdilAsc6VMDdpKIVDKeRId8NtgQqMDUS57fS8OJVOTXVtZGIhvu/Se7OT1LSdhddJaL+zFERO1T+yOtK3DXsTdg8t+Rn1vqZ1laJ6Fy4+QB0ustkZGhuzHdrf5RqVi+OAw/93zlLZbdVVh1yKTpn1KH0Y2kEqXpLZcjpjl62P42JIqLqN3FW5Vdfgh8iikbpDVpXhslw1tVMjrUT9W2y/vU1aBEqMJ03pdAwC6AgpzhI27MW9VthgIReX1qXVyBg/CPUpu65cW3KH3kriduhHS7zG3pgXxLD/lir/PBu08ETH8I4bTHx9IqCu041lx2YI3YKvQAgNmfZ9QlQ5/orFM3FHKLDxcBmI8zhVLpZzJ163tuhf5+TKl4dtBcIIwPPEVhjJf62Z0Gbat7JzyiTENlbSL6QuaPQmvWHDbc9PNk1b1WbWFWbXfWnhW+XbZon5wVUogFUmhSLVVF8yS9dEdLP9uXWbKeA0Lc6d+5q1QsaLRRV0DADoBCnOMqCKllbmDF9kgrFwhisplaWepB4OQkhRFDHr7YpCd7NqD3QWdjJXyppbkR3ScKdR6k2DUvaGIDEMo3WcfZ5R4v8sU1oAVU1rSM9ePM3oZ2PQnJyG1lnJ1ui2rVlncClEO0qWj4SYwbVXPN96oZWRpuS1YuE5pLMZnqWg6SvuCcWfkFsDc4qgnL05dt0WXYReJTz4jfH5J254rhoHdAey251NtYa6w+FmE2/Wyda2Rrj694ApO1B3MKJBLTtaC9SH7uzZdchhV1nICznD6HQuyanuD2Ea/Ghbm+n1KBOOC03izYV3ixhRJpesfAGBl0L7MoED5BhS5kSSySSwjtPHNID9ruMFFk232ko+3oUSHaz53wi9sMAlvSFHhe+n2ws0eb8OOep/D5LD9vPN78c2RdrjOdyrjVpg6ab5RS6XLhBuvE5XOUPgLxR3aEMVpsPLlyBk/Vv2Vbl6rUdfxsIv1IZ/CRq8IJh/ZY8dbFbZbF+YpyLHzeaSNxfDL3eCHG2nXi8mZn69iuzPE69WU3SL5rY7blQcTR1zmJYWw+bHDt/MtwuS27JRrUR7i7S+ECr+YvoicFepUpy9S1zEKbUc+gXLl8ikJu7QNAwBWCijMZcQG1pqgMywiB5qGg1NtZH3FFZFOucq4QUOUMrVw2+yyruXkMN7nyMlsV+1nTVmuT9GKdd3JYCMqJhsVdQ0AWC2gMFcgB6gFOtNOFcO1ZkllJYixYl2FwnqVcYOFkcpK0zrruq5j1lKBVNJF3OhTAizWp2RW4k6U5aqxo6SuAQAryS/8j/bOAEHYZ1GdiOFfjx2Hj4+aUb/WiQU3ES4fPvi/xU1m4HJgP9TgpTQK3pDX5lGJncL+q3y5RZubSJeAL/h4Qa/Wp/xWihXrU7idHBK9isgW6hqA9QMKMwAAAAAAACXglAwAAAAAAABKgMIMAAAAAABACVCYAQAAAAAAKAEKMwAAAAAAACVAYa5E3eyV38BWB96xvSpXz7YF52nJ281WBL41MHbDIu9e7+7WLwBA+3DfxLcvqqfQts1tfvLx+jBzeyLa/Goj63CNx1TI2drAOkBMP4DCXMHZeJtGm9PgkXKseIWvyN2iZ69TGix5hW0Rd2CQT9MGKBtu+x1PsSwWmWgsirmueMEyMfCVzAcJTa2rdw1SkTbhB+u1pSuTVwotb63LcXl9KVmyn+tUpiV01Dbr4Mj3Amkwv7+c9u5yNh7QZG+aXZ3tHtUmZHh3oq6zl59f9bFznuxbT2yQXi0us18HncMTkUX79476K7cvsp7Wx6EwG4N9Sg62gzIOhbkMIUyDt8OAAqUUiVkypp5+x2dj8I6mmyN60UEnmHf+Uxq+HaxM59UThTH7ePmd/sX0Bc2enDpl0nzwMQNr8exsVuC23/fpVA/IXwJnq3IaRptDGurXa4+06MwoeR2T8MUxk9Cy+splnB+c190pZqKoy3u6N2kw2VcK1AvqX5HsX1B6LuTlceTE+x8ppSJl/dgZ+rd26R3nOzBJ7oYN2n2n5fqES0yML7rccSbzNebS5Wx9Yd1J9ftibBCvs7Hg0s7L36LDT2NKd4uTASjMUcRA8CamQPEB+V/o8JF+I8LWr2Oig+PwDEwv0SxnVdii/h5R+tUOw7NCZ9Y7/b68dEIMiNl3fOud93t/4Pyul5ZCnz3pi5lZJL8C13LoxsufcVnYs0szEeD3fpue6HQJIZbKnPhb540bWD7YqDKZp9/0a8a16gze6rctLqZH0kpVWEkQ9XR0Pi6/3EJ858UB0fjXvn6jPeKWP84Tl6FdX14DN+Wkn/qyJsLkCz2+HNKOfqeIKye1w+byfNsTZWVaFa/G9Gj+/oMrS13A5TE+0bIgyu6zlmVLjn3rRj4Z5fy+pBP9+W/Tszwcb1Ul+71jOVe/P9PtXn6exavLMto2Vbj2xFimU4df1T7KUf1c7/WzrJ/jfqs3n9GHGlZ9nijypU7vBol+p21cOSvm6RulsVt0mO9p9JIduz8qyK+UlTNHHvzvxNvmknDcLBu2rGT5LpcFxYJtswJVXmKyKwp0shsIX6aXy8GK3xkjvPbhjx8Ct0zjlmzzvbp5KxtfsvLWL1X55e2af8O/teUlTxfnqbwfXk7OPPmXj93nVGD6Av1kYRvZ2p2IwXJE29l37LR7cWcypt+v0CXq1mVjLqN9iAnO/t6EjvzP+OISEKDOPf+V1+uqK1uD15/K3za9ztW/TpVfu/H/+4ed5sD1q6X5Ut8Pp0l9di/7rRs2XwPLv+PrZtV7bt79q8LVtbR5OuQ1shy+vkrW/r76LudThSnfL8mHfyVt6LWbx3g9ybj/+EvFK/Mf/q16r1gfSyGvQ87z6JahLgsrPjef7aTFjdNg55lxZaEUzpMdnrny2ZOFWmE1RcfFYcuyknFa5eSVt3ptylDlUZavF44pB7f8w2WUhx8os6hMF+VTyaX6ZtP24WLlX2LS2bQOAvlpgWh/pvtPJTv2o76vyiTwudUPGOw6zDByab4flI38dbidVOCHaTBxm89kXk0dlcuC+XyhtlmLYvwZWZ24bcZ897+/f7fkzE+nzkeoPBirrEq/F0G197w+nfrisJ2643TnbULFl6fV+a3OR57nYr4Mi8iZ06fo8q1fl24+ghTynrOULlH2WW0ismvKzITfVfsIlA0szDHYMtFL6I5+uRgblGz6FmCNXqJZZBkun90PKH39ylmu3hrZFvGQBTqOtLL2xvQqmqYejT+Z8MNhbzzqU/rGtxyc0fHBnIbPcyvtxuAVjXsTmtmzThH3qV6y4nB685QyO/HefpZPO5wCYvY5sC2YYhZ6FHSrsWErVY+S2/qlxTc2X72dEb3Uy0KfeNXA8m/6fEwjKiuzxTn7x13hYN+qoWf5G57k7gpbj4dE56lV9vOoi4xt9cifmpaLHx9o5uRZWYkn/9iz+AoyCwfRVC69pZRacQctWG0gZOyZXkWwrarSMuFZWunBIU337DK05MoKR3FGM0fONmj3+dCznFe3n4UpaR++pcc8rsXHWP8GRCfsltFi2pYg2p+ZJW5/2faL+n62rOu5PTRaErf6I3rALie5jJa2TdvyZT+OlasKS1Zu7VC/N6f0u/ygnDba5pLkfZIr4xuDQ2us2qCdJz1rJVCPEYEVXZtUyLJyHyr/XpCy8aWKvWk2Vod+m+fZz1cNonLGfYoI27gbSTlo2i7jY0AVy+gSCm98zwhZzcUTWHGIcwnt43ZSqGcozBEuvqb6r+W4kzRsPDXIB4dT6r/fdjtibwkm5H4QQyqHm0lcGa0DL2VshpZzwwqpTe/JTh63HBAbdoo8UEk/5IY+r9LPMU7PnpTIpRrTcYiGv5vS+GUXvlXKN9NWHFmZmehPo2QNXPlhsXKvfusuE26NjAzZT81y48mks4x3Xwxi7sK3r5A7Si//9mFK+zJOUcey/BNKdNxu2qZyA0arSnMJyd0Fa1LmwV6eFA8vd64AuU+g++TuR3MaPdyWrhXqfSV7C5dFmyzRn3VHRdvMlHnvaaSs92kna4vK7zm08bxAjbbZLa6/OLflzCjkTSScdMn2UzVGTGjEv9nrNxsXNEuPL5fOHRLqQ67MsbI371H/Ud12WT4GVLJM2+PyFZPVrI04yrBIV6h9NPFRvoz2cUuMSdnkRQGFOcLG3XZ88lgJ7SXL2anjKCtWZlXMFMZcCNlSVBdW7ttg63FCoz8/6FcGfwZY4XvYFM77wxHR69N6DcdGNowwpROezzPRhbOyYRofD5r6dSNrUhx38xs/FUqtvSpiDdynfGqL1WEuZWFm2CripEs8lkLgK+TZoMmzdts6wJSu5ijLxmXhWlCUYlQfy5JpnkvbqBKn3MKsBuWe027iKy6XypL9WddE26anGGZPS31CJRVt82o4o5e6fzZpOrU3FJf0wTncvhbd1L2OqBVqEvmV8iPLz11RrqRkDCiljbb34DD/7aZQUjOluQ0L8xLUbR+eIYeBwhwjYI5vTomlRneqyzV8vYxsz5ztWbp0T9B/G2THFF4qkUtNbZy68eAZjc9nNNMvjdIzsVw1jPuHu6y9IJayXHBx8fLLykNxpsxKQ3hJR5XJUa5Iirh405qc5Vsdgnp4eZiVQa8Bmpl6owFTLe1NAjt1w7C125eFHH8CuJSFmZcNxSx9oRNg9PLZ6NDIQkiGLaQMF60qRuFfWlYz9FKqvWmV3W3mQ9r3ZSqEzNeEBssoRSVtk8mUeVEmTayG5RZmk+8XmYyrtmlbcAQLybDBuHs0mJBlVPRnV0JF22zDwlxBVBZqtc1l6kMpcYu6eGRjoehHXzgyzGOE3S/EyK2m7bV9QTbWc9nUWMm7DORY407CF3HhNASNgFLPiW3wXVyX8HGNcS1YmCtYrn1oAoYcKMwx9ABY2CUpyCw2cpeosTAGOh+5hFJypNGC5EuB6niurBGJjnqfOx1j8XyT0LgwKxTCai+V2Onmjl4ep2I+E89Csz4eUEQfZMkpK2hylqnDlX5oLTWQsz+5HkR82dITPyZfbn63033XsiHRA2DB91rAZXKS5GX6cEb9Tw1dPqRfmsDxL66GFR1lFTB5Eo9XH3k9sj+7NWEwCo552HXEtuqWYgZUvVxllrCyuLnDU64Sdhz1BjBePjulMRlZ2JZHAuYDgWd9kD7OxfKW/toC1yK8HIXyblRmOl/n2hqkn2YT4ljbFGG/tJZWRbueFmR4cVS+KZNxeYRi3baZyZlSMkzaXVlQ7au4ylRBrf5sUXI5Y0XA9B1166tO2+yGKlmo0zYXrA/N1khZeU3Y9cpM+4oa2X6YUt+TYX+MKKZbI/tk3U7asNrLvQrGnYpdk5RffDssIWdS/j03r7q/ZeqMASKOV1bbz9w2arW9uC7hr2q1Od6X00b7UPA+Bd+Q8wvv/NN/Ax8WODlgL+brxFawoyRg9QQrCHdsasNTY5eOSlgB1WcPt2ZlUmGy32n76V0D9KpC0kl9gdaRfSkP2A0nm6AbUB+rj+zjeK+HpX/I9xYw2oBmhMpeAAtzGWbmucAsVi79n3dzegLoAjNbrusCUQ81025bWb7JaOs3lOU1QVvYoJytCKiPtYFdAvSfhouPM/Ge61cL2ka0ETm+FA2lsDBXsogljzslMQtc+V24wIcVXHbbWH3l9oZbmAEAQMAruXHfdvYBXt9xuJg3nR+9wuYr1AbexIuV7cVgHeAFvQqWHxRmAAAAAAAASoBLBgAAAAAAACVAYQYAAAAAAKAEKMwAAAAAAACUAIW5ErUrv94Zswbe9NfuaQurhjz9IXB6iDoVoml5VWPfTNfsbNvrzPWXMwAAAGAVgMJcwdlYHQnmnkSgj7bSClxRceRD2lMatH6QvRdvMO4yypR/ddyQ+1noPcFnvj0noeklniRhbqZbpatxTfk49aGfticMYbqSMwAAAADYQGEuQyiGA76a0lMML6Yv5O1k6krH8N32fBMU31q00PXBFeT3u1/FvfpCSdzlO+bDR/VwvjltN+OoM741SNWFvD3QuqP+svLfpZwBAAAAQAGFOcoFnbwJK4aspORn9PEd+ETzVN1Eb7P1K1/ReBxeMudzFO8v615wh5wr2iWu1bNtZfpiekSTPd/iztjxFq8JZ1cNTovtWpFbYdnyzb+xw2jmamBcQWLxy5utss/9cumqzHKLfp5vK22cJsc6zOlw0+7mK1wmpXIGAAAAgKWBwhzjxweazYfUX8ZSeGuH+r0JzbpanpdpJEruGuWdFbQBpa9z6zffmd6ee8AFfXg/p+HjkG3ZWFvj9/DzPfp8VbixyE7e2Moi31t/RMknZaFtdMOimHwc0yudZw6baHRohZ1dA6s+5yef8HRdZiTv2jf5nvL9/H/WzJdxfdFpPo25X3QtZwAAAMANBwpzDL6WspfQHf0yinTb6NH416CDAiWbROnXgMXy1i69cxS3+rACJi2O8k55a/mfFWiyr+NmH1ehmP7Tlu3xG6XzHiW39cum7E2z/G486lNvnooQc4Yn+VWtW4+F2n2eFpXDEKIsD61ydMNWKwW916/C18BWlJlr4c2fRgq1le8m+Tr7x13h2Bjs03A+ow++9bxMzgAAAACwNFCYI1x8TfVfJbBbhfTnjd/JfyfpBd01lkH5MJ/SuDen2UdLSWIlfz6ibUux2z6IXZ65AD9SqlEq7eEp1HGU60Om0DpXhrKSb1vhPSrKzPhk+08TH2XHIv/gkL682xUqbhUXlJ5bkyP5DGiiP/XpQs4AAAAAoIDCHGHjbqL/iqDvcqfXp6XK0zehrfWSSjv1AmzQ7vMhzX3fVWvjWfbUOs0i5A/NWBblWwlVlEq71LHwC+RJJmTl+9NYpNoQy5dFSZm1YmFegnyDp3nCk7Pu5AwAAAAAUJhj3E4KLgMZlrJc7lKhrIRB62Ybm/4ePKNxb0JHJowHfRrOFz0xQS3r2+4bcoNfr087mYLGyuec0u/6ZWecyZM4ek92alhiNZuJ/u4FnRzaFuYN2nnSo8luZBNhRZm1YWEuxXYd+c22IFek26FEzgAAAACwNFCYY+iNVJkyanH2p1LIeBNbbnUMnMzQxsbBUoyV+YWOmzfeqU1rZdZQd5k//3xrdErj80H2vtxw5rgPaCXO2aynyU6hYKWPN/Dx34EyKSFPl9qEl09G8lMsBm/zcjeTDT4lovfWpHub0ie2hVkpvXLDnA7D/m3dMuuEB4dqc6OMU6T7ubthMpRu91QNTedyBgAAANxsfvkp0H8DH3m6AtH0S/jM4Sr4KDE+HWGRjX2rCyuvA6KTNs8aZusqK4yXd37xdeJ6yhkAAACwOsDCXIaxADa6TU/Bvq+Dc/v0hevCFh2eDGu6CoCuub5yBgAAAKwOUJgrMG4KzZboz+i44M5wjRATCekqsMBEArTJNZczAAAAYEWASwYAAAAAAAAlwMIMAAAAAABACVCYAQAAAAAAKAEKMwAAAAAAACVAYQYAAAAAAKAEKMyV8BnBTS+y4LOKb/ixa/Imw1gZcPk0u9TkWiIve1lNOXGuBO/kNBR9GU3oIpbLgsv/KuP34DJf6ubPK8TIS2U/2VmZr1ifwv1fST7Xua4BuKlAYa7gbLxNo82pe6FGdqtdTKHYomd87FpXg7ET/yUOEq3Eq66ATl+/ot3sym2DVqL0Exx8TRraVuL0VeVleeMLQqLpumaYK8FPX9t3Jl4juL53Uxq/tI7kc2RAPK22XzXxzsIOyNjGYF/eOHkl8tWZInsZ1OhTOsqb6hMC/cWtXdrfHNF2pJ+60roGACwEFOYyxCAyeDuk6ci75+/BoVQm1KPOafatBaxwTEWH+aJlK4K05PBA/8nE/4roz8sY6MTAI289VPGeviYaPWxuHb2YvqARBS7akMqKukHQlG3x1j9OQ0rDvZaVOFYWHs6on5Xpu+LAy7JwPqThNdUfLx++klyU9ZWcIS0UrMMRka9gCSXnnZY9frj9xhSe5mzQ7rs87C8nSaD9iDL5NKZ0DS8FMhOsq7ipM9qnyMn1jJJOJn1KEZ8l7jX8NuVn+K9vXQNwU4HCHEUMqm8mNDypuhZ7g5JN/afH1q9jooPjcIeorVnNluX4ooq5SJOt0ImBeFRiJbMHfB5AxGt7uT2PXw0Abuduv8cKTl4WG4/6YqBIKbUtK3KA0vE+HNFcv53D6SfXqqc5+3NEScV122fjAU329ulZot9oBa5nnoAElOQMVtSFLDx/Rq1G7WHqxZYJu6589w22bvF37e9k9Vda14qysJfGlgUvbifegkKqZM7+bcGC54S9wErH5+OwguVxJ+lwdnQ7CStabJncm9CRV1dLE6sP018I+aa5mCBk3zHyoCzjLFdmhcUtc7u+wnXh1DfH46DCzz5vPEGJ9SkiXW8SOhV91o5+p03OxkeUiAn24SP9RhDRNz8f0uRNxKDRVV0DALqBLy4BAf7318+n937/+a9+Geffn7/fe/rzr//plw7//fzr6b2fv/+ffmkjw7/38+nf/+k3avB/v/+8V5omTosdn3qdxSF/f+/nvT90CF54//5hfcaUlYH8zMp38LX3W47v6V+iVHx0Gf6t0yefwG/1e//9/dRN5zLodP7FYZq4vTTm5VJSn4vg56kkz4z8jpU2mS6rPp3P5W/zz/ywqsI2LFbWZW0ip07Y/B2njfhy5uerBlxu1e2u5br2KM075ynYThalRn1E41TlwLJkyqzQT0gicYTkzpfhLCwVV+M+saKsYrLdCr48Fqgo+9brGgDQFbAwx/ie0ryX0B390ie3miirZ9g6qazP6deABUEv/76rsHI14WJ6RJPemJ5lVtotOjwZ0vz9h9zCIT4/NS4mD/o0tKzEbBHvvZ1py5II7+OM6PWzgIVdLWnPrXyzhbiwxO1x8TUl2kwK1mX6IdJAcxql/Xw5fG9i+YDXtfYvANczTWhGr3TcpzQmayn+xwkdhdxyWiQVsrTNV1xbFnzm7B83z+z3OJzP6INtxbPqU1r95yl9k68EJXVdK+ylmNPs45KWM1H2L973HUuwkklLzh48o3FP1J+2rOdWUPuxLZ8XlJ4TJXcj7S6zxG5LK3Teltogt8Zus1X0V7u2Ldj6bNdjKyxZH3vTrK/aejwkOk/zPiVKVbs9o5nTtpRFNuuv/NUy81hW6GifsjLcoaQ3p/S7funTSV0DALoACnME2RGXYHz2+DlNjqKbSnhZd55eYne4zOBxa4f6mfJxQR/eE/UfFUOTGyGFMpEpYzX5lhadNHJcpVQq73ogkT6K/sbLNhGKZa6UqUFbKQRqYpB0oahnTGh0IMplr+/FoRS7ya6tLIjJmf7U0Huyk9e3nITVSWu9sBdH+WfSwbYOexF3Dy77GfW9pXaWoXkWLj9CFi2x2hppH2Hnsd1tvlGpGNr7E56ntN2qqwq7NZk07VP6MLKB9FZCie/utBTL18fwsSVVXEZt+J7LibKYGGd1KR7bZcPzKc8eq58o71NWgRKjCdN6XQMAugIKc4SNu/W9VQuWPQvu0HtJzE7dEOn3mFvTgniWnyrF32WDdp6IGP4Rw+mPDyTUFdrxLMZswZMbIRcYMKM+oaWDBivuYlB8O8gG1W1WMOXrBfxXfcosPFwGIqpcsVTKmXzd2q57UZZfpjQU+fF9jJmhtQlSPWW+1s3oMmxb2TnlE2MaKmk8SZo9Ca9Y9F6feunOfd+rLcxs8dN/VuFZ5dtli/p7EUVKKpKiTbRVF8yS9dEdLP9uXWbKeA0Lc6d+5q1QsaLRRV0DADoBCnOMBktl7I4wL1gImZLOUg8GISUpihj09sUgO3F2Vl/QyVgpb0pxH9FxplDrTYLP6yu3MgyhdJ99nFHi/S5TlgNWTGlJz1w/zuhlYNOfnIQEl3JZeZjT6M88V3mZbrinC4hHHnW2NxV/2wqeKAe5eaihEq2t6vnGG7WMLC23BQvXKY1F1FLRdCYMC8adkVsAc4ujnrx0sou+y7CLNJl8Sj6/pG3PFcPA7gDzgxfRcq62MFdY/CyUi5M/aVy2rjXS1acXXMGJuoMZBXLJyVqwPmR/16ZLDqPKWk7AGU6/Y0FWbW8Q2+hXw8Ic71NqYlxwGm82rAuvaPQoua1f+lS4/gEAVgjtywwKxDegyE0kZoOYvbHKJ7TxzSA/a7jBRZNt9pKPt6FEh2s+d8IvbDAJb0hR4Xvp9sLNHm/Djnqfw+Sw/bzze7GNVPbv7XCLxDZMmXppvlFLpcvEHa8TlcZQ+AvFHdoQxWmw8laQNW/DVDStNeo6HrZXF+YpqRMHk4/sseOtCtutC/MU5Nj5PNLGYvjlbvDDjWzGWkzO/HwV250hXq+m7BbJb3XcrjyYOOIyLymEzY8dvp1vESb3I065FuUh3v5CqPCL6YvIWaFOdfoidR2j0HbkEyhXLp+SsEvbMABgpYDCXEZsYK0JOsMicqBpODjVRtZXXBHplKuMGzREKVMLt80u67pski2Qk9mu2s+aslyfohXrupPBRlRMNirqGgCwWkBhrkAOUAt0pp0qhmvNkspKEGPFugqF9SrjBgsjlZWmddZ1XcespQKppIu40acEWKxPyazEnSjLVWNHSV0DAFaSX/gf7Z0BgrDP4jalz5vcYsXHR82oX+vEgpsIlw8f/N/iJjNwObAfavBSGgVvyGvzqMROYf9VvtziSm4bLMJHVb6gV+tTfivFivUp3E4OiV5FZAt1DcD6AYUZAAAAAACAEnBKBgAAAAAAACVAYQYAAAAAAKAEKMwAAAAAAACUAIW5EnVRQfAK2yi8AWVVbtJqC85TCzfrrQB8AUvswhjejNPdJQYAgPbhvokvk1FPoW2by0nk4/Vh5jIYtPnVRtbhGo+pkLO1gXWAmH4AhbmCs/E2jTankRMyYrd+bdEzvn62teuTDe7AIJ+mDVA23PY7HnUlsV0Oi0w0FsXUw4JlYuAb5g4Smlo3iRmkIm3CD9ZrTBbWGS1vrctxeX0Vr7e+TmVaQkdtsw6OfC+QBvP7y2nvLmfjAU3kzZ/qJkD35Akhw7sT6xr4qz5Fw5N962l06+uVcZn9Ougcnogs2r931F+5fZH1tD4OhdkY7FPi3LqbA4W5DCFM8irogALFXExfCGV6SEP92mZj8I6mmyN60UEnmHf+Uxq+HaxM59XrEc0+Xn6nz/Uwe3LqlEnzwccMrMWjAFmB46uaT/WA7F6LrSiThbVEWnRmlPA15C1jJqFl9ZXLOD84frBTzERRl/d0b9Jgsq8UqBfUvyLZv6D0XMjL48gBnj9SSkXK+rEjQc3125E+vn2sq/5PuMTE+KLLHUfMXWMuXc7WF9adVL8vxgbxOhsLLu34zy06/DSmdLc4GYDCHEUMBG/CCpREzK5eHBCNf+3rN4ps/TomOjgOz8D0Es1yVoUt6u8RpV/tMDwrdGa90+/LM3TFgJh9x7feeb/3B87vemkp9NmTvpiZRfIrcC2HbrzGTcKeXZqJAL/32/REp0sIsVTmxN86b9zA8sFGlck8/aZfM65VZ/BWv21xMT2SVqrCSoKop6PzcflZvTVkYVHilj/OE5ehXV9eAzflpJ/6sibC5POJvxzSjn6niCsntcPm8nzbE2VlWhWvxvRo/v6DK0tdwOUxPtGyIMrus5ZlS45960Y+GeX8vqQT/flv07M8HG9VJfu9YzlXvz/T7V5+nsWryzLaNlW49sRYplOHX9U+ylH9XO/1s6yf436rN5/RhxpWfZ4o8hn17waJfqdtXDkr5ukbpbFDwZnvafTMcLs/KsivlJUzRx7878Tb5pJw3Cwbtqxk+S6XBcWCbbMCVV5isisKdLIbCF+ml8vBit8ZI7z24Y8fArdM45Zs8726eSsbX7Ly1i9V+eXtmn/Dv7XlJU8X56m8H15Ozjz5l4/d51Rg+gL9ZGEb2dqdiMFyRNvZd+y0e3FnMqbfr9Al6tZlYy6jfYgJzv7ehI78z/gcZhCg9NpS+2YpvrEpdvNXydWoMvymt1P5t0MV4/73DzvNgdukSvOlvh9Ok/osvyrcDdtcA863Z6n33Lz7Nx+qW7bydMhbsTh8fTOW/X31Xc6nClO+X5IP/4at0Gs3j/F6knH/8ZeKV+Y//Fv1XrE+lsK7mt0tQ10WVnxuPttJixunwc4z48pCKZwnOzxzg50nC7XCaoqOi8OWZSXjtMrJK2/12pShyqMsXy8cUw5u+YfLKA8/UGZRmS7Kp5JL9c2m7cPFyr/EpLNpHQTy0wLR/kz3n0p27Ed9X5VJ4HOrHzDYdZhh5NJ8Pygb+etwO6nAD9Ng4jafybyaOiqXBfP5Qm2zFsX4M7I6cduM+e5/f/9uyZmfTp2PUHkwVlmVfi+Cau95fTr1xWE7dcfpztuEii9Pq/NbnY88z8V8GRaRM6dP0eVbvy7dfAQp5D1nKV2i7LPaRGTXlJkJv6v2ESgbWJhjsGWil9Ad/dLh8zGNaEyvKpfQNijZ9C3AGr1Es8gyXD67H1D6+pWzXL01si3iIQt0HGll7ZXlq0fjTyb8cNgbj/qUvvEtB2d0fDCn4fPcSrsxeEXj3oRm9qxTxH2ql6w4nN48pcxOvLef5dMOp4CYfQ5sC6aYhR6VuNUo2ErVo+S2fmnxjc1Xb2dEL/Wy0CdeNbD8m2rLQnPO/nFXONi3auhZ/oYnubvC1uMh0Xlqlf086iJjWz3yp6bl4scHmjl5VlbiyT/2LL6CzMJBNJVLbymlVtxBC1YbCBl7plcRbKuqtEx4llZ6cEjTPbsMLbmywlGc0cyRsw3afT70LOfV7WdhStqHb+kxj2vxMda/AdEJu2W0mLYliPZnZonbX7bVt6tmy7qe20OjJXGrP6IH7HKSy2hp27QtX/bjWLmqsGTl1g71e3NKv8sPymmjbS5J3ie5Mr4xOLTGqg3aedKzVgL1GBFb0dWkQpaV+1D594KUjS9V7E2zsTr02zzPfr5qEJUz7lNE2MbdSMpB03YZHwOqWEaXUHjje0bIai6ewIpDnEtoH7eTQj1DYY5w8TXVf/mIyt5Nafyynj/NnaRh46lBPjicUv/9ttsRe0swIfeDGFI53Exq5SsKL2VshpZzwwqpTe/JTh63HBAbdoo8UEk/5IY+r9LPMU7PnpTIpRrTcTSThWYo30xbcWRlZqI/jZI1cOWHxcq9+q27TLg1MjJkPzXLjSeTzjLefTGIuQvfvkLuKL3824cp7cs4RR3L8k8o0XG7aZvKDRitKs0lJHcXrEmZB3t5Ujy83LkC5D6B7pO7H81p9FBd/6/eV7K3cFm0yRL9WXdUtM1MmfeeRsp6n3aytqj8nsMbzz1qtM1ucf3FuS1nRiFvIuGkS7afqjFiQiP+zV6/2bigWXp8uXTukFAfcmWOlb15j/qP6rbL8jGgkmXaHpevmKxmbcRRhkW6Qu2jiY/yZbSPW2JMyiYvCijMETbuRnzyPs9Es+UBxhQ4d5T6dcCCwEpoLwnaqVtAWbEyq2KmMOZCyJaiurBy3wZbjxMa/flBvzL4M8AK38OmcN4fjohen9ZrODayYYQpnfA0lIVFcDe/8VOh1NqrItbAfcqntlgd5lIWZoatIk66xGMpBL5Cng2aPGu3rQNM2WqO+BZbNi4L14KiFKP6WJZM81zaRpU45RZmNSj3nHYTX3G5VJbsz7om2jY9xTB7WuoTKqlom1fDGb3U/bNJ06m9obikD87h9rXopu51RK1Qk8ivlB9Zfu6KciUlY0ApbbS9B4f5bzeFkpopzW1YmJegbvvwDDkMFOYYAXO8xBIC9fCSICsAoUIvsdToTnW5hq+Xke2Zsz1Ll+4J+m+D7JjCSyVyqamNUzcePKPx+Yxm+qVReiaWq4Zx/3CXtRfEUpYLLi5efll5KM6UWWkIL+moMjnKFUkRF29ak7P8urJgZuqNBky1tDcJ7NQNw9ZuXxZy/AngUhZmXjYUs/SFToDRy2ejQyMLIRm2kDJctKoYhX9pWc3QS6n2plV2t5kPad+XqRAyXxMaLKMUlbRNJlPmRZk0sRqWW5hNvl9kMq7apm3BESwkwwbj7tFgQpZR0Z9dCRVtsw0LcwVRWajVNpepD6XELerikY2Foh994cgwjxF2vxAjt5q21/YF2VjPZVNjJe8ykGONOwlfxIXTEDQCSj0ntsF3cV3CxzXGtWBhrmC59qEJGHKgMMfQA2Bhl2QT5BJKyZFGC5IvBarjubJGJDrqfe50jMXzTULjwqxQCKu9VGJ3mtzRy+NUzGfiWWjWxwOK6IMsOWUFTc4ydbjSD62lBnL2J+/WFfFlS0/8mHy5+d1O913LhkQPgAXfawGXyUmSl+nDGfU/NXT5kH5pAse/uBpWdJRVwORJPF595PXI/uzWhMEoOOZh1xHbqluKGVD1cpVZwsri5g5PuUrYcdQbwHj57JTGZGRhWx4JmA8EnvVB+jgXy1v6awtci/ByFMq7UZnpfJ1ra5B+mk2IY21ThP3SWloV7XpakOHFUfmmTMblEYp122YmZ0rJMGl3ZUG1r+IqUwW1+rNFyeWMFQHTd9StrzptsxuqZKFO21ywPjRbI2XlNWHXKzPtK2pk+2FKfU+G/TGimG6N7JN1O2nDai/3Khh3KnZNUn7x7bCEnEn599y86v6WqTMGiDheWW0/c9uo1fbiuoS/qtXmeF9OG+1DwfsUfEPOL7zzT/8NfFjg5IC9mK8TW8GOkoDVE6wg3LGpDU+NXToqYQVUnz3cmpVJhcl+p+2ndw3QqwpJJ/UFWkf2pTxgN5xsgm5Afaw+so/jvR6W/iHfW8BoA5oRKnsBLMxlmJnnArNYufR/3s3pCaALzGy5rgtEPdRMu21l+Sajrd9QltcEbWGDcrYioD7WBnYJ0H8aLj7OxHuuXy1oG9FG5PhSNJTCwlzJIpY87pTELHDld+ECH1Zw2W1j9ZXbG25hBgAAAa/kxn3b2Qd4fcfhYt50fvQKm69QG3gTL1a2F4N1gBf0Klh+UJgBAAAAAAAoAS4ZAAAAAAAAlACFGQAAAAAAgBKgMAMAAAAAAFACFOZK1K78emfMGnjTX7unLawa8vSHwOkh6lSIpuVVjX0zXbOzba8z11/OAAAAgFUACnMFZ2N1JJhzEgHvUNXKW/Y4yiMf0p7SoPWD7PWRWtF4qyhT/tVxQ+5nofcEn/n2nISml3iShLmZbpWuxjXl49SHftqeMITpSs4AAAAAYAOFuQyhGA74asqQYujfR+59h2+C4luLFro+uIL8fveruFdfKIm7fMd8+Kgezjen7WYcdca3Bqm6kLcHWjJxWfnvUs4AAAAAoIDCHOWCTt7EFcM6bP3KVzQeh5fMtZV6OWX3DjlXtEtcq2fbyvTF9Igme57FXWLHa123rWFXDU6L7VqRW2HZ8s2/scNo5mpgXEFi8cubrbLP/XLpqsxyi36ebyttnCbHOszpcNPu5itcJqVyBgAAAIClgcIc48cHms2H1F/GUnhrh/q9Cc26Wp6XaSRK7poDtllBG1D6+jSzQPOd6e25B1zQh/dzGj4OTSGMtTV+Dz/fo89XhRuL7OSNrSzyvfVHlHxSFtpGNyyKyccxvdJ55rCJRodW2Nk1sOpzfvJDybsuM5J37Zt8T/l+/j9r5su4vug0n8bcL7qWMwAAAOCGA4U5Bl9L2Uvojn5ZYD6i7QrLH9EGJZtE6deAxfLWLr1zFLf6sAIm45V3ylvL/6xAk30dN/u4CsX0n7Zsj98onfcoua1fNmVvmuV341GfevNUhJgzPMmvat16LNTu87SoHIYQZXlolaMbtlop6L1+Fb4GtqLMXAtv/jRSqK18N8nX2T/uCsfGYJ+G8xl98K3nZXIGAAAAgKWBwhzh4muq/wqglV1jrZSWv4jSfCfp0Ty11cLlUT7MpzTuzWn20VKSWMl3FPn7tH0QuzxzAX6kVFIq7eMp1HGU60Om0DpXhrKSb1vhPSrKzPhk+08TH2XHIv/gkL682xUqbhUXlJ5bkyP5DGiiP/XpQs4AAAAAoIDCHGHjbqL/qkZaNPXfPt+EttZLonbqJdig3edDmvu+q/5mRH5qnWYR8odmLIvyrYTql0oLlFn4LeRJJmTl+9PYqo9YvixKyqwVC/MS5Bs8zZNb4W26kzMAAAAAQGGOcTspuAyEuaCTwxHN9/qBzYHKShi0brax6e/BMxr3JnRkwnjQp+F80RMT1LK+7b4hN/j1+rSTKWisfM4p/a5fdsaZPImj92SnhiVWs5no7+r6kH8zG7TzpEeT3YjbTEWZtWFhLsV2HfnNtiBXpNuhRM4AAAAAsDRQmGPojVSZMmrhWh23afbkNGzFbWPjYCnGyvxCn6zAG+/UprUya6i7zJ9/vjU6pfH5IHtfbjhz3Ae0Euds1tNkp1Cw0scb+PjvwGkVJeTpUpvwcv/u/BSLwVu1eZD/NpMNPiWi99ake5vSJ7aFWSm9ym3GhG9PVOqVWSc8OFSbG2WcIt3P3Q2ToXS7p2poOpczAAAA4Gbzy0+B/hv4yNMViKZfFjtajo8S49MRFtnYt7qw8jogOmnzrGG2rrLCeHnnF18nrqecAQAAAKsDLMxlGAtgo9v0FGyFHpzbpy9cF7bo8GRY01UAdM31lTMAAABgdYDCXIFxU2i2RH9GxwV3hmuEmEhIV4EFJhKgTa65nAEAAAArAlwyAAAAAAAAKAEWZgAAAAAAAEqAwgwAAAAAAEAJUJgBAAAAAAAoAQozAAAAAAAAJUBhroTPCG56kQWfVYxj1xz0zYbqAo5ly6asTrjs7QtT1HeXulGxM/ILWZpe8lIXc8nOpVzEck2oXWZ8TnvoIplrTUV/KNt5sX3zWeFdyfhKEJIF0+cVThPqvt3H477J6HIvtNlLqI+6RNrPVaDarHraHz+5zNdPR4LCXMHZeJtGm9PghRq2QLkd0xY942PX2h5MdSdoC69KQzuC5+RHPi0K9K1desfXSn9yb+HLMB28fhZT8Hgw51sCX9Fudp33KsO3DPJV2+4Nf9cBR5YuW6lcU0X2Ssvs2hJTkq6S5ds9y8pqGgHWcZJ+XftheyJgnvpj+taIy+QLTff0G63SkY7UMVCYyxAD7+DtkKaFa6+VlWVAUylQ8vG+w9caTzdH9KLNTu17SvOeUDfTb/qNM5qd98IK6KLs5XlS1zJfxixQlOfhjPqfdFnKi1Gaz/Qvpi9oRLjEw4blkMv0Um9Q5HaTtY1TUSMj2l4jSxfKrH3U4PvucieyPHG6P6Pkdas9ZH2MkaAwflwCVxK3GhdfUH9FFU+tGN+oc+t7NDbjqnwWu7W4CzrRkToGCnMU0fjfTGh4EhCwz8fS6lzVGW39OiY6OA4rnAFrcS02+9Q/n6kwP8+Inu9TQimlmXLpzSqtQbdgja5Iw8ZgX3R8E5oZS4FnBfaX+4xlwTz1LQwbtPvOGkwfcIc7p/S7fi2x87VNo7l+O4Mv8SAav6zqDE049kTALTOnPGSe+bvWd6xZMeeZv29bB918l4S9NGqAMmHH81ScfPh1JR+nPr2wmyhvDw6ttrFBO0+EwnKeZmW2NFIRytOWlamRz90J0VwonNl38nIxljk7/3l9lZcZ45Qbx+OwomXG5SXSYqfdl0NXHvy82+USaHt2fTwciZZr4fQZtnwyXF4clx2+9x2/zwl9J4gI801Cp0JB2NHvtE2ZLNj9wSJtPlYf5v3BWyHiB9v5dyxZq4rb/tyt6xr1UQIbLNLnX+jdINHvtE1Zf+eXWclnTdplFbJtneh0ibL7rOXVtpxWjJul7cfPc5tpF8TkrBaxflhTVh+GUh1pFeGLS0CA//318+m933/+q1/a/PvHvZ9P//7r5+/37v28p5/f/09/6PDfz7+eRj6T4XM4/+k3avB/v/+898e/P//7+6kM898/OH3/inQ8/fnX/9RX1HsG/syOX6WHwzB/2/FzvtRnBvv3fljqdfZ7TptdXvJ1nq6MknLNCac7T2ugXDm+p3+JT3zs33pplvhhe3Hresrz4n7OdcH1b34vX2fpqAg7g98PlFUFMi6nvkLUCZu/49aJKwt+Pprhlsmy1MhPVBZ0vrg+dd7CaYvEEZJx67crW2Yy3VbapExb+ROvf7fSWS7D6rXbPtywgu07+L4KK29b4biy1zIfFXUfoF3501TIgkGNFbGYI3JWWh+K8nAVoe/4YcnXWT6q6qMunK9QP7cMOm2x/s6rj1idy/djYcTqowzdtjivqm/hNNjh+GWhXmdlWtF+lutTKvJTQ86YsKxVhF2zPkye2pWV7oCFOYZ0f0jojn6Zc0HpOc/uU+qbZY6oC8EGJZtE6deAhUEvmb1r4D5w8TWV/9941Kf0n5c0o37B+r01si3iW9Tfs+NnS+6Uhm+P6GR6XOm+cDYe0KQ3pmcPeLZ4lP2t2KJDke/5+w+iRMQs+M2Eeq+f5XE/OKTp3pxmHwN5r8COV8IW/Yq0yrLZTEqsyx/o5X32bz51y/zHB1GOdtjsW9WjyT/unHd4YizgfpkK9qZZmFw3vXlK0mmmZthL8VavNiwBlzc5KylnNHNckYTcPDd1LQha/cQTsn6I7744mNPweZvLoIvJVYaQrVOdN6e+SlEyHlxxkqx4mVl5pls71O9ZKziiLzq02oRTJhVt7+zPEdGSewbytqUs63PjcsbtZ96j/iMdt7fy5FpKzdPQSrYQVbKwJGX1sRS8CufK1cbgFY171iqiIF4fDWS4bVgO53b7cjn7x60PuTo6n9GHzmVBYI1VzhgoKB83q9pPG33KnEYPrc9sy/fSchbvh+vXR4mOtIJAYY5glNMYTmf54JnodHwXAsWdxOpw2oIHvPMJ0WNOwR0SUeR4yyS8dOfCDTahkVD4g+4Lbwf5b8/FIGv7e5UqpETJ3bJP68HLONJvvKGf2be04KPhMD8YkVDp88HXwBMjZ/n+Pm2LQcVlSP2swxMlOKo50akV9uJIH7C9CQ102Iss/bK8sO+s46/7I6VUlJYJVz671pKz8Y/0n8JgdkYvH/KAcNqiP7CQ30+8jGeWo+svGRt6T3Zy2ZJ5aUHxWekyC5MPUt6yb2FZ+Iq4lVBiD8qfZ6KE87ZoNiW5zyX7SXdCl/XRo+S2/rMptWW4feR4HDRgMcqINdm1yuz+QMjKilAxbkZppU/xfJidcXUZOSvrh5vVRyc6UkdAYY6wcTfmh9VsRsSKXC8JN/NFUGGxpdjelKSVdZ5xigY1PMkbSGGHq/wO0ZSV5ocBZcPa9FfYHOH5VPqTCrdMVKNpAivL2wckGnhzBYYbXRk9oYCcvqZwntn6ZvJsnrYGgS7DFuRKw5QS0Xk1U5qFcsayEEyPmLT46TbyUMuywX6QopO0rO+tYQ0Ul7cxtQ4rXGYBzARXngRElpzGTrK5dJQxIPPVlX1b3jdcnYW5W7qtD9+w840qbA05tWS4G+LjcY497qlnRSZPFeNmOcv2KXGWlrOKfrhufbStI3UJFOYYt5Po8sTW46HoxC1Hdb1cZFshFUppDFpetbAvZBUsxbIgsPXQsTCLGeUhW6+e0ZZ0mRCz15qNSy3XjOjY2iCVL+/ppbtAmezXHPhzZTnQqGRd5Ms5sqF7nbzsUCs2SWUWWXtZipd5Rb462anbZdgFvJWGSti64LtiaOSSfYlsVFo2csUvOjkwnf2SxwoFB1JPXtpBTZQzdxpOv2PtWZ8yk6fJ+P1VZgVTfUTWvCranrQOmSVizkOb1lDtDmJPOG2reysWZrMi10jpq5CFNojVh8Yt97ood7LJm1x+ii4DJdSyaFawqAyX9qVq/JnsrsrEOad83KxoP0v3KTWokLO6uP1wk/oo0ZFWEe3LDAqUO9irzRLs5G8c/QMEN7po5GfNNlSEne9dp3m18UA/T//6+Vf2G71pwna812kwmwrcDQYBzPf146fFLRN3Q4D7mXlM2aiNEIXPrbTav+d4Oa3uRgF/c4XBr0ddDk76ivFn4ZTVoUCmyy6zwvdLwtYbRtynZCOFg8mH9djpqAi7vD6YYvhF2QsTDtuvGxN+vGyDFPIVLi83DXkc4TakqawPuy5FmFzXzkaWdSkz7/deu/79b1eG7bQV256dZy4rLqPwb/PHfK5+a+dRft/b5OT/3i2TGOHfFjce6TotvF9FmSwU2zw/mSxUyVlFfSi8/GVlVhG3wBkjnHCr6qOCYL78+jLp9vNTBz9vbhgFWcvqIyILJl+V7b4E/q2OJ+9bOJ3x+nT7BDttxfYTSrv7+zK8dPiUylmFHBXKrBhPvD4sZBoWkYWr4Rf+R+vOwIetD7xkvaCPIy8ZHiXeJjPQGdJK/b7v+l2DlYXbR8FPHpSyUJlxP8ZHrK1bOYfSvWSfXIRXWrZrHRMK2gHtHhjWTUeCS0YZDd0WbOTmNdEplJ3sANpF7vim9ToI/Uail8ExaDbgBpZZyNeTd9/HN381g/toea40lOXLAe0eWKyjjgQLcyXKAsEHstfftc7+iDPqr9CtOjcHLvsjSkK+0GuEtMIUTjgx8EYQyBaoSchSuxZo66/tWMmbaKFsgUsC/XBXrKeOBIUZAAAAAACAEuCSAQAAAAAAQAlQmAEAAAAAACgBCjMAAAAAAAAlQGGuhDee3KeX1l371bBD++odor428CalJS9nWCfUbv2mMlYFy+B9Ge51uP0sp9t8cV20f5kQAACAdQcKcwXyZqvNqXVChlKg1YBtP/bgvUXP+KrItpU+fSyP/azV4F5HEZa3ZqU0ftnmTnivzhoeE8g7pbPfro0iv0WH8uanKQ31O6uCmSDYT3057jZfG4N9ecV4u5MXAAAA6w4U5jKEgjd4O6Spc0bnBu2+s66h5OeEh+6EEusYM3kN82YXZwLzUTY63k9jIjG4Xx+LmFBs5dXdr1o9Es5MelR9CUXr7aB+mbEMkPntqTzneXuBc7nLYFnh8OsfW3gN4CugjRyLZ3UOrhcKuWhX6QpeswsAAODqgMIcRShvbyY0PKk+J5AP0++9flb43tavrNAehwdefaf+Usou3yUvlPV5FkfuPpJbRd1la9+6Z1vSzHK0bVF1LG06zdnvbcWxYD3mpXMdt/nd7oRoLhTOLAxPKfl8LNTR0EHm2sXFjr+upVf85uhtj8a/mtph6799f38FDw6tSw3UHfl0ntb7bSXl7gXl9cF1zb+xw2im5LmyUIzfX9FwZdWOt+2VDjfspisCZTKuyq0ibNGu9vcmdNRqngAAAKwzUJhj/PhAs/mQ+lVWP6mQDWk/ZCG7tUP93oRmzoDdMrcT6lFKqaXsTHbVdZNsuZvuzWn0p1YKhAK0fZDkFmqhbE92XUVpfrCd/VZ9bpQwocQ8HFFyYqyCDSy1rNjr8OTFAyZ+79ByOfF4shNxxZjQ4GFK+/J3ytJby3r/PaV5r087xmIty2AuMprSN/3W1VHtXmDXx6lQ9Cdv7ImCqNuHfEmLKs9Gt1IKuT2mV/J3Kmyi0aEVNivL7Bqjw+YntwKz0jmg9LWWE5H+Nt0YzsZ8oL2JV8lZ7bBFvl7YMi4e23LvrjYIOToPy/DWYzERrTupAgAAcO2BwhxDKlrVV7Ce/ckuBEXrsmKDkk2i9Gtg2NVK5NJL0bcSSvSfGXvTLFwe+JVFVFnMHUu4vPp7TrOPVvqs39KDvlDklDJ+MT2iiVB2n2XKh1D22LrdmlJxQek5UXI3Vh49obwZBVtZeuepUnkdH+Ps8Symxjq9S0KZYgXVnWTUQipjcxo+v8Sbxqz62HjUp56n6A9P8hsN87qugZC/Q0v23LCNrERcY3gy6awEKKv95B+lrPsWXvM4Sq9QgmOfbY3sidQW9fcibShKbJJ6RjPHxWqDdp9HZJgnoisxqQIAALAKQGGOcPE11X+VIK3LPeo/iqtPd5JcseuEH0Lx038aho8t9Z1dCqyrZOMKaYw5pd/1n5tJh4riN0rtK3DroJXDrVFuTcwf62psdgPJrNNCGZNl5vqcV6Ms7PT6dLV9jWsreZ5rgshbXvyqLqKywpNJx7XmvrLaa4xPtv845eb5MDufea4g8atpA2g3JV5lkb+3XXdkvU9oYIUt3YRCyInoApMqAAAA1xIozBE27hbstgXYujzf2y/doPZNaB69pMpOvTgXH2dC0amv/LmWOmXVLadHyW39p2e9rDWpqM0dEnOLZmgFvtTCLF1WbOu0oObqQQ771A5oYlvfV5Wa+ZKuCWS5x3wai1Iy1KgLx7VGP9pyW8vCHINXAoQSO8xcf9jVRH9WF54kmt9uCsXe8Xe3Ns2ax5pQZiw0qQIAAHBdgcIco2pJVluX881kIUrcDLSLwFKbpbQ/bp2Nibz8LN0Y7E2IvMluHvG/FpyNhZKo/X/Vkv2IjjOl54yOffcEe0n/N/Fb+beFLNMZfQha7UrcV3yMa4S2pJdamKUf+dzyz9XuBr6vtLFqFnyAc2U53/znY6y1gY1zl4ZIp1A04z7gAbIVA5H+Q9vCrGQl91/3YFcdIQsxH/JaFuZSrEmaqJdGFmYPXuHJ0HsKavl5N55UAQAAuM5AYY6hB9fwTnmtYFRYl2tvHGyEtaSsN2XVVURYkTnl86Gd33vKtuVbOjgf06mxvvFStzxuS/9WKJG86SuLW/pDm7RtU/o8sJFNhPGKN5c9NGG4CpncaBU7VURucNO/05sP6+WbjwHUx8HptM2enNa2FEvfbf6jxOfWKJiO+0odMtcDnlyY/DVTujPXA10fWb4qwuYTXHpZnkR9PbEtzAFZEU8+uePNimqjn/mMn9ob88oQMrLPG1VNXb9JaGxbmCvy5Vu35SbXzIKsZeHcrcvQpLV8AyoAAICbxi8/Bfpv4MODs9wkVseCW4RdBfiEg5VfxtewsrGd7pdYUruGLbUhhZatvHwahOWXvGpIWeEJyGWlUZVV+ryJ5RbUgld/pM/7Yu0eAADA9QMW5jKM1bThObAMK59soS2eKQzibNDuSz67+sUVujY0hZX5+5esLIPuEPUpVzCgLAMAAMiBwlzB1kgt4TZbbmb/XnspGNRGnnKQuGcCrzTmLGUoy9cBdsFxXI0AAAAAAVwyAAAAAAAAKAEWZgAAAAAAAEqAwgwAAAAAAEAJUJgBAAAAAAAo4VorzHysWytnwwIAAAAAgBvLtVaY+XKGdPcqb18DAAAAAADrzvU/JYMvlHiT5DfWAQAAAACA/9/e3bS2rXRxAD/3QxiyaKEJIh8gFAKlCwe6MF2brG+Ck0XJOjXZJ3WyDl2kJjzbpF4XLwrx4lIIt80HCCIUWrih+RB55oxmpJnRuy07fvn/QPdWdqyXmZF0dDSSoIT578P8cke+FvkTumYAAAAAwBAW4Ka/Gm28rVP3a/m39QEAAAAALMRTMmovPKJbf0beHAcAAAAA02QhAmZ65lF94NMvNQoAAAAAUNRiBMy/fRrUPXquRgEAAAAAilqIgPnhp0+06uEpGQAAAABQ2gIEzA909WVArTdrahwAAAAAoLj5D5i/f6I2dWjnpRoHAAAAAChhvgPm+0va3vSpc4SXlgAAAADAcOb6TX83nRXqv7mjA2SXAQAAAGBI8/9qbAAAAACAESzGY+UAAAAAAIaEgBkAAAAAIAMCZgAAAACADAiYAQAAAAAyLEjAfENHK9t0ea9G83w/opWVI/GrbPwUjpUy050BvE5H39XIQnqgy+20Msj6bpHw9jSl5cCPkhTLtiKH/G14GE++3fP+aftStMbp8NDbpu3etCxNSbq9dHJaivy7cbSnadun8LadsZ5cDlPU9gAmaQECZt4hNck/OabNJfURpFr7u0P+5riCgSDQCoKZlckdZK0gaviD001nndqrPfsxhfLkKpp27MBrfT+OcrXLNGndggBvQQL9pU06v7uju28dqquP5gq35bRnyxcN/oaRMe1ac4+8/fWnaV9TdvJQVuI+RQXR4X6j0vrMm/Ya7Zz41EwrU7F97a22aX0cbQxgys19wPzQey/f9HfcrP7VJWttcWC+O5+vQJwDjkuP2gcVH4TkAZdPXK5FmXG53dExfZpAlk4cIA761PgWzPPuskXdYU4IxIG5edaiXtt5xfrLg3B97u6uqXPbNE4ERDC7SdRT31+fELVfVZilUmVKl3r+Cc8c5+W+bVFrLqPHp/F02z235TZRwsk/Z3lXDogau+qDCuVPe40OxAmKvzmejP5Y6RMsd7uehJR9Ch+z+m/1frJHrTNznzKaItOuNc+pJ4Li9ynzXGsH+7mFOAEHMMx5wHxDn/Yp5U1/zpl2xmUoecAQfxPuWHS2JfF3PF0OyMzMX9kDiZ01tDMoed+JeZnLF34frK+9c0z6THi5I04x2vQpaYeopl12B37zvzYNdnt0bpy41JoHxoF/2PUKfmfvvM3ParR5bgQ3LxvUogH5v9W4ZM57ndoD9XFIlNPHLrUuD0RokKVG3qr6pyQCibvoN7XXDaqTT35FJwlcpp4IltNfzCPWa1Ms97sd8tQnY6HrxayzjMw6Z7y5/ejtioeo/rLqWsmY9sisaTvt3FymxO0++p0ektql/q7sNqRf8x87+RfL9d7fo7vzzerruei0OfO426XTsuuUyy6zsC3ouhDtmwZtWg//JqqX7HYWfK8/T6wLsy28Evsv9bFmTrf8Pj59n8IBa7SfXJMnKgP/lxofTdFp85VG2v+Usk5in/quRd2PznYJMO/4xSVz69/Dx+Wti8c/atT05/PW4/KHH2rMwb9bPnzkb+XfqX/H/HfxuBX77s/jxday+M3W48V/wSc/PojxtHnF/Hg8XF5+3PqcuNRy2tF3al7htIPfRssbjB/+K0eCdbHKg7+PltOUWj5yndOWL429HHGjrVesfBPrRXOXJXne1rJmTs+UXp6SnE7G96WoeX3mtsplY5ZPICqXhHUaiVGGqj3Ey8tYT2N7YnK5eHlVndntMph2Wl3nTTtUuM5MOfWnFZk2L5e1/bjtzFmvArjc8ra7cvuacnKnnbG/HVbuOmfMM7udRRLn4bYzt86ddpc27VQl2ufT1GnePqPgtgIwR+Y6w/zw0yda9RKyy8pZPzMr4Pe2aX3fo56RJSyqdRllNdfetIhu/UJn4w+9U+rWU7qQcIZp0KK98Dtxpn/Uobq1HnXqfNPLG2QQ/J/BnLmvYWvQpyudkfvep+7uXuKl5doLL3mZ1SVMM1M8shHXi7Mh5t8+/NMnOtlJrLObTlOW747OyqZl7Uy/fRrUPXquRl1RpklMO6U8ZUbpgLPsad+XdO+TWCpq+w11efWOervdqO/h/SWdJnUhqdLPS9p+Fc9yB+VvdBvgKxb1LvXNbKuog2u1bDLzPvApynOl13WhaY9kQP1/Yq2+JM7sk13291fUt9oZ9xWtU/dr0GrtbGU0RBnRB/JvibwXFW53VXvmOfVYjcGXq0L7zkSZ7SwdX71J6vqi3Xy1s8PWvtW6EmEMZr/fnH1KSHbbENvD30ZbqkrmtIOrZXq7i3tOXt29Ugcw3+Y6YP7lx66th2Q/LQ4w1M4sfkmuS+198fvdRmLgVVrBHbVc5qwgv8hONhUHH1FAIHf6b1LWbkwHv1SjrNfSBjXCoOmBrr4QNV7HS5CDEtln8Dypi046eeKVgduSDlqvvdN4FwJB3twjAiZ98K6GHRDLEwdZZ0Fw7uV2IRlNd58vU7eo4XQJ4TY82F83goV4N5f6242oDuRJWLFlLTLt4QV9cSmcftnL7AE+KRMVYK8PB0hW14EVcTIeLbjZhswhOhH5RRm7s+mw5JFXYZcjJvvLii1Hl5vdxSXfsO0sW3Dy0t2M6lKeLKtvw37R7mBsq3n7FIkDb+5SZSRfKlNg2s+9ekZXkLyAGmD+zHXAzBt8luDmHR568i5vO2gWwUiVN1wUDAjzljkWePOBWP2zCM52BxmbG+qL4NENdkJFMyCFcDZCHGBUNi3RSOtVo423KlsnM3kN2nAOAhwsr++TkbksTmbbC0rKYnFfyWEC9UxZwQmXgSi86IAeBJVyPCGYH1br0slqG+rGzZ16SO9rXc44p20GO9f8tICyQTNn7ch96oHC2U5jmeWggqj8DHOwDU01edVDtMtKg7sabZ6rspI3FpYPmseF279Vl/pG0AIZ5tx9Ck/jFWe5r6tr21rBafPJad1LOwLMwBUPgIrNdcCc2q0gJu1gFGWcht9JBzdeWZmODDLgEkF64vzkDWvmjTXBjSP1lO4HiXgaHNB975Of8bvU7izqYFDuJEIc9N61iJz1eugdBTdsVbBestxEXd/80yfvnR2YRsFyQjZFZtKjbioyE+xG6iWy7cHNjdFViTBYzshs6ZuPyrWx4GpB+3/RQTicdyzDdU0d0b7lAd4K2kU5yxvVhr9xLswAGsGAPCnbf1/tzXjKOKftKnOiJMmsndMVQ5PbXfqTB/IzzKNn9IZrZyWknmSP3s4keZLocLbfqsjsatgVROzDrZv+1Al62lNBCmSYM/cpRkCb2vVN7YdLnwAXmbaUFxDzFY86ec/UKMAiUH2Z51TajTXBDQ3RzVLOjQ/ujURyPPobeYOH+Vs56L+PTzvvRp0YeUOIMQ3rZpJgncLvrBs24jdiJN3QEix/1g0bGTd8qGUrvU5Ml6Ma7GmMvl7yBpbYjTTOdPVglKlZnzxNno697u4NW5FYWzCX263HpL9hqlzKl6nT1tzphtLrUy9/+s09SYIyjX6jyzhhmwmH6LukuosUqOuMaWdvmzli07WXI3va8e1eDrF2bH9fqtzl8iWtS0obr6SdFZy2kFWvo7Qzc75J07frpUw7s6fNQ/T3Zn1yO+C/t8s+1h7K3PSnpp+0fLzc1nTl4O6v9fIVbNtKsWkLeTclclsqtb4As2/OA2a1U5vohp0enMwM7AzjUoOVCqjA+knajFyvhAMmTKH0IKuQcbazIgEW2pltxH2KDH7HtJ/OPtmYg2McwBDmPmAe+SBT2ozvTOSBDwe2JPIAlZrFHUbQVjjLM/n2ojNsqOuZMtT2Oe52FrSl5GmjnWUZap8iA23xuzEFy3lJpur3gwCz4S/+j+qdMcf44fen5CX1Ya0c99dbJ/9dwo1Iqv9Y2s1sfDNTpY9rGwL3c+y/qfAmqrmSUbcw5XgfYDzJwLXbe5q3vQ2DX6jx0aPrKm8iHQHfI/Cejp983zWbpm2fwttJnxpp91zwMeyA6HhK2h7AJC1IwAwAAAAAMJw5fzU2AAAAAMBoEDADAAAAAGRAwAwAAAAAkGG6A2a+waDCN5MBAAAAAJQ19Tf9yTel0QzdwQ4AAAAAc2UGnpKBR3kBAAAAwNOZjcfKTdlzRwEAAABgcczGTX8vG9Qa9OnqXo0DAAAAAEzIjDwl4zl59QH5v9UoAAAAAMCEzEjAXCNvlcj/iedlAAAAAMBkzUjA/ED+LZH3Aj2YAQAAAGCyZiRg/kX+oE7eMzUKAAAAADAhsxEwf+9Tt96gjSU1DgAAAAAwIXgOMwAAAABABrzpDwAAAAAgw3R3ybi/pNPbDl0jWAYAAACAJzIbb/oDAAAAAHgiM/KUDAAAAACAp4GAGQAAAAAgAwJmAAAAAIAMMxMwP/S2aaVzo8aK4SdsHH1XI0+Il2O7N8HXet9f0vbKSunymley7XB5VFEmsmyPKHkqN3S0sk2X92p0welyf7ptcMrqg9vO9iWl7Qm4vCa6nwAAgMJmI2D+fkTr+x71rKdl8MFQBUF6cA5Ga393yN8c1wGTnw/N8538AXniAbhJ1EUlgacloS4rnH6teU53d3d0fVJXnzj0Oslh2Prk9tAk/+SYNqt8wQ4vW0aQNZJxTvvJZdWHam9jWfeMaS9t0t5qm9ZT2natuUfe/vpUnOQDAIBtBgJmcQDa7FLr8oDiD5drUU8EQhwMyeF8k2rqG0kcoM4vPWofjOHAeH9FfepQ74So/8+UhRy83lweY3gc381Xrosetc76omaq1brUdXlNndvmhDLk3L4obEfXoj7br9IyyOkeeu+pLdrDcdNqgQtNn6g8xQuHUutDnhz1yUs7eRpFgWmvtYO2nRwUr9HBNz7JL9/+AABgvKY+YH7onVJ3tzf8QffljjhstulT4gFKZYOGCMwe/unTYNWjtdcNoi9XTkCus8/B0DxTH4fUfPVgzF9fluUssv5eH1z1JW6e3mB/PfH35u/sLHSwTHmfWd0XYl0Pbqh/Vifv2Ro1drvUD8u02LTNZdOD/RutRpvvWkRmUK67mejBqTN72mWyxCJIuYtOxmqiPuvkk2/+3sxAv2rTQH0cuaFP+0QdEXnHwuWs5Y5leLldqGXXvxMnizRo03o4DV0nXL78t2ZbMuprpGkX4bTh2Lz0d25dBO0i/J0a7ADSnnZyG8mSVh9iuh89uhb1vaE+qU7RaQdtu/sx5SSes9Bi2zotvc4AADBOUx4wP9DVlwG13oySKa3Rxts6db8WDwXyGcu15JE36NOVERTcdNapvdpT2dI76u2qL5SbTp8a6ru7O87W2hknDoZPvevg+0txcFUZJ52x4+nVT9T3PBiZ5LV28Jk7T10OAyu4/0X+oE6N1yqsEEGW7Pqipnt94lPTDIS+96lbb9DGEtFzzyzTYtNunukrAtfU4SScOBE6L5SRFcGICFS9MAMdlJkOpDjIb/ILbsLlHi5LnIiDy02fOt/UvL91REDtMMrFlr3cmfRVAlH/VI/W7c4I7kVLEet5Sp5atp4ItJpFTv4KTTvbTYe7Oxht0Lq6wych/LlYX/VJRASM53p+YuBlsE6IOaA2p90r300htT7EcrlXoSpTYtovG9Ry9hmmtTctZ1sCAICnNuUBcxB0ec/UaIwIEMJMVHpWsfbCI7r1Ew5A6sBetusCd8cYtKghD/KcbR1E3TJEgHXKgWHGNNfaZmDCvyfyfxpLZwaSfHB1M55D4j6S1oGaA4vdvbCPZ9Ddwsi2On/P39ffbsigQGZijQxwkWnTbkNNOwiwk+uEiUBzU8zrZEf+vbzKIAK7nTCoEvUmAq0gqOBsojh5eRcFK7XmsQjIzQx4USJYO2jTwFzu/7WJcvolP/z0iVa9WLCUvdzVaF2eh8vGgVZ6mVZv9PXgeiZ7W1FdnaKuFGu0cxKdnNlXQKLBDKjT6mN6PCevPiD/txp1PfOoPvDF3g8AAKbFdAfM9yJQVP+MU8FumKnyqP0qJWiu+AAku2OEwV8QqJQKHsxL/GKId9lwZRxcS7GDexkgh9n7B/JvxSnIphmINMUpiRZ0xwgzxksb1LCC0qxpBxnpqItFkKHXwbcWzTvIMFrZ58wAKOukqjh5ZUAEa2Vfxf7Lj3fSCE06cJtQoCX74orS0t05SmWAFc5SizOUcDuSfvs0sLqJrNC6OCHS9FUWdzC7bGXWx1SokbfqnCSb+KpVRSfJAABQjekOmOWBoyCZiU3BB+G6R8/V6GiCYI/OmuEBPegLmn6J1SIv8XMmNzrYx7tPuKoJCFkU3HMArLPkEXO5gkFlMDljLLsA6EBGBJeiGMyuLlnTlln+8IpAEJi6N2SZ84511XAypzKLGHJPKPjKhPpnQdwHWnYZGeKSvTwZSJO53GNQWTvPY3StkDeqlQyauYsOpdybYHUTUYM6iSmSYc6sj6kQnJx6L1JamkwUiH1fxlUNAACYrCnvkpFz6dLA2arkfosqSEnM9N0ENxcV6fcZCrqJhH1a5cB9clV2VQb5UeZV9q+NZZCNAFj27VX/TpC0XhwQDH05XPaf9OmXCIB91eUhoPp6p9yhL8twN+qXLQfuf2remJc67Qe6/GifJMSeaJJBdv8YmDdumt0wgi4t5k1U8a4Q2cJgOaEPr13WQZ9kNxZP6/KTvdxKmBEO+u5GGX1FXh0pcjKmurGYWfvKpp2jzIktkyeNTlcMTbahNr1P6eddJMOc3gWrGH0D6TBZ82JyuppVeoIPAACVeJxyfz5vPS5vXTz+UeOhfw8fl5eXo+HDD/WF68/jxdby4+G/atTy4/Ew87cJeL4Jy2Mtp7lsYtr83dbn6Bc/PqjveBC/uRDj+ns5Hf2d+j627mqdwr8Jl1+tjzOY82bBPLYeL/5THxiS559WhsH8zM9Tp+3WVzhtFp9OzH8Xj1vGb911ssp0+VBMUXPKSg+6zJzpxr63fs/rxctqTp9lLH+J5T78l6cTLzu7TvS84+tV3bTzBOsb/c6Zd1Jdh/POqQ8pPv3MthGTVh8p83a3MbX8bnlmKzhtlrIP0bjeys0bAADG7S/+j4qdpxRngbmv45DPc+X+wvy4p7HdHV8tzkiv+3tjeYby0+EM5zr578w6DD7rv3X6Ks8oWW9fGhNsZ0llCtpI9cEZcPV0k+rLNqfe5Lx92ivxxBIAABi/Ke+SwYInC6R1FcgkL/36yc/HhQlK6FMsnzSS0Y9zxsgnc1B6VwKYrOHqg4PZFfms7fEEy9zdI3jkZPK0gy4/XuJLmgAA4CnNQIY5MEzmlfsi9t/MVgZuPjPMAmf6+eZIA/dpnqW6ycdXQ/i5yNGj3sZnXBnm4IpOrL+zxv3YZ6ZtTrI+CuAT+AOi45SsN2/77+l4Lq64AADMm5kJmAEAAAAAnsIMdMkAAAAAAHg6CJgBAAAAADIgYAYAAAAAyICAGQAAAAAgw8wEzHwHebk38gVPyRjf27rSyWXVr+0tuczTg58wsE2Xo74Fbgpxu9h2HzfGTzCY6foaET/FZDt6W2I5wePY3G1NbwdPsQ2m43Y9xCMqAQBgoc1GwCwO5uv7XuKrdK3g1Dngr/3dIX9zDEGfDq7MwZi3fn3v9UldfVJSTvCSGPBVigOgJvknx+UexyXLZVzBSHJQNhMWPRh/AsHrrZO2/TXaOfGpOfTJAQAALKIZCJhv6GizS62Eh/nzQVG+zUsEpxyg3rnPN13apPNLj9oH4zg4tqin55s07xn20HtPberQ8SI9D5bbCtdjxc8Ylid0B0SNXfXBAtEnjpN91jZnkFeo73Uo7XSVl6u3ipfMAABAcVMfMD/0Tqm7m/BmrPtLOr3t5L/69uWOfOPXp8TMZHBwnXzmT81XD3r+OhPJL/gYtGk9/Jsga6uz6c0z8fX+evz3kj1tKxPNmWvxt2ZWPp6pvqFP+5TydkRnucMsnfr8VZsG1KVm+Dd2hs+6GuB8p7Pm5t/obHKQLVyn9oCou6l/XybLrt7gpn7H5WcKpp80Tf6dWM6eKDf+XpSd/ttCmW5Rn+/5JTSijXrqo2rZ62W1gwJ1bdWH81KZfGZbCOomYn7nZHnlcl2q5RbffVdtvqKM702HX1QigvTX6oMUfPWJ9j+JJQUAACiAX1wyvf48XmwtPx7+q0YNfz5vPS5/uJDfLy8Hw9bnP+pbW/C3P9SY6cfjIf828bsM/108bi0fil9nS5vvjw/mb4NlsNbx38PH5a0LsfbJfnxIW9egvKLvnGnzdM31lePOemTMO32+Sla5iO8Ojd/KsjHmw9M2l839Xq9bUlvII6dt1EPaesQ/D+Ypl0OuW/B9entK5y5DFexpOnWfV9dJ4xltzua2s7S64fa39Xjxnxplarn4b+Xyy2VI+LtRyfrKmubw7QkAABbPlGeYf5E/qJP3TI0afvkDorM+0ZHqEvGNM0briZm/2guP6NZPyGCt0cHQl+HNTKoYrCxvtrW22b1kTV6u939WkF+7v6K+1ZWC+2vWqfvVWLZ6h671+r5sUIt88s0s8E+faNVLzdoPvlwNlwlc2qQDo4tH7XWD6gNf1LDBWLbE74fBVyLOWon934tqvdPZ9hbtOd1UzOx0NDhZ1bG4ob61XjXafNey6ye1rh/o8mNyN6dCvn8arcuOWK4ddcWofrJjL4O+yuIOJbavYmrkrVa03QEAwNyb7oD5Xhzg1T+T1M2b0kRAtpcWeD7zqgm+LE4f5jIBGV+WNoIBt4vA0H77NLC6cqzQ+r51rTyXPBFJsda+lt1b9PTL3YDndB+Q3Tds9bcbUaAu+xQPGdBN0FrbaAPhcF7uZslhyG3DOWkr3a1iCum+5O5gbF/uSUrxrjm2516dBn61ewUAAJhP0x0wL3mpfT9LHew4kKx79FyNPinOoMmbGKNgoFflDWGcVTQDDR5KBPNcrulqtHmupvmNn0BSPGi+6azLrGS4bOL3Qz5DZKo8XYaZOSdtPMz6zacFMszuScr5kJluPjmse1OxVwAAgCk35V0ynpNXH5D/W40a5CX7s9MoMJGX3uvUeB0/eKZ3M1A3J1V+uTeP0c3k+1E8wywz4n26Sgm65MlCUtcIvuw+GO3u//TuK46kkxn5WZf6aUF0WAcPdHkQzzBnCy6hW91LinCWiW90qyyjL1SRYS51I6G2tEGNepeaQ7VdpyzVSVxhTvuUJ0PlKjNdgQxzNR7IvyXyXsz06QUAAEzIlAfMNdp4W6fux4Q76PnAyo+Me6UyUK/61PiWFKg80NWXAbXeTOriftT1QHaHOGvaGTLZdWQQLfdHjzpuhln8zfEJRX/jPNu41jy2ukZEAT/3ye6RZz5BQwylAjEVdMefKuI8IWOFn9N87Ty9RMz/smU8ySLKtPJTCeq6LFbWyX9bPsO81u5RK5xG0Uvx9jKt+3vO87Gj9TKfPjLsZX6bPe1YW1DW3rTk/8v1p+Vs/zV1bqPyKLPcVlm+8mmvTMbfaZ+n3rV9lSTsctQUpyq6rU8m6x4++UN2+cmYN/f3H7SoMdFH3gEAwKz6i+/8U/+eUhx0NIkuh3yeKx+8RVCa+/g5CHHQIZ9vjTKbDM7wigDPG7aNQ2mc1edAf9juHAAAsFhmIGAWOOjdJOqVvQlMBiJpmWdIx1nydeq/RUAxXkE5c3cG7tOOYHkycEIIAABlzUbALMiDHL8EokRfRs4i9d8gEBkOZ/b5JRDTfbLBdZzeJ5lvipv+J21Ml+CKTmqP5t3eGPoTTxKvnziJRrsAAIASZiZgBgAAAAB4ClN+0x8AAAAAwNNCwAwAAAAAkAEBMwAAAABAhpkJmOXzVUu+pIFvCCv3+uYqqWfwbic8Q3oqBM+LTiqf4EUa43purioXNVTzvGOYSdYr4if1dkRwFdq36jcwltwHzzIuF+yfAECbjYBZHFjX9z3qGXfnB0FdfDADQH5Zhr85jgMxB32zfYCXb2db7U38CSI3nSZ1+UkL6g1ulT22joOvqT05ySYDFt2GE9dBvwxnmtpc+glXMWIbsl4RX+HTWGa0LVj7tNjy6zaghgUIXK3twhwmVLe15p58CdTTJV0AYJrMQMCsD6z2Y6BirySWbyozXjnN9NsAD57i4Mlv3RPLNY3PehUBRfOsZZ2AmIKyHcfj5ILXEU/urYvTj4Mk+Uxg3Y4T2stD7704uWlR8D7AOXHvky/WCG/aU3ibJH0ieR28ydMIivUJbvB98JbGiWY/eV/K857gIwVrzfNofcV4eHI1sX2q2IeL44q/ab9pFQAW09QHzA+9U5mRzMuEPvzTp8HuXjzIe7kjDz7xVz0z1T2g4myNlRmJTZvnKXbA+hJnQsbEzqy4O2sn02T9Nsr6RdkqNysp/uZj/AREMpcpNt/85c73i/yB+mdMXgZN1ZX7vV4ecVJFA+N14eHyR2WiyfINp1+gzDhjGU43nuV1M2GFM1Ji2U9vO9kv0BB/836fqPN3Q31QHfsqjble2WUW/C544Ur0GvSS3Wt++5TaFJy6jk3Xqg9jOUdtC/L3/LfG/EfZNmPfZ3h5YASjNdp4Wye69YN5czs5q4s2oL9fo52TOg2+XFnLNiqzPZhlZH6eWMdp9aEMvX3k4fly/eh65yFhu9asupZy2hkTJwp7u106neTJCQBMJ34O8/T683ixtfx4+K8aTfXj8XB56/HiPzXq+PN563H5ww81ZuLfLad8lyV7flryfNU8lw/Fv6LxcB3/PTS+U9PYuhAloccPjfkG5bP1OfxWji+L6enPfnxw1u+/i8ctY/qJEv8mZ7mzyOkFy2UP0Tzs5XTXi783lydh3lxuRjlF4m3IrpecMpPLbtS1Uz+FyjNFsBwX4fzNZQiY5cDrnN/mioq3KzEerkdembH43xQRzCda33BIrXu3rsW4uRxufbBh20LYTnU5O/PO3TbdMhqeNW13feRy8HIO1+5cuk7CMk8qU4G3C7t9spz6GGH7iLhtQHHLwdpW89pwXjszuOUPAAtpyjPMnJF0ulkkCLLQCdllpfbCi7I1FtVtYuJvLqtT55vO8K5RY5fI/xks3c1XO/vL/ehagz5dqexfrXlgrGeQiRr4v9S4stsL+wavvWnZ686ZvbpHz9VoOenLnUlfznUvrYZvW7uhvtVFpEab71pWBm2tbWbES8y7qJQy4ysXdHIclTlfsah3qW9lydxxxcx8mYPKcv3idPuZmP6RKo9vHSKzz+T3T9SmDh1X/nryG/q0P6DWuyizXWseJ6xX9cLL7JeyJVBPtgMx6Lq/v6K+tc5BNrX7VWcGxTZrbq8vG2IqPvlO1n8UrUvdHanctimJ+kzMKue0BYv42/dO/Uh6Gpskyo23pQrX22j/QZkWbQtF6iNtWs5VIz2UunJl7JOWNqhRH5D/W36RLbedGZ55VB/44mgEAItsugNm2c8xjzr4Z/WLnZkdXtDH17zMveK+ptg58K6LdXdZZcGXeo1L/g8/80t04mQ9d6lprJe8rG5yLvumvw57OGllxkHtQASx0byDrggh2U9ehBe6zsyDfXii4AxGgFE3g3F5+VcHaCKY2PSpc5TRXWMk+SeiT4JP6KzuFPE2bnclyXiN91DsftXcnz8IJPO3TT4Z6O1G7di6xF+gLQREvb9qi5O0a7sbGpfJK5/25O9EgCi3GY+8lCTBaJ6TV1f/LCCzPrK2Dw623fLgoUwf5XqDNowEwub5XbEbmQu0s9CSKOcqT04AYCZNd8Asd1TZZHa53qGdrJ3kSFnVyYsysHrQGa/oYKq/uz4pcWQTZLZ9KhnZRj3oAyefJIgA2iyXnggsJ6VulLcerIMyB9jq896qOAjroCAnq/hcRCWxqwPa974IPAbUfqV/x4GIGk/KSpbmZuKy+pdPmNiew5sg9aACS+6HKm9YDb8LrlpMSvq2GYhuRu7JJyyEQXNOWwhwxlXUs5ntZXzCb13dEca6Tyt2ZY8Vqo+07UOub0KZlMowjyCjnVnGenICALNiyrtkcKYj6xJb/NJyEplVXfUS/kbtsCsJQKoQdLHo5tyV7b1QayIOwnzptpRpzLbLS6ldambWg3EA/85P+VD/1uR6OZfHDWH3DfHb1ExSAu6eMdh/H7vRLw0HwaGcrGLtdYPqZ6fRtEV98s1djdeifo0gIxg4EOGgKfq9pAOxUkFG0NWg+zH6TdKJZ3aZ1chbFdNIuoQ9Cr6kP2jT+6ybrIxAUT6mUP07NJa2UGzbjDhZ2twMcxQsx4I21dUgetrPg7xxt/52w96n6aswI+7PgrZgZm5z5NWHwdo+qsgw50it6yLtTJuxhAsAjMeUB8zqIGUc2E1y55yXXRa/vPqS02VjKGb2jwf9lIHoTnm5gz5rljqI8WXd6xPf7p4QBkOqn52+vPnKp0bJDLMOTpPu+g7vZn/VFmunLy2XuNN/aHwp9Zo6t6qs1BBm52RXBaO8P3rUcTPM4m+OT8ioE73cYtpHQd9g/dtemTLjwJUfTWjVdVQm7hMA5PPCix7w5eVqY9qv+tT4VvJxfrI+xf9LngRxJlRm+xKXu1iZrbVFEK/btxgSnzJQGgdRQXZWT5cH3a876DccLfep14lnNMfUFrK3TfcJGcFj4KxMcQYZpPI/jPLkIVhvtX3wo+bUtPtvr+PTlv2HhcT7NXIY85WPOQzbQpQF5pNU3T1J13VefYy0fYwkr66z25mJ+67HTk4AYOH8xXf+qX9PqSDzQpcF+6a5OOsidpaZj+5aNFwm8sYh80Y6mFXch7SZ93g6WAActKvnNSd1LYDy+AqO7DuOfSXAopuBgFkYNsCTO7shsnYLQAZZ/KIEHFhnl9wuukFfTATLC40zufKKVlKXDhjSiMkaAJgrsxEwC/KA4O+VOhhwUNh/g51dsiAb5b8bvXzCg3Ui7neLE5ZFgbYA84Lb8ns6LtytBgDm28wEzAAAAAAAT2HKb/oDAAAAAHhaCJgBAAAAADIgYAYAAAAAyDD2gJlvnKjm+awAAAAAAJM3gZv+8GgeAAAAAJhdk3lKBh7+DgAAAAAzamKPleNnIp96Ca9zBQAAAACYYhO76W/tTYsGX64IvZkBAAAAYJZM7ikZzzyqD3z6pUYBAAAAAGbB5ALmJY888sm/V+MAAAAAADNgcgHzvQiWRcjsLalxAAAAAIAZMLmA+bdPg7pHz9UoAAAAAMAsmFjAfPO1S/W3G4RnZAAAAADALMFzmAEAAAAAMuBNfwAAAAAAGcbeJeOhd0r+yTWCZQAAAACYSRN70x8AAAAAwCya3FMyAAAAAABmEAJmAAAAAIAMCJgBAAAAADIgYAYAAAAAyFAgYObHwh2J/wIAAAAALJ4CAfMa7Zz41Ny+pAf1CQAAAADAoij8WLmbzgqdetd03sTLrQEAAABgcRTuw7z2d4do/xO6ZgAAAADAQil+09/SBjXqXep/V+MAAAAAAAugxFMyauStEvk/0ZMZAAAAABZHiYCZ6LlXp4H/S40BAAAAAMy/UgHzL39Ade+5GgMAAAAAmH8lAuYH8m+JvBd4SgYAAAAALI7iAfP9FfUHLWq8VOMAAAAAAAugcMB887820ckOralxAAAAAIBFUOjFJQ+9bVr/0qDr801ChwwAAAAAWCQFAuYbOlrpU+PuANllAAAAAFg4hV+NDQAAAACwiEo9Vg4AAAAAYLEQ/R+a8MtLw2dDGQAAAABJRU5ErkJggg==)"
      ]
    },
    {
      "cell_type": "markdown",
      "metadata": {
        "id": "-CLBr6kwTS_y"
      },
      "source": [
        "<span style=\"color:red\">**Question 3.1:**</span> **You need to implement the aforementioned CNN**.\n",
        "\n",
        "**First, you need to implement the block of our CNN in the class `YourBlock`. You can ignore `use_skip` and `skip connection` for simplicity. However, you cannot earn full marks for this question.**\n",
        "\n",
        "<div style=\"text-align: right\"> <span style=\"color:red\">[6 points]</span> </div>"
      ]
    },
    {
      "cell_type": "code",
      "execution_count": null,
      "metadata": {
        "id": "B7CXV51JQJnZ"
      },
      "outputs": [],
      "source": [
        "#Your code here\n",
        "class YourBlock(nn.Module):\n",
        "  def __init__(self, in_feature_maps, out_feature_maps, drop_rate = 0.2, batch_norm = True, use_skip = True):\n",
        "    super(YourBlock, self).__init__()\n",
        "    self.use_skip = use_skip\n",
        "    #Your code here\n",
        "\n",
        "\n",
        "\n",
        "\n",
        "\n",
        "  def forward(self, x):\n",
        "    #Write your code here\n",
        "\n",
        "\n",
        "\n",
        "\n"
      ]
    },
    {
      "cell_type": "markdown",
      "metadata": {
        "id": "kLgsTTCsYWWZ"
      },
      "source": [
        "**Second, you need to use the above `YourBlock` to implement the class `YourCNN`**.\n",
        "\n",
        "<div style=\"text-align: right\"> <span style=\"color:red\">[6 points]</span> </div>"
      ]
    },
    {
      "cell_type": "code",
      "execution_count": null,
      "metadata": {
        "id": "hnOXOGLrQikB"
      },
      "outputs": [],
      "source": [
        "class YourCNN(nn.Module):\n",
        "  def __init__(self, list_feature_maps = [16, 32, 64], drop_rate = 0.2, batch_norm= True, use_skip = True):\n",
        "    super(YourCNN, self).__init__()\n",
        "    layers = []\n",
        "    #Write your code here\n",
        "\n",
        "\n",
        "\n",
        "  def forward(self, x):\n",
        "    #Write your code here\n",
        "\n"
      ]
    },
    {
      "cell_type": "markdown",
      "metadata": {
        "id": "5eQPXbkhQqMw"
      },
      "source": [
        "**We declare `my_cnn` from `YourCNN` as follows**."
      ]
    },
    {
      "cell_type": "code",
      "execution_count": null,
      "metadata": {
        "id": "etLsDFD_coGB"
      },
      "outputs": [],
      "source": [
        "device = torch.device(\"cuda:0\" if torch.cuda.is_available() else \"cpu\")\n",
        "my_cnn = YourCNN(list_feature_maps = [16, 32, 64], use_skip = True)\n",
        "my_cnn = my_cnn.to(device)\n",
        "print(my_cnn)"
      ]
    },
    {
      "cell_type": "markdown",
      "metadata": {
        "id": "Bk44wk-_Q337"
      },
      "source": [
        "**We declare the optimizer and the loss function.**"
      ]
    },
    {
      "cell_type": "code",
      "execution_count": null,
      "metadata": {
        "id": "czJ1OXguc-RK"
      },
      "outputs": [],
      "source": [
        "# Loss and optimizer\n",
        "learning_rate = 0.001\n",
        "loss_fn = nn.CrossEntropyLoss()\n",
        "optimizer = torch.optim.Adam(my_cnn.parameters(), lr=learning_rate)"
      ]
    },
    {
      "cell_type": "markdown",
      "metadata": {
        "id": "aLlIS7svRAAx"
      },
      "source": [
        "**Here are the codes to compute the loss and accuracy.**"
      ]
    },
    {
      "cell_type": "code",
      "execution_count": null,
      "metadata": {
        "id": "1MtKxLqlqTlS"
      },
      "outputs": [],
      "source": [
        "device = torch.device(\"cuda:0\" if torch.cuda.is_available() else \"cpu\")\n",
        "\n",
        "def compute_loss(model, loss_fn, loader):\n",
        "  loss = 0\n",
        "  # Set model to eval mode for inference\n",
        "  model.eval()\n",
        "  with torch.no_grad():  # No need to track gradients for validation\n",
        "    for (batchX, batchY) in loader:\n",
        "      # Move data to the same device as the model\n",
        "      batchX, batchY = batchX.to(device).type(torch.float32), batchY.to(device).type(torch.long)\n",
        "      loss += loss_fn(model(batchX), batchY)\n",
        "  # Set model back to train mode\n",
        "  model.train()\n",
        "  return float(loss)/len(loader)"
      ]
    },
    {
      "cell_type": "code",
      "execution_count": null,
      "metadata": {
        "id": "BuXTSdM4qdWa"
      },
      "outputs": [],
      "source": [
        "device = torch.device(\"cuda:0\" if torch.cuda.is_available() else \"cpu\")\n",
        "\n",
        "def compute_acc(model, loader):\n",
        "    correct = 0\n",
        "    totals = 0\n",
        "    # Set model to eval mode for inference\n",
        "    model.eval()\n",
        "    for (batchX, batchY) in loader:\n",
        "        # Move batchX and batchY to the same device as the model\n",
        "        batchX, batchY = batchX.to(device).type(torch.float32), batchY.to(device)\n",
        "        outputs = model(batchX)  # feed batch to the model\n",
        "        totals += batchY.size(0)  # accumulate totals with the current batch size\n",
        "        predicted = torch.argmax(outputs.data, 1)  # get the predicted class\n",
        "        # Move batchY to the same device as predicted for comparison\n",
        "        correct += (predicted == batchY).sum().item()\n",
        "    return correct / totals"
      ]
    },
    {
      "cell_type": "markdown",
      "metadata": {
        "id": "pi9Q4sAPRKka"
      },
      "source": [
        "**Here is the code to train our model.**"
      ]
    },
    {
      "cell_type": "code",
      "execution_count": null,
      "metadata": {
        "id": "YQAR1djfqhBv"
      },
      "outputs": [],
      "source": [
        "device = torch.device(\"cuda:0\" if torch.cuda.is_available() else \"cpu\")\n",
        "\n",
        "def fit(model= None, train_loader = None, valid_loader= None, optimizer = None,\n",
        "        num_epochs = 50, verbose = True, seed= 1234):\n",
        "  torch.manual_seed(seed)\n",
        "  # Move the model to the device before initializing the optimizer\n",
        "  model.to(device) # Move the model to the GPU\n",
        "\n",
        "  if optimizer == None:\n",
        "    optim = torch.optim.Adam(model.parameters(), lr = 0.001) # Now initialize optimizer with model on GPU\n",
        "  else:\n",
        "    optim = optimizer\n",
        "  history = dict()\n",
        "  history['val_loss'] = list()\n",
        "  history['val_acc'] = list()\n",
        "  history['train_loss'] = list()\n",
        "  history['train_acc'] = list()\n",
        "\n",
        "  for epoch in range(num_epochs):\n",
        "    model.train()\n",
        "    for (X, y) in train_loader:\n",
        "      # Move input data to the same device as the model\n",
        "      X,y = X.to(device), y.to(device)\n",
        "      # Forward pass\n",
        "      outputs = model(X.type(torch.float32)) # X is already on the correct device\n",
        "      loss = loss_fn(outputs, y.type(torch.long))\n",
        "      # Backward and optimize\n",
        "      optim.zero_grad()\n",
        "      loss.backward()\n",
        "      optim.step()\n",
        "      #losses and accuracies for epoch\n",
        "      val_loss = compute_loss(model, loss_fn, valid_loader)\n",
        "      val_acc = compute_acc(model, valid_loader)\n",
        "      train_loss = compute_loss(model, loss_fn, train_loader)\n",
        "      train_acc = compute_acc(model, train_loader)\n",
        "      history['val_loss'].append(val_loss)\n",
        "      history['val_acc'].append(val_acc)\n",
        "      history['train_loss'].append(train_loss)\n",
        "      history['train_acc'].append(train_acc)\n",
        "      if not verbose: #verbose = True means we do show the training information during training\n",
        "        print(f\"Epoch {epoch+1}/{num_epochs}\")\n",
        "        print(f\"train loss= {train_loss:.4f} - train acc= {train_acc*100:.2f}% - valid loss= {val_loss:.4f} - valid acc= {val_acc*100:.2f}%\")\n",
        "  return history"
      ]
    },
    {
      "cell_type": "code",
      "execution_count": null,
      "metadata": {
        "id": "7LK8LskpqoT0"
      },
      "outputs": [],
      "source": [
        "history = fit(model= my_cnn, train_loader=train_loader, valid_loader = val_loader, optimizer = optimizer, num_epochs= 10, verbose = False)"
      ]
    },
    {
      "cell_type": "markdown",
      "metadata": {
        "id": "yCnEIjQgrsFF"
      },
      "source": [
        "<span style=\"color:red\">**Question 3.2:**</span> **Now, let us tune the number of blocks $use\\_skip \\in \\{true,false\\}$ and $learning\\_rate \\in \\{0.001, 0.0005\\}$. Write your code for this tuning and report the result of the best model on the testing set. Note that you need to show your code for tuning and evaluating on the test set to earn the full marks. During tuning, you can set the instance variable `verbose` of your model to `True` for not showing the training details of each epoch.**\n",
        "\n",
        "Note that for this question, depending on your computational resource, you can choose `list_feature_maps= [32, 64]` or `list_feature_maps= [16, 32, 64]`.\n",
        "\n",
        "<div style=\"text-align: right\"> <span style=\"color:red\">[3 points]</span> </div>"
      ]
    },
    {
      "cell_type": "code",
      "execution_count": null,
      "metadata": {
        "id": "ii0vBXuDr2LF"
      },
      "outputs": [],
      "source": [
        "#Your code here\n",
        "\n",
        "\n"
      ]
    },
    {
      "cell_type": "markdown",
      "metadata": {
        "id": "fzXNIsLeYnUN"
      },
      "source": [
        "**Please note that you struggle in implementing the aforementioned CNN. You can use the MiniVGG network in our labs for doing the following questions. However, you cannot earn any mark for 3.1 and 3.2.**"
      ]
    },
    {
      "cell_type": "markdown",
      "metadata": {
        "id": "wZmsXHRvr_Pg"
      },
      "source": [
        "<span style=\"color:red\">**Question 3.3:**</span> **Exploring Data Mixup Technique for Improving Generalization Ability.**\n",
        "   \n",
        "<div style=\"text-align: right\"> <span style=\"color:red\">[4 points]</span> </div>\n",
        "\n",
        "Data mixup is another super-simple technique used to boost the generalization ability of deep learning models. You need to incoroporate data mixup technique to the above deep learning model and experiment its performance. There are some papers and documents for data mixup as follows:\n",
        "- Main paper for data mixup [link for main paper](https://openreview.net/pdf?id=r1Ddp1-Rb) and a good article [article link](https://www.inference.vc/mixup-data-dependent-data-augmentation/).\n",
        "\n",
        "You need to extend your model developed above, train a model using data mixup, and write your observations and comments about the result."
      ]
    },
    {
      "cell_type": "code",
      "execution_count": null,
      "metadata": {
        "id": "rXhfqteasgQM"
      },
      "outputs": [],
      "source": [
        "#Your code here\n",
        "\n"
      ]
    },
    {
      "cell_type": "markdown",
      "metadata": {
        "id": "GEn3Gth_solr"
      },
      "source": [
        "<span style=\"color:red\">**Question 3.4:**</span> **Exploring CutMix Technique for Improving Generalization Ability.**\n",
        "   \n",
        "<div style=\"text-align: right\"> <span style=\"color:red\">[4 points]</span> </div>\n",
        "\n",
        "Data mixup is another super-simple technique used to boost the generalization ability of deep learning models. You need to incoroporate data mixup technique to the above deep learning model and experiment its performance. There are some papers and documents for data mixup as follows:\n",
        "- Main paper for Cutmix [link for main paper](https://arxiv.org/pdf/1905.04899v2) and a good article [article link](https://shorturl.at/TNwjv).\n",
        "\n",
        "You need to extend your model developed above, train a model using data mixup, and write your observations and comments about the result."
      ]
    },
    {
      "cell_type": "code",
      "execution_count": null,
      "metadata": {
        "id": "S9K37Ni3susY"
      },
      "outputs": [],
      "source": [
        "#Your code here\n",
        "\n"
      ]
    },
    {
      "cell_type": "markdown",
      "metadata": {
        "id": "TXguUFjfs70k"
      },
      "source": [
        "<span style=\"color:red\">**Question 3.5:**</span> Implement the **one-versus-all (OVA)** loss. The details are as follows:\n",
        "- You need to apply `the sigmoid activation function` to logits $h = [h_1, h_2,...,h_M]$ instead of `the softmax activation` function as usual to obtain $p = [p_1, p_2,...,p_M]$, meaning that $p_i = sigmoid(h_i), i=1,...,M$. Note that $M$ is the number of classes.\n",
        "- Given a data example $x$ with the ground-truth label $y$, the idea is to maximize the likelihood $p_y$ and to minimize the likelihoods $p_i, i \\neq y$. Therefore, the objective function is to find the model parameters to\n",
        "  - $\\max\\left\\{ \\log p_{y}+\\sum_{i\\neq y}\\log(1-p_{i})\\right\\}$ or equivalently $\\min\\left\\{ -\\log p_{y}-\\sum_{i\\neq y}\\log(1-p_{i})\\right\\}$.\n",
        "  - For example, if $M=3$ and $y=2$, you need to minimize $\\min\\left\\{ -\\log(1-p_{1})-\\log p_{2}-\\log(1-p_{3})\\right\\}$.\n",
        "\n",
        "Compare the model trained with the OVA loss and the same model trained with the standard cross-entropy loss.\n",
        "\n",
        "<div style=\"text-align: right\"> <span style=\"color:red\">[4 points]</span> </div>\n",
        "\n"
      ]
    },
    {
      "cell_type": "code",
      "execution_count": null,
      "metadata": {
        "id": "HUcNGykhs9Qz"
      },
      "outputs": [],
      "source": [
        "#Your code here\n",
        "\n",
        "\n"
      ]
    },
    {
      "cell_type": "markdown",
      "metadata": {
        "id": "ubbL_y1utaGu"
      },
      "source": [
        "<span style=\"color:red\">**Question 3.6:**</span> **Attack your best obtained model with PGD attacks with $\\epsilon= 0.0313, k=20, \\eta= 0.002$ on the testing set. Write the code for the attacks and report the robust accuracies. Also choose a random set of 20 clean images in the testing set and visualize the original and attacked images.**\n",
        "   \n",
        "<div style=\"text-align: right\"> <span style=\"color:red\">[4 points]</span> </div>"
      ]
    },
    {
      "cell_type": "code",
      "execution_count": null,
      "metadata": {
        "id": "nTIJ04tKRomh"
      },
      "outputs": [],
      "source": [
        "#Your code here\n",
        "\n",
        "\n"
      ]
    },
    {
      "cell_type": "markdown",
      "metadata": {
        "id": "NZKv042TtH59"
      },
      "source": [
        "<span style=\"color:red\">**Question 3.7:**</span> **Train a robust model using adversarial training with PGD ${\\epsilon= 0.0313, k=10, \\eta= 0.002}$. Write the code for the adversarial training and report the robust accuracies. After finishing the training, you need to store your best robust model in the folder `./models` and load the model to evaluate the robust accuracies for PGD and FGSM attacks with $\\epsilon= 0.0313, k=20, \\eta= 0.002$ on the testing set.**\n",
        "   \n",
        "<div style=\"text-align: right\"> <span style=\"color:red\">[4 points]</span> </div>"
      ]
    },
    {
      "cell_type": "code",
      "execution_count": null,
      "metadata": {
        "id": "EWG9cWQERs1c"
      },
      "outputs": [],
      "source": [
        "#Your code here\n",
        "\n",
        "\n"
      ]
    },
    {
      "cell_type": "markdown",
      "metadata": {
        "id": "7AALoztjtj7j"
      },
      "source": [
        "<span style=\"color:red\">**Question 3.8 (Kaggle competition)**</span>\n",
        "<div style=\"text-align: right\"> <span style=\"color:red\">[10 points]</span> </div10"
      ]
    },
    {
      "cell_type": "markdown",
      "metadata": {
        "id": "pJAQ8FXWtoOc"
      },
      "source": [
        "You can reuse the best model obtained in this assignment or develop new models to evaluate on the **testing set of the FIT3181/5215 Kaggle competion**. However, to gain any points for this question, your testing accuracy must **exceed** the accuracy threshold from a base model developed by us as shown in the leader board of the competition.\n",
        "\n",
        "The marks for this question are as follows:\n",
        "- If you are in *top 10%* of your cohort, you gain *10 points*.\n",
        "- If you are in *top 20%* of your cohort, you gain *8 points*.\n",
        "- If you are in *top 30%* of your cohort, you gain *6 points*.\n",
        "- If you *beat* our base model, you gain *4 points*."
      ]
    },
    {
      "cell_type": "markdown",
      "metadata": {
        "id": "GptPz307txEK"
      },
      "source": [
        "---\n",
        "**<div style=\"text-align: center\"> <span style=\"color:black\">END OF ASSIGNMENT</span> </div>**\n",
        "**<div style=\"text-align: center\"> <span style=\"color:black\">GOOD LUCK WITH YOUR ASSIGNMENT 1!</span> </div>**"
      ]
    }
  ],
  "metadata": {
    "colab": {
      "provenance": [],
      "include_colab_link": true
    },
    "kernelspec": {
      "display_name": "Python 3",
      "name": "python3"
    },
    "language_info": {
      "name": "python",
      "version": "3.12.3"
    }
  },
  "nbformat": 4,
  "nbformat_minor": 0
}